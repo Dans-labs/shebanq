{
 "cells": [
  {
   "cell_type": "code",
   "execution_count": 29,
   "metadata": {
    "collapsed": false
   },
   "outputs": [],
   "source": [
    "import sys, collections\n",
    "from tf.fabric import Fabric"
   ]
  },
  {
   "cell_type": "code",
   "execution_count": 2,
   "metadata": {
    "collapsed": false
   },
   "outputs": [
    {
     "name": "stdout",
     "output_type": "stream",
     "text": [
      "  0.00s Looking for available data features:\n",
      "  0.01s   book                 from /Users/dirk/github/text-fabric-data/hebrew/etcbc4c/book.tf\n",
      "  0.01s   chapter              from /Users/dirk/github/text-fabric-data/hebrew/etcbc4c/chapter.tf\n",
      "  0.01s   code                 from /Users/dirk/github/text-fabric-data/hebrew/etcbc4c/code.tf\n",
      "  0.01s   det                  from /Users/dirk/github/text-fabric-data/hebrew/etcbc4c/det.tf\n",
      "  0.01s   dist                 from /Users/dirk/github/text-fabric-data/hebrew/etcbc4c/dist.tf\n",
      "  0.01s   dist_unit            from /Users/dirk/github/text-fabric-data/hebrew/etcbc4c/dist_unit.tf\n",
      "  0.02s   distributional_parent from /Users/dirk/github/text-fabric-data/hebrew/etcbc4c/distributional_parent.tf\n",
      "  0.02s   domain               from /Users/dirk/github/text-fabric-data/hebrew/etcbc4c/domain.tf\n",
      "  0.02s   function             from /Users/dirk/github/text-fabric-data/hebrew/etcbc4c/function.tf\n",
      "  0.02s   functional_parent    from /Users/dirk/github/text-fabric-data/hebrew/etcbc4c/functional_parent.tf\n",
      "  0.02s   g_cons               from /Users/dirk/github/text-fabric-data/hebrew/etcbc4c/g_cons.tf\n",
      "  0.02s   g_cons_utf8          from /Users/dirk/github/text-fabric-data/hebrew/etcbc4c/g_cons_utf8.tf\n",
      "  0.02s   g_lex                from /Users/dirk/github/text-fabric-data/hebrew/etcbc4c/g_lex.tf\n",
      "  0.02s   g_lex_utf8           from /Users/dirk/github/text-fabric-data/hebrew/etcbc4c/g_lex_utf8.tf\n",
      "  0.02s   g_nme                from /Users/dirk/github/text-fabric-data/hebrew/etcbc4c/g_nme.tf\n",
      "  0.03s   g_nme_utf8           from /Users/dirk/github/text-fabric-data/hebrew/etcbc4c/g_nme_utf8.tf\n",
      "  0.03s   g_pfm                from /Users/dirk/github/text-fabric-data/hebrew/etcbc4c/g_pfm.tf\n",
      "  0.03s   g_pfm_utf8           from /Users/dirk/github/text-fabric-data/hebrew/etcbc4c/g_pfm_utf8.tf\n",
      "  0.03s   g_prs                from /Users/dirk/github/text-fabric-data/hebrew/etcbc4c/g_prs.tf\n",
      "  0.03s   g_prs_utf8           from /Users/dirk/github/text-fabric-data/hebrew/etcbc4c/g_prs_utf8.tf\n",
      "  0.03s   g_uvf                from /Users/dirk/github/text-fabric-data/hebrew/etcbc4c/g_uvf.tf\n",
      "  0.03s   g_uvf_utf8           from /Users/dirk/github/text-fabric-data/hebrew/etcbc4c/g_uvf_utf8.tf\n",
      "  0.03s   g_vbe                from /Users/dirk/github/text-fabric-data/hebrew/etcbc4c/g_vbe.tf\n",
      "  0.04s   g_vbe_utf8           from /Users/dirk/github/text-fabric-data/hebrew/etcbc4c/g_vbe_utf8.tf\n",
      "  0.04s   g_vbs                from /Users/dirk/github/text-fabric-data/hebrew/etcbc4c/g_vbs.tf\n",
      "  0.04s   g_vbs_utf8           from /Users/dirk/github/text-fabric-data/hebrew/etcbc4c/g_vbs_utf8.tf\n",
      "  0.04s   g_voc_lex            from /Users/dirk/github/text-fabric-data/hebrew/etcbc4c/g_voc_lex.tf\n",
      "  0.04s   g_voc_lex_utf8       from /Users/dirk/github/text-fabric-data/hebrew/etcbc4c/g_voc_lex_utf8.tf\n",
      "  0.04s   g_word               from /Users/dirk/github/text-fabric-data/hebrew/etcbc4c/g_word.tf\n",
      "  0.04s   g_word_utf8          from /Users/dirk/github/text-fabric-data/hebrew/etcbc4c/g_word_utf8.tf\n",
      "  0.04s   gn                   from /Users/dirk/github/text-fabric-data/hebrew/etcbc4c/gn.tf\n",
      "  0.05s   is_root              from /Users/dirk/github/text-fabric-data/hebrew/etcbc4c/is_root.tf\n",
      "  0.05s   kind                 from /Users/dirk/github/text-fabric-data/hebrew/etcbc4c/kind.tf\n",
      "  0.05s   label                from /Users/dirk/github/text-fabric-data/hebrew/etcbc4c/label.tf\n",
      "  0.05s   language             from /Users/dirk/github/text-fabric-data/hebrew/etcbc4c/language.tf\n",
      "  0.05s   lex                  from /Users/dirk/github/text-fabric-data/hebrew/etcbc4c/lex.tf\n",
      "  0.05s   lex_utf8             from /Users/dirk/github/text-fabric-data/hebrew/etcbc4c/lex_utf8.tf\n",
      "  0.05s   ls                   from /Users/dirk/github/text-fabric-data/hebrew/etcbc4c/ls.tf\n",
      "  0.05s   mother               from /Users/dirk/github/text-fabric-data/hebrew/etcbc4c/mother.tf\n",
      "  0.05s   mother_object_type   from /Users/dirk/github/text-fabric-data/hebrew/etcbc4c/mother_object_type.tf\n",
      "  0.05s   nme                  from /Users/dirk/github/text-fabric-data/hebrew/etcbc4c/nme.tf\n",
      "  0.05s   nu                   from /Users/dirk/github/text-fabric-data/hebrew/etcbc4c/nu.tf\n",
      "  0.05s   number               from /Users/dirk/github/text-fabric-data/hebrew/etcbc4c/number.tf\n",
      "  0.05s   oslots               from /Users/dirk/github/text-fabric-data/hebrew/etcbc4c/oslots.tf\n",
      "  0.05s   otype                from /Users/dirk/github/text-fabric-data/hebrew/etcbc4c/otype.tf\n",
      "  0.06s   pdp                  from /Users/dirk/github/text-fabric-data/hebrew/etcbc4c/pdp.tf\n",
      "  0.06s   pfm                  from /Users/dirk/github/text-fabric-data/hebrew/etcbc4c/pfm.tf\n",
      "  0.06s   prs                  from /Users/dirk/github/text-fabric-data/hebrew/etcbc4c/prs.tf\n",
      "  0.06s   prs_gn               from /Users/dirk/github/text-fabric-data/hebrew/etcbc4c/prs_gn.tf\n",
      "  0.06s   prs_nu               from /Users/dirk/github/text-fabric-data/hebrew/etcbc4c/prs_nu.tf\n",
      "  0.06s   prs_ps               from /Users/dirk/github/text-fabric-data/hebrew/etcbc4c/prs_ps.tf\n",
      "  0.06s   ps                   from /Users/dirk/github/text-fabric-data/hebrew/etcbc4c/ps.tf\n",
      "  0.06s   qere                 from /Users/dirk/github/text-fabric-data/hebrew/etcbc4c/qere.tf\n",
      "  0.06s   qere_utf8            from /Users/dirk/github/text-fabric-data/hebrew/etcbc4c/qere_utf8.tf\n",
      "  0.06s   rela                 from /Users/dirk/github/text-fabric-data/hebrew/etcbc4c/rela.tf\n",
      "  0.06s   sp                   from /Users/dirk/github/text-fabric-data/hebrew/etcbc4c/sp.tf\n",
      "  0.06s   st                   from /Users/dirk/github/text-fabric-data/hebrew/etcbc4c/st.tf\n",
      "  0.06s   tab                  from /Users/dirk/github/text-fabric-data/hebrew/etcbc4c/tab.tf\n",
      "  0.06s   trailer              from /Users/dirk/github/text-fabric-data/hebrew/etcbc4c/trailer.tf\n",
      "  0.06s   trailer_utf8         from /Users/dirk/github/text-fabric-data/hebrew/etcbc4c/trailer_utf8.tf\n",
      "  0.06s   txt                  from /Users/dirk/github/text-fabric-data/hebrew/etcbc4c/txt.tf\n",
      "  0.06s   typ                  from /Users/dirk/github/text-fabric-data/hebrew/etcbc4c/typ.tf\n",
      "  0.06s   uvf                  from /Users/dirk/github/text-fabric-data/hebrew/etcbc4c/uvf.tf\n",
      "  0.06s   vbe                  from /Users/dirk/github/text-fabric-data/hebrew/etcbc4c/vbe.tf\n",
      "  0.06s   vbs                  from /Users/dirk/github/text-fabric-data/hebrew/etcbc4c/vbs.tf\n",
      "  0.06s   verse                from /Users/dirk/github/text-fabric-data/hebrew/etcbc4c/verse.tf\n",
      "  0.07s   vs                   from /Users/dirk/github/text-fabric-data/hebrew/etcbc4c/vs.tf\n",
      "  0.07s   vt                   from /Users/dirk/github/text-fabric-data/hebrew/etcbc4c/vt.tf\n",
      "  0.07s 68 features found\n"
     ]
    }
   ],
   "source": [
    "TF = Fabric()"
   ]
  },
  {
   "cell_type": "code",
   "execution_count": 3,
   "metadata": {
    "collapsed": false
   },
   "outputs": [
    {
     "name": "stdout",
     "output_type": "stream",
     "text": [
      "   |     0.00s B __levels__           from otype, oslots\n",
      "   |     0.07s B __order__            from otype, oslots, __levels__\n",
      "   |     0.06s B __rank__             from otype, __order__\n",
      "   |     1.08s B __levUp__            from otype, oslots, __rank__\n",
      "   |     0.96s B __levDown__          from otype, __levUp__, __rank__\n",
      "   |     0.03s B otype                from /Users/dirk/github/text-fabric-data/hebrew/etcbc4c\n",
      "   |     0.62s B oslots               from /Users/dirk/github/text-fabric-data/hebrew/etcbc4c\n",
      "   |     0.02s B book                 from /Users/dirk/github/text-fabric-data/hebrew/etcbc4c\n",
      "   |     0.01s B chapter              from /Users/dirk/github/text-fabric-data/hebrew/etcbc4c\n",
      "   |     0.03s B verse                from /Users/dirk/github/text-fabric-data/hebrew/etcbc4c\n",
      "   |     0.18s B sp                   from /Users/dirk/github/text-fabric-data/hebrew/etcbc4c\n",
      "   |     0.15s B vs                   from /Users/dirk/github/text-fabric-data/hebrew/etcbc4c\n",
      "   |     0.15s B lex                  from /Users/dirk/github/text-fabric-data/hebrew/etcbc4c\n",
      " 2m 16s All features loaded/computed\n"
     ]
    }
   ],
   "source": [
    "T = TF.load('''\n",
    "    book chapter verse\n",
    "    sp vs\n",
    "    lex\n",
    "''')"
   ]
  },
  {
   "cell_type": "code",
   "execution_count": 27,
   "metadata": {
    "collapsed": false
   },
   "outputs": [
    {
     "name": "stdout",
     "output_type": "stream",
     "text": [
      "  0.00s preparing semset ...\n",
      "  4.06s Wrote 190328 lines\n"
     ]
    }
   ],
   "source": [
    "TARGETS = set('''\n",
    "    verb subs adjv\n",
    "'''.strip().split())\n",
    "\n",
    "FIELDS = '''\n",
    "book chapter verse s# cues outcomes\n",
    "'''.strip().split()\n",
    "NFIELDS = len(FIELDS)\n",
    "\n",
    "fmt = ('{}\\t' * (NFIELDS-1)) + '{}\\n'\n",
    "\n",
    "T.zero()\n",
    "T.info('preparing semset ...\\n')\n",
    "\n",
    "of = open('/Users/dirk/Downloads/semset.csv', 'w')\n",
    "of.write(fmt.format(*FIELDS))\n",
    "ln = 1\n",
    "\n",
    "for s in T.F.otype.s('sentence'):\n",
    "    bag = tuple(sorted('{}{}{}'.format(\n",
    "            T.F.lex.v(w),\n",
    "            '+' if T.F.sp.v(w) == 'verb' else '',\n",
    "            T.F.vs.v(w) if T.F.sp.v(w) == 'verb' else '',\n",
    "    ) for w in T.L.d(s, 'word') if T.F.sp.v(w) in TARGETS))\n",
    "    if len(bag) <= 1: continue\n",
    "\n",
    "    fw = T.L.d(s, 'word')[0]\n",
    "    bk = T.F.book.v(T.L.u(fw, 'book')[0])\n",
    "    ch = T.F.chapter.v(T.L.u(fw, 'chapter')[0])\n",
    "    vs = T.F.verse.v(T.L.u(fw, 'verse')[0]) \n",
    "\n",
    "    for i in range(len(bag)):\n",
    "        others = list(range(i)) + list(range(i+1, len(bag)))\n",
    "        cues = '_'.join(bag[j] for j in others)\n",
    "        outcome = bag[i]\n",
    "        \n",
    "        of.write(fmt.format(\n",
    "            bk,\n",
    "            ch,\n",
    "            vs,\n",
    "            s,\n",
    "            cues,\n",
    "            outcome,\n",
    "        ))\n",
    "        ln += 1\n",
    "of.close()\n",
    "T.info('Wrote {} lines\\n'.format(ln))\n",
    "\n",
    "# with empty lines included: Wrote 204656 lines"
   ]
  },
  {
   "cell_type": "code",
   "execution_count": 30,
   "metadata": {
    "collapsed": true
   },
   "outputs": [],
   "source": [
    "cnt = collections.Counter()\n",
    "for w in T.F.otype.s('word'):\n",
    "    lemma = '{}{}{}'.format(\n",
    "            T.F.lex.v(w),\n",
    "            '+' if T.F.sp.v(w) == 'verb' else '',\n",
    "            T.F.vs.v(w) if T.F.sp.v(w) == 'verb' else '',\n",
    "    )\n",
    "    cnt[lemma] += 1"
   ]
  },
  {
   "cell_type": "code",
   "execution_count": 35,
   "metadata": {
    "collapsed": false
   },
   "outputs": [],
   "source": [
    "with open('/Users/dirk/Downloads/lexfreq.csv', 'w') as of:\n",
    "    for (lex, freq) in sorted(cnt.items(), key=lambda x: (-x[1], x[0])):\n",
    "        of.write('{}\\t{}\\n'.format(lex, freq))"
   ]
  },
  {
   "cell_type": "code",
   "execution_count": null,
   "metadata": {
    "collapsed": true
   },
   "outputs": [],
   "source": []
  }
 ],
 "metadata": {
  "kernelspec": {
   "display_name": "Python 3",
   "language": "python",
   "name": "python3"
  },
  "language_info": {
   "codemirror_mode": {
    "name": "ipython",
    "version": 3
   },
   "file_extension": ".py",
   "mimetype": "text/x-python",
   "name": "python",
   "nbconvert_exporter": "python",
   "pygments_lexer": "ipython3",
   "version": "3.5.2"
  }
 },
 "nbformat": 4,
 "nbformat_minor": 1
}
