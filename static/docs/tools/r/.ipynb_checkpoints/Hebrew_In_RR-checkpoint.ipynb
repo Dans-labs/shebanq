{
 "cells": [
  {
   "cell_type": "markdown",
   "metadata": {},
   "source": [
    "# Import ETCBC data into R"
   ]
  },
  {
   "cell_type": "markdown",
   "metadata": {},
   "source": [
    "This notebook contains the R instructions to load the big ETCBC4b export and save it in the much more compact .rds format.\n",
    "\n",
    "We then perform some simple information extracting on the data.\n",
    "For comparison, the same information extraction has been done in\n",
    "[Pandas](https://shebanq.ancient-data.org/shebanq/static/docs/tools/r/Hebrew_in_Pandas.html)."
   ]
  },
  {
   "cell_type": "markdown",
   "metadata": {},
   "source": [
    "Note that we have to ignore quotes and comment signs!"
   ]
  },
  {
   "cell_type": "markdown",
   "metadata": {},
   "source": [
    "First we load the big text file with all information. This will take 3 minutes or so."
   ]
  },
  {
   "cell_type": "code",
   "execution_count": 38,
   "metadata": {
    "collapsed": false
   },
   "outputs": [
    {
     "data": {
      "text/html": [
       "<ol class=list-inline>\n",
       "\t<li>1436858</li>\n",
       "\t<li>95</li>\n",
       "</ol>\n"
      ],
      "text/latex": [
       "\\begin{enumerate*}\n",
       "\\item 1436858\n",
       "\\item 95\n",
       "\\end{enumerate*}\n"
      ],
      "text/markdown": [
       "1. 1436858\n",
       "2. 95\n",
       "\n",
       "\n"
      ],
      "text/plain": [
       "[1] 1436858      95"
      ]
     },
     "execution_count": 38,
     "metadata": {},
     "output_type": "execute_result"
    }
   ],
   "source": [
    "etcbc = read.table(\n",
    "    '/Users/dirk/SURFdrive/laf-fabric-data/r/etcbc4b.txt', \n",
    "    sep=\"\\t\", \n",
    "    header=TRUE, \n",
    "    comment.char=\"\",\n",
    "    quote=\"\",\n",
    "    as.is = TRUE,\n",
    ")\n",
    "dim(etcbc)"
   ]
  },
  {
   "cell_type": "markdown",
   "metadata": {},
   "source": [
    "Now we save it into compact rds format."
   ]
  },
  {
   "cell_type": "code",
   "execution_count": 39,
   "metadata": {
    "collapsed": true
   },
   "outputs": [],
   "source": [
    "saveRDS(\n",
    "    object=etcbc, \n",
    "    file='/Users/dirk/SURFdrive/laf-fabric-data/r/etcbc4b.rds'\n",
    ")"
   ]
  },
  {
   "cell_type": "markdown",
   "metadata": {},
   "source": [
    "This data has been saved at the github repo \n",
    "[etcbc/laf-fabric-data](https://github.com/ETCBC/laf-fabric-data)"
   ]
  },
  {
   "cell_type": "markdown",
   "metadata": {},
   "source": [
    "We load the data again, now from the compact representation. Much quicker. Still 40 seconds."
   ]
  },
  {
   "cell_type": "code",
   "execution_count": 1,
   "metadata": {
    "collapsed": false
   },
   "outputs": [],
   "source": [
    "etcbc = readRDS(\n",
    "    file='/Users/dirk/SURFdrive/laf-fabric-data/r/etcbc4b.rds'\n",
    ")"
   ]
  },
  {
   "cell_type": "code",
   "execution_count": 2,
   "metadata": {
    "collapsed": false
   },
   "outputs": [
    {
     "data": {
      "text/html": [
       "<ol class=list-inline>\n",
       "\t<li>1436858</li>\n",
       "\t<li>95</li>\n",
       "</ol>\n"
      ],
      "text/latex": [
       "\\begin{enumerate*}\n",
       "\\item 1436858\n",
       "\\item 95\n",
       "\\end{enumerate*}\n"
      ],
      "text/markdown": [
       "1. 1436858\n",
       "2. 95\n",
       "\n",
       "\n"
      ],
      "text/plain": [
       "[1] 1436858      95"
      ]
     },
     "execution_count": 2,
     "metadata": {},
     "output_type": "execute_result"
    }
   ],
   "source": [
    "dim(etcbc)"
   ]
  },
  {
   "cell_type": "code",
   "execution_count": 3,
   "metadata": {
    "collapsed": false
   },
   "outputs": [
    {
     "data": {
      "text/html": [
       "<table>\n",
       "<thead><tr><th></th><th scope=col>oid</th><th scope=col>otype</th><th scope=col>in.subphrase</th><th scope=col>in.phrase_atom</th><th scope=col>in.phrase</th><th scope=col>in.clause_atom</th><th scope=col>in.clause</th><th scope=col>in.sentence_atom</th><th scope=col>in.sentence</th><th scope=col>in.half_verse</th><th scope=col>in.verse</th><th scope=col>in.chapter</th><th scope=col>in.book</th><th scope=col>distributional_parent</th><th scope=col>functional_parent</th><th scope=col>mother</th><th scope=col>X</th><th scope=col>book</th><th scope=col>chapter</th><th scope=col>code</th><th scope=col>det</th><th scope=col>dist</th><th scope=col>dist_unit</th><th scope=col>domain</th><th scope=col>entry</th><th scope=col>entry_heb</th><th scope=col>entryid</th><th scope=col>freq_lex</th><th scope=col>freq_occ</th><th scope=col>function.</th><th scope=col>g_cons</th><th scope=col>g_cons_utf8</th><th scope=col>g_entry</th><th scope=col>g_entry_heb</th><th scope=col>g_lex</th><th scope=col>g_lex_utf8</th><th scope=col>g_nme</th><th scope=col>g_nme_utf8</th><th scope=col>g_pfm</th><th scope=col>g_pfm_utf8</th><th scope=col>g_prs</th><th scope=col>g_prs_utf8</th><th scope=col>g_qere_utf8</th><th scope=col>g_uvf</th><th scope=col>g_uvf_utf8</th><th scope=col>g_vbe</th><th scope=col>g_vbe_utf8</th><th scope=col>g_vbs</th><th scope=col>g_vbs_utf8</th><th scope=col>g_word</th><th scope=col>g_word_utf8</th><th scope=col>gloss</th><th scope=col>gn</th><th scope=col>id</th><th scope=col>is_root</th><th scope=col>kind</th><th scope=col>label</th><th scope=col>lan</th><th scope=col>language</th><th scope=col>lex</th><th scope=col>lex_utf8</th><th scope=col>ls</th><th scope=col>maxmonad</th><th scope=col>minmonad</th><th scope=col>monads</th><th scope=col>mother_object_type</th><th scope=col>nametype</th><th scope=col>nme</th><th scope=col>nu</th><th scope=col>number</th><th scope=col>pdp</th><th scope=col>pfm</th><th scope=col>phono</th><th scope=col>phono_sep</th><th scope=col>pos</th><th scope=col>prs</th><th scope=col>ps</th><th scope=col>qtrailer_utf8</th><th scope=col>rank_lex</th><th scope=col>rank_occ</th><th scope=col>rela</th><th scope=col>root</th><th scope=col>sp</th><th scope=col>st</th><th scope=col>subpos</th><th scope=col>tab</th><th scope=col>trailer_utf8</th><th scope=col>txt</th><th scope=col>typ</th><th scope=col>uvf</th><th scope=col>vbe</th><th scope=col>vbs</th><th scope=col>verse</th><th scope=col>vs</th><th scope=col>vt</th></tr></thead>\n",
       "<tbody>\n",
       "\t<tr><th scope=row>1</th><td>1</td><td>book</td><td>NA</td><td>NA</td><td>NA</td><td>NA</td><td>NA</td><td>NA</td><td>NA</td><td>NA</td><td>NA</td><td>NA</td><td>NA</td><td>NA</td><td>NA</td><td>NA</td><td>NA</td><td>Genesis</td><td>NA</td><td>NA</td><td></td><td>NA</td><td></td><td></td><td></td><td></td><td></td><td>NA</td><td>NA</td><td></td><td></td><td></td><td></td><td></td><td></td><td></td><td></td><td></td><td></td><td></td><td></td><td></td><td></td><td></td><td></td><td></td><td></td><td></td><td></td><td></td><td></td><td></td><td></td><td>NA</td><td></td><td></td><td></td><td></td><td></td><td></td><td></td><td></td><td>28758</td><td>1</td><td>1-28758</td><td></td><td></td><td></td><td></td><td>NA</td><td></td><td></td><td></td><td></td><td></td><td></td><td></td><td></td><td>NA</td><td>NA</td><td></td><td></td><td></td><td></td><td></td><td>NA</td><td></td><td></td><td></td><td></td><td></td><td></td><td>NA</td><td></td><td></td></tr>\n",
       "\t<tr><th scope=row>2</th><td>2</td><td>chapter</td><td>NA</td><td>NA</td><td>NA</td><td>NA</td><td>NA</td><td>NA</td><td>NA</td><td>NA</td><td>NA</td><td>NA</td><td>1</td><td>NA</td><td>NA</td><td>NA</td><td>NA</td><td>Genesis</td><td>1</td><td>NA</td><td></td><td>NA</td><td></td><td></td><td></td><td></td><td></td><td>NA</td><td>NA</td><td></td><td></td><td></td><td></td><td></td><td></td><td></td><td></td><td></td><td></td><td></td><td></td><td></td><td></td><td></td><td></td><td></td><td></td><td></td><td></td><td></td><td></td><td></td><td></td><td>NA</td><td></td><td></td><td></td><td></td><td></td><td></td><td></td><td></td><td>673</td><td>1</td><td>1-673</td><td></td><td></td><td></td><td></td><td>NA</td><td></td><td></td><td></td><td></td><td></td><td></td><td></td><td></td><td>NA</td><td>NA</td><td></td><td></td><td></td><td></td><td></td><td>NA</td><td></td><td></td><td></td><td></td><td></td><td></td><td>NA</td><td></td><td></td></tr>\n",
       "\t<tr><th scope=row>3</th><td>3</td><td>verse</td><td>NA</td><td>NA</td><td>NA</td><td>NA</td><td>NA</td><td>NA</td><td>NA</td><td>NA</td><td>NA</td><td>2</td><td>1</td><td>NA</td><td>NA</td><td>NA</td><td>NA</td><td>Genesis</td><td>1</td><td>NA</td><td></td><td>NA</td><td></td><td></td><td></td><td></td><td></td><td>NA</td><td>NA</td><td></td><td></td><td></td><td></td><td></td><td></td><td></td><td></td><td></td><td></td><td></td><td></td><td></td><td></td><td></td><td></td><td></td><td></td><td></td><td></td><td></td><td></td><td></td><td></td><td>NA</td><td></td><td></td><td> GEN 01,01</td><td></td><td></td><td></td><td></td><td></td><td>11</td><td>1</td><td>1-11</td><td></td><td></td><td></td><td></td><td>NA</td><td></td><td></td><td></td><td></td><td></td><td></td><td></td><td></td><td>NA</td><td>NA</td><td></td><td></td><td></td><td></td><td></td><td>NA</td><td></td><td></td><td></td><td></td><td></td><td></td><td>1</td><td></td><td></td></tr>\n",
       "\t<tr><th scope=row>4</th><td>11</td><td>sentence</td><td>NA</td><td>NA</td><td>NA</td><td>NA</td><td>NA</td><td>NA</td><td>NA</td><td>NA</td><td>3</td><td>2</td><td>1</td><td>NA</td><td>NA</td><td>NA</td><td>NA</td><td></td><td>NA</td><td>NA</td><td></td><td>NA</td><td></td><td></td><td></td><td></td><td></td><td>NA</td><td>NA</td><td></td><td></td><td></td><td></td><td></td><td></td><td></td><td></td><td></td><td></td><td></td><td></td><td></td><td></td><td></td><td></td><td></td><td></td><td></td><td></td><td></td><td></td><td></td><td></td><td>NA</td><td></td><td></td><td></td><td></td><td></td><td></td><td></td><td></td><td>11</td><td>1</td><td>1-11</td><td></td><td></td><td></td><td></td><td>1</td><td></td><td></td><td></td><td></td><td></td><td></td><td></td><td></td><td>NA</td><td>NA</td><td></td><td></td><td></td><td></td><td></td><td>NA</td><td></td><td></td><td></td><td></td><td></td><td></td><td>NA</td><td></td><td></td></tr>\n",
       "\t<tr><th scope=row>5</th><td>10</td><td>sentence_atom</td><td>NA</td><td>NA</td><td>NA</td><td>NA</td><td>NA</td><td>NA</td><td>11</td><td>NA</td><td>3</td><td>2</td><td>1</td><td>NA</td><td>11</td><td>NA</td><td>NA</td><td></td><td>NA</td><td>NA</td><td></td><td>NA</td><td></td><td></td><td></td><td></td><td></td><td>NA</td><td>NA</td><td></td><td></td><td></td><td></td><td></td><td></td><td></td><td></td><td></td><td></td><td></td><td></td><td></td><td></td><td></td><td></td><td></td><td></td><td></td><td></td><td></td><td></td><td></td><td></td><td>NA</td><td></td><td></td><td></td><td></td><td></td><td></td><td></td><td></td><td>11</td><td>1</td><td>1-11</td><td></td><td></td><td></td><td></td><td>1</td><td></td><td></td><td></td><td></td><td></td><td></td><td></td><td></td><td>NA</td><td>NA</td><td></td><td></td><td></td><td></td><td></td><td>NA</td><td></td><td></td><td></td><td></td><td></td><td></td><td>NA</td><td></td><td></td></tr>\n",
       "\t<tr><th scope=row>6</th><td>9</td><td>clause</td><td>NA</td><td>NA</td><td>NA</td><td>NA</td><td>NA</td><td>10</td><td>11</td><td>NA</td><td>3</td><td>2</td><td>1</td><td>NA</td><td>11</td><td>NA</td><td>NA</td><td></td><td>NA</td><td>NA</td><td></td><td>0</td><td>clause_atoms</td><td>?</td><td></td><td></td><td></td><td>NA</td><td>NA</td><td></td><td></td><td></td><td></td><td></td><td></td><td></td><td></td><td></td><td></td><td></td><td></td><td></td><td></td><td></td><td></td><td></td><td></td><td></td><td></td><td></td><td></td><td></td><td></td><td>NA</td><td></td><td>VC</td><td></td><td></td><td></td><td></td><td></td><td></td><td>11</td><td>1</td><td>1-11</td><td>clause</td><td></td><td></td><td></td><td>1</td><td></td><td></td><td></td><td></td><td></td><td></td><td></td><td></td><td>NA</td><td>NA</td><td>NA</td><td></td><td></td><td></td><td></td><td>NA</td><td></td><td>?</td><td>xQtX</td><td></td><td></td><td></td><td>NA</td><td></td><td></td></tr>\n",
       "\t<tr><th scope=row>7</th><td>8</td><td>clause_atom</td><td>NA</td><td>NA</td><td>NA</td><td>NA</td><td>9</td><td>10</td><td>11</td><td>NA</td><td>3</td><td>2</td><td>1</td><td>10</td><td>9</td><td>NA</td><td>NA</td><td></td><td>NA</td><td>0</td><td></td><td>0</td><td></td><td></td><td></td><td></td><td></td><td>NA</td><td>NA</td><td></td><td></td><td></td><td></td><td></td><td></td><td></td><td></td><td></td><td></td><td></td><td></td><td></td><td></td><td></td><td></td><td></td><td></td><td></td><td></td><td></td><td></td><td></td><td></td><td>NA</td><td>true</td><td></td><td></td><td></td><td></td><td></td><td></td><td></td><td>11</td><td>1</td><td>1-11</td><td></td><td></td><td></td><td></td><td>1</td><td></td><td></td><td></td><td></td><td></td><td></td><td></td><td></td><td>NA</td><td>NA</td><td></td><td></td><td></td><td></td><td></td><td>0</td><td></td><td></td><td>xQtX</td><td></td><td></td><td></td><td>NA</td><td></td><td></td></tr>\n",
       "\t<tr><th scope=row>8</th><td>4</td><td>half_verse</td><td>NA</td><td>NA</td><td>NA</td><td>NA</td><td>NA</td><td>NA</td><td>NA</td><td>NA</td><td>3</td><td>2</td><td>1</td><td>NA</td><td>NA</td><td>NA</td><td>NA</td><td></td><td>NA</td><td>NA</td><td></td><td>NA</td><td></td><td></td><td></td><td></td><td></td><td>NA</td><td>NA</td><td></td><td></td><td></td><td></td><td></td><td></td><td></td><td></td><td></td><td></td><td></td><td></td><td></td><td></td><td></td><td></td><td></td><td></td><td></td><td></td><td></td><td></td><td></td><td></td><td>NA</td><td></td><td></td><td>A</td><td></td><td></td><td></td><td></td><td></td><td>4</td><td>1</td><td>1-4</td><td></td><td></td><td></td><td></td><td>NA</td><td></td><td></td><td></td><td></td><td></td><td></td><td></td><td></td><td>NA</td><td>NA</td><td></td><td></td><td></td><td></td><td></td><td>NA</td><td></td><td></td><td></td><td></td><td></td><td></td><td>NA</td><td></td><td></td></tr>\n",
       "\t<tr><th scope=row>9</th><td>7</td><td>phrase</td><td>NA</td><td>NA</td><td>NA</td><td>8</td><td>9</td><td>10</td><td>11</td><td>4</td><td>3</td><td>2</td><td>1</td><td>NA</td><td>9</td><td>NA</td><td>NA</td><td></td><td>NA</td><td>NA</td><td>und</td><td>0</td><td>clause_atoms</td><td></td><td></td><td></td><td></td><td>NA</td><td>NA</td><td>Time</td><td></td><td></td><td></td><td></td><td></td><td></td><td></td><td></td><td></td><td></td><td></td><td></td><td></td><td></td><td></td><td></td><td></td><td></td><td></td><td></td><td></td><td></td><td></td><td>NA</td><td></td><td></td><td></td><td></td><td></td><td></td><td></td><td></td><td>2</td><td>1</td><td>1-2</td><td></td><td></td><td></td><td></td><td>1</td><td></td><td></td><td></td><td></td><td></td><td></td><td></td><td></td><td>NA</td><td>NA</td><td>NA</td><td></td><td></td><td></td><td></td><td>NA</td><td></td><td></td><td>PP</td><td></td><td></td><td></td><td>NA</td><td></td><td></td></tr>\n",
       "\t<tr><th scope=row>10</th><td>6</td><td>phrase_atom</td><td>NA</td><td>NA</td><td>7</td><td>8</td><td>9</td><td>10</td><td>11</td><td>4</td><td>3</td><td>2</td><td>1</td><td>8</td><td>7</td><td>NA</td><td>NA</td><td></td><td>NA</td><td>NA</td><td>und</td><td>0</td><td>clause_atoms</td><td></td><td></td><td></td><td></td><td>NA</td><td>NA</td><td></td><td></td><td></td><td></td><td></td><td></td><td></td><td></td><td></td><td></td><td></td><td></td><td></td><td></td><td></td><td></td><td></td><td></td><td></td><td></td><td></td><td></td><td></td><td></td><td>NA</td><td></td><td></td><td></td><td></td><td></td><td></td><td></td><td></td><td>2</td><td>1</td><td>1-2</td><td></td><td></td><td></td><td></td><td>1</td><td></td><td></td><td></td><td></td><td></td><td></td><td></td><td></td><td>NA</td><td>NA</td><td>NA</td><td></td><td></td><td></td><td></td><td>NA</td><td></td><td></td><td>PP</td><td></td><td></td><td></td><td>NA</td><td></td><td></td></tr>\n",
       "\t<tr><th scope=row>11</th><td>5</td><td>word</td><td>NA</td><td>6</td><td>7</td><td>8</td><td>9</td><td>10</td><td>11</td><td>4</td><td>3</td><td>2</td><td>1</td><td>6</td><td>7</td><td>NA</td><td>NA</td><td></td><td>NA</td><td>NA</td><td></td><td>NA</td><td></td><td></td><td>B</td><td>ב</td><td>B</td><td>15542</td><td>14194</td><td></td><td>B</td><td>ב</td><td>B.:</td><td> בְּ</td><td>B.:-</td><td> בְּ</td><td></td><td></td><td></td><td></td><td></td><td></td><td></td><td></td><td></td><td></td><td></td><td></td><td></td><td>B.:-</td><td> בְּ</td><td>in</td><td>NA</td><td>2194</td><td></td><td></td><td></td><td>hbo</td><td>Hebrew</td><td>B</td><td>ב</td><td>none</td><td>1</td><td>1</td><td>1</td><td></td><td></td><td>n/a</td><td>NA</td><td>1</td><td>prep</td><td>n/a</td><td>bᵊ</td><td></td><td>prep</td><td>absent</td><td>NA</td><td></td><td>3</td><td>3</td><td></td><td></td><td>prep</td><td>NA</td><td></td><td>NA</td><td></td><td></td><td></td><td>absent</td><td>n/a</td><td>n/a</td><td>NA</td><td>NA</td><td>NA</td></tr>\n",
       "\t<tr><th scope=row>12</th><td>12</td><td>word</td><td>NA</td><td>6</td><td>7</td><td>8</td><td>9</td><td>10</td><td>11</td><td>4</td><td>3</td><td>2</td><td>1</td><td>6</td><td>7</td><td>NA</td><td>NA</td><td></td><td>NA</td><td>NA</td><td></td><td>NA</td><td></td><td></td><td>R>CJT</td><td>ראשׁית</td><td>R>CJT/</td><td>51</td><td>45</td><td></td><td>R>CJT</td><td>ראשׁית</td><td>R;>CIJT</td><td>רֵאשִׁית</td><td>R;>CIJT</td><td>רֵאשִׁית</td><td>/</td><td>/</td><td></td><td></td><td></td><td></td><td></td><td></td><td></td><td></td><td></td><td></td><td></td><td>R;>CI73JT</td><td>רֵאשִׁ֖ית</td><td>beginning</td><td>f</td><td>7206</td><td></td><td></td><td></td><td>hbo</td><td>Hebrew</td><td>R>CJT/</td><td>ראשׁית/</td><td>none</td><td>2</td><td>2</td><td>2</td><td></td><td></td><td></td><td>sg</td><td>2</td><td>subs</td><td>n/a</td><td>rēšˌîṯ</td><td> </td><td>subs</td><td>absent</td><td>NA</td><td></td><td>707</td><td>868</td><td></td><td>R>C</td><td>subs</td><td>a</td><td></td><td>NA</td><td> </td><td></td><td></td><td>absent</td><td>n/a</td><td>n/a</td><td>NA</td><td>NA</td><td>NA</td></tr>\n",
       "\t<tr><th scope=row>13</th><td>15</td><td>phrase</td><td>NA</td><td>NA</td><td>NA</td><td>8</td><td>9</td><td>10</td><td>11</td><td>4</td><td>3</td><td>2</td><td>1</td><td>NA</td><td>9</td><td>NA</td><td>NA</td><td></td><td>NA</td><td>NA</td><td>NA</td><td>0</td><td>clause_atoms</td><td></td><td></td><td></td><td></td><td>NA</td><td>NA</td><td>Pred</td><td></td><td></td><td></td><td></td><td></td><td></td><td></td><td></td><td></td><td></td><td></td><td></td><td></td><td></td><td></td><td></td><td></td><td></td><td></td><td></td><td></td><td></td><td></td><td>NA</td><td></td><td></td><td></td><td></td><td></td><td></td><td></td><td></td><td>3</td><td>3</td><td>3</td><td></td><td></td><td></td><td></td><td>2</td><td></td><td></td><td></td><td></td><td></td><td></td><td></td><td></td><td>NA</td><td>NA</td><td>NA</td><td></td><td></td><td></td><td></td><td>NA</td><td></td><td></td><td>VP</td><td></td><td></td><td></td><td>NA</td><td></td><td></td></tr>\n",
       "\t<tr><th scope=row>14</th><td>14</td><td>phrase_atom</td><td>NA</td><td>NA</td><td>15</td><td>8</td><td>9</td><td>10</td><td>11</td><td>4</td><td>3</td><td>2</td><td>1</td><td>8</td><td>15</td><td>NA</td><td>NA</td><td></td><td>NA</td><td>NA</td><td>NA</td><td>0</td><td>clause_atoms</td><td></td><td></td><td></td><td></td><td>NA</td><td>NA</td><td></td><td></td><td></td><td></td><td></td><td></td><td></td><td></td><td></td><td></td><td></td><td></td><td></td><td></td><td></td><td></td><td></td><td></td><td></td><td></td><td></td><td></td><td></td><td></td><td>NA</td><td></td><td></td><td></td><td></td><td></td><td></td><td></td><td></td><td>3</td><td>3</td><td>3</td><td></td><td></td><td></td><td></td><td>2</td><td></td><td></td><td></td><td></td><td></td><td></td><td></td><td></td><td>NA</td><td>NA</td><td>NA</td><td></td><td></td><td></td><td></td><td>NA</td><td></td><td></td><td>VP</td><td></td><td></td><td></td><td>NA</td><td></td><td></td></tr>\n",
       "\t<tr><th scope=row>15</th><td>13</td><td>word</td><td>NA</td><td>14</td><td>15</td><td>8</td><td>9</td><td>10</td><td>11</td><td>4</td><td>3</td><td>2</td><td>1</td><td>14</td><td>15</td><td>NA</td><td>NA</td><td></td><td>NA</td><td>NA</td><td></td><td>NA</td><td></td><td></td><td>BR></td><td>ברא</td><td>BR>[</td><td>48</td><td>15</td><td></td><td>BR></td><td>ברא</td><td>B.@R@></td><td>בָּרָא</td><td>B.@R@></td><td>בָּרָא</td><td></td><td></td><td></td><td></td><td></td><td></td><td></td><td></td><td></td><td>[</td><td>[</td><td></td><td></td><td>B.@R@74></td><td> בָּרָ֣א</td><td>create</td><td>m</td><td>2481</td><td></td><td></td><td></td><td>hbo</td><td>Hebrew</td><td>BR>[</td><td>ברא[</td><td>none</td><td>3</td><td>3</td><td>3</td><td></td><td></td><td>absent</td><td>sg</td><td>3</td><td>verb</td><td>absent</td><td>bārˈā</td><td> </td><td>verb</td><td>absent</td><td>p3</td><td></td><td>746</td><td>2341</td><td></td><td></td><td>verb</td><td>NA</td><td></td><td>NA</td><td> </td><td></td><td></td><td>absent</td><td></td><td>absent</td><td>NA</td><td>qal</td><td>perf</td></tr>\n",
       "\t<tr><th scope=row>16</th><td>18</td><td>phrase</td><td>NA</td><td>NA</td><td>NA</td><td>8</td><td>9</td><td>10</td><td>11</td><td>4</td><td>3</td><td>2</td><td>1</td><td>NA</td><td>9</td><td>NA</td><td>NA</td><td></td><td>NA</td><td>NA</td><td>und</td><td>0</td><td>clause_atoms</td><td></td><td></td><td></td><td></td><td>NA</td><td>NA</td><td>Subj</td><td></td><td></td><td></td><td></td><td></td><td></td><td></td><td></td><td></td><td></td><td></td><td></td><td></td><td></td><td></td><td></td><td></td><td></td><td></td><td></td><td></td><td></td><td></td><td>NA</td><td></td><td></td><td></td><td></td><td></td><td></td><td></td><td></td><td>4</td><td>4</td><td>4</td><td></td><td></td><td></td><td></td><td>3</td><td></td><td></td><td></td><td></td><td></td><td></td><td></td><td></td><td>NA</td><td>NA</td><td>NA</td><td></td><td></td><td></td><td></td><td>NA</td><td></td><td></td><td>NP</td><td></td><td></td><td></td><td>NA</td><td></td><td></td></tr>\n",
       "\t<tr><th scope=row>17</th><td>17</td><td>phrase_atom</td><td>NA</td><td>NA</td><td>18</td><td>8</td><td>9</td><td>10</td><td>11</td><td>4</td><td>3</td><td>2</td><td>1</td><td>8</td><td>18</td><td>NA</td><td>NA</td><td></td><td>NA</td><td>NA</td><td>und</td><td>0</td><td>clause_atoms</td><td></td><td></td><td></td><td></td><td>NA</td><td>NA</td><td></td><td></td><td></td><td></td><td></td><td></td><td></td><td></td><td></td><td></td><td></td><td></td><td></td><td></td><td></td><td></td><td></td><td></td><td></td><td></td><td></td><td></td><td></td><td></td><td>NA</td><td></td><td></td><td></td><td></td><td></td><td></td><td></td><td></td><td>4</td><td>4</td><td>4</td><td></td><td></td><td></td><td></td><td>3</td><td></td><td></td><td></td><td></td><td></td><td></td><td></td><td></td><td>NA</td><td>NA</td><td>NA</td><td></td><td></td><td></td><td></td><td>NA</td><td></td><td></td><td>NP</td><td></td><td></td><td></td><td>NA</td><td></td><td></td></tr>\n",
       "\t<tr><th scope=row>18</th><td>16</td><td>word</td><td>NA</td><td>17</td><td>18</td><td>8</td><td>9</td><td>10</td><td>11</td><td>4</td><td>3</td><td>2</td><td>1</td><td>17</td><td>18</td><td>NA</td><td>NA</td><td></td><td>NA</td><td>NA</td><td></td><td>NA</td><td></td><td></td><td>>LHJM</td><td>אלהים</td><td>>LHJM/</td><td>2601</td><td>1177</td><td></td><td>>LHJM</td><td>אלהים</td><td>>:ELOHIJM</td><td>אֱלֹהִים</td><td>>:ELOH</td><td>אֱלֹה</td><td>/IJM</td><td>/ִימ</td><td></td><td></td><td></td><td></td><td></td><td></td><td></td><td></td><td></td><td></td><td></td><td>>:ELOHI92JM</td><td>אֱלֹהִ֑ים</td><td>god(s)</td><td>m</td><td>1687</td><td></td><td></td><td></td><td>hbo</td><td>Hebrew</td><td>>LHJM/</td><td>אלהים/</td><td>none</td><td>4</td><td>4</td><td>4</td><td></td><td></td><td>JM</td><td>pl</td><td>4</td><td>subs</td><td>n/a</td><td>ʔᵉlōhˈîm</td><td> </td><td>subs</td><td>absent</td><td>NA</td><td></td><td>18</td><td>31</td><td></td><td></td><td>subs</td><td>a</td><td></td><td>NA</td><td> </td><td></td><td></td><td>absent</td><td>n/a</td><td>n/a</td><td>NA</td><td>NA</td><td>NA</td></tr>\n",
       "\t<tr><th scope=row>19</th><td>19</td><td>half_verse</td><td>NA</td><td>NA</td><td>NA</td><td>NA</td><td>NA</td><td>NA</td><td>NA</td><td>NA</td><td>3</td><td>2</td><td>1</td><td>NA</td><td>NA</td><td>NA</td><td>NA</td><td></td><td>NA</td><td>NA</td><td></td><td>NA</td><td></td><td></td><td></td><td></td><td></td><td>NA</td><td>NA</td><td></td><td></td><td></td><td></td><td></td><td></td><td></td><td></td><td></td><td></td><td></td><td></td><td></td><td></td><td></td><td></td><td></td><td></td><td></td><td></td><td></td><td></td><td></td><td></td><td>NA</td><td></td><td></td><td>B</td><td></td><td></td><td></td><td></td><td></td><td>11</td><td>5</td><td>5-11</td><td></td><td></td><td></td><td></td><td>NA</td><td></td><td></td><td></td><td></td><td></td><td></td><td></td><td></td><td>NA</td><td>NA</td><td></td><td></td><td></td><td></td><td></td><td>NA</td><td></td><td></td><td></td><td></td><td></td><td></td><td>NA</td><td></td><td></td></tr>\n",
       "\t<tr><th scope=row>20</th><td>22</td><td>phrase</td><td>NA</td><td>NA</td><td>NA</td><td>8</td><td>9</td><td>10</td><td>11</td><td>19</td><td>3</td><td>2</td><td>1</td><td>NA</td><td>9</td><td>NA</td><td>NA</td><td></td><td>NA</td><td>NA</td><td>det</td><td>0</td><td>clause_atoms</td><td></td><td></td><td></td><td></td><td>NA</td><td>NA</td><td>Objc</td><td></td><td></td><td></td><td></td><td></td><td></td><td></td><td></td><td></td><td></td><td></td><td></td><td></td><td></td><td></td><td></td><td></td><td></td><td></td><td></td><td></td><td></td><td></td><td>NA</td><td></td><td></td><td></td><td></td><td></td><td></td><td></td><td></td><td>11</td><td>5</td><td>5-11</td><td></td><td></td><td></td><td></td><td>4</td><td></td><td></td><td></td><td></td><td></td><td></td><td></td><td></td><td>NA</td><td>NA</td><td>NA</td><td></td><td></td><td></td><td></td><td>NA</td><td></td><td></td><td>PP</td><td></td><td></td><td></td><td>NA</td><td></td><td></td></tr>\n",
       "\t<tr><th scope=row>21</th><td>21</td><td>phrase_atom</td><td>NA</td><td>NA</td><td>22</td><td>8</td><td>9</td><td>10</td><td>11</td><td>19</td><td>3</td><td>2</td><td>1</td><td>8</td><td>22</td><td>NA</td><td>NA</td><td></td><td>NA</td><td>NA</td><td>det</td><td>0</td><td>clause_atoms</td><td></td><td></td><td></td><td></td><td>NA</td><td>NA</td><td></td><td></td><td></td><td></td><td></td><td></td><td></td><td></td><td></td><td></td><td></td><td></td><td></td><td></td><td></td><td></td><td></td><td></td><td></td><td></td><td></td><td></td><td></td><td></td><td>NA</td><td></td><td></td><td></td><td></td><td></td><td></td><td></td><td></td><td>11</td><td>5</td><td>5-11</td><td></td><td></td><td></td><td></td><td>4</td><td></td><td></td><td></td><td></td><td></td><td></td><td></td><td></td><td>NA</td><td>NA</td><td>NA</td><td></td><td></td><td></td><td></td><td>NA</td><td></td><td></td><td>PP</td><td></td><td></td><td></td><td>NA</td><td></td><td></td></tr>\n",
       "\t<tr><th scope=row>22</th><td>25</td><td>subphrase</td><td>NA</td><td>21</td><td>22</td><td>8</td><td>9</td><td>10</td><td>11</td><td>19</td><td>3</td><td>2</td><td>1</td><td>NA</td><td>NA</td><td>NA</td><td>NA</td><td></td><td>NA</td><td>NA</td><td></td><td>NA</td><td></td><td></td><td></td><td></td><td></td><td>NA</td><td>NA</td><td></td><td></td><td></td><td></td><td></td><td></td><td></td><td></td><td></td><td></td><td></td><td></td><td></td><td></td><td></td><td></td><td></td><td></td><td></td><td></td><td></td><td></td><td></td><td></td><td>NA</td><td></td><td></td><td></td><td></td><td></td><td></td><td></td><td></td><td>7</td><td>5</td><td>5-7</td><td>NA</td><td></td><td></td><td></td><td>NA</td><td></td><td></td><td></td><td></td><td></td><td></td><td></td><td></td><td>NA</td><td>NA</td><td>NA</td><td></td><td></td><td></td><td></td><td>NA</td><td></td><td></td><td></td><td></td><td></td><td></td><td>NA</td><td></td><td></td></tr>\n",
       "\t<tr><th scope=row>23</th><td>20</td><td>word</td><td>25</td><td>21</td><td>22</td><td>8</td><td>9</td><td>10</td><td>11</td><td>19</td><td>3</td><td>2</td><td>1</td><td>21</td><td>22</td><td>NA</td><td>NA</td><td></td><td>NA</td><td>NA</td><td></td><td>NA</td><td></td><td></td><td>>T</td><td>את</td><td>>T</td><td>11016</td><td>9743</td><td></td><td>>T</td><td>את</td><td>>;T</td><td>אֵת</td><td>>;T</td><td>אֵת</td><td></td><td></td><td></td><td></td><td></td><td></td><td></td><td></td><td></td><td></td><td></td><td></td><td></td><td>>;71T</td><td>אֵ֥ת</td><td><object marker></td><td>NA</td><td>2007</td><td></td><td></td><td></td><td>hbo</td><td>Hebrew</td><td>>T</td><td>את</td><td>none</td><td>5</td><td>5</td><td>5</td><td></td><td></td><td>n/a</td><td>NA</td><td>5</td><td>prep</td><td>n/a</td><td>ʔˌēṯ</td><td> </td><td>prep</td><td>absent</td><td>NA</td><td></td><td>4</td><td>4</td><td></td><td></td><td>prep</td><td>NA</td><td></td><td>NA</td><td> </td><td></td><td></td><td>absent</td><td>n/a</td><td>n/a</td><td>NA</td><td>NA</td><td>NA</td></tr>\n",
       "\t<tr><th scope=row>24</th><td>23</td><td>word</td><td>25</td><td>21</td><td>22</td><td>8</td><td>9</td><td>10</td><td>11</td><td>19</td><td>3</td><td>2</td><td>1</td><td>21</td><td>22</td><td>NA</td><td>NA</td><td></td><td>NA</td><td>NA</td><td></td><td>NA</td><td></td><td></td><td>H</td><td>ה</td><td>H</td><td>30380</td><td>24659</td><td></td><td>H</td><td>ה</td><td>HA</td><td>הַ</td><td>HA-</td><td>הַ</td><td></td><td></td><td></td><td></td><td></td><td></td><td></td><td></td><td></td><td></td><td></td><td></td><td></td><td>HA-</td><td>הַ</td><td>the</td><td>NA</td><td>3930</td><td></td><td></td><td></td><td>hbo</td><td>Hebrew</td><td>H</td><td>ה</td><td>none</td><td>6</td><td>6</td><td>6</td><td></td><td></td><td>n/a</td><td>NA</td><td>6</td><td>art</td><td>n/a</td><td>ha</td><td></td><td>art</td><td>n/a</td><td>NA</td><td></td><td>1</td><td>1</td><td></td><td></td><td>art</td><td>NA</td><td></td><td>NA</td><td></td><td></td><td></td><td>absent</td><td>n/a</td><td>n/a</td><td>NA</td><td>NA</td><td>NA</td></tr>\n",
       "\t<tr><th scope=row>25</th><td>24</td><td>word</td><td>25</td><td>21</td><td>22</td><td>8</td><td>9</td><td>10</td><td>11</td><td>19</td><td>3</td><td>2</td><td>1</td><td>21</td><td>22</td><td>NA</td><td>NA</td><td></td><td>NA</td><td>NA</td><td></td><td>NA</td><td></td><td></td><td>CMJM</td><td>שׁמים</td><td>CMJM/</td><td>421</td><td>395</td><td></td><td>CMJM</td><td>שׁמים</td><td>C@MAJIM</td><td>שָׁמַיִם</td><td>C.@MAJ</td><td>שָּׁמַי</td><td>/IM</td><td>/ִמ</td><td></td><td></td><td></td><td></td><td></td><td></td><td></td><td></td><td></td><td></td><td></td><td>C.@MA73JIM</td><td> שָּׁמַ֖יִם</td><td>heavens</td><td>m</td><td>2949</td><td></td><td></td><td></td><td>hbo</td><td>Hebrew</td><td>CMJM/</td><td>שׁמים/</td><td>none</td><td>7</td><td>7</td><td>7</td><td></td><td></td><td>JM</td><td>pl</td><td>7</td><td>subs</td><td>n/a</td><td>ššāmˌayim</td><td> </td><td>subs</td><td>absent</td><td>NA</td><td></td><td>122</td><td>85</td><td></td><td>CMH</td><td>subs</td><td>a</td><td></td><td>NA</td><td> </td><td></td><td></td><td>absent</td><td>n/a</td><td>n/a</td><td>NA</td><td>NA</td><td>NA</td></tr>\n",
       "\t<tr><th scope=row>26</th><td>26</td><td>word</td><td>NA</td><td>21</td><td>22</td><td>8</td><td>9</td><td>10</td><td>11</td><td>19</td><td>3</td><td>2</td><td>1</td><td>21</td><td>22</td><td>NA</td><td>NA</td><td></td><td>NA</td><td>NA</td><td></td><td>NA</td><td></td><td></td><td>W</td><td>ו</td><td>W</td><td>50273</td><td>50239</td><td></td><td>W</td><td>ו</td><td>W:</td><td>וְ</td><td>W:-</td><td>וְ</td><td></td><td></td><td></td><td></td><td></td><td></td><td></td><td></td><td></td><td></td><td></td><td></td><td></td><td>W:-</td><td>וְ</td><td>and</td><td>NA</td><td>8130</td><td></td><td></td><td></td><td>hbo</td><td>Hebrew</td><td>W</td><td>ו</td><td>none</td><td>8</td><td>8</td><td>8</td><td></td><td></td><td>n/a</td><td>NA</td><td>8</td><td>conj</td><td>n/a</td><td>wᵊ</td><td></td><td>conj</td><td>n/a</td><td>NA</td><td></td><td>0</td><td>0</td><td></td><td></td><td>conj</td><td>NA</td><td></td><td>NA</td><td></td><td></td><td></td><td>absent</td><td>n/a</td><td>n/a</td><td>NA</td><td>NA</td><td>NA</td></tr>\n",
       "\t<tr><th scope=row>27</th><td>30</td><td>subphrase</td><td>NA</td><td>21</td><td>22</td><td>8</td><td>9</td><td>10</td><td>11</td><td>19</td><td>3</td><td>2</td><td>1</td><td>NA</td><td>NA</td><td>25</td><td>NA</td><td></td><td>NA</td><td>NA</td><td></td><td>NA</td><td></td><td></td><td></td><td></td><td></td><td>NA</td><td>NA</td><td></td><td></td><td></td><td></td><td></td><td></td><td></td><td></td><td></td><td></td><td></td><td></td><td></td><td></td><td></td><td></td><td></td><td></td><td></td><td></td><td></td><td></td><td></td><td></td><td>NA</td><td></td><td></td><td></td><td></td><td></td><td></td><td></td><td></td><td>11</td><td>9</td><td>9-11</td><td>subphrase</td><td></td><td></td><td></td><td>NA</td><td></td><td></td><td></td><td></td><td></td><td></td><td></td><td></td><td>NA</td><td>NA</td><td>par</td><td></td><td></td><td></td><td></td><td>NA</td><td></td><td></td><td></td><td></td><td></td><td></td><td>NA</td><td></td><td></td></tr>\n",
       "\t<tr><th scope=row>28</th><td>27</td><td>word</td><td>30</td><td>21</td><td>22</td><td>8</td><td>9</td><td>10</td><td>11</td><td>19</td><td>3</td><td>2</td><td>1</td><td>21</td><td>22</td><td>NA</td><td>NA</td><td></td><td>NA</td><td>NA</td><td></td><td>NA</td><td></td><td></td><td>>T</td><td>את</td><td>>T</td><td>11016</td><td>9743</td><td></td><td>>T</td><td>את</td><td>>;T</td><td>אֵת</td><td>>;T</td><td>אֵת</td><td></td><td></td><td></td><td></td><td></td><td></td><td></td><td></td><td></td><td></td><td></td><td></td><td></td><td>>;71T</td><td>אֵ֥ת</td><td><object marker></td><td>NA</td><td>2007</td><td></td><td></td><td></td><td>hbo</td><td>Hebrew</td><td>>T</td><td>את</td><td>none</td><td>9</td><td>9</td><td>9</td><td></td><td></td><td>n/a</td><td>NA</td><td>9</td><td>prep</td><td>n/a</td><td>ʔˌēṯ</td><td> </td><td>prep</td><td>absent</td><td>NA</td><td></td><td>4</td><td>4</td><td></td><td></td><td>prep</td><td>NA</td><td></td><td>NA</td><td> </td><td></td><td></td><td>absent</td><td>n/a</td><td>n/a</td><td>NA</td><td>NA</td><td>NA</td></tr>\n",
       "\t<tr><th scope=row>29</th><td>28</td><td>word</td><td>30</td><td>21</td><td>22</td><td>8</td><td>9</td><td>10</td><td>11</td><td>19</td><td>3</td><td>2</td><td>1</td><td>21</td><td>22</td><td>NA</td><td>NA</td><td></td><td>NA</td><td>NA</td><td></td><td>NA</td><td></td><td></td><td>H</td><td>ה</td><td>H</td><td>30380</td><td>24659</td><td></td><td>H</td><td>ה</td><td>HA</td><td>הַ</td><td>H@-</td><td>הָ</td><td></td><td></td><td></td><td></td><td></td><td></td><td></td><td></td><td></td><td></td><td></td><td></td><td></td><td>H@-</td><td>הָ</td><td>the</td><td>NA</td><td>3930</td><td></td><td></td><td></td><td>hbo</td><td>Hebrew</td><td>H</td><td>ה</td><td>none</td><td>10</td><td>10</td><td>10</td><td></td><td></td><td>n/a</td><td>NA</td><td>10</td><td>art</td><td>n/a</td><td>hā</td><td></td><td>art</td><td>n/a</td><td>NA</td><td></td><td>1</td><td>1</td><td></td><td></td><td>art</td><td>NA</td><td></td><td>NA</td><td></td><td></td><td></td><td>absent</td><td>n/a</td><td>n/a</td><td>NA</td><td>NA</td><td>NA</td></tr>\n",
       "\t<tr><th scope=row>30</th><td>29</td><td>word</td><td>30</td><td>21</td><td>22</td><td>8</td><td>9</td><td>10</td><td>11</td><td>19</td><td>3</td><td>2</td><td>1</td><td>21</td><td>22</td><td>NA</td><td>NA</td><td></td><td>NA</td><td>NA</td><td></td><td>NA</td><td></td><td></td><td>>RY</td><td>ארץ</td><td>>RY/</td><td>2504</td><td>2157</td><td></td><td>>RY</td><td>ארץ</td><td>>EREY</td><td>אֶרֶץ</td><td>>@REY</td><td>אָרֶץ</td><td>/</td><td>/</td><td></td><td></td><td></td><td></td><td></td><td></td><td></td><td></td><td></td><td></td><td></td><td>>@75REY00</td><td>אָֽרֶץ</td><td>earth</td><td>unknown</td><td>1979</td><td></td><td></td><td></td><td>hbo</td><td>Hebrew</td><td>>RY/</td><td>ארץ/</td><td>none</td><td>11</td><td>11</td><td>11</td><td></td><td></td><td></td><td>sg</td><td>11</td><td>subs</td><td>n/a</td><td>ʔˈāreṣ</td><td> .</td><td>subs</td><td>absent</td><td>NA</td><td></td><td>22</td><td>19</td><td></td><td></td><td>subs</td><td>a</td><td></td><td>NA</td><td>׃</td><td></td><td></td><td>absent</td><td>n/a</td><td>n/a</td><td>NA</td><td>NA</td><td>NA</td></tr>\n",
       "</tbody>\n",
       "</table>\n"
      ],
      "text/latex": [
       "\\begin{tabular}{r|lllllllllllllllllllllllllllllllllllllllllllllllllllllllllllllllllllllllllllllllllllllllllllllll}\n",
       "  & oid & otype & in.subphrase & in.phrase_atom & in.phrase & in.clause_atom & in.clause & in.sentence_atom & in.sentence & in.half_verse & in.verse & in.chapter & in.book & distributional_parent & functional_parent & mother & X & book & chapter & code & det & dist & dist_unit & domain & entry & entry_heb & entryid & freq_lex & freq_occ & function. & g_cons & g_cons_utf8 & g_entry & g_entry_heb & g_lex & g_lex_utf8 & g_nme & g_nme_utf8 & g_pfm & g_pfm_utf8 & g_prs & g_prs_utf8 & g_qere_utf8 & g_uvf & g_uvf_utf8 & g_vbe & g_vbe_utf8 & g_vbs & g_vbs_utf8 & g_word & g_word_utf8 & gloss & gn & id & is_root & kind & label & lan & language & lex & lex_utf8 & ls & maxmonad & minmonad & monads & mother_object_type & nametype & nme & nu & number & pdp & pfm & phono & phono_sep & pos & prs & ps & qtrailer_utf8 & rank_lex & rank_occ & rela & root & sp & st & subpos & tab & trailer_utf8 & txt & typ & uvf & vbe & vbs & verse & vs & vt\\\\\n",
       "\\hline\n",
       "\t1 & 1 & book & NA & NA & NA & NA & NA & NA & NA & NA & NA & NA & NA & NA & NA & NA & NA & Genesis & NA & NA &  & NA &  &  &  &  &  & NA & NA &  &  &  &  &  &  &  &  &  &  &  &  &  &  &  &  &  &  &  &  &  &  &  &  & NA &  &  &  &  &  &  &  &  & 28758 & 1 & 1-28758 &  &  &  &  & NA &  &  &  &  &  &  &  &  & NA & NA &  &  &  &  &  & NA &  &  &  &  &  &  & NA &  & \\\\\n",
       "\t2 & 2 & chapter & NA & NA & NA & NA & NA & NA & NA & NA & NA & NA & 1 & NA & NA & NA & NA & Genesis & 1 & NA &  & NA &  &  &  &  &  & NA & NA &  &  &  &  &  &  &  &  &  &  &  &  &  &  &  &  &  &  &  &  &  &  &  &  & NA &  &  &  &  &  &  &  &  & 673 & 1 & 1-673 &  &  &  &  & NA &  &  &  &  &  &  &  &  & NA & NA &  &  &  &  &  & NA &  &  &  &  &  &  & NA &  & \\\\\n",
       "\t3 & 3 & verse & NA & NA & NA & NA & NA & NA & NA & NA & NA & 2 & 1 & NA & NA & NA & NA & Genesis & 1 & NA &  & NA &  &  &  &  &  & NA & NA &  &  &  &  &  &  &  &  &  &  &  &  &  &  &  &  &  &  &  &  &  &  &  &  & NA &  &  &  GEN 01,01 &  &  &  &  &  & 11 & 1 & 1-11 &  &  &  &  & NA &  &  &  &  &  &  &  &  & NA & NA &  &  &  &  &  & NA &  &  &  &  &  &  & 1 &  & \\\\\n",
       "\t4 & 11 & sentence & NA & NA & NA & NA & NA & NA & NA & NA & 3 & 2 & 1 & NA & NA & NA & NA &  & NA & NA &  & NA &  &  &  &  &  & NA & NA &  &  &  &  &  &  &  &  &  &  &  &  &  &  &  &  &  &  &  &  &  &  &  &  & NA &  &  &  &  &  &  &  &  & 11 & 1 & 1-11 &  &  &  &  & 1 &  &  &  &  &  &  &  &  & NA & NA &  &  &  &  &  & NA &  &  &  &  &  &  & NA &  & \\\\\n",
       "\t5 & 10 & sentence_atom & NA & NA & NA & NA & NA & NA & 11 & NA & 3 & 2 & 1 & NA & 11 & NA & NA &  & NA & NA &  & NA &  &  &  &  &  & NA & NA &  &  &  &  &  &  &  &  &  &  &  &  &  &  &  &  &  &  &  &  &  &  &  &  & NA &  &  &  &  &  &  &  &  & 11 & 1 & 1-11 &  &  &  &  & 1 &  &  &  &  &  &  &  &  & NA & NA &  &  &  &  &  & NA &  &  &  &  &  &  & NA &  & \\\\\n",
       "\t6 & 9 & clause & NA & NA & NA & NA & NA & 10 & 11 & NA & 3 & 2 & 1 & NA & 11 & NA & NA &  & NA & NA &  & 0 & clause_atoms & ? &  &  &  & NA & NA &  &  &  &  &  &  &  &  &  &  &  &  &  &  &  &  &  &  &  &  &  &  &  &  & NA &  & VC &  &  &  &  &  &  & 11 & 1 & 1-11 & clause &  &  &  & 1 &  &  &  &  &  &  &  &  & NA & NA & NA &  &  &  &  & NA &  & ? & xQtX &  &  &  & NA &  & \\\\\n",
       "\t7 & 8 & clause_atom & NA & NA & NA & NA & 9 & 10 & 11 & NA & 3 & 2 & 1 & 10 & 9 & NA & NA &  & NA & 0 &  & 0 &  &  &  &  &  & NA & NA &  &  &  &  &  &  &  &  &  &  &  &  &  &  &  &  &  &  &  &  &  &  &  &  & NA & true &  &  &  &  &  &  &  & 11 & 1 & 1-11 &  &  &  &  & 1 &  &  &  &  &  &  &  &  & NA & NA &  &  &  &  &  & 0 &  &  & xQtX &  &  &  & NA &  & \\\\\n",
       "\t8 & 4 & half_verse & NA & NA & NA & NA & NA & NA & NA & NA & 3 & 2 & 1 & NA & NA & NA & NA &  & NA & NA &  & NA &  &  &  &  &  & NA & NA &  &  &  &  &  &  &  &  &  &  &  &  &  &  &  &  &  &  &  &  &  &  &  &  & NA &  &  & A &  &  &  &  &  & 4 & 1 & 1-4 &  &  &  &  & NA &  &  &  &  &  &  &  &  & NA & NA &  &  &  &  &  & NA &  &  &  &  &  &  & NA &  & \\\\\n",
       "\t9 & 7 & phrase & NA & NA & NA & 8 & 9 & 10 & 11 & 4 & 3 & 2 & 1 & NA & 9 & NA & NA &  & NA & NA & und & 0 & clause_atoms &  &  &  &  & NA & NA & Time &  &  &  &  &  &  &  &  &  &  &  &  &  &  &  &  &  &  &  &  &  &  &  & NA &  &  &  &  &  &  &  &  & 2 & 1 & 1-2 &  &  &  &  & 1 &  &  &  &  &  &  &  &  & NA & NA & NA &  &  &  &  & NA &  &  & PP &  &  &  & NA &  & \\\\\n",
       "\t10 & 6 & phrase_atom & NA & NA & 7 & 8 & 9 & 10 & 11 & 4 & 3 & 2 & 1 & 8 & 7 & NA & NA &  & NA & NA & und & 0 & clause_atoms &  &  &  &  & NA & NA &  &  &  &  &  &  &  &  &  &  &  &  &  &  &  &  &  &  &  &  &  &  &  &  & NA &  &  &  &  &  &  &  &  & 2 & 1 & 1-2 &  &  &  &  & 1 &  &  &  &  &  &  &  &  & NA & NA & NA &  &  &  &  & NA &  &  & PP &  &  &  & NA &  & \\\\\n",
       "\t11 & 5 & word & NA & 6 & 7 & 8 & 9 & 10 & 11 & 4 & 3 & 2 & 1 & 6 & 7 & NA & NA &  & NA & NA &  & NA &  &  & B & ב & B & 15542 & 14194 &  & B & ב & B.: &  בְּ & B.:- &  בְּ &  &  &  &  &  &  &  &  &  &  &  &  &  & B.:- &  בְּ & in & NA & 2194 &  &  &  & hbo & Hebrew & B & ב & none & 1 & 1 & 1 &  &  & n/a & NA & 1 & prep & n/a & bᵊ &  & prep & absent & NA &  & 3 & 3 &  &  & prep & NA &  & NA &  &  &  & absent & n/a & n/a & NA & NA & NA\\\\\n",
       "\t12 & 12 & word & NA & 6 & 7 & 8 & 9 & 10 & 11 & 4 & 3 & 2 & 1 & 6 & 7 & NA & NA &  & NA & NA &  & NA &  &  & R>CJT & ראשׁית & R>CJT/ & 51 & 45 &  & R>CJT & ראשׁית & R;>CIJT & רֵאשִׁית & R;>CIJT & רֵאשִׁית & / & / &  &  &  &  &  &  &  &  &  &  &  & R;>CI73JT & רֵאשִׁ֖ית & beginning & f & 7206 &  &  &  & hbo & Hebrew & R>CJT/ & ראשׁית/ & none & 2 & 2 & 2 &  &  &  & sg & 2 & subs & n/a & rēšˌîṯ &   & subs & absent & NA &  & 707 & 868 &  & R>C & subs & a &  & NA &   &  &  & absent & n/a & n/a & NA & NA & NA\\\\\n",
       "\t13 & 15 & phrase & NA & NA & NA & 8 & 9 & 10 & 11 & 4 & 3 & 2 & 1 & NA & 9 & NA & NA &  & NA & NA & NA & 0 & clause_atoms &  &  &  &  & NA & NA & Pred &  &  &  &  &  &  &  &  &  &  &  &  &  &  &  &  &  &  &  &  &  &  &  & NA &  &  &  &  &  &  &  &  & 3 & 3 & 3 &  &  &  &  & 2 &  &  &  &  &  &  &  &  & NA & NA & NA &  &  &  &  & NA &  &  & VP &  &  &  & NA &  & \\\\\n",
       "\t14 & 14 & phrase_atom & NA & NA & 15 & 8 & 9 & 10 & 11 & 4 & 3 & 2 & 1 & 8 & 15 & NA & NA &  & NA & NA & NA & 0 & clause_atoms &  &  &  &  & NA & NA &  &  &  &  &  &  &  &  &  &  &  &  &  &  &  &  &  &  &  &  &  &  &  &  & NA &  &  &  &  &  &  &  &  & 3 & 3 & 3 &  &  &  &  & 2 &  &  &  &  &  &  &  &  & NA & NA & NA &  &  &  &  & NA &  &  & VP &  &  &  & NA &  & \\\\\n",
       "\t15 & 13 & word & NA & 14 & 15 & 8 & 9 & 10 & 11 & 4 & 3 & 2 & 1 & 14 & 15 & NA & NA &  & NA & NA &  & NA &  &  & BR> & ברא & BR>[ & 48 & 15 &  & BR> & ברא & B.@R@> & בָּרָא & B.@R@> & בָּרָא &  &  &  &  &  &  &  &  &  & [ & [ &  &  & B.@R@74> &  בָּרָ֣א & create & m & 2481 &  &  &  & hbo & Hebrew & BR>[ & ברא[ & none & 3 & 3 & 3 &  &  & absent & sg & 3 & verb & absent & bārˈā &   & verb & absent & p3 &  & 746 & 2341 &  &  & verb & NA &  & NA &   &  &  & absent &  & absent & NA & qal & perf\\\\\n",
       "\t16 & 18 & phrase & NA & NA & NA & 8 & 9 & 10 & 11 & 4 & 3 & 2 & 1 & NA & 9 & NA & NA &  & NA & NA & und & 0 & clause_atoms &  &  &  &  & NA & NA & Subj &  &  &  &  &  &  &  &  &  &  &  &  &  &  &  &  &  &  &  &  &  &  &  & NA &  &  &  &  &  &  &  &  & 4 & 4 & 4 &  &  &  &  & 3 &  &  &  &  &  &  &  &  & NA & NA & NA &  &  &  &  & NA &  &  & NP &  &  &  & NA &  & \\\\\n",
       "\t17 & 17 & phrase_atom & NA & NA & 18 & 8 & 9 & 10 & 11 & 4 & 3 & 2 & 1 & 8 & 18 & NA & NA &  & NA & NA & und & 0 & clause_atoms &  &  &  &  & NA & NA &  &  &  &  &  &  &  &  &  &  &  &  &  &  &  &  &  &  &  &  &  &  &  &  & NA &  &  &  &  &  &  &  &  & 4 & 4 & 4 &  &  &  &  & 3 &  &  &  &  &  &  &  &  & NA & NA & NA &  &  &  &  & NA &  &  & NP &  &  &  & NA &  & \\\\\n",
       "\t18 & 16 & word & NA & 17 & 18 & 8 & 9 & 10 & 11 & 4 & 3 & 2 & 1 & 17 & 18 & NA & NA &  & NA & NA &  & NA &  &  & >LHJM & אלהים & >LHJM/ & 2601 & 1177 &  & >LHJM & אלהים & >:ELOHIJM & אֱלֹהִים & >:ELOH & אֱלֹה & /IJM & /ִימ &  &  &  &  &  &  &  &  &  &  &  & >:ELOHI92JM & אֱלֹהִ֑ים & god(s) & m & 1687 &  &  &  & hbo & Hebrew & >LHJM/ & אלהים/ & none & 4 & 4 & 4 &  &  & JM & pl & 4 & subs & n/a & ʔᵉlōhˈîm &   & subs & absent & NA &  & 18 & 31 &  &  & subs & a &  & NA &   &  &  & absent & n/a & n/a & NA & NA & NA\\\\\n",
       "\t19 & 19 & half_verse & NA & NA & NA & NA & NA & NA & NA & NA & 3 & 2 & 1 & NA & NA & NA & NA &  & NA & NA &  & NA &  &  &  &  &  & NA & NA &  &  &  &  &  &  &  &  &  &  &  &  &  &  &  &  &  &  &  &  &  &  &  &  & NA &  &  & B &  &  &  &  &  & 11 & 5 & 5-11 &  &  &  &  & NA &  &  &  &  &  &  &  &  & NA & NA &  &  &  &  &  & NA &  &  &  &  &  &  & NA &  & \\\\\n",
       "\t20 & 22 & phrase & NA & NA & NA & 8 & 9 & 10 & 11 & 19 & 3 & 2 & 1 & NA & 9 & NA & NA &  & NA & NA & det & 0 & clause_atoms &  &  &  &  & NA & NA & Objc &  &  &  &  &  &  &  &  &  &  &  &  &  &  &  &  &  &  &  &  &  &  &  & NA &  &  &  &  &  &  &  &  & 11 & 5 & 5-11 &  &  &  &  & 4 &  &  &  &  &  &  &  &  & NA & NA & NA &  &  &  &  & NA &  &  & PP &  &  &  & NA &  & \\\\\n",
       "\t21 & 21 & phrase_atom & NA & NA & 22 & 8 & 9 & 10 & 11 & 19 & 3 & 2 & 1 & 8 & 22 & NA & NA &  & NA & NA & det & 0 & clause_atoms &  &  &  &  & NA & NA &  &  &  &  &  &  &  &  &  &  &  &  &  &  &  &  &  &  &  &  &  &  &  &  & NA &  &  &  &  &  &  &  &  & 11 & 5 & 5-11 &  &  &  &  & 4 &  &  &  &  &  &  &  &  & NA & NA & NA &  &  &  &  & NA &  &  & PP &  &  &  & NA &  & \\\\\n",
       "\t22 & 25 & subphrase & NA & 21 & 22 & 8 & 9 & 10 & 11 & 19 & 3 & 2 & 1 & NA & NA & NA & NA &  & NA & NA &  & NA &  &  &  &  &  & NA & NA &  &  &  &  &  &  &  &  &  &  &  &  &  &  &  &  &  &  &  &  &  &  &  &  & NA &  &  &  &  &  &  &  &  & 7 & 5 & 5-7 & NA &  &  &  & NA &  &  &  &  &  &  &  &  & NA & NA & NA &  &  &  &  & NA &  &  &  &  &  &  & NA &  & \\\\\n",
       "\t23 & 20 & word & 25 & 21 & 22 & 8 & 9 & 10 & 11 & 19 & 3 & 2 & 1 & 21 & 22 & NA & NA &  & NA & NA &  & NA &  &  & >T & את & >T & 11016 & 9743 &  & >T & את & >;T & אֵת & >;T & אֵת &  &  &  &  &  &  &  &  &  &  &  &  &  & >;71T & אֵ֥ת & <object marker> & NA & 2007 &  &  &  & hbo & Hebrew & >T & את & none & 5 & 5 & 5 &  &  & n/a & NA & 5 & prep & n/a & ʔˌēṯ &   & prep & absent & NA &  & 4 & 4 &  &  & prep & NA &  & NA &   &  &  & absent & n/a & n/a & NA & NA & NA\\\\\n",
       "\t24 & 23 & word & 25 & 21 & 22 & 8 & 9 & 10 & 11 & 19 & 3 & 2 & 1 & 21 & 22 & NA & NA &  & NA & NA &  & NA &  &  & H & ה & H & 30380 & 24659 &  & H & ה & HA & הַ & HA- & הַ &  &  &  &  &  &  &  &  &  &  &  &  &  & HA- & הַ & the & NA & 3930 &  &  &  & hbo & Hebrew & H & ה & none & 6 & 6 & 6 &  &  & n/a & NA & 6 & art & n/a & ha &  & art & n/a & NA &  & 1 & 1 &  &  & art & NA &  & NA &  &  &  & absent & n/a & n/a & NA & NA & NA\\\\\n",
       "\t25 & 24 & word & 25 & 21 & 22 & 8 & 9 & 10 & 11 & 19 & 3 & 2 & 1 & 21 & 22 & NA & NA &  & NA & NA &  & NA &  &  & CMJM & שׁמים & CMJM/ & 421 & 395 &  & CMJM & שׁמים & C@MAJIM & שָׁמַיִם & C.@MAJ & שָּׁמַי & /IM & /ִמ &  &  &  &  &  &  &  &  &  &  &  & C.@MA73JIM &  שָּׁמַ֖יִם & heavens & m & 2949 &  &  &  & hbo & Hebrew & CMJM/ & שׁמים/ & none & 7 & 7 & 7 &  &  & JM & pl & 7 & subs & n/a & ššāmˌayim &   & subs & absent & NA &  & 122 & 85 &  & CMH & subs & a &  & NA &   &  &  & absent & n/a & n/a & NA & NA & NA\\\\\n",
       "\t26 & 26 & word & NA & 21 & 22 & 8 & 9 & 10 & 11 & 19 & 3 & 2 & 1 & 21 & 22 & NA & NA &  & NA & NA &  & NA &  &  & W & ו & W & 50273 & 50239 &  & W & ו & W: & וְ & W:- & וְ &  &  &  &  &  &  &  &  &  &  &  &  &  & W:- & וְ & and & NA & 8130 &  &  &  & hbo & Hebrew & W & ו & none & 8 & 8 & 8 &  &  & n/a & NA & 8 & conj & n/a & wᵊ &  & conj & n/a & NA &  & 0 & 0 &  &  & conj & NA &  & NA &  &  &  & absent & n/a & n/a & NA & NA & NA\\\\\n",
       "\t27 & 30 & subphrase & NA & 21 & 22 & 8 & 9 & 10 & 11 & 19 & 3 & 2 & 1 & NA & NA & 25 & NA &  & NA & NA &  & NA &  &  &  &  &  & NA & NA &  &  &  &  &  &  &  &  &  &  &  &  &  &  &  &  &  &  &  &  &  &  &  &  & NA &  &  &  &  &  &  &  &  & 11 & 9 & 9-11 & subphrase &  &  &  & NA &  &  &  &  &  &  &  &  & NA & NA & par &  &  &  &  & NA &  &  &  &  &  &  & NA &  & \\\\\n",
       "\t28 & 27 & word & 30 & 21 & 22 & 8 & 9 & 10 & 11 & 19 & 3 & 2 & 1 & 21 & 22 & NA & NA &  & NA & NA &  & NA &  &  & >T & את & >T & 11016 & 9743 &  & >T & את & >;T & אֵת & >;T & אֵת &  &  &  &  &  &  &  &  &  &  &  &  &  & >;71T & אֵ֥ת & <object marker> & NA & 2007 &  &  &  & hbo & Hebrew & >T & את & none & 9 & 9 & 9 &  &  & n/a & NA & 9 & prep & n/a & ʔˌēṯ &   & prep & absent & NA &  & 4 & 4 &  &  & prep & NA &  & NA &   &  &  & absent & n/a & n/a & NA & NA & NA\\\\\n",
       "\t29 & 28 & word & 30 & 21 & 22 & 8 & 9 & 10 & 11 & 19 & 3 & 2 & 1 & 21 & 22 & NA & NA &  & NA & NA &  & NA &  &  & H & ה & H & 30380 & 24659 &  & H & ה & HA & הַ & H@- & הָ &  &  &  &  &  &  &  &  &  &  &  &  &  & H@- & הָ & the & NA & 3930 &  &  &  & hbo & Hebrew & H & ה & none & 10 & 10 & 10 &  &  & n/a & NA & 10 & art & n/a & hā &  & art & n/a & NA &  & 1 & 1 &  &  & art & NA &  & NA &  &  &  & absent & n/a & n/a & NA & NA & NA\\\\\n",
       "\t30 & 29 & word & 30 & 21 & 22 & 8 & 9 & 10 & 11 & 19 & 3 & 2 & 1 & 21 & 22 & NA & NA &  & NA & NA &  & NA &  &  & >RY & ארץ & >RY/ & 2504 & 2157 &  & >RY & ארץ & >EREY & אֶרֶץ & >@REY & אָרֶץ & / & / &  &  &  &  &  &  &  &  &  &  &  & >@75REY00 & אָֽרֶץ & earth & unknown & 1979 &  &  &  & hbo & Hebrew & >RY/ & ארץ/ & none & 11 & 11 & 11 &  &  &  & sg & 11 & subs & n/a & ʔˈāreṣ &  . & subs & absent & NA &  & 22 & 19 &  &  & subs & a &  & NA & ׃ &  &  & absent & n/a & n/a & NA & NA & NA\\\\\n",
       "\\end{tabular}\n"
      ],
      "text/plain": [
       "   oid         otype in.subphrase in.phrase_atom in.phrase in.clause_atom\n",
       "1    1          book           NA             NA        NA             NA\n",
       "2    2       chapter           NA             NA        NA             NA\n",
       "3    3         verse           NA             NA        NA             NA\n",
       "4   11      sentence           NA             NA        NA             NA\n",
       "5   10 sentence_atom           NA             NA        NA             NA\n",
       "6    9        clause           NA             NA        NA             NA\n",
       "7    8   clause_atom           NA             NA        NA             NA\n",
       "8    4    half_verse           NA             NA        NA             NA\n",
       "9    7        phrase           NA             NA        NA              8\n",
       "10   6   phrase_atom           NA             NA         7              8\n",
       "11   5          word           NA              6         7              8\n",
       "12  12          word           NA              6         7              8\n",
       "13  15        phrase           NA             NA        NA              8\n",
       "14  14   phrase_atom           NA             NA        15              8\n",
       "15  13          word           NA             14        15              8\n",
       "16  18        phrase           NA             NA        NA              8\n",
       "17  17   phrase_atom           NA             NA        18              8\n",
       "18  16          word           NA             17        18              8\n",
       "19  19    half_verse           NA             NA        NA             NA\n",
       "20  22        phrase           NA             NA        NA              8\n",
       "21  21   phrase_atom           NA             NA        22              8\n",
       "22  25     subphrase           NA             21        22              8\n",
       "23  20          word           25             21        22              8\n",
       "24  23          word           25             21        22              8\n",
       "25  24          word           25             21        22              8\n",
       "26  26          word           NA             21        22              8\n",
       "27  30     subphrase           NA             21        22              8\n",
       "28  27          word           30             21        22              8\n",
       "29  28          word           30             21        22              8\n",
       "30  29          word           30             21        22              8\n",
       "   in.clause in.sentence_atom in.sentence in.half_verse in.verse in.chapter\n",
       "1         NA               NA          NA            NA       NA         NA\n",
       "2         NA               NA          NA            NA       NA         NA\n",
       "3         NA               NA          NA            NA       NA          2\n",
       "4         NA               NA          NA            NA        3          2\n",
       "5         NA               NA          11            NA        3          2\n",
       "6         NA               10          11            NA        3          2\n",
       "7          9               10          11            NA        3          2\n",
       "8         NA               NA          NA            NA        3          2\n",
       "9          9               10          11             4        3          2\n",
       "10         9               10          11             4        3          2\n",
       "11         9               10          11             4        3          2\n",
       "12         9               10          11             4        3          2\n",
       "13         9               10          11             4        3          2\n",
       "14         9               10          11             4        3          2\n",
       "15         9               10          11             4        3          2\n",
       "16         9               10          11             4        3          2\n",
       "17         9               10          11             4        3          2\n",
       "18         9               10          11             4        3          2\n",
       "19        NA               NA          NA            NA        3          2\n",
       "20         9               10          11            19        3          2\n",
       "21         9               10          11            19        3          2\n",
       "22         9               10          11            19        3          2\n",
       "23         9               10          11            19        3          2\n",
       "24         9               10          11            19        3          2\n",
       "25         9               10          11            19        3          2\n",
       "26         9               10          11            19        3          2\n",
       "27         9               10          11            19        3          2\n",
       "28         9               10          11            19        3          2\n",
       "29         9               10          11            19        3          2\n",
       "30         9               10          11            19        3          2\n",
       "   in.book distributional_parent functional_parent mother  X    book chapter\n",
       "1       NA                    NA                NA     NA NA Genesis      NA\n",
       "2        1                    NA                NA     NA NA Genesis       1\n",
       "3        1                    NA                NA     NA NA Genesis       1\n",
       "4        1                    NA                NA     NA NA              NA\n",
       "5        1                    NA                11     NA NA              NA\n",
       "6        1                    NA                11     NA NA              NA\n",
       "7        1                    10                 9     NA NA              NA\n",
       "8        1                    NA                NA     NA NA              NA\n",
       "9        1                    NA                 9     NA NA              NA\n",
       "10       1                     8                 7     NA NA              NA\n",
       "11       1                     6                 7     NA NA              NA\n",
       "12       1                     6                 7     NA NA              NA\n",
       "13       1                    NA                 9     NA NA              NA\n",
       "14       1                     8                15     NA NA              NA\n",
       "15       1                    14                15     NA NA              NA\n",
       "16       1                    NA                 9     NA NA              NA\n",
       "17       1                     8                18     NA NA              NA\n",
       "18       1                    17                18     NA NA              NA\n",
       "19       1                    NA                NA     NA NA              NA\n",
       "20       1                    NA                 9     NA NA              NA\n",
       "21       1                     8                22     NA NA              NA\n",
       "22       1                    NA                NA     NA NA              NA\n",
       "23       1                    21                22     NA NA              NA\n",
       "24       1                    21                22     NA NA              NA\n",
       "25       1                    21                22     NA NA              NA\n",
       "26       1                    21                22     NA NA              NA\n",
       "27       1                    NA                NA     25 NA              NA\n",
       "28       1                    21                22     NA NA              NA\n",
       "29       1                    21                22     NA NA              NA\n",
       "30       1                    21                22     NA NA              NA\n",
       "   code  det dist    dist_unit domain entry entry_heb entryid freq_lex freq_occ\n",
       "1    NA        NA                                                   NA       NA\n",
       "2    NA        NA                                                   NA       NA\n",
       "3    NA        NA                                                   NA       NA\n",
       "4    NA        NA                                                   NA       NA\n",
       "5    NA        NA                                                   NA       NA\n",
       "6    NA         0 clause_atoms      ?                               NA       NA\n",
       "7     0         0                                                   NA       NA\n",
       "8    NA        NA                                                   NA       NA\n",
       "9    NA  und    0 clause_atoms                                      NA       NA\n",
       "10   NA  und    0 clause_atoms                                      NA       NA\n",
       "11   NA        NA                         B         ב       B    15542    14194\n",
       "12   NA        NA                     R>CJT     ראשׁית  R>CJT/       51       45\n",
       "13   NA <NA>    0 clause_atoms                                      NA       NA\n",
       "14   NA <NA>    0 clause_atoms                                      NA       NA\n",
       "15   NA        NA                       BR>       ברא    BR>[       48       15\n",
       "16   NA  und    0 clause_atoms                                      NA       NA\n",
       "17   NA  und    0 clause_atoms                                      NA       NA\n",
       "18   NA        NA                     >LHJM     אלהים  >LHJM/     2601     1177\n",
       "19   NA        NA                                                   NA       NA\n",
       "20   NA  det    0 clause_atoms                                      NA       NA\n",
       "21   NA  det    0 clause_atoms                                      NA       NA\n",
       "22   NA        NA                                                   NA       NA\n",
       "23   NA        NA                        >T        את      >T    11016     9743\n",
       "24   NA        NA                         H         ה       H    30380    24659\n",
       "25   NA        NA                      CMJM      שׁמים   CMJM/      421      395\n",
       "26   NA        NA                         W         ו       W    50273    50239\n",
       "27   NA        NA                                                   NA       NA\n",
       "28   NA        NA                        >T        את      >T    11016     9743\n",
       "29   NA        NA                         H         ה       H    30380    24659\n",
       "30   NA        NA                       >RY       ארץ    >RY/     2504     2157\n",
       "   function. g_cons g_cons_utf8   g_entry g_entry_heb   g_lex g_lex_utf8 g_nme\n",
       "1                                                                             \n",
       "2                                                                             \n",
       "3                                                                             \n",
       "4                                                                             \n",
       "5                                                                             \n",
       "6                                                                             \n",
       "7                                                                             \n",
       "8                                                                             \n",
       "9       Time                                                                  \n",
       "10                                                                            \n",
       "11                B           ב       B.:             בְּ    B.:-            בְּ      \n",
       "12            R>CJT       ראשׁית   R;>CIJT         רֵאשִׁית R;>CIJT        רֵאשִׁית     /\n",
       "13      Pred                                                                  \n",
       "14                                                                            \n",
       "15              BR>         ברא    B.@R@>            בָּרָא  B.@R@>           בָּרָא      \n",
       "16      Subj                                                                  \n",
       "17                                                                            \n",
       "18            >LHJM       אלהים >:ELOHIJM          אֱלֹהִים  >:ELOH          אֱלֹה  /IJM\n",
       "19                                                                            \n",
       "20      Objc                                                                  \n",
       "21                                                                            \n",
       "22                                                                            \n",
       "23               >T          את       >;T           אֵת     >;T          אֵת      \n",
       "24                H           ה        HA            הַ     HA-           הַ      \n",
       "25             CMJM        שׁמים   C@MAJIM           שָׁמַיִם  C.@MAJ           שָּׁמַי   /IM\n",
       "26                W           ו        W:            וְ     W:-           וְ      \n",
       "27                                                                            \n",
       "28               >T          את       >;T           אֵת     >;T          אֵת      \n",
       "29                H           ה        HA            הַ     H@-           הָ      \n",
       "30              >RY         ארץ     >EREY           אֶרֶץ   >@REY          אָרֶץ     /\n",
       "   g_nme_utf8 g_pfm g_pfm_utf8 g_prs g_prs_utf8 g_qere_utf8 g_uvf g_uvf_utf8\n",
       "1                                                                           \n",
       "2                                                                           \n",
       "3                                                                           \n",
       "4                                                                           \n",
       "5                                                                           \n",
       "6                                                                           \n",
       "7                                                                           \n",
       "8                                                                           \n",
       "9                                                                           \n",
       "10                                                                          \n",
       "11                                                                          \n",
       "12          /                                                               \n",
       "13                                                                          \n",
       "14                                                                          \n",
       "15                                                                          \n",
       "16                                                                          \n",
       "17                                                                          \n",
       "18         /ִימ                                                               \n",
       "19                                                                          \n",
       "20                                                                          \n",
       "21                                                                          \n",
       "22                                                                          \n",
       "23                                                                          \n",
       "24                                                                          \n",
       "25          /ִמ                                                               \n",
       "26                                                                          \n",
       "27                                                                          \n",
       "28                                                                          \n",
       "29                                                                          \n",
       "30          /                                                               \n",
       "   g_vbe g_vbe_utf8 g_vbs g_vbs_utf8      g_word g_word_utf8           gloss\n",
       "1                                                                           \n",
       "2                                                                           \n",
       "3                                                                           \n",
       "4                                                                           \n",
       "5                                                                           \n",
       "6                                                                           \n",
       "7                                                                           \n",
       "8                                                                           \n",
       "9                                                                           \n",
       "10                                                                          \n",
       "11                                          B.:-             בְּ              in\n",
       "12                                     R;>CI73JT          רֵאשִׁ֖ית       beginning\n",
       "13                                                                          \n",
       "14                                                                          \n",
       "15     [          [                     B.@R@74>             בָּרָ֣א          create\n",
       "16                                                                          \n",
       "17                                                                          \n",
       "18                                   >:ELOHI92JM           אֱלֹהִ֑ים          god(s)\n",
       "19                                                                          \n",
       "20                                                                          \n",
       "21                                                                          \n",
       "22                                                                          \n",
       "23                                         >;71T            אֵ֥ת <object marker>\n",
       "24                                           HA-            הַ             the\n",
       "25                                    C.@MA73JIM             שָּׁמַ֖יִם         heavens\n",
       "26                                           W:-            וְ             and\n",
       "27                                                                          \n",
       "28                                         >;71T            אֵ֥ת <object marker>\n",
       "29                                           H@-            הָ             the\n",
       "30                                     >@75REY00            אָֽרֶץ           earth\n",
       "        gn   id is_root kind      label lan language    lex lex_utf8   ls\n",
       "1            NA                                                          \n",
       "2            NA                                                          \n",
       "3            NA               GEN 01,01                                  \n",
       "4            NA                                                          \n",
       "5            NA                                                          \n",
       "6            NA           VC                                             \n",
       "7            NA    true                                                  \n",
       "8            NA                       A                                  \n",
       "9            NA                                                          \n",
       "10           NA                                                          \n",
       "11    <NA> 2194                         hbo   Hebrew      B        ב none\n",
       "12       f 7206                         hbo   Hebrew R>CJT/   ראשׁית/ none\n",
       "13           NA                                                          \n",
       "14           NA                                                          \n",
       "15       m 2481                         hbo   Hebrew   BR>[     ברא[ none\n",
       "16           NA                                                          \n",
       "17           NA                                                          \n",
       "18       m 1687                         hbo   Hebrew >LHJM/   אלהים/ none\n",
       "19           NA                       B                                  \n",
       "20           NA                                                          \n",
       "21           NA                                                          \n",
       "22           NA                                                          \n",
       "23    <NA> 2007                         hbo   Hebrew     >T       את none\n",
       "24    <NA> 3930                         hbo   Hebrew      H        ה none\n",
       "25       m 2949                         hbo   Hebrew  CMJM/    שׁמים/ none\n",
       "26    <NA> 8130                         hbo   Hebrew      W        ו none\n",
       "27           NA                                                          \n",
       "28    <NA> 2007                         hbo   Hebrew     >T       את none\n",
       "29    <NA> 3930                         hbo   Hebrew      H        ה none\n",
       "30 unknown 1979                         hbo   Hebrew   >RY/     ארץ/ none\n",
       "   maxmonad minmonad  monads mother_object_type nametype    nme   nu number\n",
       "1     28758        1 1-28758                                             NA\n",
       "2       673        1   1-673                                             NA\n",
       "3        11        1    1-11                                             NA\n",
       "4        11        1    1-11                                              1\n",
       "5        11        1    1-11                                              1\n",
       "6        11        1    1-11             clause                           1\n",
       "7        11        1    1-11                                              1\n",
       "8         4        1     1-4                                             NA\n",
       "9         2        1     1-2                                              1\n",
       "10        2        1     1-2                                              1\n",
       "11        1        1       1                                n/a <NA>      1\n",
       "12        2        2       2                                      sg      2\n",
       "13        3        3       3                                              2\n",
       "14        3        3       3                                              2\n",
       "15        3        3       3                             absent   sg      3\n",
       "16        4        4       4                                              3\n",
       "17        4        4       4                                              3\n",
       "18        4        4       4                                 JM   pl      4\n",
       "19       11        5    5-11                                             NA\n",
       "20       11        5    5-11                                              4\n",
       "21       11        5    5-11                                              4\n",
       "22        7        5     5-7               <NA>                          NA\n",
       "23        5        5       5                                n/a <NA>      5\n",
       "24        6        6       6                                n/a <NA>      6\n",
       "25        7        7       7                                 JM   pl      7\n",
       "26        8        8       8                                n/a <NA>      8\n",
       "27       11        9    9-11          subphrase                          NA\n",
       "28        9        9       9                                n/a <NA>      9\n",
       "29       10       10      10                                n/a <NA>     10\n",
       "30       11       11      11                                      sg     11\n",
       "    pdp    pfm         phono phono_sep  pos    prs   ps qtrailer_utf8 rank_lex\n",
       "1                                                                           NA\n",
       "2                                                                           NA\n",
       "3                                                                           NA\n",
       "4                                                                           NA\n",
       "5                                                                           NA\n",
       "6                                                                           NA\n",
       "7                                                                           NA\n",
       "8                                                                           NA\n",
       "9                                                                           NA\n",
       "10                                                                          NA\n",
       "11 prep    n/a       b\\u1d4a           prep absent <NA>                      3\n",
       "12 subs    n/a        rēšˌîṯ           subs absent <NA>                    707\n",
       "13                                                                          NA\n",
       "14                                                                          NA\n",
       "15 verb absent         bārˈā           verb absent   p3                    746\n",
       "16                                                                          NA\n",
       "17                                                                          NA\n",
       "18 subs    n/a ʔ\\u1d49lōhˈîm           subs absent <NA>                     18\n",
       "19                                                                          NA\n",
       "20                                                                          NA\n",
       "21                                                                          NA\n",
       "22                                                                          NA\n",
       "23 prep    n/a          ʔˌēṯ           prep absent <NA>                      4\n",
       "24  art    n/a            ha            art    n/a <NA>                      1\n",
       "25 subs    n/a     ššāmˌayim           subs absent <NA>                    122\n",
       "26 conj    n/a       w\\u1d4a           conj    n/a <NA>                      0\n",
       "27                                                                          NA\n",
       "28 prep    n/a          ʔˌēṯ           prep absent <NA>                      4\n",
       "29  art    n/a            hā            art    n/a <NA>                      1\n",
       "30 subs    n/a        ʔˈāreṣ         . subs absent <NA>                     22\n",
       "   rank_occ rela root   sp   st subpos tab trailer_utf8 txt  typ    uvf vbe\n",
       "1        NA                             NA                                 \n",
       "2        NA                             NA                                 \n",
       "3        NA                             NA                                 \n",
       "4        NA                             NA                                 \n",
       "5        NA                             NA                                 \n",
       "6        NA <NA>                        NA                ? xQtX           \n",
       "7        NA                              0                  xQtX           \n",
       "8        NA                             NA                                 \n",
       "9        NA <NA>                        NA                    PP           \n",
       "10       NA <NA>                        NA                    PP           \n",
       "11        3           prep <NA>         NA                       absent n/a\n",
       "12      868       R>C subs    a         NA                       absent n/a\n",
       "13       NA <NA>                        NA                    VP           \n",
       "14       NA <NA>                        NA                    VP           \n",
       "15     2341           verb <NA>         NA                       absent    \n",
       "16       NA <NA>                        NA                    NP           \n",
       "17       NA <NA>                        NA                    NP           \n",
       "18       31           subs    a         NA                       absent n/a\n",
       "19       NA                             NA                                 \n",
       "20       NA <NA>                        NA                    PP           \n",
       "21       NA <NA>                        NA                    PP           \n",
       "22       NA <NA>                        NA                                 \n",
       "23        4           prep <NA>         NA                       absent n/a\n",
       "24        1            art <NA>         NA                       absent n/a\n",
       "25       85       CMH subs    a         NA                       absent n/a\n",
       "26        0           conj <NA>         NA                       absent n/a\n",
       "27       NA  par                        NA                                 \n",
       "28        4           prep <NA>         NA                       absent n/a\n",
       "29        1            art <NA>         NA                       absent n/a\n",
       "30       19           subs    a         NA            ׃          absent n/a\n",
       "      vbs verse   vs   vt\n",
       "1            NA          \n",
       "2            NA          \n",
       "3             1          \n",
       "4            NA          \n",
       "5            NA          \n",
       "6            NA          \n",
       "7            NA          \n",
       "8            NA          \n",
       "9            NA          \n",
       "10           NA          \n",
       "11    n/a    NA <NA> <NA>\n",
       "12    n/a    NA <NA> <NA>\n",
       "13           NA          \n",
       "14           NA          \n",
       "15 absent    NA  qal perf\n",
       "16           NA          \n",
       "17           NA          \n",
       "18    n/a    NA <NA> <NA>\n",
       "19           NA          \n",
       "20           NA          \n",
       "21           NA          \n",
       "22           NA          \n",
       "23    n/a    NA <NA> <NA>\n",
       "24    n/a    NA <NA> <NA>\n",
       "25    n/a    NA <NA> <NA>\n",
       "26    n/a    NA <NA> <NA>\n",
       "27           NA          \n",
       "28    n/a    NA <NA> <NA>\n",
       "29    n/a    NA <NA> <NA>\n",
       "30    n/a    NA <NA> <NA>"
      ]
     },
     "execution_count": 3,
     "metadata": {},
     "output_type": "execute_result"
    }
   ],
   "source": [
    "head(etcbc, n=30)"
   ]
  },
  {
   "cell_type": "markdown",
   "metadata": {},
   "source": [
    "# Books"
   ]
  },
  {
   "cell_type": "markdown",
   "metadata": {},
   "source": [
    "Let us extract some data.\n",
    "First a list of the book names."
   ]
  },
  {
   "cell_type": "code",
   "execution_count": 4,
   "metadata": {
    "collapsed": false
   },
   "outputs": [
    {
     "data": {
      "text/html": [
       "'Genesis Exodus Leviticus Numeri Deuteronomium Josua Judices Samuel_I Samuel_II Reges_I Reges_II Jesaia Jeremia Ezechiel Hosea Joel Amos Obadia Jona Micha Nahum Habakuk Zephania Haggai Sacharia Maleachi Psalmi Iob Proverbia Ruth Canticum Ecclesiastes Threni Esther Daniel Esra Nehemia Chronica_I Chronica_II'"
      ],
      "text/latex": [
       "'Genesis Exodus Leviticus Numeri Deuteronomium Josua Judices Samuel_I Samuel_II Reges_I Reges_II Jesaia Jeremia Ezechiel Hosea Joel Amos Obadia Jona Micha Nahum Habakuk Zephania Haggai Sacharia Maleachi Psalmi Iob Proverbia Ruth Canticum Ecclesiastes Threni Esther Daniel Esra Nehemia Chronica_I Chronica_II'"
      ],
      "text/markdown": [
       "'Genesis Exodus Leviticus Numeri Deuteronomium Josua Judices Samuel_I Samuel_II Reges_I Reges_II Jesaia Jeremia Ezechiel Hosea Joel Amos Obadia Jona Micha Nahum Habakuk Zephania Haggai Sacharia Maleachi Psalmi Iob Proverbia Ruth Canticum Ecclesiastes Threni Esther Daniel Esra Nehemia Chronica_I Chronica_II'"
      ],
      "text/plain": [
       "[1] \"Genesis Exodus Leviticus Numeri Deuteronomium Josua Judices Samuel_I Samuel_II Reges_I Reges_II Jesaia Jeremia Ezechiel Hosea Joel Amos Obadia Jona Micha Nahum Habakuk Zephania Haggai Sacharia Maleachi Psalmi Iob Proverbia Ruth Canticum Ecclesiastes Threni Esther Daniel Esra Nehemia Chronica_I Chronica_II\""
      ]
     },
     "execution_count": 4,
     "metadata": {},
     "output_type": "execute_result"
    }
   ],
   "source": [
    "books = etcbc$book[etcbc$otype == 'book']\n",
    "paste(books, collapse=' ')"
   ]
  },
  {
   "cell_type": "markdown",
   "metadata": {},
   "source": [
    "# Text\n",
    "\n",
    "Now the complete text of the whole bible."
   ]
  },
  {
   "cell_type": "code",
   "execution_count": 14,
   "metadata": {
    "collapsed": false
   },
   "outputs": [],
   "source": [
    "words = which(etcbc$otype == 'word')\n",
    "text = paste(\n",
    "    etcbc$g_word_utf8[words], sub('׃', '׃\\n', etcbc$trailer_utf8[words]),\n",
    "    sep='', collapse=''\n",
    ")\n",
    "write(text, file='/Users/dirk/Downloads/test_r_text.txt')"
   ]
  },
  {
   "cell_type": "markdown",
   "metadata": {},
   "source": [
    "# Drill down to a passage"
   ]
  },
  {
   "cell_type": "markdown",
   "metadata": {},
   "source": [
    "Let us get the words from the first verse:"
   ]
  },
  {
   "cell_type": "code",
   "execution_count": 6,
   "metadata": {
    "collapsed": false
   },
   "outputs": [
    {
     "data": {
      "text/html": [
       "<ol class=list-inline>\n",
       "\t<li>5</li>\n",
       "\t<li>12</li>\n",
       "\t<li>13</li>\n",
       "\t<li>16</li>\n",
       "\t<li>20</li>\n",
       "\t<li>23</li>\n",
       "\t<li>24</li>\n",
       "\t<li>26</li>\n",
       "\t<li>27</li>\n",
       "\t<li>28</li>\n",
       "\t<li>29</li>\n",
       "</ol>\n"
      ],
      "text/latex": [
       "\\begin{enumerate*}\n",
       "\\item 5\n",
       "\\item 12\n",
       "\\item 13\n",
       "\\item 16\n",
       "\\item 20\n",
       "\\item 23\n",
       "\\item 24\n",
       "\\item 26\n",
       "\\item 27\n",
       "\\item 28\n",
       "\\item 29\n",
       "\\end{enumerate*}\n"
      ],
      "text/markdown": [
       "1. 5\n",
       "2. 12\n",
       "3. 13\n",
       "4. 16\n",
       "5. 20\n",
       "6. 23\n",
       "7. 24\n",
       "8. 26\n",
       "9. 27\n",
       "10. 28\n",
       "11. 29\n",
       "\n",
       "\n"
      ],
      "text/plain": [
       " [1]  5 12 13 16 20 23 24 26 27 28 29"
      ]
     },
     "execution_count": 6,
     "metadata": {},
     "output_type": "execute_result"
    }
   ],
   "source": [
    "word_ids = etcbc$oid[etcbc$otype=='word' & etcbc$in.verse==3]\n",
    "word_ids"
   ]
  },
  {
   "cell_type": "markdown",
   "metadata": {},
   "source": [
    "Now the *text* of the first verse."
   ]
  },
  {
   "cell_type": "code",
   "execution_count": 47,
   "metadata": {
    "collapsed": false
   },
   "outputs": [
    {
     "data": {
      "text/html": [
       "'אִם ־לֹ֤א  שִׁוִּ֨יתִי  ׀ וְ דֹומַ֗מְתִּי  נַ֫פְשִׁ֥י  כְּ֭ גָמֻל  עֲלֵ֣י  אִמֹּ֑ו  כַּ  גָּמֻ֖ל  עָלַ֣י  נַפְשִֽׁי ׃\n",
       "'"
      ],
      "text/latex": [
       "'אִם ־לֹ֤א  שִׁוִּ֨יתִי  ׀ וְ דֹומַ֗מְתִּי  נַ֫פְשִׁ֥י  כְּ֭ גָמֻל  עֲלֵ֣י  אִמֹּ֑ו  כַּ  גָּמֻ֖ל  עָלַ֣י  נַפְשִֽׁי ׃\n",
       "'"
      ],
      "text/markdown": [
       "'אִם ־לֹ֤א  שִׁוִּ֨יתִי  ׀ וְ דֹומַ֗מְתִּי  נַ֫פְשִׁ֥י  כְּ֭ גָמֻל  עֲלֵ֣י  אִמֹּ֑ו  כַּ  גָּמֻ֖ל  עָלַ֣י  נַפְשִֽׁי ׃\n",
       "'"
      ],
      "text/plain": [
       "[1] \"אִם ־לֹ֤א  שִׁוִּ֨יתִי  ׀ וְ דֹומַ֗מְתִּי  נַ֫פְשִׁ֥י  כְּ֭ גָמֻל  עֲלֵ֣י  אִמֹּ֑ו  כַּ  גָּמֻ֖ל  עָלַ֣י  נַפְשִֽׁי ׃\\n\""
      ]
     },
     "execution_count": 47,
     "metadata": {},
     "output_type": "execute_result"
    }
   ],
   "source": [
    "words = which(etcbc$oid %in% word_ids)\n",
    "gsub('׃', '׃\\n', \n",
    "    paste(etcbc$g_word_utf8[words], etcbc$trailer_utf8[words], collapse='')\n",
    ")"
   ]
  },
  {
   "cell_type": "markdown",
   "metadata": {},
   "source": [
    "Let us get the words and text of an arbitrary passage, say Psalmi 131:2"
   ]
  },
  {
   "cell_type": "code",
   "execution_count": 48,
   "metadata": {
    "collapsed": false
   },
   "outputs": [
    {
     "data": {
      "text/html": [
       "1123436"
      ],
      "text/latex": [
       "1123436"
      ],
      "text/markdown": [
       "1123436"
      ],
      "text/plain": [
       "[1] 1123436"
      ]
     },
     "execution_count": 48,
     "metadata": {},
     "output_type": "execute_result"
    },
    {
     "data": {
      "text/html": [
       "<ol class=list-inline>\n",
       "\t<li>1123438</li>\n",
       "\t<li>1123445</li>\n",
       "\t<li>1123448</li>\n",
       "\t<li>1123451</li>\n",
       "\t<li>1123456</li>\n",
       "\t<li>1123459</li>\n",
       "\t<li>1123463</li>\n",
       "\t<li>1123466</li>\n",
       "\t<li>1123467</li>\n",
       "\t<li>1123469</li>\n",
       "\t<li>1123471</li>\n",
       "\t<li>1123476</li>\n",
       "\t<li>1123477</li>\n",
       "\t<li>1123478</li>\n",
       "\t<li>1123480</li>\n",
       "</ol>\n"
      ],
      "text/latex": [
       "\\begin{enumerate*}\n",
       "\\item 1123438\n",
       "\\item 1123445\n",
       "\\item 1123448\n",
       "\\item 1123451\n",
       "\\item 1123456\n",
       "\\item 1123459\n",
       "\\item 1123463\n",
       "\\item 1123466\n",
       "\\item 1123467\n",
       "\\item 1123469\n",
       "\\item 1123471\n",
       "\\item 1123476\n",
       "\\item 1123477\n",
       "\\item 1123478\n",
       "\\item 1123480\n",
       "\\end{enumerate*}\n"
      ],
      "text/markdown": [
       "1. 1123438\n",
       "2. 1123445\n",
       "3. 1123448\n",
       "4. 1123451\n",
       "5. 1123456\n",
       "6. 1123459\n",
       "7. 1123463\n",
       "8. 1123466\n",
       "9. 1123467\n",
       "10. 1123469\n",
       "11. 1123471\n",
       "12. 1123476\n",
       "13. 1123477\n",
       "14. 1123478\n",
       "15. 1123480\n",
       "\n",
       "\n"
      ],
      "text/plain": [
       " [1] 1123438 1123445 1123448 1123451 1123456 1123459 1123463 1123466 1123467\n",
       "[10] 1123469 1123471 1123476 1123477 1123478 1123480"
      ]
     },
     "execution_count": 48,
     "metadata": {},
     "output_type": "execute_result"
    },
    {
     "data": {
      "text/html": [
       "'אִם ־לֹ֤א  שִׁוִּ֨יתִי  ׀ וְ דֹומַ֗מְתִּי  נַ֫פְשִׁ֥י  כְּ֭ גָמֻל  עֲלֵ֣י  אִמֹּ֑ו  כַּ  גָּמֻ֖ל  עָלַ֣י  נַפְשִֽׁי ׃\n",
       "'"
      ],
      "text/latex": [
       "'אִם ־לֹ֤א  שִׁוִּ֨יתִי  ׀ וְ דֹומַ֗מְתִּי  נַ֫פְשִׁ֥י  כְּ֭ גָמֻל  עֲלֵ֣י  אִמֹּ֑ו  כַּ  גָּמֻ֖ל  עָלַ֣י  נַפְשִֽׁי ׃\n",
       "'"
      ],
      "text/markdown": [
       "'אִם ־לֹ֤א  שִׁוִּ֨יתִי  ׀ וְ דֹומַ֗מְתִּי  נַ֫פְשִׁ֥י  כְּ֭ גָמֻל  עֲלֵ֣י  אִמֹּ֑ו  כַּ  גָּמֻ֖ל  עָלַ֣י  נַפְשִֽׁי ׃\n",
       "'"
      ],
      "text/plain": [
       "[1] \"אִם ־לֹ֤א  שִׁוִּ֨יתִי  ׀ וְ דֹומַ֗מְתִּי  נַ֫פְשִׁ֥י  כְּ֭ גָמֻל  עֲלֵ֣י  אִמֹּ֑ו  כַּ  גָּמֻ֖ל  עָלַ֣י  נַפְשִֽׁי ׃\\n\""
      ]
     },
     "execution_count": 48,
     "metadata": {},
     "output_type": "execute_result"
    }
   ],
   "source": [
    "verse_id = etcbc$oid[etcbc$otype == 'verse' & etcbc$book == 'Psalmi' & etcbc$chapter == 131 & etcbc$verse == 2]\n",
    "verse_id\n",
    "word_ids = etcbc$oid[etcbc$otype=='word' & etcbc$in.verse == verse_id]\n",
    "word_ids\n",
    "words = which(etcbc$oid %in% word_ids)\n",
    "gsub('׃', '׃\\n', \n",
    "    paste(etcbc$g_word_utf8[words], etcbc$trailer_utf8[words], collapse='')\n",
    ")"
   ]
  },
  {
   "cell_type": "markdown",
   "metadata": {},
   "source": [
    "Now let us organize this in two functions: one that returns the verse object given a passage, and one that prints the texts of the words in a given object."
   ]
  },
  {
   "cell_type": "code",
   "execution_count": 51,
   "metadata": {
    "collapsed": false
   },
   "outputs": [],
   "source": [
    "object2text = function(oid) {\n",
    "    otype = etcbc$otype[etcbc$oid == oid]\n",
    "    word_ids = eval(parse(text=paste(\"etcbc$oid[etcbc$otype=='word' & etcbc$in.\", otype, '==oid]', sep='')))\n",
    "    words = which(etcbc$oid %in% word_ids)\n",
    "    return(gsub('׃', '׃\\n',  \n",
    "        paste(etcbc$g_word_utf8[words], etcbc$trailer_utf8[words], collapse='')\n",
    "    ))\n",
    "}\n",
    "\n",
    "verse2object = function(book, chapter, verse) {\n",
    "    return(etcbc$oid[etcbc$otype == 'verse' & etcbc$book == book & etcbc$chapter == chapter & etcbc$verse == verse])\n",
    "}\n",
    "verse2text = function(book, chapter, verse) {\n",
    "    return(object2text(verse2object(book, chapter, verse)))\n",
    "}\n",
    "chapter2object = function(book, chapter) {\n",
    "    return(etcbc$oid[etcbc$otype == 'chapter' & etcbc$book == book & etcbc$chapter == chapter])\n",
    "}\n",
    "chapter2text = function(book, chapter) {\n",
    "    return(object2text(chapter2object(book, chapter)))\n",
    "}"
   ]
  },
  {
   "cell_type": "code",
   "execution_count": 52,
   "metadata": {
    "collapsed": false
   },
   "outputs": [
    {
     "name": "stdout",
     "output_type": "stream",
     "text": [
      "אִם ־לֹ֤א  שִׁוִּ֨יתִי  ׀ וְ דֹומַ֗מְתִּי  נַ֫פְשִׁ֥י  כְּ֭ גָמֻל  עֲלֵ֣י  אִמֹּ֑ו  כַּ  גָּמֻ֖ל  עָלַ֣י  נַפְשִֽׁי ׃\n"
     ]
    }
   ],
   "source": [
    "cat(verse2text('Psalmi', 131, 2))"
   ]
  },
  {
   "cell_type": "code",
   "execution_count": 53,
   "metadata": {
    "collapsed": false
   },
   "outputs": [
    {
     "name": "stdout",
     "output_type": "stream",
     "text": [
      "שִׁ֥יר  הַֽ מַּֽעֲלֹ֗ות  לְ דָ֫וִ֥ד  יְהוָ֤ה  ׀ לֹא ־גָבַ֣הּ  לִ֭בִּי  וְ לֹא ־רָמ֣וּ  עֵינַ֑י  וְ לֹֽא ־הִלַּ֓כְתִּי  ׀ בִּ גְדֹלֹ֖ות  וּ בְ נִפְלָאֹ֣ות  מִמֶּֽנִּי ׃\n",
      "אִם ־לֹ֤א  שִׁוִּ֨יתִי  ׀ וְ דֹומַ֗מְתִּי  נַ֫פְשִׁ֥י  כְּ֭ גָמֻל  עֲלֵ֣י  אִמֹּ֑ו  כַּ  גָּמֻ֖ל  עָלַ֣י  נַפְשִֽׁי ׃\n",
      "יַחֵ֣ל  יִ֝שְׂרָאֵל  אֶל ־יְהוָ֑ה  מֵֽ֝ עַתָּ֗ה  וְ עַד ־עֹולָֽם ׃\n"
     ]
    }
   ],
   "source": [
    "cat(chapter2text('Psalmi', 131))"
   ]
  }
 ],
 "metadata": {
  "kernelspec": {
   "display_name": "R",
   "language": "",
   "name": "ir"
  },
  "language_info": {
   "codemirror_mode": "r",
   "file_extension": ".r",
   "mimetype": "text/x-r-source",
   "name": "R",
   "pygments_lexer": "r",
   "version": "3.2.2"
  }
 },
 "nbformat": 4,
 "nbformat_minor": 0
}
