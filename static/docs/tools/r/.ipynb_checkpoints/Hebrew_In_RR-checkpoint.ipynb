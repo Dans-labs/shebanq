{
 "cells": [
  {
   "cell_type": "markdown",
   "metadata": {},
   "source": [
    "This notebook contains the R instructions to load the big ETCBC4b export and save it in the much more compact .rds format.\n",
    "\n",
    "Note that we have to ignore quotes and comment signs!"
   ]
  },
  {
   "cell_type": "markdown",
   "metadata": {},
   "source": [
    "# Feature data"
   ]
  },
  {
   "cell_type": "code",
   "execution_count": 1,
   "metadata": {
    "collapsed": false
   },
   "outputs": [
    {
     "data": {
      "text/html": [
       "<ol class=list-inline>\n",
       "\t<li>1436858</li>\n",
       "\t<li>86</li>\n",
       "</ol>\n"
      ],
      "text/latex": [
       "\\begin{enumerate*}\n",
       "\\item 1436858\n",
       "\\item 86\n",
       "\\end{enumerate*}\n"
      ],
      "text/markdown": [
       "1. 1436858\n",
       "2. 86\n",
       "\n",
       "\n"
      ],
      "text/plain": [
       "[1] 1436858      86"
      ]
     },
     "execution_count": 1,
     "metadata": {},
     "output_type": "execute_result"
    }
   ],
   "source": [
    "etcbc = read.table(\n",
    "    '/Users/dirk/SURFdrive/laf-fabric-data/r/etcbc4b.txt', \n",
    "    sep=\"\\t\", \n",
    "    header=TRUE, \n",
    "    comment.char=\"\",\n",
    "    quote=\"\",\n",
    "    as.is = TRUE,\n",
    ")\n",
    "dim(etcbc)"
   ]
  },
  {
   "cell_type": "code",
   "execution_count": 2,
   "metadata": {
    "collapsed": true
   },
   "outputs": [],
   "source": [
    "saveRDS(\n",
    "    object=etcbc, \n",
    "    file='/Users/dirk/SURFdrive/laf-fabric-data/r/etcbc4b.rds'\n",
    ")"
   ]
  },
  {
   "cell_type": "code",
   "execution_count": 12,
   "metadata": {
    "collapsed": false
   },
   "outputs": [
    {
     "data": {
      "text/html": [
       "<ol class=list-inline>\n",
       "\t<li>1436858</li>\n",
       "\t<li>86</li>\n",
       "</ol>\n"
      ],
      "text/latex": [
       "\\begin{enumerate*}\n",
       "\\item 1436858\n",
       "\\item 86\n",
       "\\end{enumerate*}\n"
      ],
      "text/markdown": [
       "1. 1436858\n",
       "2. 86\n",
       "\n",
       "\n"
      ],
      "text/plain": [
       "[1] 1436858      86"
      ]
     },
     "execution_count": 12,
     "metadata": {},
     "output_type": "execute_result"
    }
   ],
   "source": [
    "etcbc = readRDS(\n",
    "    file='/Users/dirk/SURFdrive/laf-fabric-data/r/etcbc4b.rds'\n",
    ")\n",
    "dim(etcbc)"
   ]
  },
  {
   "cell_type": "markdown",
   "metadata": {},
   "source": [
    "# Level data"
   ]
  },
  {
   "cell_type": "code",
   "execution_count": 4,
   "metadata": {
    "collapsed": false
   },
   "outputs": [
    {
     "data": {
      "text/html": [
       "<ol class=list-inline>\n",
       "\t<li>1436858</li>\n",
       "\t<li>13</li>\n",
       "</ol>\n"
      ],
      "text/latex": [
       "\\begin{enumerate*}\n",
       "\\item 1436858\n",
       "\\item 13\n",
       "\\end{enumerate*}\n"
      ],
      "text/markdown": [
       "1. 1436858\n",
       "2. 13\n",
       "\n",
       "\n"
      ],
      "text/plain": [
       "[1] 1436858      13"
      ]
     },
     "execution_count": 4,
     "metadata": {},
     "output_type": "execute_result"
    }
   ],
   "source": [
    "etcbc_l = read.table(\n",
    "    '/Users/dirk/SURFdrive/laf-fabric-data/r/etcbc4b_L.txt', \n",
    "    sep=\"\\t\", \n",
    "    header=TRUE, \n",
    "    comment.char=\"\",\n",
    "    quote=\"\",\n",
    "    as.is = TRUE,\n",
    ")\n",
    "dim(etcbc_l)"
   ]
  },
  {
   "cell_type": "code",
   "execution_count": 5,
   "metadata": {
    "collapsed": true
   },
   "outputs": [],
   "source": [
    "saveRDS(\n",
    "    object=etcbc_l, \n",
    "    file='/Users/dirk/SURFdrive/laf-fabric-data/r/etcbc4b_L.rds'\n",
    ")"
   ]
  },
  {
   "cell_type": "code",
   "execution_count": 6,
   "metadata": {
    "collapsed": false
   },
   "outputs": [
    {
     "data": {
      "text/html": [
       "<ol class=list-inline>\n",
       "\t<li>1436858</li>\n",
       "\t<li>13</li>\n",
       "</ol>\n"
      ],
      "text/latex": [
       "\\begin{enumerate*}\n",
       "\\item 1436858\n",
       "\\item 13\n",
       "\\end{enumerate*}\n"
      ],
      "text/markdown": [
       "1. 1436858\n",
       "2. 13\n",
       "\n",
       "\n"
      ],
      "text/plain": [
       "[1] 1436858      13"
      ]
     },
     "execution_count": 6,
     "metadata": {},
     "output_type": "execute_result"
    }
   ],
   "source": [
    "etcbc_l = readRDS(\n",
    "    file='/Users/dirk/SURFdrive/laf-fabric-data/r/etcbc4b_L.rds'\n",
    ")\n",
    "dim(etcbc_l)"
   ]
  },
  {
   "cell_type": "code",
   "execution_count": 11,
   "metadata": {
    "collapsed": false
   },
   "outputs": [
    {
     "data": {
      "text/html": [
       "<table>\n",
       "<thead><tr><th></th><th scope=col>oid</th><th scope=col>otype</th><th scope=col>subphrase</th><th scope=col>phrase_atom</th><th scope=col>phrase</th><th scope=col>clause_atom</th><th scope=col>clause</th><th scope=col>sentence_atom</th><th scope=col>sentence</th><th scope=col>half_verse</th><th scope=col>verse</th><th scope=col>chapter</th><th scope=col>book</th></tr></thead>\n",
       "<tbody>\n",
       "\t<tr><th scope=row>1</th><td>1</td><td>book</td><td>NA</td><td>NA</td><td>NA</td><td>NA</td><td>NA</td><td>NA</td><td>NA</td><td>NA</td><td>NA</td><td>NA</td><td>NA</td></tr>\n",
       "\t<tr><th scope=row>2</th><td>2</td><td>chapter</td><td>NA</td><td>NA</td><td>NA</td><td>NA</td><td>NA</td><td>NA</td><td>NA</td><td>NA</td><td>NA</td><td>NA</td><td>1367497</td></tr>\n",
       "\t<tr><th scope=row>3</th><td>3</td><td>verse</td><td>NA</td><td>NA</td><td>NA</td><td>NA</td><td>NA</td><td>NA</td><td>NA</td><td>NA</td><td>NA</td><td>1367536</td><td>1367497</td></tr>\n",
       "\t<tr><th scope=row>4</th><td>11</td><td>sentence</td><td>NA</td><td>NA</td><td>NA</td><td>NA</td><td>NA</td><td>NA</td><td>NA</td><td>NA</td><td>1413645</td><td>1367536</td><td>1367497</td></tr>\n",
       "\t<tr><th scope=row>5</th><td>10</td><td>sentence_atom</td><td>NA</td><td>NA</td><td>NA</td><td>NA</td><td>NA</td><td>NA</td><td>1125793</td><td>NA</td><td>1413645</td><td>1367536</td><td>1367497</td></tr>\n",
       "\t<tr><th scope=row>6</th><td>9</td><td>clause</td><td>NA</td><td>NA</td><td>NA</td><td>NA</td><td>NA</td><td>1189379</td><td>1125793</td><td>NA</td><td>1413645</td><td>1367536</td><td>1367497</td></tr>\n",
       "\t<tr><th scope=row>7</th><td>8</td><td>clause_atom</td><td>NA</td><td>NA</td><td>NA</td><td>NA</td><td>426568</td><td>1189379</td><td>1125793</td><td>NA</td><td>1413645</td><td>1367536</td><td>1367497</td></tr>\n",
       "\t<tr><th scope=row>8</th><td>4</td><td>half_verse</td><td>NA</td><td>NA</td><td>NA</td><td>NA</td><td>NA</td><td>NA</td><td>NA</td><td>NA</td><td>1413645</td><td>1367536</td><td>1367497</td></tr>\n",
       "\t<tr><th scope=row>9</th><td>7</td><td>phrase</td><td>NA</td><td>NA</td><td>NA</td><td>514579</td><td>426568</td><td>1189379</td><td>1125793</td><td>1368465</td><td>1413645</td><td>1367536</td><td>1367497</td></tr>\n",
       "\t<tr><th scope=row>10</th><td>6</td><td>phrase_atom</td><td>NA</td><td>NA</td><td>605133</td><td>514579</td><td>426568</td><td>1189379</td><td>1125793</td><td>1368465</td><td>1413645</td><td>1367536</td><td>1367497</td></tr>\n",
       "\t<tr><th scope=row>11</th><td>5</td><td>word</td><td>NA</td><td>858294</td><td>605133</td><td>514579</td><td>426568</td><td>1189379</td><td>1125793</td><td>1368465</td><td>1413645</td><td>1367536</td><td>1367497</td></tr>\n",
       "\t<tr><th scope=row>12</th><td>12</td><td>word</td><td>NA</td><td>858294</td><td>605133</td><td>514579</td><td>426568</td><td>1189379</td><td>1125793</td><td>1368465</td><td>1413645</td><td>1367536</td><td>1367497</td></tr>\n",
       "\t<tr><th scope=row>13</th><td>15</td><td>phrase</td><td>NA</td><td>NA</td><td>NA</td><td>514579</td><td>426568</td><td>1189379</td><td>1125793</td><td>1368465</td><td>1413645</td><td>1367536</td><td>1367497</td></tr>\n",
       "\t<tr><th scope=row>14</th><td>14</td><td>phrase_atom</td><td>NA</td><td>NA</td><td>605134</td><td>514579</td><td>426568</td><td>1189379</td><td>1125793</td><td>1368465</td><td>1413645</td><td>1367536</td><td>1367497</td></tr>\n",
       "\t<tr><th scope=row>15</th><td>13</td><td>word</td><td>NA</td><td>858295</td><td>605134</td><td>514579</td><td>426568</td><td>1189379</td><td>1125793</td><td>1368465</td><td>1413645</td><td>1367536</td><td>1367497</td></tr>\n",
       "\t<tr><th scope=row>16</th><td>18</td><td>phrase</td><td>NA</td><td>NA</td><td>NA</td><td>514579</td><td>426568</td><td>1189379</td><td>1125793</td><td>1368465</td><td>1413645</td><td>1367536</td><td>1367497</td></tr>\n",
       "\t<tr><th scope=row>17</th><td>17</td><td>phrase_atom</td><td>NA</td><td>NA</td><td>605135</td><td>514579</td><td>426568</td><td>1189379</td><td>1125793</td><td>1368465</td><td>1413645</td><td>1367536</td><td>1367497</td></tr>\n",
       "\t<tr><th scope=row>18</th><td>16</td><td>word</td><td>NA</td><td>858296</td><td>605135</td><td>514579</td><td>426568</td><td>1189379</td><td>1125793</td><td>1368465</td><td>1413645</td><td>1367536</td><td>1367497</td></tr>\n",
       "\t<tr><th scope=row>19</th><td>19</td><td>half_verse</td><td>NA</td><td>NA</td><td>NA</td><td>NA</td><td>NA</td><td>NA</td><td>NA</td><td>NA</td><td>1413645</td><td>1367536</td><td>1367497</td></tr>\n",
       "\t<tr><th scope=row>20</th><td>22</td><td>phrase</td><td>NA</td><td>NA</td><td>NA</td><td>514579</td><td>426568</td><td>1189379</td><td>1125793</td><td>1368466</td><td>1413645</td><td>1367536</td><td>1367497</td></tr>\n",
       "\t<tr><th scope=row>21</th><td>21</td><td>phrase_atom</td><td>NA</td><td>NA</td><td>605136</td><td>514579</td><td>426568</td><td>1189379</td><td>1125793</td><td>1368466</td><td>1413645</td><td>1367536</td><td>1367497</td></tr>\n",
       "\t<tr><th scope=row>22</th><td>25</td><td>subphrase</td><td>NA</td><td>858297</td><td>605136</td><td>514579</td><td>426568</td><td>1189379</td><td>1125793</td><td>1368466</td><td>1413645</td><td>1367536</td><td>1367497</td></tr>\n",
       "\t<tr><th scope=row>23</th><td>20</td><td>word</td><td>1253733</td><td>858297</td><td>605136</td><td>514579</td><td>426568</td><td>1189379</td><td>1125793</td><td>1368466</td><td>1413645</td><td>1367536</td><td>1367497</td></tr>\n",
       "\t<tr><th scope=row>24</th><td>23</td><td>word</td><td>1253733</td><td>858297</td><td>605136</td><td>514579</td><td>426568</td><td>1189379</td><td>1125793</td><td>1368466</td><td>1413645</td><td>1367536</td><td>1367497</td></tr>\n",
       "\t<tr><th scope=row>25</th><td>24</td><td>word</td><td>1253733</td><td>858297</td><td>605136</td><td>514579</td><td>426568</td><td>1189379</td><td>1125793</td><td>1368466</td><td>1413645</td><td>1367536</td><td>1367497</td></tr>\n",
       "\t<tr><th scope=row>26</th><td>26</td><td>word</td><td>NA</td><td>858297</td><td>605136</td><td>514579</td><td>426568</td><td>1189379</td><td>1125793</td><td>1368466</td><td>1413645</td><td>1367536</td><td>1367497</td></tr>\n",
       "\t<tr><th scope=row>27</th><td>30</td><td>subphrase</td><td>NA</td><td>858297</td><td>605136</td><td>514579</td><td>426568</td><td>1189379</td><td>1125793</td><td>1368466</td><td>1413645</td><td>1367536</td><td>1367497</td></tr>\n",
       "\t<tr><th scope=row>28</th><td>27</td><td>word</td><td>1253734</td><td>858297</td><td>605136</td><td>514579</td><td>426568</td><td>1189379</td><td>1125793</td><td>1368466</td><td>1413645</td><td>1367536</td><td>1367497</td></tr>\n",
       "\t<tr><th scope=row>29</th><td>28</td><td>word</td><td>1253734</td><td>858297</td><td>605136</td><td>514579</td><td>426568</td><td>1189379</td><td>1125793</td><td>1368466</td><td>1413645</td><td>1367536</td><td>1367497</td></tr>\n",
       "\t<tr><th scope=row>30</th><td>29</td><td>word</td><td>1253734</td><td>858297</td><td>605136</td><td>514579</td><td>426568</td><td>1189379</td><td>1125793</td><td>1368466</td><td>1413645</td><td>1367536</td><td>1367497</td></tr>\n",
       "</tbody>\n",
       "</table>\n"
      ],
      "text/latex": [
       "\\begin{tabular}{r|lllllllllllll}\n",
       "  & oid & otype & subphrase & phrase_atom & phrase & clause_atom & clause & sentence_atom & sentence & half_verse & verse & chapter & book\\\\\n",
       "\\hline\n",
       "\t1 & 1 & book & NA & NA & NA & NA & NA & NA & NA & NA & NA & NA & NA\\\\\n",
       "\t2 & 2 & chapter & NA & NA & NA & NA & NA & NA & NA & NA & NA & NA & 1367497\\\\\n",
       "\t3 & 3 & verse & NA & NA & NA & NA & NA & NA & NA & NA & NA & 1367536 & 1367497\\\\\n",
       "\t4 & 11 & sentence & NA & NA & NA & NA & NA & NA & NA & NA & 1413645 & 1367536 & 1367497\\\\\n",
       "\t5 & 10 & sentence_atom & NA & NA & NA & NA & NA & NA & 1125793 & NA & 1413645 & 1367536 & 1367497\\\\\n",
       "\t6 & 9 & clause & NA & NA & NA & NA & NA & 1189379 & 1125793 & NA & 1413645 & 1367536 & 1367497\\\\\n",
       "\t7 & 8 & clause_atom & NA & NA & NA & NA & 426568 & 1189379 & 1125793 & NA & 1413645 & 1367536 & 1367497\\\\\n",
       "\t8 & 4 & half_verse & NA & NA & NA & NA & NA & NA & NA & NA & 1413645 & 1367536 & 1367497\\\\\n",
       "\t9 & 7 & phrase & NA & NA & NA & 514579 & 426568 & 1189379 & 1125793 & 1368465 & 1413645 & 1367536 & 1367497\\\\\n",
       "\t10 & 6 & phrase_atom & NA & NA & 605133 & 514579 & 426568 & 1189379 & 1125793 & 1368465 & 1413645 & 1367536 & 1367497\\\\\n",
       "\t11 & 5 & word & NA & 858294 & 605133 & 514579 & 426568 & 1189379 & 1125793 & 1368465 & 1413645 & 1367536 & 1367497\\\\\n",
       "\t12 & 12 & word & NA & 858294 & 605133 & 514579 & 426568 & 1189379 & 1125793 & 1368465 & 1413645 & 1367536 & 1367497\\\\\n",
       "\t13 & 15 & phrase & NA & NA & NA & 514579 & 426568 & 1189379 & 1125793 & 1368465 & 1413645 & 1367536 & 1367497\\\\\n",
       "\t14 & 14 & phrase_atom & NA & NA & 605134 & 514579 & 426568 & 1189379 & 1125793 & 1368465 & 1413645 & 1367536 & 1367497\\\\\n",
       "\t15 & 13 & word & NA & 858295 & 605134 & 514579 & 426568 & 1189379 & 1125793 & 1368465 & 1413645 & 1367536 & 1367497\\\\\n",
       "\t16 & 18 & phrase & NA & NA & NA & 514579 & 426568 & 1189379 & 1125793 & 1368465 & 1413645 & 1367536 & 1367497\\\\\n",
       "\t17 & 17 & phrase_atom & NA & NA & 605135 & 514579 & 426568 & 1189379 & 1125793 & 1368465 & 1413645 & 1367536 & 1367497\\\\\n",
       "\t18 & 16 & word & NA & 858296 & 605135 & 514579 & 426568 & 1189379 & 1125793 & 1368465 & 1413645 & 1367536 & 1367497\\\\\n",
       "\t19 & 19 & half_verse & NA & NA & NA & NA & NA & NA & NA & NA & 1413645 & 1367536 & 1367497\\\\\n",
       "\t20 & 22 & phrase & NA & NA & NA & 514579 & 426568 & 1189379 & 1125793 & 1368466 & 1413645 & 1367536 & 1367497\\\\\n",
       "\t21 & 21 & phrase_atom & NA & NA & 605136 & 514579 & 426568 & 1189379 & 1125793 & 1368466 & 1413645 & 1367536 & 1367497\\\\\n",
       "\t22 & 25 & subphrase & NA & 858297 & 605136 & 514579 & 426568 & 1189379 & 1125793 & 1368466 & 1413645 & 1367536 & 1367497\\\\\n",
       "\t23 & 20 & word & 1253733 & 858297 & 605136 & 514579 & 426568 & 1189379 & 1125793 & 1368466 & 1413645 & 1367536 & 1367497\\\\\n",
       "\t24 & 23 & word & 1253733 & 858297 & 605136 & 514579 & 426568 & 1189379 & 1125793 & 1368466 & 1413645 & 1367536 & 1367497\\\\\n",
       "\t25 & 24 & word & 1253733 & 858297 & 605136 & 514579 & 426568 & 1189379 & 1125793 & 1368466 & 1413645 & 1367536 & 1367497\\\\\n",
       "\t26 & 26 & word & NA & 858297 & 605136 & 514579 & 426568 & 1189379 & 1125793 & 1368466 & 1413645 & 1367536 & 1367497\\\\\n",
       "\t27 & 30 & subphrase & NA & 858297 & 605136 & 514579 & 426568 & 1189379 & 1125793 & 1368466 & 1413645 & 1367536 & 1367497\\\\\n",
       "\t28 & 27 & word & 1253734 & 858297 & 605136 & 514579 & 426568 & 1189379 & 1125793 & 1368466 & 1413645 & 1367536 & 1367497\\\\\n",
       "\t29 & 28 & word & 1253734 & 858297 & 605136 & 514579 & 426568 & 1189379 & 1125793 & 1368466 & 1413645 & 1367536 & 1367497\\\\\n",
       "\t30 & 29 & word & 1253734 & 858297 & 605136 & 514579 & 426568 & 1189379 & 1125793 & 1368466 & 1413645 & 1367536 & 1367497\\\\\n",
       "\\end{tabular}\n"
      ],
      "text/plain": [
       "   oid         otype subphrase phrase_atom phrase clause_atom clause\n",
       "1    1          book        NA          NA     NA          NA     NA\n",
       "2    2       chapter        NA          NA     NA          NA     NA\n",
       "3    3         verse        NA          NA     NA          NA     NA\n",
       "4   11      sentence        NA          NA     NA          NA     NA\n",
       "5   10 sentence_atom        NA          NA     NA          NA     NA\n",
       "6    9        clause        NA          NA     NA          NA     NA\n",
       "7    8   clause_atom        NA          NA     NA          NA 426568\n",
       "8    4    half_verse        NA          NA     NA          NA     NA\n",
       "9    7        phrase        NA          NA     NA      514579 426568\n",
       "10   6   phrase_atom        NA          NA 605133      514579 426568\n",
       "11   5          word        NA      858294 605133      514579 426568\n",
       "12  12          word        NA      858294 605133      514579 426568\n",
       "13  15        phrase        NA          NA     NA      514579 426568\n",
       "14  14   phrase_atom        NA          NA 605134      514579 426568\n",
       "15  13          word        NA      858295 605134      514579 426568\n",
       "16  18        phrase        NA          NA     NA      514579 426568\n",
       "17  17   phrase_atom        NA          NA 605135      514579 426568\n",
       "18  16          word        NA      858296 605135      514579 426568\n",
       "19  19    half_verse        NA          NA     NA          NA     NA\n",
       "20  22        phrase        NA          NA     NA      514579 426568\n",
       "21  21   phrase_atom        NA          NA 605136      514579 426568\n",
       "22  25     subphrase        NA      858297 605136      514579 426568\n",
       "23  20          word   1253733      858297 605136      514579 426568\n",
       "24  23          word   1253733      858297 605136      514579 426568\n",
       "25  24          word   1253733      858297 605136      514579 426568\n",
       "26  26          word        NA      858297 605136      514579 426568\n",
       "27  30     subphrase        NA      858297 605136      514579 426568\n",
       "28  27          word   1253734      858297 605136      514579 426568\n",
       "29  28          word   1253734      858297 605136      514579 426568\n",
       "30  29          word   1253734      858297 605136      514579 426568\n",
       "   sentence_atom sentence half_verse   verse chapter    book\n",
       "1             NA       NA         NA      NA      NA      NA\n",
       "2             NA       NA         NA      NA      NA 1367497\n",
       "3             NA       NA         NA      NA 1367536 1367497\n",
       "4             NA       NA         NA 1413645 1367536 1367497\n",
       "5             NA  1125793         NA 1413645 1367536 1367497\n",
       "6        1189379  1125793         NA 1413645 1367536 1367497\n",
       "7        1189379  1125793         NA 1413645 1367536 1367497\n",
       "8             NA       NA         NA 1413645 1367536 1367497\n",
       "9        1189379  1125793    1368465 1413645 1367536 1367497\n",
       "10       1189379  1125793    1368465 1413645 1367536 1367497\n",
       "11       1189379  1125793    1368465 1413645 1367536 1367497\n",
       "12       1189379  1125793    1368465 1413645 1367536 1367497\n",
       "13       1189379  1125793    1368465 1413645 1367536 1367497\n",
       "14       1189379  1125793    1368465 1413645 1367536 1367497\n",
       "15       1189379  1125793    1368465 1413645 1367536 1367497\n",
       "16       1189379  1125793    1368465 1413645 1367536 1367497\n",
       "17       1189379  1125793    1368465 1413645 1367536 1367497\n",
       "18       1189379  1125793    1368465 1413645 1367536 1367497\n",
       "19            NA       NA         NA 1413645 1367536 1367497\n",
       "20       1189379  1125793    1368466 1413645 1367536 1367497\n",
       "21       1189379  1125793    1368466 1413645 1367536 1367497\n",
       "22       1189379  1125793    1368466 1413645 1367536 1367497\n",
       "23       1189379  1125793    1368466 1413645 1367536 1367497\n",
       "24       1189379  1125793    1368466 1413645 1367536 1367497\n",
       "25       1189379  1125793    1368466 1413645 1367536 1367497\n",
       "26       1189379  1125793    1368466 1413645 1367536 1367497\n",
       "27       1189379  1125793    1368466 1413645 1367536 1367497\n",
       "28       1189379  1125793    1368466 1413645 1367536 1367497\n",
       "29       1189379  1125793    1368466 1413645 1367536 1367497\n",
       "30       1189379  1125793    1368466 1413645 1367536 1367497"
      ]
     },
     "execution_count": 11,
     "metadata": {},
     "output_type": "execute_result"
    }
   ],
   "source": [
    "head(etcbc_l, n=30)"
   ]
  },
  {
   "cell_type": "markdown",
   "metadata": {},
   "source": [
    "Let us get the words from the first verse:"
   ]
  },
  {
   "cell_type": "code",
   "execution_count": 13,
   "metadata": {
    "collapsed": false
   },
   "outputs": [],
   "source": [
    "word_ids = etcbc_l$oid[etcbc_l$otype=='word' & !is.na(etcbc_l$verse) & etcbc_l$verse==1413645]"
   ]
  },
  {
   "cell_type": "markdown",
   "metadata": {},
   "source": [
    "Now the *text* of the first verse."
   ]
  },
  {
   "cell_type": "code",
   "execution_count": 25,
   "metadata": {
    "collapsed": false
   },
   "outputs": [
    {
     "data": {
      "text/html": [
       "'בְּ רֵאשִׁ֖ית  בָּרָ֣א  אֱלֹהִ֑ים  אֵ֥ת  הַ שָּׁמַ֖יִם  וְ אֵ֥ת  הָ אָֽרֶץ ׃'"
      ],
      "text/latex": [
       "'בְּ רֵאשִׁ֖ית  בָּרָ֣א  אֱלֹהִ֑ים  אֵ֥ת  הַ שָּׁמַ֖יִם  וְ אֵ֥ת  הָ אָֽרֶץ ׃'"
      ],
      "text/markdown": [
       "'בְּ רֵאשִׁ֖ית  בָּרָ֣א  אֱלֹהִ֑ים  אֵ֥ת  הַ שָּׁמַ֖יִם  וְ אֵ֥ת  הָ אָֽרֶץ ׃'"
      ],
      "text/plain": [
       "[1] \"בְּ רֵאשִׁ֖ית  בָּרָ֣א  אֱלֹהִ֑ים  אֵ֥ת  הַ שָּׁמַ֖יִם  וְ אֵ֥ת  הָ אָֽרֶץ ׃\""
      ]
     },
     "execution_count": 25,
     "metadata": {},
     "output_type": "execute_result"
    }
   ],
   "source": [
    "verse1 = which(etcbc$oid %in% word_ids)\n",
    "paste(etcbc$g_word_utf8[verse1], etcbc$trailer_utf8[verse1], collapse='')"
   ]
  },
  {
   "cell_type": "markdown",
   "metadata": {},
   "source": [
    "Let us get the words of an arbitrary passage, say Psalmi 131:2"
   ]
  },
  {
   "cell_type": "code",
   "execution_count": 26,
   "metadata": {
    "collapsed": false
   },
   "outputs": [
    {
     "data": {
      "text/html": [
       "1034304"
      ],
      "text/latex": [
       "1034304"
      ],
      "text/markdown": [
       "1034304"
      ],
      "text/plain": [
       "[1] 1034304"
      ]
     },
     "execution_count": 26,
     "metadata": {},
     "output_type": "execute_result"
    }
   ],
   "source": [
    "book_id = etcbc$oid[etcbc$otype == 'book' & etcbc$book == 'Psalmi']\n",
    "book_id"
   ]
  },
  {
   "cell_type": "code",
   "execution_count": null,
   "metadata": {
    "collapsed": true
   },
   "outputs": [],
   "source": [
    "psalms = etcbc_l$oid[]"
   ]
  }
 ],
 "metadata": {
  "kernelspec": {
   "display_name": "R",
   "language": "",
   "name": "ir"
  },
  "language_info": {
   "codemirror_mode": "r",
   "file_extension": ".r",
   "mimetype": "text/x-r-source",
   "name": "R",
   "pygments_lexer": "r",
   "version": "3.2.2"
  }
 },
 "nbformat": 4,
 "nbformat_minor": 0
}
