{
 "cells": [
  {
   "cell_type": "markdown",
   "metadata": {},
   "source": [
    "<a href=\"http://www.persistent-identifier.nl/?identifier=urn%3Anbn%3Anl%3Aui%3A13-048i-71\" target=\"_blank\"><img align=\"left\"src=\"images/etcbc4easy-small.png\"/></a>\n",
    "<a href=\"http://laf-fabric.readthedocs.org/en/latest/\" target=\"_blank\"><img align=\"left\" src=\"images/laf-fabric-xsmall.png\"/></a>\n",
    "<a href=\"http://www.godgeleerdheid.vu.nl/etcbc\" target=\"_blank\"><img align=\"right\" src=\"images/VU-ETCBC-xsmall.png\"/></a>"
   ]
  },
  {
   "cell_type": "markdown",
   "metadata": {},
   "source": [
    "# Verbless mothers\n",
    "\n",
    "Joint work of Martijn Naaijer and Dirk Roorda and Constantijn Sikkel.\n",
    "\n",
    "During preparation of his contribution to SBL 2015 Martijn Naaijer discovered coding errors in the ETCBC4b database.\n",
    "Here we collect those instances.\n",
    "\n",
    "# Specification\n",
    "\n",
    "There are pairs of mother-daugther clauses, where the daughter is an object clause and the mother has no verbs.\n",
    "That is strange, because the object clause should function as a direct object in the main clause.\n",
    "In this notebook we look up all those cases in two ways: \n",
    "\n",
    "1. by means of walking programmatically through the data and collecting all instances,\n",
    "   [see note set in SHEBANQ](https://shebanq.ancient-data.org/hebrew/text?id=Mnx2ZXJibGVzc19tb3RoZXI_&page=1&version=4b&mr=r&qw=n&tp=txt_tb1&tr=hb),\n",
    "1. by means of an MQL query,\n",
    "   [see query in SHEBANQ](https://shebanq.ancient-data.org/hebrew/query?version=4b&id=981).\n",
    "\n",
    "# Results\n",
    "\n",
    "There are 26 results, and they all seem to involve some sort of coding error.\n",
    "\n",
    "# Discussion\n",
    "\n",
    "Both methods for collecting the cases do not give the same result set.\n",
    "The walk yields 26 results, and the query yields 25 of them and misses 1.\n",
    "All those cases involve gaps in one of the clauses.\n",
    "So the query should have been reformulated to allow for mothers and daughters to have a more general\n",
    "spatial relationship.\n",
    "\n",
    "This may serve as a warning how tricky it is to write MQL queries of which you can be confident that they cover all cases.\n",
    "The walk is much more robust, in that you can carefully collect the parts of the solution in isolation."
   ]
  },
  {
   "cell_type": "code",
   "execution_count": 17,
   "metadata": {
    "collapsed": false
   },
   "outputs": [
    {
     "data": {
      "text/html": [
       "\n",
       "<p class=\"l\"><span class=\"m\">verbless mother clause</span> <span class=\"d\">daughter object clause</span></p>\n",
       "<h1>In MQL query but not in Walk</h1>\n",
       "<table class=\"t\">\n",
       "\n",
       "</table>\n",
       "<h1>In Walk but not in MQL query</h1>\n",
       "<table class=\"t\">\n",
       "<tr class=\"t\"><td class=\"v\">1</td><td class=\"v\">Judices 7:12</td><td class=\"t\"><span title=\"1\" class=\"m\">כַּ</span><span title=\"1\" class=\"m\"></span><span title=\"1\" class=\"m\">חֹ֛ול</span> <span title=\"2\" class=\"d\">שֶׁ</span><span title=\"2\" class=\"d\">עַל</span>־<span title=\"2\" class=\"d\">שְׂפַ֥ת</span> <span title=\"2\" class=\"d\">הַ</span><span title=\"2\" class=\"d\">יָּ֖ם</span> <span title=\"1\" class=\"m\">לָ</span><span title=\"1\" class=\"m\">רֹֽב</span>׃\n",
       "</td></tr>\n",
       "\n",
       "</table>\n"
      ],
      "text/plain": [
       "<IPython.core.display.HTML object>"
      ]
     },
     "execution_count": 17,
     "metadata": {},
     "output_type": "execute_result"
    }
   ],
   "source": [
    "# discrepancies between the two methods\n",
    "HTML(''.join(results_diff_html))"
   ]
  },
  {
   "cell_type": "code",
   "execution_count": 18,
   "metadata": {
    "collapsed": false,
    "scrolled": false
   },
   "outputs": [
    {
     "data": {
      "text/html": [
       "\n",
       "<p class=\"l\"><span class=\"m\">verbless mother clause</span> <span class=\"d\">daughter object clause</span></p>\n",
       "\n",
       "<table class=\"t\">\n",
       "<tr class=\"t\"><td class=\"v\">1</td><td class=\"v\">Genesis 33:13</td><td class=\"t\"><span title=\"1\" class=\"m\">אֲדֹנִ֤י</span> <span title=\"1\" class=\"m\">יֹדֵ֨עַ֙</span> <span title=\"2\" class=\"d\">כִּֽי</span>־<span title=\"2\" class=\"d\">הַ</span><span title=\"2\" class=\"d\">יְלָדִ֣ים</span> <span title=\"2\" class=\"d\">רַכִּ֔ים</span> וְהַצֹּ֥אן וְהַבָּקָ֖ר עָלֹ֣ות עָלָ֑י </td></tr>\n",
       "<tr class=\"t\"><td class=\"v\">2</td><td class=\"v\">Genesis 43:27</td><td class=\"t\"><span title=\"1\" class=\"m\">הֲ</span><span title=\"1\" class=\"m\">שָׁלֹ֛ום</span> <span title=\"1\" class=\"m\">אֲבִיכֶ֥ם</span> <span title=\"1\" class=\"m\">הַ</span><span title=\"1\" class=\"m\">זָּקֵ֖ן</span> <span title=\"2\" class=\"d\">אֲשֶׁ֣ר</span> <span title=\"2\" class=\"d\">אֲמַרְתֶּ֑ם</span> </td></tr>\n",
       "<tr class=\"t\"><td class=\"v\">3</td><td class=\"v\">Genesis 43:29</td><td class=\"t\"><span title=\"1\" class=\"m\">הֲ</span><span title=\"1\" class=\"m\">זֶה֙</span> <span title=\"1\" class=\"m\">אֲחִיכֶ֣ם</span> <span title=\"1\" class=\"m\">הַ</span><span title=\"1\" class=\"m\">קָּטֹ֔ן</span> <span title=\"2\" class=\"d\">אֲשֶׁ֥ר</span> <span title=\"2\" class=\"d\">אֲמַרְתֶּ֖ם</span> <span title=\"2\" class=\"d\">אֵלָ֑י</span> </td></tr>\n",
       "<tr class=\"t\"><td class=\"v\">4</td><td class=\"v\">Exodus 5:2</td><td class=\"t\"><span title=\"1\" class=\"m\">מִ֤י</span> <span title=\"1\" class=\"m\">יְהוָה֙</span> <span title=\"2\" class=\"d\">אֲשֶׁ֣ר</span> <span title=\"2\" class=\"d\">אֶשְׁמַ֣ע</span> <span title=\"2\" class=\"d\">בְּ</span><span title=\"2\" class=\"d\">קֹלֹ֔ו</span> לְשַׁלַּ֖ח אֶת־יִשְׂרָאֵ֑ל </td></tr>\n",
       "<tr class=\"t\"><td class=\"v\">5</td><td class=\"v\">Exodus 6:26</td><td class=\"t\"><span title=\"1\" class=\"m\">ה֥וּא</span> <span title=\"1\" class=\"m\">אַהֲרֹ֖ן</span> <span title=\"1\" class=\"m\">וּ</span><span title=\"1\" class=\"m\">מֹשֶׁ֑ה</span> <span title=\"2\" class=\"d\">אֲשֶׁ֨ר</span> <span title=\"2\" class=\"d\">אָמַ֤ר</span> <span title=\"2\" class=\"d\">יְהוָה֙</span> <span title=\"2\" class=\"d\">לָהֶ֔ם</span> </td></tr>\n",
       "<tr class=\"t\"><td class=\"v\">6</td><td class=\"v\">Exodus 8:17</td><td class=\"t\"><span title=\"1\" class=\"m\">וְ</span><span title=\"1\" class=\"m\">גַ֥ם</span> <span title=\"1\" class=\"m\">הָ</span><span title=\"1\" class=\"m\">אֲדָמָ֖ה</span> <span title=\"2\" class=\"d\">אֲשֶׁר</span>־<span title=\"2\" class=\"d\">הֵ֥ם</span> <span title=\"2\" class=\"d\">עָלֶֽיהָ</span>׃\n",
       "</td></tr>\n",
       "<tr class=\"t\"><td class=\"v\">7</td><td class=\"v\">Exodus 9:26</td><td class=\"t\"><span title=\"1\" class=\"m\">רַ֚ק</span> <span title=\"1\" class=\"m\">בְּ</span><span title=\"1\" class=\"m\">אֶ֣רֶץ</span> <span title=\"1\" class=\"m\">גֹּ֔שֶׁן</span> <span title=\"2\" class=\"d\">אֲשֶׁר</span>־<span title=\"2\" class=\"d\">שָׁ֖ם</span> <span title=\"2\" class=\"d\">בְּנֵ֣י</span> <span title=\"2\" class=\"d\">יִשְׂרָאֵ֑ל</span> </td></tr>\n",
       "<tr class=\"t\"><td class=\"v\">8</td><td class=\"v\">Exodus 16:15</td><td class=\"t\"><span title=\"1\" class=\"m\">ה֣וּא</span> <span title=\"1\" class=\"m\">הַ</span><span title=\"1\" class=\"m\">לֶּ֔חֶם</span> <span title=\"2\" class=\"d\">אֲשֶׁ֨ר</span> <span title=\"2\" class=\"d\">נָתַ֧ן</span> <span title=\"2\" class=\"d\">יְהוָ֛ה</span> <span title=\"2\" class=\"d\">לָכֶ֖ם</span> <span title=\"2\" class=\"d\">לְ</span><span title=\"2\" class=\"d\">אָכְלָֽה</span>׃\n",
       "</td></tr>\n",
       "<tr class=\"t\"><td class=\"v\">9</td><td class=\"v\">Exodus 16:16</td><td class=\"t\"><span title=\"1\" class=\"m\">זֶ֤ה</span> <span title=\"1\" class=\"m\">הַ</span><span title=\"1\" class=\"m\">דָּבָר֙</span> <span title=\"2\" class=\"d\">אֲשֶׁ֣ר</span> <span title=\"2\" class=\"d\">צִוָּ֣ה</span> <span title=\"2\" class=\"d\">יְהוָ֔ה</span> </td></tr>\n",
       "<tr class=\"t\"><td class=\"v\">10</td><td class=\"v\">Exodus 16:32</td><td class=\"t\"><span title=\"1\" class=\"m\">זֶ֤ה</span> <span title=\"1\" class=\"m\">הַ</span><span title=\"1\" class=\"m\">דָּבָר֙</span> <span title=\"2\" class=\"d\">אֲשֶׁ֣ר</span> <span title=\"2\" class=\"d\">צִוָּ֣ה</span> <span title=\"2\" class=\"d\">יְהוָ֔ה</span> </td></tr>\n",
       "<tr class=\"t\"><td class=\"v\">11</td><td class=\"v\">Exodus 18:14</td><td class=\"t\"><span title=\"1\" class=\"m\">מָֽה</span>־<span title=\"1\" class=\"m\">הַ</span><span title=\"1\" class=\"m\">דָּבָ֤ר</span> <span title=\"1\" class=\"m\">הַ</span><span title=\"1\" class=\"m\">זֶּה֙</span> <span title=\"2\" class=\"d\">אֲשֶׁ֨ר</span> <span title=\"2\" class=\"d\">אַתָּ֤ה</span> <span title=\"2\" class=\"d\">עֹשֶׂה֙</span> <span title=\"2\" class=\"d\">לָ</span><span title=\"2\" class=\"d\"></span><span title=\"2\" class=\"d\">עָ֔ם</span> </td></tr>\n",
       "<tr class=\"t\"><td class=\"v\">12</td><td class=\"v\">Exodus 25:3</td><td class=\"t\"><span title=\"1\" class=\"m\">וְ</span><span title=\"1\" class=\"m\">זֹאת֙</span> <span title=\"1\" class=\"m\">הַ</span><span title=\"1\" class=\"m\">תְּרוּמָ֔ה</span> <span title=\"2\" class=\"d\">אֲשֶׁ֥ר</span> <span title=\"2\" class=\"d\">תִּקְח֖וּ</span> <span title=\"2\" class=\"d\">מֵ</span><span title=\"2\" class=\"d\">אִתָּ֑ם</span> זָהָ֥ב וָכֶ֖סֶף וּנְחֹֽשֶׁת׃\n",
       "וּתְכֵ֧לֶת וְאַרְגָּמָ֛ן וְתֹולַ֥עַת שָׁנִ֖י וְשֵׁ֥שׁ וְעִזִּֽים׃\n",
       "וְעֹרֹ֨ת אֵילִ֧ם מְאָדָּמִ֛ים וְעֹרֹ֥ת תְּחָשִׁ֖ים וַעֲצֵ֥י שִׁטִּֽים׃\n",
       "שֶׁ֖מֶן לַמָּאֹ֑ר בְּשָׂמִים֙ לְשֶׁ֣מֶן הַמִּשְׁחָ֔ה וְלִקְטֹ֖רֶת הַסַּמִּֽים׃\n",
       "אַבְנֵי־שֹׁ֕הַם וְאַבְנֵ֖י מִלֻּאִ֑ים לָאֵפֹ֖ד וְלַחֹֽשֶׁן׃\n",
       "</td></tr>\n",
       "<tr class=\"t\"><td class=\"v\">13</td><td class=\"v\">Exodus 25:35</td><td class=\"t\"><span title=\"1\" class=\"m\">לְ</span><span title=\"1\" class=\"m\">שֵׁ֨שֶׁת֙</span> <span title=\"1\" class=\"m\">הַ</span><span title=\"1\" class=\"m\">קָּנִ֔ים</span> <span title=\"2\" class=\"d\">הַ</span><span title=\"2\" class=\"d\">יֹּצְאִ֖ים</span> <span title=\"2\" class=\"d\">מִן</span>־<span title=\"2\" class=\"d\">הַ</span><span title=\"2\" class=\"d\">מְּנֹרָֽה</span>׃\n",
       "</td></tr>\n",
       "<tr class=\"t\"><td class=\"v\">14</td><td class=\"v\">Exodus 35:4</td><td class=\"t\"><span title=\"1\" class=\"m\">זֶ֣ה</span> <span title=\"1\" class=\"m\">הַ</span><span title=\"1\" class=\"m\">דָּבָ֔ר</span> <span title=\"2\" class=\"d\">אֲשֶׁר</span>־<span title=\"2\" class=\"d\">צִוָּ֥ה</span> <span title=\"2\" class=\"d\">יְהוָ֖ה</span> לֵאמֹֽר׃\n",
       "</td></tr>\n",
       "<tr class=\"t\"><td class=\"v\">15</td><td class=\"v\">Deuteronomium 9:29</td><td class=\"t\"><span title=\"1\" class=\"m\">וְ</span><span title=\"1\" class=\"m\">הֵ֥ם</span> <span title=\"1\" class=\"m\">עַמְּךָ֖</span> <span title=\"1\" class=\"m\">וְ</span><span title=\"1\" class=\"m\">נַחֲלָתֶ֑ךָ</span> <span title=\"2\" class=\"d\">אֲשֶׁ֤ר</span> <span title=\"2\" class=\"d\">הֹוצֵ֨אתָ֙</span> <span title=\"2\" class=\"d\">בְּ</span><span title=\"2\" class=\"d\">כֹחֲךָ֣</span> <span title=\"2\" class=\"d\">הַ</span><span title=\"2\" class=\"d\">גָּדֹ֔ל</span> <span title=\"2\" class=\"d\">וּ</span><span title=\"2\" class=\"d\">בִֽ</span><span title=\"2\" class=\"d\">זְרֹעֲךָ֖</span> <span title=\"2\" class=\"d\">הַ</span><span title=\"2\" class=\"d\">נְּטוּיָֽה</span>׃ פ \n",
       "</td></tr>\n",
       "<tr class=\"t\"><td class=\"v\">16</td><td class=\"v\">Josua 1:9</td><td class=\"t\"><span title=\"1\" class=\"m\">כִּ֤י</span> <span title=\"1\" class=\"m\">עִמְּךָ֙</span> <span title=\"1\" class=\"m\">יְהוָ֣ה</span> <span title=\"1\" class=\"m\">אֱלֹהֶ֔יךָ</span> <span title=\"1\" class=\"m\">בְּ</span><span title=\"1\" class=\"m\">כֹ֖ל</span> <span title=\"2\" class=\"d\">אֲשֶׁ֥ר</span> <span title=\"2\" class=\"d\">תֵּלֵֽךְ</span>׃ פ \n",
       "</td></tr>\n",
       "<tr class=\"t\"><td class=\"v\">17</td><td class=\"v\">Judices 7:12</td><td class=\"t\"><span title=\"1\" class=\"m\">כַּ</span><span title=\"1\" class=\"m\"></span><span title=\"1\" class=\"m\">חֹ֛ול</span> <span title=\"2\" class=\"d\">שֶׁ</span><span title=\"2\" class=\"d\">עַל</span>־<span title=\"2\" class=\"d\">שְׂפַ֥ת</span> <span title=\"2\" class=\"d\">הַ</span><span title=\"2\" class=\"d\">יָּ֖ם</span> <span title=\"1\" class=\"m\">לָ</span><span title=\"1\" class=\"m\">רֹֽב</span>׃\n",
       "</td></tr>\n",
       "<tr class=\"t\"><td class=\"v\">18</td><td class=\"v\">Reges_I 9:13</td><td class=\"t\"><span title=\"1\" class=\"m\">מָ֚ה</span> <span title=\"1\" class=\"m\">הֶ</span><span title=\"1\" class=\"m\">עָרִ֣ים</span> <span title=\"1\" class=\"m\">הָ</span><span title=\"1\" class=\"m\">אֵ֔לֶּה</span> <span title=\"2\" class=\"d\">אֲשֶׁר</span>־<span title=\"2\" class=\"d\">נָתַ֥תָּה</span> <span title=\"2\" class=\"d\">לִּ֖י</span> אָחִ֑י </td></tr>\n",
       "<tr class=\"t\"><td class=\"v\">19</td><td class=\"v\">Reges_I 9:15</td><td class=\"t\"><span title=\"1\" class=\"m\">וְ</span><span title=\"1\" class=\"m\">זֶ֨ה</span> <span title=\"1\" class=\"m\">דְבַר</span>־<span title=\"1\" class=\"m\">הַ</span><span title=\"1\" class=\"m\">מַּ֜ס</span> <span title=\"2\" class=\"d\">אֲשֶֽׁר</span>־<span title=\"2\" class=\"d\">הֶעֱלָ֣ה</span> ׀ <span title=\"2\" class=\"d\">הַ</span><span title=\"2\" class=\"d\">מֶּ֣לֶךְ</span> <span title=\"2\" class=\"d\">שְׁלֹמֹ֗ה</span> לִבְנֹות֩ אֶת־בֵּ֨ית יְהוָ֤ה וְאֶת־בֵּיתֹו֙ וְאֶת־הַמִּלֹּ֔וא וְאֵ֖ת חֹומַ֣ת יְרוּשָׁלִָ֑ם וְאֶת־חָצֹ֥ר וְאֶת־מְגִדֹּ֖ו וְאֶת־גָּֽזֶר׃\n",
       "</td></tr>\n",
       "<tr class=\"t\"><td class=\"v\">20</td><td class=\"v\">Reges_II 1:7</td><td class=\"t\"><span title=\"1\" class=\"m\">מֶ֚ה</span> <span title=\"1\" class=\"m\">מִשְׁפַּ֣ט</span> <span title=\"1\" class=\"m\">הָ</span><span title=\"1\" class=\"m\">אִ֔ישׁ</span> <span title=\"2\" class=\"d\">אֲשֶׁ֥ר</span> <span title=\"2\" class=\"d\">עָלָ֖ה</span> לִקְרַאתְכֶ֑ם וַיְדַבֵּ֣ר אֲלֵיכֶ֔ם אֶת־הַדְּבָרִ֖ים הָאֵֽלֶּה׃\n",
       "</td></tr>\n",
       "<tr class=\"t\"><td class=\"v\">21</td><td class=\"v\">Reges_II 18:19</td><td class=\"t\"><span title=\"1\" class=\"m\">מָ֧ה</span> <span title=\"1\" class=\"m\">הַ</span><span title=\"1\" class=\"m\">בִּטָּחֹ֛ון</span> <span title=\"1\" class=\"m\">הַ</span><span title=\"1\" class=\"m\">זֶּ֖ה</span> <span title=\"2\" class=\"d\">אֲשֶׁ֥ר</span> <span title=\"2\" class=\"d\">בָּטָֽחְתָּ</span>׃\n",
       "</td></tr>\n",
       "<tr class=\"t\"><td class=\"v\">22</td><td class=\"v\">Reges_II 18:21</td><td class=\"t\"><span title=\"1\" class=\"m\">כֵּ֚ן</span> <span title=\"1\" class=\"m\">פַּרְעֹ֣ה</span> <span title=\"1\" class=\"m\">מֶֽלֶךְ</span>־<span title=\"1\" class=\"m\">מִצְרַ֔יִם</span> <span title=\"1\" class=\"m\">לְ</span><span title=\"1\" class=\"m\">כָֽל</span>־<span title=\"2\" class=\"d\">הַ</span><span title=\"2\" class=\"d\">בֹּטְחִ֖ים</span> <span title=\"2\" class=\"d\">עָלָֽיו</span>׃\n",
       "</td></tr>\n",
       "<tr class=\"t\"><td class=\"v\">23</td><td class=\"v\">Reges_II 18:35</td><td class=\"t\"><span title=\"1\" class=\"m\">מִ֚י</span> <span title=\"1\" class=\"m\">בְּ</span><span title=\"1\" class=\"m\">כָל</span>־<span title=\"1\" class=\"m\">אֱלֹהֵ֣י</span> <span title=\"1\" class=\"m\">הָֽ</span><span title=\"1\" class=\"m\">אֲרָצֹ֔ות</span> <span title=\"2\" class=\"d\">אֲשֶׁר</span>־<span title=\"2\" class=\"d\">הִצִּ֥ילוּ</span> <span title=\"2\" class=\"d\">אֶת</span>־<span title=\"2\" class=\"d\">אַרְצָ֖ם</span> <span title=\"2\" class=\"d\">מִ</span><span title=\"2\" class=\"d\">יָּדִ֑י</span> </td></tr>\n",
       "<tr class=\"t\"><td class=\"v\">24</td><td class=\"v\">Psalmi 103:14</td><td class=\"t\">כִּי־ה֖וּא יָדַ֣ע יִצְרֵ֑נוּ <span title=\"2\" class=\"m\">זָ֝כ֗וּר</span> <span title=\"3\" class=\"d\">כִּי</span>־<span title=\"3\" class=\"d\">עָפָ֥ר</span> <span title=\"3\" class=\"d\">אֲנָֽחְנוּ</span>׃\n",
       "</td></tr>\n",
       "<tr class=\"t\"><td class=\"v\">25</td><td class=\"v\">Ecclesiastes 4:3</td><td class=\"t\"><span title=\"1\" class=\"m\">וְ</span><span title=\"1\" class=\"m\">טֹוב֙</span> <span title=\"1\" class=\"m\">מִ</span><span title=\"1\" class=\"m\">שְּׁנֵיהֶ֔ם</span> <span title=\"2\" class=\"d\">אֵ֥ת</span> <span title=\"2\" class=\"d\">אֲשֶׁר</span>־<span title=\"2\" class=\"d\">עֲדֶ֖ן</span> <span title=\"2\" class=\"d\">לֹ֣א</span> <span title=\"2\" class=\"d\">הָיָ֑ה</span> אֲשֶׁ֤ר לֹֽא־רָאָה֙ אֶת־הַמַּעֲשֶׂ֣ה הָרָ֔ע אֲשֶׁ֥ר נַעֲשָׂ֖ה תַּ֥חַת הַשָּֽׁמֶשׁ׃\n",
       "</td></tr>\n",
       "<tr class=\"t\"><td class=\"v\">26</td><td class=\"v\">Chronica_II 18:13</td><td class=\"t\"><span title=\"1\" class=\"m\">כִּ֛י</span> <span title=\"2\" class=\"d\">אֶת</span>־<span title=\"2\" class=\"d\">אֲשֶׁר</span>־<span title=\"2\" class=\"d\">יֹאמַ֥ר</span> <span title=\"2\" class=\"d\">אֱלֹהַ֖י</span> אֹתֹ֥ו אֲדַבֵּֽר׃\n",
       "</td></tr>\n",
       "\n",
       "</table>\n"
      ],
      "text/plain": [
       "<IPython.core.display.HTML object>"
      ]
     },
     "execution_count": 18,
     "metadata": {},
     "output_type": "execute_result"
    }
   ],
   "source": [
    "# all results\n",
    "HTML(''.join(results_html))"
   ]
  },
  {
   "cell_type": "markdown",
   "metadata": {},
   "source": [
    "# Firing up the engines"
   ]
  },
  {
   "cell_type": "code",
   "execution_count": 1,
   "metadata": {
    "collapsed": false
   },
   "outputs": [
    {
     "name": "stderr",
     "output_type": "stream",
     "text": [
      "  0.00s This is LAF-Fabric 4.5.4\n",
      "API reference: http://laf-fabric.readthedocs.org/en/latest/texts/API-reference.html\n",
      "Feature doc: https://shebanq.ancient-data.org/static/docs/featuredoc/texts/welcome.html\n",
      "\n"
     ]
    }
   ],
   "source": [
    "import sys,os\n",
    "import collections\n",
    "\n",
    "import laf\n",
    "from laf.fabric import LafFabric\n",
    "from etcbc.preprocess import prepare\n",
    "from etcbc.mql import MQL\n",
    "fabric = LafFabric()"
   ]
  },
  {
   "cell_type": "markdown",
   "metadata": {},
   "source": [
    "# Loading the data"
   ]
  },
  {
   "cell_type": "code",
   "execution_count": 2,
   "metadata": {
    "collapsed": true
   },
   "outputs": [],
   "source": [
    "source = 'etcbc'\n",
    "version = '4b'"
   ]
  },
  {
   "cell_type": "code",
   "execution_count": 3,
   "metadata": {
    "collapsed": false
   },
   "outputs": [
    {
     "name": "stderr",
     "output_type": "stream",
     "text": [
      "  0.00s LOADING API: please wait ... \n",
      "  0.00s INFO: USING DATA COMPILED AT: 2015-11-02T15-08-56\n",
      "  5.04s LOGFILE=/Users/dirk/SURFdrive/laf-fabric-output/etcbc4b/verblessmothers/__log__verblessmothers.txt\n",
      "    15s ETCBC reference: http://laf-fabric.readthedocs.org/en/latest/texts/ETCBC-reference.html\n",
      "  0.00s LOADING API with EXTRAs: please wait ... \n",
      "  0.00s INFO: USING DATA COMPILED AT: 2015-11-02T15-08-56\n",
      "  0.01s INFO: DATA LOADED FROM SOURCE etcbc4b AND ANNOX -- FOR TASK verblessmothers AT 2015-11-17T14-21-52\n",
      "  0.00s INFO: DATA LOADED FROM SOURCE etcbc4b AND ANNOX -- FOR TASK verblessmothers AT 2015-11-17T14-21-52\n"
     ]
    }
   ],
   "source": [
    "API = fabric.load(source+version, '--', 'verblessmothers', {\n",
    "    \"xmlids\": {\"node\": False, \"edge\": False},\n",
    "    \"features\": ('''\n",
    "        otype oid \n",
    "        sp typ rela kind\n",
    "        g_word_utf8 trailer_utf8\n",
    "        book chapter verse number\n",
    "    ''','''\n",
    "        mother\n",
    "    '''),\n",
    "    \"prepare\": prepare,\n",
    "    \"primary\": False,\n",
    "}, verbose='NORMAL')\n",
    "exec(fabric.localnames.format(var='fabric'))"
   ]
  },
  {
   "cell_type": "markdown",
   "metadata": {},
   "source": [
    "# Check on clause kind\n",
    "\n",
    "We are going to use the\n",
    "[kind](https://shebanq.ancient-data.org/shebanq/static/docs/featuredoc/features/comments/kind.html) \n",
    "feature on clauses, which is related to the\n",
    "[typ](https://shebanq.ancient-data.org/shebanq/static/docs/featuredoc/features/comments/typ.html)\n",
    "feature.\n",
    "We perform a routine check to see whether the indicated relation ship between ``kind`` values and ``typ`` values \n",
    "holds for all clauses."
   ]
  },
  {
   "cell_type": "code",
   "execution_count": 4,
   "metadata": {
    "collapsed": false
   },
   "outputs": [
    {
     "name": "stderr",
     "output_type": "stream",
     "text": [
      "    15s Checking\n",
      "    16s All typ values have been correctly assigned to kind values\n"
     ]
    }
   ],
   "source": [
    "msg(\"Checking\")\n",
    "kinds = {\n",
    "    'VC': {\n",
    "        'InfA','InfC','Ptcp','Way0','WayX','WIm0','WImX','WQt0','WQtX','WxI0',\n",
    "        'WXIm','WxIX','WxQ0','WXQt','WxQX','WxY0','WXYq','WxYX','WYq0','WYqX',\n",
    "        'xIm0','XImp','xImX','xQt0','XQtl','xQtX','xYq0','XYqt','xYqX','ZIm0',\n",
    "        'ZImX','ZQt0','ZQtX','ZYq0','ZYqX',\n",
    "    },\n",
    "    'NC': {'AjCl','NmCl'},\n",
    "    'WP': {'CPen','Ellp','MSyn','Reop','Voct','XPos'},\n",
    "}\n",
    "\n",
    "errors = collections.defaultdict(lambda: set())\n",
    "for n in F.otype.s('clause'):\n",
    "    typ = F.typ.v(n)\n",
    "    kind = F.kind.v(n)\n",
    "    if typ not in kinds.get(kind, set()):\n",
    "        errors[(kind, typ)].add(n)\n",
    "        \n",
    "if errors:\n",
    "    msg(\"There were errors\")\n",
    "else:\n",
    "    msg(\"All typ values have been correctly assigned to kind values\")"
   ]
  },
  {
   "cell_type": "markdown",
   "metadata": {},
   "source": [
    "# Making a mother-daughter clause index"
   ]
  },
  {
   "cell_type": "code",
   "execution_count": 5,
   "metadata": {
    "collapsed": false
   },
   "outputs": [
    {
     "name": "stderr",
     "output_type": "stream",
     "text": [
      " 1m 18s Looking for mothers ...\n",
      " 1m 19s Done\n"
     ]
    }
   ],
   "source": [
    "mothers_objc = collections.defaultdict(lambda: set())\n",
    "msg('Looking for mothers ...')\n",
    "for cd in F.otype.s('clause'):\n",
    "    if F.rela.v(cd) != 'Objc': continue\n",
    "    for cm in C.mother.v(cd): mothers_objc[cd].add(cm)\n",
    "msg('Done')"
   ]
  },
  {
   "cell_type": "markdown",
   "metadata": {},
   "source": [
    "# Gathering verbless mothers of object clauses\n",
    "\n",
    "The first idea is that when a clause does not have a verb, it cannot have a subordinate object clause.\n",
    "However, there are cases of verbless clauses that can (correctly) have object clauses, such as\n",
    "clauses where the verb is missing because of ellipsis. There are a few other possible causes as well.\n",
    "\n",
    "The relevant criterium turns out to be: the clause\n",
    "[kind](https://shebanq.ancient-data.org/shebanq/static/docs/featuredoc/features/comments/kind.html)\n",
    "feature is ``NC``.\n",
    "\n",
    "So, we look at *nominal* mothers rather than *verbless* mother.\n",
    "Note that there are nominal mothers that are not verbless."
   ]
  },
  {
   "cell_type": "code",
   "execution_count": 6,
   "metadata": {
    "collapsed": false
   },
   "outputs": [
    {
     "name": "stderr",
     "output_type": "stream",
     "text": [
      " 1m 48s Looking for verbless mothers ...\n",
      " 1m 49s 0 objc-clauses without mother; 52 objc-clauses with verbless mother; 26 objc-clauses with nominal mother; of which 0 in a different sentence\n",
      " 1m 49s Some nominal mothers are not verbless: 1x\n"
     ]
    },
    {
     "name": "stdout",
     "output_type": "stream",
     "text": [
      "Genesis 33:13 אֲדֹנִ֤י יֹדֵ֨עַ֙ \n",
      "\n"
     ]
    }
   ],
   "source": [
    "no_mothers = set()\n",
    "verbless_mothers = set()\n",
    "nominal_mothers = set()\n",
    "multiple_sentence = set()\n",
    "\n",
    "def is_verbless(c): return 'verb' not in {F.sp.v(w) for w in L.d('word', c)}\n",
    "def is_nominal(c): return F.kind.v(c) == 'NC'\n",
    "\n",
    "msg('Looking for verbless mothers ...')\n",
    "for cd in F.otype.s('clause'):\n",
    "    if F.rela.v(cd) != 'Objc': continue\n",
    "    if cd not in mothers_objc:\n",
    "        no_mothers.add(cd)\n",
    "        continue\n",
    "    for cm in mothers_objc[cd]:\n",
    "        if is_verbless(cm): verbless_mothers.add((cd, cm))\n",
    "        if is_nominal(cm): nominal_mothers.add((cd, cm))\n",
    "for (cd, cm) in verbless_mothers | nominal_mothers:\n",
    "    if L.u('sentence', cd) != L.u('sentence', cm):\n",
    "        multiple_sentence.add((cd, cm))\n",
    "msg('{} {}; {} {}; {} {}; of which {} {}'.format(\n",
    "    len(no_mothers), 'objc-clauses without mother',\n",
    "    len(verbless_mothers), 'objc-clauses with verbless mother',\n",
    "    len(nominal_mothers), 'objc-clauses with nominal mother',\n",
    "    len(multiple_sentence), 'in a different sentence',\n",
    "))\n",
    "if nominal_mothers <= verbless_mothers:\n",
    "    msg('All nominal mothers are also verbless')\n",
    "else:\n",
    "    nom_with_verb = nominal_mothers - verbless_mothers\n",
    "    msg('Some nominal mothers are not verbless: {}x'.format(len(nom_with_verb)))\n",
    "    for (cd, cm) in nom_with_verb:\n",
    "        words = L.d('word', cm)\n",
    "        fw = words[0]\n",
    "        passage = '{} {}:{}'.format(\n",
    "            F.book.v(L.u('book', fw)),\n",
    "            F.chapter.v(L.u('chapter', fw)),\n",
    "            F.verse.v(L.u('verse', fw)),\n",
    "        )\n",
    "        text = ''.join('{}{}'.format(F.g_word_utf8.v(w), F.trailer_utf8.v(w)) for w in words)\n",
    "        print('{} {}\\n'.format(passage, text))"
   ]
  },
  {
   "cell_type": "markdown",
   "metadata": {},
   "source": [
    "# Pretty printing mother-daughter clauses"
   ]
  },
  {
   "cell_type": "code",
   "execution_count": 7,
   "metadata": {
    "collapsed": true
   },
   "outputs": [],
   "source": [
    "from IPython.display import HTML, display"
   ]
  },
  {
   "cell_type": "code",
   "execution_count": 8,
   "metadata": {
    "collapsed": true
   },
   "outputs": [],
   "source": [
    "css = '''\n",
    "<style type=\"text/css\">\n",
    ".m {\n",
    "  background-color: #ffaaaa;\n",
    "}\n",
    ".d {\n",
    "  background-color: #ccccff;\n",
    "}\n",
    ".v {\n",
    "    font-family: Verdana, Arial, sans-serif;\n",
    "    font-size: small;\n",
    "    text-align: right;\n",
    "    color: #aaaaaa;\n",
    "    width: 10%;\n",
    "    direction: ltr;\n",
    "    border-left: 2px solid #aaaaaa;\n",
    "    border-right: 2px solid #aaaaaa;\n",
    "}\n",
    ".l {\n",
    "    font-family: Verdana, Arial, sans-serif;\n",
    "    font-size: normal;\n",
    "    text-align: center;\n",
    "}\n",
    ".t {\n",
    "    font-family: Ezra SIL, SBL Hebrew, Verdana, sans-serif;\n",
    "    font-size: x-large;\n",
    "    line-height: 1.7;\n",
    "    text-align: right;\n",
    "    direction: rtl;\n",
    "    border-left: 2px solid #aaaaaa;\n",
    "    border-right: 2px solid #aaaaaa;\n",
    "}\n",
    "table.t {\n",
    "    width: 100%;\n",
    "    direction: rtl;\n",
    "    border-collapse: collapse;\n",
    "}\n",
    "td.t {\n",
    "    text-align: right;\n",
    "}\n",
    "tr.t {\n",
    "    border-top: 2px solid #aaaaaa;\n",
    "    border-bottom: 2px solid #aaaaaa;\n",
    "    border-left: 2px solid #aaaaaa;\n",
    "    border-right: 2px solid #aaaaaa;\n",
    "}\n",
    "</style>\n",
    "'''\n",
    "head = '''\n",
    "<html>\n",
    "<head>\n",
    "    <meta http-equiv=\"Content-Type\"\n",
    "          content=\"text/html; charset=UTF-8\" />\n",
    "    <title></title>\n",
    "    {}\n",
    "</head>\n",
    "<body>\n",
    "'''.format(css)\n",
    "table_head = '''\n",
    "<table class=\"t\">\n",
    "'''\n",
    "\n",
    "table_tail = '''\n",
    "</table>\n",
    "'''\n",
    "\n",
    "tail = '''\n",
    "</body>\n",
    "</html>\n",
    "'''\n",
    "\n",
    "legend = '''\n",
    "<p class=\"l\"><span class=\"m\">verbless mother clause</span> <span class=\"d\">daughter object clause</span></p>\n",
    "'''\n",
    "\n",
    "def getverse(ca):\n",
    "    fw = L.d('word', ca)[0]\n",
    "    return (F.book.v(L.u('book', fw)),\n",
    "            F.chapter.v(L.u('chapter', fw)),\n",
    "            F.verse.v(L.u('verse', fw)),\n",
    "    )\n",
    "\n",
    "def print_cm(i, cd, cm):\n",
    "    s = L.u('sentence', cd)\n",
    "    passages = {getverse(x) for x in (s, cd, cm)}\n",
    "    dwords = set(L.d('word', cd))\n",
    "    mwords = set(L.d('word', cm))\n",
    "    dmwords = dwords | mwords\n",
    "    htext = []\n",
    "    hcd = F.number.v(cd)\n",
    "    hcm = F.number.v(cm)\n",
    "    for w in L.d('word', s):\n",
    "        hw = F.g_word_utf8.v(w)\n",
    "        ht = F.trailer_utf8.v(w)\n",
    "        if w in dmwords:\n",
    "            htext.append('<span title=\"{}\" class=\"{}\">{}</span>{}'.format(\n",
    "                hcd if w in dwords else hcm, 'd' if w in dwords else 'm', hw, ht,\n",
    "            ))\n",
    "        else:\n",
    "            htext.append('{}{}'.format(hw, ht))\n",
    "    return '<tr class=\"t\"><td class=\"v\">{}</td><td class=\"v\">{}</td><td class=\"t\">{}</td></tr>\\n'.format(\n",
    "        i, \n",
    "        ' - '.join('{} {}:{}'.format(*x) for x in sorted(passages, key=lambda x: (x[0], int(x[1]), int(x[2])))),\n",
    "        ''.join(htext),\n",
    "    )"
   ]
  },
  {
   "cell_type": "code",
   "execution_count": 9,
   "metadata": {
    "collapsed": false
   },
   "outputs": [],
   "source": [
    "h = []\n",
    "#h.append(head)\n",
    "h.append(legend)\n",
    "h.append(table_head)\n",
    "for (i, (cd, cm)) in enumerate(sorted(nominal_mothers)):\n",
    "    h.append(print_cm(i+1, cd, cm))\n",
    "h.append(table_tail)\n",
    "#h.append(tail)\n",
    "\n",
    "results_html = h"
   ]
  },
  {
   "cell_type": "markdown",
   "metadata": {},
   "source": [
    "# Using an MQL query"
   ]
  },
  {
   "cell_type": "code",
   "execution_count": 10,
   "metadata": {
    "collapsed": false
   },
   "outputs": [],
   "source": [
    "Q = MQL(API)"
   ]
  },
  {
   "cell_type": "code",
   "execution_count": 11,
   "metadata": {
    "collapsed": true
   },
   "outputs": [],
   "source": [
    "mother_obj_query1 = '''\n",
    "select all objects where\n",
    "[sentence \n",
    " [clause as clause_mother focus kind = NC]\n",
    " ..\n",
    " [clause focus mother = clause_mother.self and rela = Objc]\n",
    "]\n",
    "'''\n",
    "mother_obj_query2 = '''\n",
    "select all objects where\n",
    "[sentence \n",
    " [clause as clause_daughter focus rela = Objc\n",
    " ]\n",
    " ..\n",
    " [clause focus self = clause_daughter.mother and kind = NC]\n",
    "]\n",
    "'''"
   ]
  },
  {
   "cell_type": "markdown",
   "metadata": {},
   "source": [
    "## Executing the query"
   ]
  },
  {
   "cell_type": "code",
   "execution_count": 12,
   "metadata": {
    "collapsed": false
   },
   "outputs": [],
   "source": [
    "sheaf1 = Q.mql(mother_obj_query1)\n",
    "sheaf2 = Q.mql(mother_obj_query2)"
   ]
  },
  {
   "cell_type": "markdown",
   "metadata": {},
   "source": [
    "## Collecting the results"
   ]
  },
  {
   "cell_type": "code",
   "execution_count": 13,
   "metadata": {
    "collapsed": false
   },
   "outputs": [
    {
     "name": "stderr",
     "output_type": "stream",
     "text": [
      " 2m 31s 25 results\n"
     ]
    }
   ],
   "source": [
    "nominal_mothers_q = set()\n",
    "for ((s, ((cm,), (cd,))),) in sheaf1.results(): nominal_mothers_q.add((cd, cm))\n",
    "for ((s, ((cd,), (cm,))),) in sheaf2.results(): nominal_mothers_q.add((cd, cm))\n",
    "msg('{} results'.format(len(nominal_mothers_q)))"
   ]
  },
  {
   "cell_type": "markdown",
   "metadata": {},
   "source": [
    "# Examining the differences"
   ]
  },
  {
   "cell_type": "code",
   "execution_count": 14,
   "metadata": {
    "collapsed": false
   },
   "outputs": [
    {
     "name": "stdout",
     "output_type": "stream",
     "text": [
      "\n",
      "Results by the MQL query that are not delivered by the walk: 0\n",
      "Results by the walk that are not delivered by the MQL query: 1\n",
      "\n"
     ]
    }
   ],
   "source": [
    "print('''\n",
    "Results by the MQL query that are not delivered by the walk: {}\n",
    "Results by the walk that are not delivered by the MQL query: {}\n",
    "'''.format(\n",
    "    len(nominal_mothers_q - nominal_mothers),\n",
    "    len(nominal_mothers - nominal_mothers_q),\n",
    "))"
   ]
  },
  {
   "cell_type": "markdown",
   "metadata": {
    "collapsed": true
   },
   "source": [
    "## Pretty printing the differences"
   ]
  },
  {
   "cell_type": "code",
   "execution_count": 15,
   "metadata": {
    "collapsed": false
   },
   "outputs": [
    {
     "data": {
      "text/html": [
       "\n",
       "<style type=\"text/css\">\n",
       ".m {\n",
       "  background-color: #ffaaaa;\n",
       "}\n",
       ".d {\n",
       "  background-color: #ccccff;\n",
       "}\n",
       ".v {\n",
       "    font-family: Verdana, Arial, sans-serif;\n",
       "    font-size: small;\n",
       "    text-align: right;\n",
       "    color: #aaaaaa;\n",
       "    width: 10%;\n",
       "    direction: ltr;\n",
       "    border-left: 2px solid #aaaaaa;\n",
       "    border-right: 2px solid #aaaaaa;\n",
       "}\n",
       ".l {\n",
       "    font-family: Verdana, Arial, sans-serif;\n",
       "    font-size: normal;\n",
       "    text-align: center;\n",
       "}\n",
       ".t {\n",
       "    font-family: Ezra SIL, SBL Hebrew, Verdana, sans-serif;\n",
       "    font-size: x-large;\n",
       "    line-height: 1.7;\n",
       "    text-align: right;\n",
       "    direction: rtl;\n",
       "    border-left: 2px solid #aaaaaa;\n",
       "    border-right: 2px solid #aaaaaa;\n",
       "}\n",
       "table.t {\n",
       "    width: 100%;\n",
       "    direction: rtl;\n",
       "    border-collapse: collapse;\n",
       "}\n",
       "td.t {\n",
       "    text-align: right;\n",
       "}\n",
       "tr.t {\n",
       "    border-top: 2px solid #aaaaaa;\n",
       "    border-bottom: 2px solid #aaaaaa;\n",
       "    border-left: 2px solid #aaaaaa;\n",
       "    border-right: 2px solid #aaaaaa;\n",
       "}\n",
       "</style>\n"
      ],
      "text/plain": [
       "<IPython.core.display.HTML object>"
      ]
     },
     "execution_count": 15,
     "metadata": {},
     "output_type": "execute_result"
    }
   ],
   "source": [
    "HTML(css)"
   ]
  },
  {
   "cell_type": "code",
   "execution_count": 16,
   "metadata": {
    "collapsed": false
   },
   "outputs": [],
   "source": [
    "h = []\n",
    "#h.append(head)\n",
    "h.append(legend)\n",
    "h.append('''<h1>In MQL query but not in Walk</h1>''')\n",
    "h.append(table_head)\n",
    "for (i, (cd, cm)) in enumerate(sorted(nominal_mothers_q - nominal_mothers)):\n",
    "    h.append(print_cm(i+1, cd, cm))\n",
    "h.append(table_tail)\n",
    "h.append('''<h1>In Walk but not in MQL query</h1>''')\n",
    "h.append(table_head)\n",
    "for (i, (cd, cm)) in enumerate(sorted(nominal_mothers - nominal_mothers_q)):\n",
    "    h.append(print_cm(i+1, cd, cm))\n",
    "h.append(table_tail)\n",
    "#h.append(tail)\n",
    "\n",
    "results_diff_html = h"
   ]
  },
  {
   "cell_type": "markdown",
   "metadata": {},
   "source": [
    "# Generating notes"
   ]
  },
  {
   "cell_type": "code",
   "execution_count": 19,
   "metadata": {
    "collapsed": false
   },
   "outputs": [],
   "source": [
    "sfields = '''\n",
    "    version\n",
    "    book\n",
    "    chapter\n",
    "    verse\n",
    "    clause_atom\n",
    "    is_shared\n",
    "    is_published\n",
    "    status\n",
    "    keywords\n",
    "    ntext\n",
    "'''.strip().split()\n",
    "\n",
    "sfields_fmt = ('{}\\t' * (len(sfields) - 1)) + '{}\\n'\n",
    "\n",
    "def generate_notes():\n",
    "    nf = outfile('verbless_mothers.csv')\n",
    "    nf.write('{}\\n'.format('\\t'.join(sfields)))\n",
    "    for (cd, cm) in sorted(verbless_mothers):\n",
    "        is_nom = (cd, cm) in nominal_mothers\n",
    "        casd = L.d('clause_atom', cd)\n",
    "        casm = L.d('clause_atom', cm)\n",
    "        cald = len(casd)\n",
    "        calm = len(casm)\n",
    "        cad = casd[0]\n",
    "        cam = casm[0]\n",
    "        cnd = F.number.v(cad)\n",
    "        cnm = F.number.v(cam)\n",
    "        if is_nom: # in case of a nominal mother there is probably a coding error\n",
    "            for (ca, cn, stat, txt) in (\n",
    "                (cad, cnd, '-',\n",
    "                 '''{} an object clause to a verbless mother clause. Possibly a coding error. [query](shebanq:?id=981&page=1&version=4b&mr=r&qw=q&tp=txt_p&tr=hb)'''.format(\n",
    "                    'This is' if cald == 1 else 'This and {} more line{} form'.format(cald-1, '' if cald == 2 else ''),\n",
    "                )),\n",
    "                (cam, cnm, '?',\n",
    "                 '''{} the verbless mother of an object clause. [query](shebanq:?id=981&page=1&version=4b&mr=r&qw=q&tp=txt_p&tr=hb)'''.format(\n",
    "                    'This is' if calm == 1 else 'This and {} more line{} form'.format(calm-1, '' if calm == 2 else ''),\n",
    "                )),\n",
    "            ):\n",
    "                (bk, ch, vs) = getverse(ca)\n",
    "                nf.write(sfields_fmt.format(\n",
    "                    version,\n",
    "                    bk,\n",
    "                    ch,\n",
    "                    vs,\n",
    "                    cn,\n",
    "                    'T',\n",
    "                    '',\n",
    "                    stat,\n",
    "                    'verbless_mother',\n",
    "                    txt,\n",
    "                ))\n",
    "        else: # in case of a non-nominal mother this is not an indication that the coding is wrong\n",
    "            for (ca, cn, stat, txt) in (\n",
    "                (cad, cnd, '+',\n",
    "                 '''{} an object clause to a verbless but non-nominal mother clause.'''.format(\n",
    "                    'This is' if cald == 1 else 'This and {} more line{} form'.format(cald-1, '' if cald == 2 else ''),\n",
    "                )),\n",
    "                (cam, cnm, '+',\n",
    "                 '''{} the verbless but non-nominal mother of an object clause.'''.format(\n",
    "                    'This is' if calm == 1 else 'This and {} more line{} form'.format(calm-1, '' if calm == 2 else ''),\n",
    "                )),\n",
    "            ):\n",
    "                (bk, ch, vs) = getverse(ca)\n",
    "                nf.write(sfields_fmt.format(\n",
    "                    version,\n",
    "                    bk,\n",
    "                    ch,\n",
    "                    vs,\n",
    "                    cn,\n",
    "                    'T',\n",
    "                    '',\n",
    "                    stat,\n",
    "                    'verbless_mother',\n",
    "                    txt,\n",
    "                ))\n",
    "    nf.close()\n",
    "\n",
    "generate_notes()"
   ]
  },
  {
   "cell_type": "code",
   "execution_count": null,
   "metadata": {
    "collapsed": true
   },
   "outputs": [],
   "source": []
  }
 ],
 "metadata": {
  "kernelspec": {
   "display_name": "Python 3",
   "language": "python",
   "name": "python3"
  },
  "language_info": {
   "codemirror_mode": {
    "name": "ipython",
    "version": 3
   },
   "file_extension": ".py",
   "mimetype": "text/x-python",
   "name": "python",
   "nbconvert_exporter": "python",
   "pygments_lexer": "ipython3",
   "version": "3.4.3"
  }
 },
 "nbformat": 4,
 "nbformat_minor": 0
}
