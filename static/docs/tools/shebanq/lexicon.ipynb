{
 "cells": [
  {
   "cell_type": "markdown",
   "metadata": {},
   "source": [
    "<a href=\"http://laf-fabric.readthedocs.org/en/latest/\" target=\"_blank\"><img align=\"left\" src=\"images/laf-fabric-xsmall.png\"/></a>\n",
    "<a href=\"http://www.godgeleerdheid.vu.nl/etcbc\" target=\"_blank\"><img align=\"left\" src=\"images/VU-ETCBC-xsmall.png\"/></a>\n",
    "<a href=\"http://www.persistent-identifier.nl/?identifier=urn%3Anbn%3Anl%3Aui%3A13-048i-71\" target=\"_blank\"><img align=\"left\"src=\"images/etcbc4easy-small.png\"/></a>\n",
    "<a href=\"http://tla.mpi.nl\" target=\"_blank\"><img align=\"right\" src=\"images/TLA-xsmall.png\"/></a>\n",
    "<a href=\"http://www.dans.knaw.nl\" target=\"_blank\"><img align=\"right\"src=\"images/DANS-xsmall.png\"/></a>"
   ]
  },
  {
   "cell_type": "markdown",
   "metadata": {},
   "source": [
    "# The ETCBC lexicon files\n",
    "\n",
    "We examine the ETCBC lexicon files, we check their internal consistency and their correspondence\n",
    "with the ETCBC4 database, \n",
    "and finally we will add the lexicon as extra features to the ETCBC4 text database.\n",
    "\n",
    "The lexical features of a lexeme are added to each word occurrence in the text that is associated with that lexeme.\n",
    "\n",
    "Of course, this is redundant, but for text processing it is convenient. \n",
    "Alternatively, we could transform this data to\n",
    "[LMF (Lexical Markup Framework)](http://www.lexicalmarkupframework.org) [ISO-24613:2008](http://www.iso.org/iso/catalogue_detail.htm?csnumber=37327) for usage next to the LAF version of the Hebrew Text Database.\n",
    "An introduction to LMF can be found on [Wikipedia](http://en.wikipedia.org/wiki/Lexical_Markup_Framework).\n",
    "[Generate schemas](https://tla.mpi.nl/relish/lmf/).\n",
    "See also [this paper (pdf)](http://www.lrec-conf.org/proceedings/lrec2014/pdf/154_Paper.pdf) by Menzo Windhouwer et. al.\n",
    "May be later.\n",
    "\n",
    "# The ETCBC Ketiv-Qere files\n",
    "\n",
    "In the Emdros export of the ETCBC database,\n",
    "only the *ketiv* representations are present, not the (vocalized)\n",
    "*qere* versions.\n",
    "However, we can include this data from a separate file.\n",
    "We include two features: \n",
    "\n",
    "* *qere* the fully vocalized qere in ETCBC transcription\n",
    "* *qtrailer* the material after a qere before the next word, also in ETCBC transcription\n",
    "\n",
    "# Biblical languages\n",
    "Among the ETCBC data are lexicon files for the biblical languages.\n",
    "We want to put that data in LMF files, and put them to use in LAF-Fabric and SHEBANQ.\n",
    "\n",
    "We have lexicon files for the following languages (given in [ISO 639-3 codes and names](http://www-01.sil.org/iso639-3/default.asp))\n",
    "\n",
    "* ``hbo`` *Ancient Hebrew*\n",
    "* ``arc`` *Official Aramaic; Imperial Aramaic*\n",
    "* ``syc`` *Classical Syriac*\n",
    "\n",
    "In the sequel we will consistently and exclusively refer to these languages by their ISO 639-3 abbreviations.\n",
    "For the ETCBC4 database we use ``hbo`` and ``arc`` only.\n",
    "\n",
    "# Feature explanation\n",
    "\n",
    "Here is a list of features encountered in the lexicon.\n",
    "Some of them correspond to features encountered in the text.\n",
    "\n",
    "## entry \n",
    "corresponds to the ``lex`` feature of word occurrences.\n",
    "\n",
    "## vocalized lexeme\n",
    "``vc``  looks like the ``g_lex`` feature of word occurrence, but they are not the same. The ``vc`` is an idealized (aka *paradigmatic*), pointed representation of the lexeme, which may or may not occur in the text. The ``g_lex`` is the realized lexeme in a concrete occurrence, of which it may be a part.\n",
    "\n",
    "## root\n",
    "``rt`` does not correspond to a feature of word occurrences.\n",
    "It contains the abstract root of a lexeme, in the sense of the form from which the lexeme has been *derived*.\n",
    "\n",
    "## part of speech\n",
    "``sp`` corresponds exactly to ``sp`` on word occurrences.\n",
    "\n",
    "## subpart of speech (lexical set)\n",
    "``ls`` corresponds to exactly to ``ls`` on word occurrences.\n",
    "\n",
    "## gender\n",
    "``gn`` corresponds to ``gn`` on word occurrences, except for words whose gender is not lexically determined such as verbs and adjectives. The policy is to include this feature in the lexicon only when the gender is not obvious from the set of its textual occurrences.\n",
    "\n",
    "## number\n",
    "``nu`` corresponds to ``nu`` on word occurrences, but in general number is not lexically determined.\n",
    "\n",
    "## person\n",
    "``ps`` corresponds to ``ps`` on word occurrences, but in general person is not lexically detemined.\n",
    "It occurs on a small number of ``pspr`` s in the lexicon.\n",
    "\n",
    "## state\n",
    "``st`` corresponds to ``st`` on word occurrences. It is only marked for a few ``nmpr`` s in the lexicon.\n",
    "\n",
    "## reference type\n",
    "``sm``  does not correspond to a textual feature. It is the reference type of proper nouns and personal pronouns (rarely), and consists of a comma separated list of the following values:\n",
    "\n",
    "* ``gens`` people or tribe name\n",
    "* ``mens`` month name\n",
    "* ``pers`` person name\n",
    "* ``ppde`` possible demonstrative pronoun, occurs only for personal pronouns\n",
    "* ``topo`` place name\n",
    "\n",
    "## comment or corrections\n",
    "``co`` does not correspond to any feature on word occurrences. Comments are used to express alternatives for the information entered. Comments are very rare in the lexicon.\n",
    "\n",
    "## kb\n",
    "``kb`` unclear. In *arc* there is one occurrence containing a transliterated words, in *hbo* there are a few occurrences containing a different value for ``sp``.\n",
    "\n",
    "## fc\n",
    "``fc`` unclear.\n",
    "\n",
    "# Lexicon data\n",
    "\n",
    "We add the lexicon data as extra features to the ETCBC4 database.\n",
    "\n",
    "For every word, we add *lexical* features, i.e. features that are obtained from looking up the word in the lexicon and then reading off extra attributes from the lexical entry.\n",
    "\n",
    "We add these features into the ``etcbc4`` annotation space, with label ``lex``.\n",
    "These are the extra features:\n",
    "\n",
    "* **lid** a fresh id, to be used in applications, unique over **entryid** and **lan**\n",
    "* **lan** the language of the entry, in ISO 639-3 abbreviation\n",
    "* **entryid** (= ``entry``) the string used as entry in the lexicon and as value of the ``lex`` feature in the text\n",
    "* **entry** the unpointed transliteration (= **entryid** without disambiguation marks)\n",
    "* **entry_heb** the unpointed hebrew representation, obtained by untransliterating **entry**\n",
    "* (shortly) **g_entry** (= ``vc``) the pointed transliteration, without disambiguation marks\n",
    "* (shortly) **g_entry_heb** the pointed hebrew representation, obtained by untransliterating **g_entry**\n",
    "* (shortly) **root** (= ``rt``) the root\n",
    "* **gloss** (= ``gl``) the gloss\n",
    "* **pos** (= ``sp``) the part of speech\n",
    "* **nametype** (= ``sm``) the type of named entity\n",
    "* **subpos** (= ``ls``) subtype of part of speech (aka *lexical set*)"
   ]
  },
  {
   "cell_type": "code",
   "execution_count": 1,
   "metadata": {
    "collapsed": false
   },
   "outputs": [
    {
     "name": "stderr",
     "output_type": "stream",
     "text": [
      "  0.00s This is LAF-Fabric 4.5.4\n",
      "API reference: http://laf-fabric.readthedocs.org/en/latest/texts/API-reference.html\n",
      "Feature doc: https://shebanq.ancient-data.org/static/docs/featuredoc/texts/welcome.html\n",
      "\n"
     ]
    }
   ],
   "source": [
    "import collections\n",
    "import laf\n",
    "from laf.fabric import LafFabric\n",
    "from etcbc.preprocess import prepare\n",
    "from etcbc.extra import ExtraData\n",
    "from etcbc.lib import Transcription\n",
    "fabric = LafFabric()"
   ]
  },
  {
   "cell_type": "markdown",
   "metadata": {},
   "source": [
    "## Create annotations from lexicon file"
   ]
  },
  {
   "cell_type": "code",
   "execution_count": 2,
   "metadata": {
    "collapsed": true
   },
   "outputs": [],
   "source": [
    "source = 'etcbc'\n",
    "if 'version' not in locals(): version = '4b'"
   ]
  },
  {
   "cell_type": "code",
   "execution_count": 4,
   "metadata": {
    "collapsed": false
   },
   "outputs": [
    {
     "name": "stderr",
     "output_type": "stream",
     "text": [
      "  0.00s LOADING API: please wait ... \n",
      "  0.00s INFO: USING DATA COMPILED AT: 2015-06-29T05-30-49\n",
      "  9.51s LOGFILE=/Users/dirk/SURFdrive/laf-fabric-output/etcbc4b/lexicon/__log__lexicon.txt\n",
      "    19s ETCBC reference: http://laf-fabric.readthedocs.org/en/latest/texts/ETCBC-reference.html\n",
      "  0.00s LOADING API with EXTRAs: please wait ... \n",
      "  0.00s INFO: USING DATA COMPILED AT: 2015-06-29T05-30-49\n",
      "  0.52s INFO: DATA LOADED FROM SOURCE etcbc4b AND ANNOX -- FOR TASK lexicon AT 2015-10-15T08-06-09\n",
      "  0.00s INFO: DATA LOADED FROM SOURCE etcbc4b AND ANNOX -- FOR TASK lexicon AT 2015-10-15T08-06-09\n"
     ]
    }
   ],
   "source": [
    "API=fabric.load(source+version, '--', 'lexicon', {\n",
    "    \"xmlids\": {\"node\": True, \"edge\": False},\n",
    "    \"features\": ('''\n",
    "        oid otype label\n",
    "        g_word g_word_utf8 g_cons language lex lex_utf8 g_lex g_lex_utf8\n",
    "        sp ls gn nu ps st    ''',\n",
    "    '''\n",
    "    '''),\n",
    "    \"prepare\": prepare,\n",
    "}, verbose='NORMAL')\n",
    "exec(fabric.localnames.format(var='fabric'))"
   ]
  },
  {
   "cell_type": "markdown",
   "metadata": {},
   "source": [
    "# Read and check the lexical files\n",
    "\n",
    "First we read the lexicon, and perform some internal consistency checks, e.g. whether there are duplicate lexical entries."
   ]
  },
  {
   "cell_type": "code",
   "execution_count": null,
   "metadata": {
    "collapsed": false
   },
   "outputs": [],
   "source": [
    "langs = {'hbo', 'arc'}\n",
    "lex_base = dict((lan, '{}/{}/{}.{}{}'.format(API['data_dir'], 'lexicon', lan, source, version)) for lan in langs)\n",
    "lang_map = {\n",
    "    'Hebrew': 'hbo',\n",
    "    'Aramaic': 'arc',\n",
    "}\n",
    "\n",
    "def read_lex(lan):\n",
    "    lex_infile = open(lex_base[lan], encoding='utf-8')\n",
    "    lex_outfile = outfile('{}.txt'.format(lan))\n",
    "    lex_errfile = outfile('{}.err.txt'.format(lan))\n",
    "\n",
    "    lex_items = {}\n",
    "    ln = 0\n",
    "    e = 0\n",
    "    for line in lex_infile:\n",
    "        ln += 1\n",
    "        line = line.rstrip()\n",
    "        line = line.split('#')[0]\n",
    "        if line == '': continue\n",
    "        (entry, featurestr) = line.split(sep=None, maxsplit=1)\n",
    "        entry = entry.strip('\"')\n",
    "        if entry in lex_items:\n",
    "            lex_errfile.write('duplicate lexical entry {} in line {}.\\n'.format(entry, ln))\n",
    "            e += 1\n",
    "            continue\n",
    "        featurestr = featurestr.strip(':')\n",
    "        featurestr = featurestr.replace('\\\\:', chr(254))\n",
    "        featurelst = featurestr.split(':')\n",
    "        features = {}\n",
    "        for feature in featurelst:\n",
    "            comps = feature.split('=', maxsplit=1)\n",
    "            if len(comps) == 1:\n",
    "                if feature.strip().isnumeric():\n",
    "                    comps = ('_n', feature.strip())\n",
    "                else:\n",
    "                    lex_errfile.write('feature without value for lexical entry {} in line {}: {}\\n'.format(entry, ln, feature))\n",
    "                    e += 1\n",
    "                    continue\n",
    "            (key, value) = comps\n",
    "            value = value.replace(chr(254), ':')\n",
    "            if key in features:\n",
    "                lex_errfile.write('duplicate feature for lexical entry {} in line {}: {}={}\\n'.format(entry, ln, key, value))\n",
    "                e += 1\n",
    "                continue\n",
    "            features[key] = value\n",
    "        if 'sp' in features and features['sp'] == 'verb':\n",
    "            if 'gl' in features:\n",
    "                gloss = features['gl']\n",
    "                if gloss.startswith('to '):\n",
    "                    features['gl'] = gloss[3:]\n",
    "        lex_items[entry] = features\n",
    "        lex_outfile.write('{}\\t{}\\n'.format(entry, features))\n",
    "        \n",
    "    lex_infile.close()\n",
    "    lex_outfile.close()\n",
    "    lex_errfile.close()\n",
    "    msgstr = \"Lexicon {}: there w\".format(lan) + ('ere {} errors'.format(e) if e != 1 else 'as 1 error')\n",
    "    print(msgstr)\n",
    "    return lex_items\n",
    "\n",
    "msg(\"Reading lexicon ...\")\n",
    "lex_entries = dict((lan, read_lex(lan)) for lan in sorted(langs))\n",
    "for lan in sorted(lex_entries):\n",
    "    print('Lexicon {} has {:>5} entries'.format(lan, len(lex_entries[lan])))\n",
    "msg(\"Done\")"
   ]
  },
  {
   "cell_type": "markdown",
   "metadata": {},
   "source": [
    "# Gather the lexemes from the etcbc4 database\n",
    "\n",
    "We inspect all word occurrences of the etcbc4 database, inspect their language and lexeme values, and construct sets of lexemes that belong to each of the two languages, ``hbo`` and ``arc``."
   ]
  },
  {
   "cell_type": "code",
   "execution_count": null,
   "metadata": {
    "collapsed": false
   },
   "outputs": [],
   "source": [
    "lex_text = collections.defaultdict(lambda: collections.defaultdict(lambda: collections.defaultdict(lambda: set())))\n",
    "do_value_compare = {'sp', 'ls', 'gn', 'ps', 'nu', 'st'}\n",
    "text_value_set = collections.defaultdict(lambda: set())\n",
    "node_lex = {}\n",
    "\n",
    "msg(\"Reading ETCBC database {}{} ...\".format(source, version))\n",
    "text_langs = set()\n",
    "for n in F.otype.s('word'):\n",
    "    lan = lang_map[F.language.v(n)]\n",
    "    text_langs.add(lan)\n",
    "    lex = F.lex.v(n)\n",
    "    node_lex[n] = (lan,lex)\n",
    "    lex_text[lan][lex]['sp'].add(F.sp.v(n))\n",
    "    lex_text[lan][lex]['ls'].add(F.ls.v(n))\n",
    "    lex_text[lan][lex]['gn'].add(F.gn.v(n))\n",
    "    lex_text[lan][lex]['nu'].add(F.nu.v(n))\n",
    "    lex_text[lan][lex]['ps'].add(F.ps.v(n))\n",
    "    lex_text[lan][lex]['vc'].add(F.g_lex.v(n))\n",
    "    for p in do_value_compare:\n",
    "        text_value_set[p].add(F.item[p].v(n))        \n",
    "\n",
    "tf = outfile('text_lexemes.txt')\n",
    "for lan in sorted(lex_text):\n",
    "    for lex in sorted(lex_text[lan]):\n",
    "        tf.write('{} \"{}\"\\n'.format(lan, lex))\n",
    "tf.close()\n",
    "msg(\"Done\")\n",
    "for lan in sorted(lex_text):\n",
    "    print('Language {} has {:>5} lexemes in the {}{} text'.format(lan, len(lex_text[lan]), source, version))"
   ]
  },
  {
   "cell_type": "markdown",
   "metadata": {},
   "source": [
    "# More checks\n",
    "\n",
    "We check the following matters.\n",
    "\n",
    "## Intersection between Hebrew and Aramaic\n",
    "\n",
    "Are there entries that are Hebrew and Aramaic?\n",
    "\n",
    "We check \n",
    "* whether the etcbc4 database has marked some lexemes belonging to ``hbo`` as well as belonging to ``arc``\n",
    "* whether the lexica for ``hbo`` and ``arc`` share lexeme entries\n",
    "* whether the lexical intersection of ``hbo`` and ``arc`` is equal to the textual intersection of ``hbo`` and ``arc``."
   ]
  },
  {
   "cell_type": "code",
   "execution_count": null,
   "metadata": {
    "collapsed": false
   },
   "outputs": [],
   "source": [
    "arc_lex = set(lex_entries['arc'])\n",
    "hbo_lex = set(lex_entries['hbo'])\n",
    "\n",
    "arc_text = set(lex_text['arc'])\n",
    "hbo_text = set(lex_text['hbo'])\n",
    "\n",
    "hbo_and_arc_text = arc_text & hbo_text\n",
    "hbo_and_arc_lex = arc_lex & hbo_lex\n",
    "\n",
    "lex_min_text = hbo_and_arc_lex - hbo_and_arc_text\n",
    "text_min_lex = hbo_and_arc_text - hbo_and_arc_lex\n",
    "\n",
    "\n",
    "print('The intersection of hbo and arc in the etcbc4 text contains {} lexemes'.format(len(hbo_and_arc_text)))\n",
    "print('The intersection of hbo and arc in the lexicon     contains {} lexemes'.format(len(hbo_and_arc_lex)))\n",
    "print(\"Lexemes in the lexical intersection of hbo and arc but not in the textual intersection: {}x: {}\".format(\n",
    "    len(lex_min_text), lex_min_text)\n",
    ")\n",
    "print(\"Lexemes in the textual intersection of hbo and arc but not in the lexical intersection: {}x: {}\".format(\n",
    "    len(text_min_lex), text_min_lex)\n",
    ")"
   ]
  },
  {
   "cell_type": "markdown",
   "metadata": {},
   "source": [
    "## Match between lexicon and text\n",
    "Let us now check whether all lexemes in the text occur in the lexicon and vice versa."
   ]
  },
  {
   "cell_type": "code",
   "execution_count": null,
   "metadata": {
    "collapsed": false
   },
   "outputs": [],
   "source": [
    "arc_text_min_lex = arc_text - arc_lex\n",
    "arc_lex_min_text = arc_lex - arc_text\n",
    "\n",
    "hbo_text_min_lex = hbo_text - hbo_lex\n",
    "hbo_lex_min_text = hbo_lex - hbo_text\n",
    "\n",
    "for (myset, mymsg) in (\n",
    "    (arc_text_min_lex, 'arc: lexemes in text but not in lexicon'),\n",
    "    (arc_lex_min_text, 'arc: lexemes in lexicon but not in text'),\n",
    "    (hbo_text_min_lex, 'hbo: lexemes in text but not in lexicon'),\n",
    "    (hbo_lex_min_text, 'hbo: lexemes in lexicon but not in text'),\n",
    "):\n",
    "    print('{}: {}x{}'.format(mymsg, len(myset), '' if not myset else '\\n\\t{}'.format(', '.join(sorted(myset)))))"
   ]
  },
  {
   "cell_type": "markdown",
   "metadata": {},
   "source": [
    "# Usability as identifier\n",
    "\n",
    "We examine how the ``lex``feature can be transformed in an url friendly identifier.\n",
    "This is important, because theis feature has the potential of identifying lexemes across versions.\n",
    "\n",
    "It turns out as follows:\n",
    "\n",
    "* we need a length or at least 15\n",
    "* there are no spaces\n",
    "* most characters are ``A-Z``, except for `` < > _ [ / = ``\n",
    "\n",
    "This is what we do:\n",
    "\n",
    "* let us be safe and allocate a varchar(32)\n",
    "* the ``>`` is an alef, we translate it to ``a``\n",
    "* the ``<`` is an ayin, we translate it to ``y``\n",
    "* the ``/`` denotes a noun, we translate it to ``n``\n",
    "* the ``[`` denotes a verb, we translate it to ``v``\n",
    "* the ``=`` is for disambiguation, we translate it to ``0``\n",
    "* we prepend a language identifier, ``1`` for Hebrew, ``2`` for aramaic. "
   ]
  },
  {
   "cell_type": "code",
   "execution_count": null,
   "metadata": {
    "collapsed": false
   },
   "outputs": [],
   "source": [
    "max_len = 0\n",
    "chars = collections.Counter()\n",
    "for n in F.otype.s('word'):\n",
    "    lex = F.lex.v(n)\n",
    "    if len(lex) > max_len: max_len = len(lex)\n",
    "    for c in lex:\n",
    "        chars[c] += 1\n",
    "print('max len = {}'.format(max_len))\n",
    "for c in sorted(chars):\n",
    "    print('{} : {:>7} x'.format(c, chars[c]))"
   ]
  },
  {
   "cell_type": "markdown",
   "metadata": {},
   "source": [
    "## Feature richness\n",
    "\n",
    "Which features do the entries have, and what percentage of the entries has those features?"
   ]
  },
  {
   "cell_type": "code",
   "execution_count": null,
   "metadata": {
    "collapsed": false
   },
   "outputs": [],
   "source": [
    "feature_count = collections.defaultdict(lambda: collections.Counter())\n",
    "inspect_prop = collections.defaultdict(\n",
    "    lambda: collections.defaultdict(lambda: collections.defaultdict(lambda: collections.Counter()))\n",
    ")\n",
    "lex_value_set = collections.defaultdict(lambda: set())\n",
    "\n",
    "close_inspect = {'sp', 'sm', 'ls', 'gn', 'ps', 'nu', 'st'} # , 'co', 'kb', 'fc'\n",
    "\n",
    "for lan in lex_entries:\n",
    "    entries = lex_entries[lan]\n",
    "    for entry in entries:\n",
    "        features = entries[entry]\n",
    "        for feature in features:\n",
    "            feature_count[lan][feature] += 1\n",
    "        for p in close_inspect:\n",
    "            if p in features:\n",
    "                inspect_prop[lan][p][features[p]][features['sp']] += 1\n",
    "        if lan != 'syc':\n",
    "            for p in do_value_compare:\n",
    "                if p in features:\n",
    "                    lex_value_set[p].add(features[p])\n",
    "\n",
    "for lan in feature_count:\n",
    "    nentries = len(lex_entries[lan])\n",
    "    for feature in feature_count[lan]:\n",
    "        fv = feature_count[lan][feature]\n",
    "        feature_count[lan][feature] = fv * 100 / nentries\n",
    "\n",
    "print(\"Feature occurrences in the lexicon\")\n",
    "for lan in sorted(feature_count):\n",
    "    feature_spec = '\\n'.join('\\t{:<8}: {:>6.2f}%'.format(f, v) for (f,v) in sorted(feature_count[lan].items(), key=lambda x: (-x[1], x[0])))\n",
    "    print(\"{}\\n{}\\t\".format(lan, feature_spec))"
   ]
  },
  {
   "cell_type": "code",
   "execution_count": null,
   "metadata": {
    "collapsed": false
   },
   "outputs": [],
   "source": [
    "print(\"Detail feature values and occurrences\")\n",
    "for lan in sorted(inspect_prop):\n",
    "    print(\"{}\\n\".format(lan))\n",
    "    for p in sorted(inspect_prop[lan]):\n",
    "        print(\"\\t{}\\n\".format(p))\n",
    "        for value in sorted(inspect_prop[lan][p]):\n",
    "            inspect_spec = '\\n'.join('\\t\\t\\t{:<6}: {:>3}x'.format(f, v) for (f,v) in sorted(\n",
    "                inspect_prop[lan][p][value].items(), key=lambda x: (-x[1], x[0])\n",
    "            ))\n",
    "            print(\"\\t\\t{}\\n{}\\t\".format(value, inspect_spec))"
   ]
  },
  {
   "cell_type": "markdown",
   "metadata": {},
   "source": [
    "## Consistency of text features\n",
    "\n",
    "Multiple occurrences in the text point to the same lexeme. \n",
    "Some properties of those occurrences are in fact properties of the lexeme, e.g. the part of speech.\n",
    "\n",
    "The question arises: is the property assigned to the word occurrences in such a way that all occurrences of the same lexeme have the same value for that property?\n",
    "\n",
    "We will see that this is in general not the case.\n",
    "There are features, that have a definition in the lexicon, but that can be overridden on word occurrences.\n",
    "\n",
    "However, some features are more consistent than others: the features **pos** (=``sp``), **subpos** (= ``ls``), **gender**.\n",
    "\n",
    "It becomes also clear that the lexical property **g_entry** (= ``vc``) (aka *vocalized lexeme*) is mostly different from the\n",
    "the textual feature **g_lex** (aka *graphical lexeme*).\n",
    "The output file *inconsistent.csv* shows exactly what is going on."
   ]
  },
  {
   "cell_type": "code",
   "execution_count": null,
   "metadata": {
    "collapsed": false
   },
   "outputs": [],
   "source": [
    "consistent_props = {'sp', 'ls', 'gn', 'vc'}\n",
    "variable_gender = {'verb', 'adjv'}\n",
    "\n",
    "exceptions = collections.defaultdict(lambda: collections.defaultdict(lambda: set()))\n",
    "exceptions_gn = collections.defaultdict(lambda: collections.Counter())\n",
    "\n",
    "incons = outfile('inconsistent.csv')\n",
    "for lan in sorted(lex_text):\n",
    "    lexemes = lex_text[lan]\n",
    "    for lexeme in sorted(lexemes):\n",
    "        properties = lexemes[lexeme]\n",
    "        for prop in consistent_props:\n",
    "            if prop in properties:\n",
    "                values = properties[prop]\n",
    "                psp = list(properties['sp'])[0]\n",
    "                if len(values) > 1:\n",
    "                    if prop == 'gn':\n",
    "                        if (len(set(properties['sp']) & variable_gender) != 0): continue\n",
    "                        exceptions_gn[lan][psp] += 1\n",
    "                    exceptions[lan][prop].add(lexeme)\n",
    "                    incons.write('\"{}\";\"{}\";\"{}\";\"{}\";{};\"{}\"\\n'.format(lan, prop, lexeme, psp, len(values), '\";\"'.join(values)))\n",
    "incons.close()\n",
    "for lan in sorted(text_langs):\n",
    "    print(\"{}\\n\".format(lan))\n",
    "    for prop in sorted(consistent_props):\n",
    "        extra = ''\n",
    "        if prop == 'gn':\n",
    "            for psp in exceptions_gn[lan]:\n",
    "                extra += '\\n{}{}: {}x'.format(' ' * 8, psp, exceptions_gn[lan][psp])\n",
    "        print(\"{}{:<8}: {:>4} inconsistent lexemes{}\".format(' ' * 4, prop, len(exceptions.get(lan, {}).get(prop, set())), extra))        "
   ]
  },
  {
   "cell_type": "markdown",
   "metadata": {},
   "source": [
    "## Consistency of feature values between lexicon and text\n",
    "\n",
    "Are the *values* of features used in the text database consistent with the values used in the lexicon?\n",
    "\n",
    "If not, we will apply a value transformation that harmonizes the values in lexical entries with those in textual features.\n",
    "We adapt the lexical values to the textual ones. We do this only for features whose value domains are enumerations."
   ]
  },
  {
   "cell_type": "code",
   "execution_count": null,
   "metadata": {
    "collapsed": false
   },
   "outputs": [],
   "source": [
    "for p in do_value_compare:\n",
    "    print(p)\n",
    "    text_not_lex = sorted(text_value_set[p] - lex_value_set[p])\n",
    "    lex_not_text = sorted(lex_value_set[p] - text_value_set[p])\n",
    "    print('\\tin text and not in lex: {}: {}'.format(len(text_not_lex), text_not_lex))\n",
    "    print('\\tin lex and not in text: {}: {}'.format(len(lex_not_text), lex_not_text))"
   ]
  },
  {
   "cell_type": "markdown",
   "metadata": {},
   "source": [
    "# Checking lex_utf8\n",
    "\n",
    "There are two ways to get the unpointed lexeme in Unicode form:\n",
    "\n",
    "* use the ``lex_utf8`` feature\n",
    "* use the ``lex`` feature, strip the disambiguation marks at the end, and un-transliterate.\n",
    "\n",
    "We check whether they yield the same results.\n",
    "\n",
    "As a preliminary check, we check whether there is a 1-1 correspondence between the ``lex`` and ``lex_utf8`` features."
   ]
  },
  {
   "cell_type": "code",
   "execution_count": null,
   "metadata": {
    "collapsed": false
   },
   "outputs": [],
   "source": [
    "def strip_id(entryid):\n",
    "    return entryid.rstrip('/[=')\n",
    "\n",
    "def to_heb(translit):\n",
    "    return Transcription.to_hebrew(Transcription.suffix_and_finales(translit)[0])\n",
    "\n",
    "\n",
    "lex = collections.defaultdict(lambda: set())\n",
    "for n in F.otype.s('word'):\n",
    "    lexstrip = strip_id(F.lex.v(n))\n",
    "    lexustrip = strip_id(F.lex_utf8.v(n))\n",
    "    lex[lexstrip].add(lexustrip)\n",
    "print('There are {} lexemes, ignoring homonyms'.format(len(lex)))\n",
    "disc = set()\n",
    "for lx in lex:\n",
    "    if len(lex[lx]) > 1: disc.add(lx)\n",
    "if len(disc) == 0:\n",
    "    print('There is a 1-1 correspondence between lex/strip and lex_utf8')\n",
    "else:\n",
    "    print('There are a {} lex/strip values with multiple lex_utf8 values'.format(len(disc)))\n",
    "    for lx in disc:\n",
    "        print('{} has {}'.format(lx, lex[lx]))"
   ]
  },
  {
   "cell_type": "markdown",
   "metadata": {},
   "source": [
    "# Composing a lexical data file\n",
    "\n",
    "The specification in ``lex_fields`` below specifies the lexicon fields in the intended order.\n",
    "It contains instructions how to construct the field values from the lexical information obtained from the lexicon files.\n",
    "\n",
    "    (source, method, name, transformation table, data type, data size, data options)\n",
    "\n",
    "## source \n",
    "May contain one of the following:\n",
    "\n",
    "* the name of a lexical feature as shown in the lexicon files, such as ``sp``, ``vc``.\n",
    "* None. \n",
    "  In this case, **method** is a code that triggers special actions, such as getting an id or something that is available to the   program that fills the lexicon table\n",
    "* the name of an other field as shown in the **name** part of the specification. \n",
    "  In this case, **method** must be a function, defined else where, that takes the value of that other field as argument. \n",
    "  The function is typically a transliteration, or a stripping action.\n",
    "\n",
    "## method\n",
    "May contain one of the following:\n",
    "\n",
    "* a code (string), indicating:\n",
    "    * ``lex``: take the value of a feature (indicated in **source**) for this entry from the lexicon file\n",
    "    * ``entry``: take the value of the entry itself as found in the lexicon file\n",
    "    * ``id``: take the id for this entry as generated by the program\n",
    "    * ``lan``: take the language of this entry\n",
    "* a function taking one argument\n",
    "    * *strip_id*: strip the non-lexeme characters at the end of the entry (the ``/ [ =`` characters)\n",
    "    * *to_heb*: transform the transliteration into real unicode Hebrew\n",
    "\n",
    "## name\n",
    "The name of the field in the to be constructed annotation file."
   ]
  },
  {
   "cell_type": "code",
   "execution_count": null,
   "metadata": {
    "collapsed": false
   },
   "outputs": [],
   "source": [
    "lex_fields = (\n",
    "    (None, 'id', 'id', None),\n",
    "    (None, 'lan', 'lan', None),\n",
    "    (None, 'entry', 'entryid', None),\n",
    "    ('entryid', strip_id, 'entry', None),\n",
    "    ('entry', to_heb, 'entry_heb', None),\n",
    "    ('vc', 'lex', 'g_entry', None),\n",
    "    ('g_entry', to_heb, 'g_entry_heb', None),\n",
    "    ('rt', 'lex', 'root', None),\n",
    "    ('sp', 'lex', 'pos', None),\n",
    "    ('sm', 'lex', 'nametype', None),\n",
    "    ('ls', 'lex', 'subpos', None),\n",
    "    ('gl', 'lex', 'gloss', None),\n",
    ")\n",
    "\n",
    "cur_lex_values = {}\n",
    "\n",
    "def compute_fields(lan, entry, lid, lexfeats):\n",
    "    cur_lex_values.clear()\n",
    "    return tuple(compute_field(lan, entry, lid, lexfeats, f) for f in lex_fields)\n",
    "\n",
    "def compute_field(lan, entry, lid, lexfeats, f):\n",
    "    (source, method, name, transform) = f\n",
    "    val = None\n",
    "    if method == 'lan': val = lan\n",
    "    elif method == 'entry': val = entry\n",
    "    elif method == 'id': val = lid\n",
    "    elif method =='lex':\n",
    "        val = lexfeats.get(f[0], '')\n",
    "        if transform != None and val in transform: val = transform[val]\n",
    "    else: val = method(cur_lex_values[f[0]])\n",
    "    cur_lex_values[f[2]] = val\n",
    "    return val\n",
    "\n",
    "lex_index = {}\n",
    "cur_id = -1\n",
    "for lan in sorted(lex_entries):\n",
    "    for entry in sorted(lex_entries[lan]):\n",
    "        cur_id += 1\n",
    "        entry_info = compute_fields(lan, entry, cur_id, lex_entries[lan][entry])\n",
    "        lex_index[(lan, entry)] = entry_info"
   ]
  },
  {
   "cell_type": "markdown",
   "metadata": {},
   "source": [
    "## Deliver lexical data"
   ]
  },
  {
   "cell_type": "code",
   "execution_count": null,
   "metadata": {
    "collapsed": true
   },
   "outputs": [],
   "source": [
    "def get_lex(dummy):\n",
    "    msg('Preparing lex data')\n",
    "    data = []\n",
    "    for n in sorted(node_lex):\n",
    "        this_info = lex_index[node_lex[n]]\n",
    "        data.append((n,) + this_info)\n",
    "    msg('{} words'.format(len(data)))\n",
    "    return data"
   ]
  },
  {
   "cell_type": "markdown",
   "metadata": {},
   "source": [
    "# Phonetic transcription\n",
    "\n",
    "We load the output of the phono notebook, which has provided for each word node a phonetc transcription."
   ]
  },
  {
   "cell_type": "code",
   "execution_count": null,
   "metadata": {
    "collapsed": false
   },
   "outputs": [],
   "source": [
    "def get_phono(file_name):\n",
    "    msg('Reading phonetic transcriptions')\n",
    "    phonos = []\n",
    "    phono_file = open(file_name)\n",
    "    for line in phono_file:\n",
    "        (node, wordph, sep) = line[0:-1].split('\\t')\n",
    "        if sep == '+': continue\n",
    "        phonos.append((int(node), wordph, sep))\n",
    "    phono_file.close()\n",
    "    msg('{} words'.format(len(phonos)))\n",
    "    return phonos"
   ]
  },
  {
   "cell_type": "markdown",
   "metadata": {},
   "source": [
    "# Read and check the ketiv qere files\n",
    "\n",
    "## Make a verse index\n",
    "\n",
    "De ketiv qere files use a particular form of verse labels.\n",
    "We have to map them to the corresponding verse nodes."
   ]
  },
  {
   "cell_type": "code",
   "execution_count": null,
   "metadata": {
    "collapsed": false
   },
   "outputs": [],
   "source": [
    "msg(\"Making mappings between verse labels in KQ and verse nodes in LAF\")\n",
    "vlab2vnode = {}\n",
    "for vs in F.otype.s('verse'):\n",
    "    lab = F.label.v(vs)\n",
    "    vlab2vnode[lab] = vs\n",
    "msg(\"{} verses\".format(len(vlab2vnode)))"
   ]
  },
  {
   "cell_type": "markdown",
   "metadata": {},
   "source": [
    "## Method to read kq data"
   ]
  },
  {
   "cell_type": "code",
   "execution_count": null,
   "metadata": {
    "collapsed": true
   },
   "outputs": [],
   "source": [
    "def get_kq(kq_file):\n",
    "    msg(\"Reading Ketiv-Qere data\")\n",
    "\n",
    "    info = collections.defaultdict(lambda: [])\n",
    "    not_found = set()\n",
    "    missing = collections.defaultdict(lambda: [])\n",
    "    missed = collections.defaultdict(lambda: [])\n",
    "\n",
    "    error_limit = 10\n",
    "\n",
    "    kq_handle = open(kq_file)\n",
    "\n",
    "    ln = 0\n",
    "    can = 0\n",
    "    cur_label = None\n",
    "    for line in kq_handle:\n",
    "        ln += 1\n",
    "        can += 1\n",
    "        vlab = line[0:10]\n",
    "        fields = line.rstrip('\\n')[10:].split()\n",
    "        (ketiv, qere) = fields[0:2]\n",
    "        (qtrim, qtrailer) = Transcription.suffix_and_finales(qere)\n",
    "        vnode = vlab2vnode.get(vlab, None)\n",
    "        if vnode == None:\n",
    "            not_found.add(vlab)\n",
    "            continue\n",
    "        info[vnode].append((ketiv, qtrim, qtrailer))        \n",
    "    kq_handle.close()\n",
    "    msg(\"Read {} ketiv-qere annotations\".format(ln))\n",
    "\n",
    "    data = []\n",
    "    for vnode in info:\n",
    "        wlookup = collections.defaultdict(lambda: [])\n",
    "        wvisited = collections.defaultdict(lambda: -1)\n",
    "        wnodes = L.d('word', vnode)\n",
    "        for w in wnodes:\n",
    "            gw = F.g_word.v(w)\n",
    "            if '*' in gw:\n",
    "                gw = F.g_cons.v(w)\n",
    "                if gw == '': gw = '.'\n",
    "                wlookup[gw].append(w)\n",
    "        for (ketiv, qere, qtrailer) in info[vnode]:\n",
    "            wvisited[ketiv] += 1\n",
    "            windex = wvisited[ketiv]\n",
    "            ws = wlookup.get(ketiv, None)\n",
    "            if ws == None or windex > len(ws) - 1:\n",
    "                missing[vnode].append((windex, ketiv, qere))\n",
    "                continue\n",
    "            w = ws[windex]\n",
    "            qere_u = Transcription.to_hebrew(qere)\n",
    "            qtrailer_u = Transcription.to_hebrew(qtrailer)\n",
    "            data.append((w, ketiv, qere_u, qtrailer_u))\n",
    "        for ketiv in wlookup:\n",
    "            if ketiv not in wvisited or len(wlookup[ketiv]) - 1 > wvisited[ketiv]:\n",
    "                missed[vnode].append((len(wlookup[ketiv]) - (wvisited.get(ketiv, -1) + 1), ketiv))\n",
    "    msg(\"Parsed {} ketiv-qere annotations\".format(len(data)))\n",
    "\n",
    "    if not_found:\n",
    "        msg(\"Could not find {} verses: {}\".format(len(not_found), sorted(not_found)))\n",
    "    else:\n",
    "        msg(\"All verses entries found in index\")\n",
    "    if missing:\n",
    "        msg(\"Could not locate ketivs in the text: {} verses\".format(len(missing)))\n",
    "        e = 0\n",
    "        for vnode in sorted(missing):\n",
    "            if e > error_limit: break\n",
    "            vlab = F.label.v(vnode)\n",
    "            for (windex, ketiv, qere) in missing[vnode]:\n",
    "                e += 1\n",
    "                if e > error_limit: break\n",
    "                print('NOT IN TEXT: {:<10} {:<20} #{} {}'.format(vlab, ketiv, windex, qere))\n",
    "    else:\n",
    "        msg(\"All ketivs found in the text\")\n",
    "    if missed:\n",
    "        msg(\"Could not lookup qeres in the data: {} verses\".format(len(missing)))\n",
    "        e = 0\n",
    "        for vnode in sorted(missed):\n",
    "            if e > error_limit: break\n",
    "            vlab = F.label.v(vnode)\n",
    "            for (windex, ketiv) in missed[vnode]:\n",
    "                e += 1\n",
    "                if e > error_limit: break\n",
    "                print('NOT IN DATA: {:<10} {:<20} #{}'.format(vlab, ketiv, windex))\n",
    "    else:\n",
    "        msg(\"All ketivs found in the data\")\n",
    "    return [(x[0], x[2], x[3]) for x in data]"
   ]
  },
  {
   "cell_type": "markdown",
   "metadata": {},
   "source": [
    "# Compose the annotation package"
   ]
  },
  {
   "cell_type": "code",
   "execution_count": null,
   "metadata": {
    "collapsed": false
   },
   "outputs": [],
   "source": [
    "lex = ExtraData(API)\n",
    "\n",
    "ph_base = '{}/{}.{}{}'.format('ph', 'phono', source, version)\n",
    "kq_base = '{}/{}.{}{}'.format('kq', 'kq', source, version)\n",
    "\n",
    "msg(\"Writing annotation package ...\")\n",
    "lex.deliver_annots(\n",
    "    'lexicon', \n",
    "    {'title': 'Lexicon lookups, phonetic transcription, ketiv-qere', 'date': '2015'},\n",
    "    [\n",
    "        (ph_base, 'ph', get_phono, (\n",
    "            ('etcbc4', 'ph', 'phono'),\n",
    "            ('etcbc4', 'ph', 'phono_sep'),\n",
    "        )),\n",
    "        (kq_base, 'kq', get_kq, (\n",
    "            ('etcbc4', 'kq', 'g_qere_utf8'),\n",
    "            ('etcbc4', 'kq', 'qtrailer_utf8'),\n",
    "        )),\n",
    "        ('lexicon/lex_data', 'lex', get_lex, (\n",
    "            ('etcbc4', 'lex', 'id'),\n",
    "            ('etcbc4', 'lex', 'lan'),\n",
    "            ('etcbc4', 'lex', 'entryid'),\n",
    "            ('etcbc4', 'lex', 'entry'),\n",
    "            ('etcbc4', 'lex', 'entry_heb'),\n",
    "            ('etcbc4', 'lex', 'g_entry'),\n",
    "            ('etcbc4', 'lex', 'g_entry_heb'),\n",
    "            ('etcbc4', 'lex', 'root'),\n",
    "            ('etcbc4', 'lex', 'pos'),\n",
    "            ('etcbc4', 'lex', 'nametype'),\n",
    "            ('etcbc4', 'lex', 'subpos'),\n",
    "            ('etcbc4', 'lex', 'gloss'),\n",
    "        )),\n",
    "    ]\n",
    ")\n",
    "msg(\"Done\")"
   ]
  },
  {
   "cell_type": "markdown",
   "metadata": {},
   "source": [
    "## Checking: loading the new features"
   ]
  },
  {
   "cell_type": "code",
   "execution_count": 3,
   "metadata": {
    "collapsed": false
   },
   "outputs": [
    {
     "name": "stderr",
     "output_type": "stream",
     "text": [
      "  0.00s LOADING API: please wait ... \n",
      "  0.00s INFO: USING DATA COMPILED AT: 2015-06-29T05-30-49\n",
      "  0.00s INFO: USING DATA COMPILED AT: 2015-10-14T12-36-08\n",
      "  4.51s LOGFILE=/Users/dirk/SURFdrive/laf-fabric-output/etcbc4b/shebanq/__log__shebanq.txt\n",
      "  4.52s INFO: DATA LOADED FROM SOURCE etcbc4b AND ANNOX lexicon FOR TASK shebanq AT 2015-10-15T08-06-40\n"
     ]
    }
   ],
   "source": [
    "API=fabric.load(source+version, 'lexicon', 'shebanq', {\n",
    "    \"xmlids\": {\"node\": False, \"edge\": False},\n",
    "    \"features\": ('''\n",
    "        oid otype\n",
    "        book chapter verse\n",
    "        g_cons_utf8 g_word_utf8 g_word lex g_entry g_entry_heb nametype gloss\n",
    "        phono phono_sep\n",
    "        g_qere_utf8 qtrailer_utf8\n",
    "    ''',\n",
    "    '''\n",
    "    '''),\n",
    "},\n",
    "    verbose='NORMAL',\n",
    "#    compile_annox=True,\n",
    ")\n",
    "exec(fabric.localnames.format(var='fabric'))"
   ]
  },
  {
   "cell_type": "markdown",
   "metadata": {},
   "source": [
    "# Generating MQL\n",
    "\n",
    "We generate an text file with the new feature data which we will insert\n",
    "properly in the existing MQL dump of the ETCBC database.\n",
    "\n",
    "The text file is structured as follows:\n",
    "\n",
    "It consists of tab delimited lines, with a header line:\n",
    "\n",
    "    object_type feature_name1 feature_name2 ...\n",
    "\n",
    "followed by lines with the same number of fields.\n",
    "The first field is the object id, the subsequent fields are the values of the corresponding features for that object."
   ]
  },
  {
   "cell_type": "code",
   "execution_count": 8,
   "metadata": {
    "collapsed": false
   },
   "outputs": [
    {
     "name": "stdout",
     "output_type": "stream",
     "text": [
      "50000 words\n",
      "100000 words\n",
      "150000 words\n",
      "200000 words\n",
      "250000 words\n",
      "300000 words\n",
      "350000 words\n",
      "400000 words\n",
      "426567 words\n"
     ]
    }
   ],
   "source": [
    "pm = outfile('word_data.mql')\n",
    "template = ('{}\\t' * 7)+'{}\\n'\n",
    "pm.write(template.format(\n",
    "    'word', 'phono', 'phono_sep', 'g_qere_utf8', 'qtrailer_utf8', 'g_entry', 'g_entry_heb', 'gloss', 'nametype',\n",
    "))\n",
    "chunk = 50000\n",
    "nw = 0\n",
    "iw = 0\n",
    "for w in F.otype.s('word'):\n",
    "    nw += 1\n",
    "    iw += 1\n",
    "    if iw == chunk: \n",
    "        iw = 0\n",
    "        print('{:>5} words'.format(nw))\n",
    "    pm.write(template.format(\n",
    "        F.oid.v(w), \n",
    "        F.phono.v(w),\n",
    "        F.phono_sep.v(w),\n",
    "        F.g_qere_utf8.v(w) or '',\n",
    "        (F.qtrailer_utf8.v(w) or '').replace('\\n', '\\\\n'),\n",
    "        F.g_entry.v(w),\n",
    "        F.g_entry_heb.v(w),\n",
    "        F.gloss.v(w),\n",
    "        F.nametype.v(w),\n",
    "    ))\n",
    "print('{:>5} words'.format(nw))\n",
    "pm.close()"
   ]
  },
  {
   "cell_type": "markdown",
   "metadata": {},
   "source": [
    "## Making an interlinear glossed text"
   ]
  },
  {
   "cell_type": "code",
   "execution_count": null,
   "metadata": {
    "collapsed": false
   },
   "outputs": [],
   "source": [
    "msg(\"Making interlinear glossed text ...\")\n",
    "\n",
    "trans_fname = 'glossed{}.txt'.format(version)\n",
    "trans_file = outfile(trans_fname)\n",
    "cur_label = None\n",
    "cur_words = []\n",
    "\n",
    "(s_len, sg, se, sv, sw, sh, sp) = (8,\n",
    "        'gloss = ', \n",
    "        'lexeme= ',\n",
    "        'voclex= ',\n",
    "        'trans = ',\n",
    "        'hebrew= ',\n",
    "        'phono = ',\n",
    ")\n",
    "\n",
    "LL = 120\n",
    "\n",
    "def set_verse():\n",
    "    (first, cur_len, cg, ce, cv, cw, ch, cp) = (True, s_len, sg, se, sv, sw, sh, sp)\n",
    "\n",
    "    def set_line():\n",
    "        nonlocal first, cur_len, cur_len, cg, ce, cv, cw, ch, cp\n",
    "        if cur_len != s_len:\n",
    "            trans_file.write('{}\\n'.format(('=' if first else '-') * cur_len))\n",
    "            for l in (ch, cp, cw, cv, ce, cg):\n",
    "                trans_file.write('{}\\n'.format(l))\n",
    "        (first, cur_len, cg, ce, cv, cw, ch, cp) = (False, s_len, sg, se, sv, sw, sh, sp)\n",
    "\n",
    "    for n in cur_words:\n",
    "        h = F.g_word_utf8.v(n)\n",
    "        q = F.g_qere_utf8.v(n)\n",
    "        if q != None:\n",
    "            h = '*{}'.format(q)\n",
    "        (g, e, v, w, p) = (F.gloss.v(n), F.lex.v(n), F.g_entry.v(n), F.g_word.v(n), F.phono.v(n))\n",
    "        (lg, le, lv, lw, lh, lp) = tuple(len(x) for x in (g, e, v, w, h, p))\n",
    "        lb = max((lg, le, lv, lw, lh, lp))\n",
    "        if cur_len + lb + 1 > LL: set_line()\n",
    "        cur_len += lb + 1\n",
    "        fmtstr = '{{:<{}}}|'.format(lb)\n",
    "        rfmtstr = '{{:>{}}}|'.format(lb)\n",
    "        cg += fmtstr.format(g)\n",
    "        ce += fmtstr.format(e)\n",
    "        cv += fmtstr.format(v)\n",
    "        cw += fmtstr.format(w)\n",
    "        ch += rfmtstr.format(h)\n",
    "        cp += fmtstr.format(p)\n",
    "        cur_len += 1\n",
    "    set_line()\n",
    "    cur_words.clear()\n",
    "\n",
    "for n in NN():\n",
    "    otype = F.otype.v(n)\n",
    "    if otype == 'verse':\n",
    "        set_verse()\n",
    "        cur_label = '{} {}:{}'.format(F.book.v(n), F.chapter.v(n), F.verse.v(n))\n",
    "        trans_file.write('\\n{}\\n'.format(cur_label))\n",
    "    elif otype == 'word':\n",
    "        cur_words.append(n)\n",
    "set_verse()\n",
    "\n",
    "trans_file.close()\n",
    "\n",
    "i = 0\n",
    "inf = infile(trans_fname)\n",
    "for line in inf:\n",
    "    i += 1\n",
    "    if i > 26: break\n",
    "    print(line)\n",
    "inf.close()\n",
    "    \n",
    "msg(\"Done\")"
   ]
  },
  {
   "cell_type": "code",
   "execution_count": null,
   "metadata": {
    "collapsed": false
   },
   "outputs": [],
   "source": []
  }
 ],
 "metadata": {
  "kernelspec": {
   "display_name": "Python 3",
   "language": "python",
   "name": "python3"
  },
  "language_info": {
   "codemirror_mode": {
    "name": "ipython",
    "version": 3
   },
   "file_extension": ".py",
   "mimetype": "text/x-python",
   "name": "python",
   "nbconvert_exporter": "python",
   "pygments_lexer": "ipython3",
   "version": "3.4.3"
  }
 },
 "nbformat": 4,
 "nbformat_minor": 0
}
