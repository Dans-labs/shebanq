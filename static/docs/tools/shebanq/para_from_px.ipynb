{
 "cells": [
  {
   "cell_type": "markdown",
   "metadata": {},
   "source": [
    "<a href=\"http://laf-fabric.readthedocs.org/en/latest/\" target=\"_blank\"><img align=\"left\" src=\"images/laf-fabric-xsmall.png\"/></a>\n",
    "<a href=\"http://www.godgeleerdheid.vu.nl/etcbc\" target=\"_blank\"><img align=\"left\" src=\"images/VU-ETCBC-xsmall.png\"/></a>\n",
    "<a href=\"http://www.persistent-identifier.nl/?identifier=urn%3Anbn%3Anl%3Aui%3A13-048i-71\" target=\"_blank\"><img align=\"left\"src=\"images/etcbc4easy-small.png\"/></a>\n",
    "<a href=\"http://tla.mpi.nl\" target=\"_blank\"><img align=\"right\" src=\"images/TLA-xsmall.png\"/></a>\n",
    "<a href=\"http://www.dans.knaw.nl\" target=\"_blank\"><img align=\"right\"src=\"images/DANS-xsmall.png\"/></a>"
   ]
  },
  {
   "cell_type": "markdown",
   "metadata": {},
   "source": [
    "# Paragraphs from the px files"
   ]
  },
  {
   "cell_type": "code",
   "execution_count": 1,
   "metadata": {
    "collapsed": false
   },
   "outputs": [
    {
     "name": "stderr",
     "output_type": "stream",
     "text": [
      "  0.00s This is LAF-Fabric 4.4.7\n",
      "API reference: http://laf-fabric.readthedocs.org/en/latest/texts/API-reference.html\n",
      "Feature doc: http://shebanq-doc.readthedocs.org/en/latest/texts/welcome.html\n",
      "\n"
     ]
    }
   ],
   "source": [
    "import re\n",
    "from IPython.display import display, HTML, FileLinks\n",
    "%load_ext autoreload\n",
    "%autoreload 2\n",
    "import laf\n",
    "from laf.fabric import LafFabric\n",
    "from etcbc.preprocess import prepare\n",
    "from etcbc.extra import ExtraData\n",
    "fabric = LafFabric()"
   ]
  },
  {
   "cell_type": "markdown",
   "metadata": {},
   "source": [
    "## Create annotations from px file"
   ]
  },
  {
   "cell_type": "code",
   "execution_count": 2,
   "metadata": {
    "collapsed": false
   },
   "outputs": [
    {
     "name": "stderr",
     "output_type": "stream",
     "text": [
      "  0.00s LOADING API: please wait ... \n",
      "  0.00s DETAIL: COMPILING m: UP TO DATE\n",
      "  0.00s INFO: USING DATA COMPILED AT: 2015-05-04T13-46-20\n",
      "  0.00s DETAIL: COMPILING a: UP TO DATE\n",
      "  0.01s DETAIL: load main: G.node_anchor_min\n",
      "  0.09s DETAIL: load main: G.node_anchor_max\n",
      "  0.15s DETAIL: load main: G.node_sort\n",
      "  0.20s DETAIL: load main: G.node_sort_inv\n",
      "  0.65s DETAIL: load main: G.edges_from\n",
      "  0.71s DETAIL: load main: G.edges_to\n",
      "  0.79s DETAIL: load main: X. [node]  -> \n",
      "  2.37s DETAIL: load main: X. [node]  <- \n",
      "  3.11s DETAIL: load main: F.etcbc4_db_monads [node] \n",
      "  3.86s DETAIL: load main: F.etcbc4_db_otype [node] \n",
      "  4.53s DETAIL: load main: F.etcbc4_ft_number [node] \n",
      "  5.01s DETAIL: load main: F.etcbc4_sft_label [node] \n",
      "  5.04s LOGFILE=/Users/dirk/SURFdrive/laf-fabric-output/etcbc4b/can/__log__can.txt\n",
      "  5.04s DETAIL: prep prep: G.node_sort\n",
      "  5.11s DETAIL: prep prep: G.node_sort_inv\n",
      "  5.62s INFO: DATA LOADED FROM SOURCE etcbc4b AND ANNOX -- FOR TASK can AT 2015-05-04T14-10-58\n"
     ]
    }
   ],
   "source": [
    "version = '4b'\n",
    "etcbc_source = 'etcbc{}'.format(version)\n",
    "API=fabric.load(etcbc_source, '--', 'can', {\n",
    "    \"xmlids\": {\"node\": True, \"edge\": False},\n",
    "    \"features\": ('''\n",
    "        otype monads number label\n",
    "    ''',\n",
    "    '''\n",
    "    '''),\n",
    "    \"prepare\": prepare,\n",
    "}, verbose='DETAIL')\n",
    "exec(fabric.localnames.format(var='fabric'))"
   ]
  },
  {
   "cell_type": "markdown",
   "metadata": {},
   "source": [
    "# Method to read px data"
   ]
  },
  {
   "cell_type": "code",
   "execution_count": 3,
   "metadata": {
    "collapsed": false
   },
   "outputs": [],
   "source": [
    "def read_px(px_file):\n",
    "    msg(\"Making mappings between clause atoms in PX and nodes in LAF\")\n",
    "    ca_labn2id = {}\n",
    "    ca_id2labn = {}\n",
    "    for n in NN():\n",
    "        otype = F.otype.v(n)\n",
    "        if otype == 'verse':\n",
    "            cur_label = F.label.v(n)\n",
    "        elif otype == 'chapter':\n",
    "            cur_subtract += cur_chapter_cas\n",
    "            cur_chapter_cas = 0\n",
    "        elif otype == 'book':\n",
    "            cur_subtract = 0\n",
    "            cur_chapter_cas = 0\n",
    "        elif otype == 'clause_atom':\n",
    "            cur_chapter_cas += 1\n",
    "            nm = int(F.number.v(n)) - cur_subtract\n",
    "            ca_labn2id[(cur_label, nm)] = n\n",
    "            ca_id2labn[n] = (cur_label, nm)\n",
    "    msg(\"End making mappings: {}={} clauses\".format(len(ca_labn2id), len(ca_id2labn)))\n",
    "\n",
    "    data = []\n",
    "    not_found = set()\n",
    "    px_handle = open(px_file)\n",
    "    ln = 0\n",
    "    can = 0\n",
    "    featurescan = re.compile(r'0 0 (..) [0-9]+ LineNr\\s*([0-9]+).*?Pargr:\\s*([0-9.]+)')\n",
    "    cur_label = None\n",
    "    data = []\n",
    "    for line in px_handle:\n",
    "        ln += 1\n",
    "        if line.strip()[0] != '*':\n",
    "            cur_label = line[0:10]\n",
    "            continue\n",
    "        can += 1\n",
    "        features = featurescan.findall(line)\n",
    "        if len(features) == 0:\n",
    "            msg(\"Warning: line {}: no instruction, LineNr, Pargr found\".format(ln))\n",
    "        elif len(features) > 1:\n",
    "            msg(\"Warning: line {}: multiple instruction, LineNr, Pargr found\".format(ln))\n",
    "        else:\n",
    "            feature = features[0]\n",
    "            the_ins = feature[0]\n",
    "            the_n = feature[1]\n",
    "            the_para = feature[2]\n",
    "            labn = (cur_label, int(the_n))\n",
    "            if labn not in ca_labn2id:\n",
    "                not_found.add(labn)\n",
    "                continue\n",
    "            data.append((ca_labn2id[labn], the_ins, the_n, the_para))\n",
    "    px_handle.close()\n",
    "    msg(\"Read {} paragraph annotations\".format(len(data)))\n",
    "    if not_found:\n",
    "        msg(\"Could not find {} label/line entries in index: {}\".format(len(not_found), sorted({lab for lab in not_found})))\n",
    "    else:\n",
    "        msg(\"All label/line entries found in index\")\n",
    "    return data\n"
   ]
  },
  {
   "cell_type": "markdown",
   "metadata": {},
   "source": [
    "# Integrating the px data\n",
    "\n"
   ]
  },
  {
   "cell_type": "code",
   "execution_count": 4,
   "metadata": {
    "collapsed": false
   },
   "outputs": [
    {
     "name": "stderr",
     "output_type": "stream",
     "text": [
      "    20s Making mappings between clause atoms in PX and nodes in LAF\n",
      "    22s End making mappings: 90315=90315 clauses\n",
      "    23s Read 90274 paragraph annotations\n",
      "    23s Could not find 43 label/line entries in index: [(' IKON07,30', 115), (' IKON07,31', 121), (' IKON07,32', 124), (' IKON07,33', 127), (' IKON07,34', 129), (' IKON07,35', 133), (' IKON07,36', 135), (' IKON07,37', 137), (' IKON07,38', 141), (' IKON07,39', 145), (' IKON07,40', 149), (' IKON07,41', 154), (' IKON07,42', 158), (' IKON07,43', 159), (' IKON07,44', 160), (' IKON07,45', 164), (' IKON07,46', 165), (' IKON07,47', 167), (' IKON07,48', 172), (' IKON07,49', 177), (' IKON07,50', 179), (' IKON07,51', 183), (' JER 32,24', 103), (' JER 32,25', 108), (' JER 32,26', 110), (' JER 32,27', 112), (' JER 32,28', 115), (' JER 32,29', 123), (' JER 32,30', 128), (' JER 32,31', 132), (' JER 32,32', 136), (' JER 32,33', 143), (' JER 32,34', 146), (' JER 32,35', 153), (' JER 32,36', 157), (' JER 32,37', 161), (' JER 32,38', 163), (' JER 32,39', 166), (' JER 32,40', 171), (' JER 32,41', 174), (' JER 32,42', 178), (' JER 32,43', 182), (' JER 32,44', 189)]\n"
     ]
    }
   ],
   "source": [
    "px = ExtraData(API)\n",
    "px.deliver_annots('px/px_data.{}'.format(etcbc_source), 'px', 'para', read_px, (\n",
    "        ('etcbc4', 'px', 'instruction'),\n",
    "        ('etcbc4', 'px', 'number_in_ch'),\n",
    "        ('etcbc4', 'px', 'pargr'),\n",
    "    ),\n",
    "    {'title': 'Paragraph numbers', 'date': '2015'},\n",
    ")"
   ]
  },
  {
   "cell_type": "markdown",
   "metadata": {},
   "source": [
    "## Checking: loading the new features"
   ]
  },
  {
   "cell_type": "code",
   "execution_count": 5,
   "metadata": {
    "collapsed": false
   },
   "outputs": [
    {
     "name": "stderr",
     "output_type": "stream",
     "text": [
      "  0.00s LOADING API: please wait ... \n",
      "  0.00s DETAIL: COMPILING m: UP TO DATE\n",
      "  0.00s INFO: USING DATA COMPILED AT: 2015-05-04T13-46-20\n",
      "  0.00s BEGIN COMPILE a: px\n",
      "  0.00s DETAIL: load main: X. [node]  -> \n",
      "  1.28s DETAIL: load main: X. [e]  -> \n",
      "  3.52s DETAIL: load main: G.node_anchor_min\n",
      "  3.58s DETAIL: load main: G.node_anchor_max\n",
      "  3.63s DETAIL: load main: G.node_sort\n",
      "  3.68s DETAIL: load main: G.node_sort_inv\n",
      "  4.12s DETAIL: load main: G.edges_from\n",
      "  4.19s DETAIL: load main: G.edges_to\n",
      "  4.27s LOGFILE=/Users/dirk/SURFdrive/laf-fabric-data/etcbc4b/bin/A/px/__log__compile__.txt\n",
      "  4.27s PARSING ANNOTATION FILES\n",
      "  5.03s INFO: parsing para.xml\n",
      "  9.55s INFO: END PARSING\n",
      "         0 good   regions  and     0 faulty ones\n",
      "         0 linked nodes    and     0 unlinked ones\n",
      "         0 good   edges    and     0 faulty ones\n",
      "     90274 good   annots   and     0 faulty ones\n",
      "    270822 good   features and     0 faulty ones\n",
      "     90274 distinct xml identifiers\n",
      "\n",
      "  9.56s MODELING RESULT FILES\n",
      "  9.56s INFO: CONNECTIVITY\n",
      "  9.76s WRITING RESULT FILES for a\n",
      "  9.76s DETAIL: write annox: F.etcbc4_px_instruction [node] \n",
      "  9.84s DETAIL: write annox: F.etcbc4_px_number_in_ch [node] \n",
      "  9.91s DETAIL: write annox: F.etcbc4_px_pargr [node] \n",
      "  9.98s END   COMPILE a: px\n",
      "    11s INFO: USING DATA COMPILED AT: 2015-05-04T14-11-41\n",
      "    11s DETAIL: keep main: G.node_anchor_min\n",
      "    11s DETAIL: keep main: G.node_anchor_max\n",
      "    11s DETAIL: keep main: G.node_sort\n",
      "    11s DETAIL: keep main: G.node_sort_inv\n",
      "    11s DETAIL: keep main: G.edges_from\n",
      "    11s DETAIL: keep main: G.edges_to\n",
      "    11s DETAIL: keep main: F.etcbc4_db_otype [node] \n",
      "    11s DETAIL: keep main: F.etcbc4_ft_number [node] \n",
      "    11s DETAIL: keep main: F.etcbc4_sft_label [node] \n",
      "    11s DETAIL: clear main: X. [node]  -> \n",
      "    11s DETAIL: clear main: X. [node]  <- \n",
      "    11s DETAIL: clear main: F.etcbc4_db_monads [node] \n",
      "    11s DETAIL: load main: F.etcbc4_px_instruction [node] \n",
      "    11s DETAIL: load main: F.etcbc4_px_number_in_ch [node] \n",
      "    11s DETAIL: load main: F.etcbc4_px_pargr [node] \n",
      "    11s DETAIL: load annox: F.etcbc4_db_otype [node] \n",
      "    11s DETAIL: load annox: F.etcbc4_ft_number [node] \n",
      "    11s DETAIL: load annox: F.etcbc4_px_instruction [node] \n",
      "    11s DETAIL: load annox: F.etcbc4_px_number_in_ch [node] \n",
      "    11s DETAIL: load annox: F.etcbc4_px_pargr [node] \n",
      "    11s DETAIL: load annox: F.etcbc4_sft_label [node] \n",
      "    11s DETAIL: prep prep: G.node_sort\n",
      "    11s DETAIL: prep prep: G.node_sort_inv\n",
      "    11s INFO: DATA LOADED FROM SOURCE etcbc4b AND ANNOX px FOR TASK can AT 2015-05-04T14-11-42\n"
     ]
    }
   ],
   "source": [
    "API=fabric.load(etcbc_source, 'px', 'can', {\n",
    "    \"xmlids\": {\"node\": False, \"edge\": False},\n",
    "    \"features\": ('''\n",
    "        otype number label\n",
    "        instruction number_in_ch pargr\n",
    "    ''',\n",
    "    '''\n",
    "    '''),\n",
    "    \"prepare\": prepare,\n",
    "}, verbose='DETAIL')\n",
    "exec(fabric.localnames.format(var='fabric'))"
   ]
  },
  {
   "cell_type": "markdown",
   "metadata": {},
   "source": [
    "## Inspecting all objects that got new features"
   ]
  },
  {
   "cell_type": "code",
   "execution_count": 6,
   "metadata": {
    "collapsed": false
   },
   "outputs": [],
   "source": [
    "ph = outfile('paras.txt')\n",
    "cur_label = None\n",
    "for n in NN():\n",
    "    otype = F.otype.v(n)\n",
    "    if otype == 'verse':\n",
    "        cur_label = F.label.v(n)\n",
    "    elif otype == 'clause_atom':\n",
    "        nm = F.number_in_ch.v(n)\n",
    "        if nm:\n",
    "            ph.write(\"{}: instruction = {}; {}; para = {}\\n\".format(cur_label, nm, F.instruction.v(n), F.pargr.v(n)))\n",
    "ph.close()"
   ]
  },
  {
   "cell_type": "code",
   "execution_count": 7,
   "metadata": {
    "collapsed": false
   },
   "outputs": [
    {
     "name": "stdout",
     "output_type": "stream",
     "text": [
      " GEN 01,01: instruction = 1; .N; para = 1\r\n",
      " GEN 01,02: instruction = 2; ..; para = 1\r\n",
      " GEN 01,02: instruction = 3; ..; para = 1\r\n",
      " GEN 01,02: instruction = 4; ..; para = 1\r\n",
      " GEN 01,03: instruction = 5; .#; para = 1.1\r\n",
      " GEN 01,03: instruction = 6; .q; para = 1.1.1\r\n",
      " GEN 01,03: instruction = 7; .#; para = 1.1.2\r\n",
      " GEN 01,04: instruction = 8; .#; para = 1.1.3\r\n",
      " GEN 01,04: instruction = 9; ..; para = 1.1.3\r\n",
      " GEN 01,04: instruction = 10; .#; para = 1.1.4\r\n",
      " GEN 01,05: instruction = 11; .#; para = 1.1.5\r\n",
      " GEN 01,05: instruction = 12; ..; para = 1.1.5\r\n",
      " GEN 01,05: instruction = 13; .#; para = 1.1.5.1\r\n",
      " GEN 01,05: instruction = 14; .#; para = 1.1.5.2\r\n",
      " GEN 01,05: instruction = 15; ..; para = 1.1.5.2\r\n",
      " GEN 01,06: instruction = 16; .#; para = 1.2\r\n",
      " GEN 01,06: instruction = 17; .q; para = 1.2.1\r\n",
      " GEN 01,06: instruction = 18; ..; para = 1.2.1\r\n",
      " GEN 01,07: instruction = 19; .#; para = 1.2.2\r\n",
      " GEN 01,07: instruction = 20; ..; para = 1.2.2\r\n",
      " GEN 01,07: instruction = 21; .e; para = 1.2.2\r\n",
      " GEN 01,07: instruction = 22; d.; para = 1.2.2\r\n",
      " GEN 01,07: instruction = 23; ..; para = 1.2.2\r\n",
      " GEN 01,07: instruction = 24; ..; para = 1.2.2\r\n",
      " GEN 01,08: instruction = 25; .#; para = 1.2.2.1\r\n",
      " GEN 01,08: instruction = 26; .#; para = 1.2.2.1.1\r\n",
      " GEN 01,08: instruction = 27; .#; para = 1.2.2.1.2\r\n",
      " GEN 01,08: instruction = 28; ..; para = 1.2.2.1.2\r\n",
      " GEN 01,09: instruction = 29; .#; para = 1.3\r\n",
      " GEN 01,09: instruction = 30; .q; para = 1.3.1\r\n",
      " GEN 01,09: instruction = 31; ..; para = 1.3.1\r\n",
      " GEN 01,09: instruction = 32; ..; para = 1.3\r\n",
      " GEN 01,10: instruction = 33; .#; para = 1.3.2\r\n",
      " GEN 01,10: instruction = 34; ..; para = 1.3.2\r\n",
      " GEN 01,10: instruction = 35; .#; para = 1.3.3\r\n",
      " GEN 01,10: instruction = 36; ..; para = 1.3.3\r\n",
      " GEN 01,11: instruction = 37; .#; para = 1.4\r\n",
      " GEN 01,11: instruction = 38; .q; para = 1.4.1\r\n",
      " GEN 01,11: instruction = 39; .e; para = 1.4.1\r\n",
      " GEN 01,11: instruction = 40; d.; para = 1.4.1\r\n",
      " GEN 01,11: instruction = 41; ..; para = 1.4.1\r\n",
      " GEN 01,11: instruction = 42; .e; para = 1.4.1\r\n",
      " GEN 01,11: instruction = 43; d.; para = 1.4.1\r",
      "\r\n",
      " GEN 01,11: instruction = 44; ..; para = 1.4\r\n",
      " GEN 01,12: instruction = 45; .#; para = 1.4.2\r\n",
      " GEN 01,12: instruction = 46; .e; para = 1.4.2\r\n",
      " GEN 01,12: instruction = 47; d.; para = 1.4.2\r\n",
      " GEN 01,12: instruction = 48; ..; para = 1.4.2\r\n",
      " GEN 01,12: instruction = 49; .e; para = 1.4.2\r\n",
      " GEN 01,12: instruction = 50; d.; para = 1.4.2\r\n",
      " GEN 01,12: instruction = 51; .#; para = 1.4.3\r\n",
      " GEN 01,12: instruction = 52; ..; para = 1.4.3\r\n",
      " GEN 01,13: instruction = 53; .#; para = 1.4.3.1\r\n",
      " GEN 01,13: instruction = 54; .#; para = 1.4.3.2\r\n",
      " GEN 01,13: instruction = 55; ..; para = 1.4.3.2\r\n",
      " GEN 01,14: instruction = 56; .#; para = 1.5\r\n",
      " GEN 01,14: instruction = 57; .q; para = 1.5.1\r\n",
      " GEN 01,14: instruction = 58; ..; para = 1.5.1\r\n",
      " GEN 01,14: instruction = 59; ..; para = 1.5.1\r\n",
      " GEN 01,15: instruction = 60; ..; para = 1.5.1\r\n",
      " GEN 01,15: instruction = 61; ..; para = 1.5.1\r\n",
      " GEN 01,15: instruction = 62; ..; para = 1.5\r\n",
      " GEN 01,16: instruction = 63; .#; para = 1.5.2\r\n",
      " GEN 01,16: instruction = 64; l.; para = 1.5.2\r\n",
      " GEN 01,16: instruction = 65; l.; para = 1.5.2\r\n",
      " GEN 01,16: instruction = 66; l.; para = 1.5.2\r\n",
      " GEN 01,17: instruction = 67; .#; para = 1.5.2.1\r\n",
      " GEN 01,17: instruction = 68; ..; para = 1.5.2.1\r\n",
      " GEN 01,18: instruction = 69; ..; para = 1.5.2.1\r\n",
      " GEN 01,18: instruction = 70; ..; para = 1.5.2.1\r\n",
      " GEN 01,18: instruction = 71; .#; para = 1.5.3\r\n",
      " GEN 01,18: instruction = 72; ..; para = 1.5.3\r\n",
      " GEN 01,19: instruction = 73; .#; para = 1.5.3.1\r\n",
      " GEN 01,19: instruction = 74; .#; para = 1.5.3.2\r\n",
      " GEN 01,19: instruction = 75; ..; para = 1.5.3.2\r\n",
      " GEN 01,20: instruction = 76; .#; para = 1.6\r\n",
      " GEN 01,20: instruction = 77; .q; para = 1.6.1\r\n",
      " GEN 01,20: instruction = 78; ..; para = 1.6.1\r\n",
      " GEN 01,21: instruction = 79; .#; para = 1.6.2\r\n",
      " GEN 01,21: instruction = 80; ..; para = 1.6.2\r\n",
      " GEN 01,21: instruction = 81; ..; para = 1.6.2\r\n",
      " GEN 01,21: instruction = 82; .e; para = 1.6.2\r\n",
      " GEN 01,21: instruction = 83; d.; para = 1.6.2\r\n",
      " GEN 01,21: instruction = 84; l.; para = 1.6.2\r\n",
      " GEN 01,21: instruction = 85; .#; para = 1.6.3\r\n",
      " GEN 01,21: instruction = 86; ..; para = 1.6.3\r\n",
      " GEN 01,22: instruction = 87; .#; para = 1.6.3.1\r\n",
      " GEN 01,22: instruction = 88; ..; para = 1.6.3.1\r\n",
      " GEN 01,22: instruction = 89; .q; para = 1.6.3.1.1\r\n",
      " GEN 01,22: instruction = 90; ..; para = 1.6.3.1.1\r\n",
      " GEN 01,22: instruction = 91; ..; para = 1.6.3.1.1\r\n",
      " GEN 01,22: instruction = 92; ..; para = 1.6.3.1.1\r\n",
      " GEN 01,23: instruction = 93; .#; para = 1.6.3.2\r\n",
      " GEN 01,23: instruction = 94; .#; para = 1.6.3.3\r\n",
      " GEN 01,23: instruction = 95; ..; para = 1.6.3.3\r\n",
      " GEN 01,24: instruction = 96; .#; para = 1.7\r\n",
      " GEN 01,24: instruction = 97; .q; para = 1.7.1\r\n",
      " GEN 01,24: instruction = 98; l.; para = 1.7.1\r\n",
      " GEN 01,24: instruction = 99; ..; para = 1.7\r\n",
      " GEN 01,25: instruction = 100; .#; para = 1.7.2\r\n"
     ]
    }
   ],
   "source": [
    "!head -n 100 {my_file('paras.txt')}"
   ]
  },
  {
   "cell_type": "code",
   "execution_count": null,
   "metadata": {
    "collapsed": false
   },
   "outputs": [],
   "source": []
  }
 ],
 "metadata": {
  "kernelspec": {
   "display_name": "Python 3",
   "language": "python",
   "name": "python3"
  },
  "language_info": {
   "codemirror_mode": {
    "name": "ipython",
    "version": 3
   },
   "file_extension": ".py",
   "mimetype": "text/x-python",
   "name": "python",
   "nbconvert_exporter": "python",
   "pygments_lexer": "ipython3",
   "version": "3.4.2"
  }
 },
 "nbformat": 4,
 "nbformat_minor": 0
}
