{
 "cells": [
  {
   "cell_type": "markdown",
   "metadata": {},
   "source": [
    "<a href=\"http://laf-fabric.readthedocs.org/en/latest/\" target=\"_blank\"><img align=\"left\" src=\"images/laf-fabric-xsmall.png\"/></a>\n",
    "<a href=\"http://emdros.org\" target=\"_blank\"><img align=\"left\" src=\"files/images/Emdros-xsmall.png\"/></a>\n",
    "<a href=\"http://www.persistent-identifier.nl/?identifier=urn%3Anbn%3Anl%3Aui%3A13-048i-71\" target=\"_blank\"><img align=\"left\"src=\"images/etcbc4easy-small.png\"/></a>\n",
    "<a href=\"http://www.godgeleerdheid.vu.nl/etcbc\" target=\"_blank\"><img align=\"right\" src=\"images/VU-ETCBC-xsmall.png\"/></a>\n",
    "<a href=\"http://tla.mpi.nl\" target=\"_blank\"><img align=\"right\" src=\"images/TLA-xsmall.png\"/></a>\n",
    "<a href=\"http://www.dans.knaw.nl\" target=\"_blank\"><img align=\"right\"src=\"images/DANS-xsmall.png\"/></a>"
   ]
  },
  {
   "cell_type": "markdown",
   "metadata": {},
   "source": [
    "# Versions"
   ]
  },
  {
   "cell_type": "code",
   "execution_count": 1,
   "metadata": {
    "collapsed": false
   },
   "outputs": [],
   "source": [
    "import sys\n",
    "import collections\n",
    "db = 'shebanq_web'\n",
    "sversion = 'etcbc4'\n",
    "datadir = '/Users/dirk/SURFdrive/laf-fabric-output/{}/shebanq'.format(sversion)\n",
    "shebanqdir = '/Users/dirk/SURFdrive/current/demos/github/shebanq/modules'"
   ]
  },
  {
   "cell_type": "markdown",
   "metadata": {},
   "source": [
    "This notebooks defines a new datamodel for queries in SHEBANQ, and it converts data according to the old model to data according to the new model.\n",
    "\n",
    "The old model had no provisions for working with queries on multiple versions of the data. The new model remedies that.\n",
    "\n",
    "# The old model\n",
    "\n",
    "    create table queries(\n",
    "        id int(4) primary key,\n",
    "        name varchar(512),\n",
    "        description longtext,\n",
    "        mql longtext,\n",
    "        is_active char(1),\n",
    "        created_on datetime,\n",
    "        created_by int(4),\n",
    "        modified_on datetime,\n",
    "        modified_by int(4),\n",
    "        project int(4),\n",
    "        organization int(4),\n",
    "        is_published char(1),\n",
    "        executed_on date_time,\n",
    "        foreign key (created_by) references auth_user(id),\n",
    "        foreign key (modified_by) references auth_user(id),\n",
    "        foreign key (organization) references organization(id),\n",
    "        foreign key (project) references project(id)\n",
    "    );\n",
    "\n",
    "# To be changed\n",
    "\n",
    "We will call the table ``query`` instead of ``queries``.\n",
    "The fields ``is_active`` and ``modified_by`` are not used. \n",
    "We will strip them from the table.\n",
    "\n",
    "More importantly, we split the query record into a part that is generic to all versions of the data, and parts that\n",
    "are dependent on the particular version of the data.\n",
    "\n",
    "We rename the field ``is_published`` to ``is_shared``. You can share a query, with all its execution records.\n",
    "Other people can then see what you are doing, in all versions of the data.\n",
    "When you publish a query with its execution on a single version of the data you freeze the results and the query body.\n",
    "\n",
    "We add an attribute ``is_published`` to the part that is version dependent, to indicate that the execution results of this query on that version are to be frozen: no change allowed, not even by the creator.\n",
    "A query that has one of its versions ``is_published`` must remain ``is_shared``.\n",
    "\n",
    "\n",
    "# The new model\n",
    "\n"
   ]
  },
  {
   "cell_type": "code",
   "execution_count": 2,
   "metadata": {
    "collapsed": true
   },
   "outputs": [],
   "source": [
    "create_text = dict(\n",
    "    query='''\n",
    "create table query(\n",
    "    id int(4) primary key auto_increment,\n",
    "    name varchar(512),\n",
    "    description longtext,\n",
    "    created_on datetime,\n",
    "    created_by int(4),\n",
    "    modified_on datetime,\n",
    "    shared_on datetime,\n",
    "    is_shared char(1),\n",
    "    project int(4),\n",
    "    organization int(4),\n",
    "    foreign key (created_by) references auth_user(id),\n",
    "    foreign key (organization) references organization(id),\n",
    "    foreign key (project) references project(id)\n",
    ") character set utf8;\n",
    "''',\n",
    "    query_exe='''\n",
    "create table query_exe(\n",
    "    id int(4) primary key auto_increment,\n",
    "    mql longtext,\n",
    "    version varchar(32),\n",
    "    resultmonads int(4),\n",
    "    results int(4),\n",
    "    executed_on datetime,\n",
    "    modified_on datetime,\n",
    "    is_published char(1),\n",
    "    published_on datetime,\n",
    "    query_id int(4),\n",
    "    foreign key (query_id) references query(id)\n",
    ") character set utf8;\n",
    "''',\n",
    "    monads='''\n",
    "create table monads(\n",
    "    query_exe_id int(4),\n",
    "    first_m int(4),\n",
    "    last_m int(4),\n",
    "    foreign key (query_exe_id) references query_exe(id)\n",
    ") character set utf8;\n",
    "''',\n",
    ")"
   ]
  },
  {
   "cell_type": "markdown",
   "metadata": {},
   "source": [
    "# Notes on the new model\n",
    "\n",
    "1. The name ``query_exe`` indicates that this table consists of query *execution* records. An execution of a query is done on a concrete version of the data, at a definite time.\n",
    "1. There are now two fields modified_on. The one in ``query`` essentially indicates the time of change of the description or name. The time of change of project and organization are not recorded. The one in ``query_exe`` denotes the time that the query body was last modified.\n",
    "1. There is a new field ``published_on`` to record the time that a query is published.\n",
    "1. There is a new field ``resultmonads``: it stores the total number of monads (=words) in all results of the query\n",
    "1. There is a new field ``results``: it stores the number of logical results of the query.\n",
    "1. The field ``mql`` (the query body) corresponds to the *version* of the data. It is conceivable that the same intention must be expressed differently for different versions of the data.\n",
    "1. The records in table ``monadsets`` now reference a ``query_exe`` record instead of a query record.\n",
    "\n",
    "# Conversion\n",
    "\n",
    "The conversion from old to new data goes as follows:\n",
    "\n",
    "1. Dump the old queries table from the shebanq database\n",
    "1. Dump the old monadsets table from the shebanq database\n",
    "1. Transform the queries data into query and query_exe data\n",
    "1. For queries that were *public* in the old model:\n",
    "   1. They become *shared* in the new model, and none of the new versions will be initially *published* \n",
    "      in the new model\n",
    "   1. If the query results are up to date we do the following:\n",
    "      1. we create a version record for version 4b, and copy the MQL body also to that version, with a modified date.          We do not execute it\n",
    "      1. we execute the query in version 4 and determine the results and resultmonads and fill that in\n",
    "1. Compile a mapping from ``query`` ids to corresponding ``query_exe`` ids\n",
    "1. Transform the monadsets table into a new one, where the field ``query_id`` has been replaced with the correct ``query_exe`` id, i.e. according to the mapping just made\n",
    "1. Write the new data out into an sql file\n",
    "1. Import the new sql file into the shebanq_web database\n"
   ]
  },
  {
   "cell_type": "markdown",
   "metadata": {},
   "source": [
    "# Table reading\n",
    "\n",
    "Dump the old queries table from mysql using the following commands"
   ]
  },
  {
   "cell_type": "code",
   "execution_count": 3,
   "metadata": {
    "collapsed": false
   },
   "outputs": [
    {
     "name": "stdout",
     "output_type": "stream",
     "text": [
      "/Users/dirk/SURFdrive/laf-fabric-output/etcbc4/shebanq\n",
      "-rw-r--r--  1 dirk    staff     1610 Apr  8 17:42 monadsets.sql\n",
      "-rw-rw-rw-  1 _mysql  staff  8832363 Apr  8 17:42 monadsets.txt\n",
      "-rw-r--r--  1 dirk    staff     2362 Apr  8 17:42 queries.sql\n",
      "-rw-rw-rw-  1 _mysql  staff   314672 Apr  8 17:42 queries.txt\n",
      "-rw-rw-rw-  1 dirk    wheel   275177 Mar 19 07:47 queries_old.txt\n"
     ]
    }
   ],
   "source": [
    "%cd {datadir}\n",
    "!chmod a+rwx .\n",
    "!mysqldump -u root --tab . {db} queries\n",
    "!mysqldump -u root --tab . {db} monadsets\n",
    "!ls -l queries* monadsets*"
   ]
  },
  {
   "cell_type": "code",
   "execution_count": 3,
   "metadata": {
    "collapsed": false
   },
   "outputs": [
    {
     "name": "stdout",
     "output_type": "stream",
     "text": [
      "534 lines\n",
      "  0 errors\n",
      "Done\n"
     ]
    }
   ],
   "source": [
    "old_fields = (\n",
    "    'id',\n",
    "    'name',\n",
    "    'description',\n",
    "    'mql',\n",
    "    'is_active',\n",
    "    'created_on',\n",
    "    'created_by',\n",
    "    'modified_on',\n",
    "    'modified_by',\n",
    "    'project',\n",
    "    'organization',\n",
    "    'is_published',\n",
    "    'executed_on',\n",
    ")\n",
    "new_fields = dict(\n",
    "    query=(\n",
    "        'id',\n",
    "        'name',\n",
    "        'description',\n",
    "        'created_on',\n",
    "        'created_by',\n",
    "        'modified_on',\n",
    "        'shared_on',\n",
    "        'is_shared',\n",
    "        'project',\n",
    "        'organization',\n",
    "    ),\n",
    "    query_exe=(\n",
    "        'id',\n",
    "        'mql',\n",
    "        'version',\n",
    "        'resultmonads',\n",
    "        'results',\n",
    "        'executed_on',\n",
    "        'modified_on',\n",
    "        'is_published',\n",
    "        'published_on',\n",
    "        'query_id',\n",
    "    ),\n",
    "    monads=(\n",
    "        'query_exe_id',\n",
    "        'first_m',\n",
    "        'last_m',\n",
    "    ),\n",
    ")\n",
    "                  \n",
    "nold_fields = len(old_fields)\n",
    "oldf = open('{}/queries.txt'.format(datadir), newline='\\n')\n",
    "olddata = oldf.read().rstrip('\\n')\n",
    "olddata_le = olddata.replace('\\r', '').replace('\\\\\\n', '▼').replace('\\\\\\t','▶').split('\\n')\n",
    "lineno = 0\n",
    "errors = []\n",
    "old_records = []\n",
    "for line in olddata_le:\n",
    "    lineno += 1\n",
    "    values = line.split('\\t')\n",
    "    if len(values) != nold_fields:\n",
    "        errors.append((lineno, '{} fields encountered instead of {}'.format(len(values), nold_fields)))\n",
    "        continue\n",
    "    escaped_values = [v.replace('▶', '\\t').replace('▼', '\\n') for v in values]\n",
    "    old_records.append(escaped_values)\n",
    "print('{:>3} lines'.format(lineno))\n",
    "print('{:>3} errors'.format(len(errors)))\n",
    "for (l, e) in errors:\n",
    "    print('{:>3}: {}'.format(l,e))\n",
    "print(\"Done\")\n",
    "oldf.close()"
   ]
  },
  {
   "cell_type": "markdown",
   "metadata": {},
   "source": [
    "# Table filling\n",
    "\n",
    "We compose all the records for all the tables."
   ]
  },
  {
   "cell_type": "code",
   "execution_count": 4,
   "metadata": {
    "collapsed": false
   },
   "outputs": [
    {
     "name": "stdout",
     "output_type": "stream",
     "text": [
      "['10', 'lexeme search', 'SELECT ALL OBJECTS \\nWHERE \\n[Word Focus sp = verb AND lex = \"KTB[\"]', \"SELECT ALL OBJECTS \\nWHERE \\n[Word Focus sp = verb AND lex ~ '^KTB\\\\\\\\[.*$' GET lex]\", 'T', '2014-07-22 21:31:58', '4', '2014-07-22 22:08:41', '4', '1', '2', 'T', '\\\\N']\n"
     ]
    }
   ],
   "source": [
    "print(old_records[0])"
   ]
  },
  {
   "cell_type": "markdown",
   "metadata": {},
   "source": [
    "## Pass 1: Generate the new identifiers\n",
    "\n",
    "In our first pass we compute what the identifiers for our new records are going to be, in order to print a list of query_exe identifiers and MQL bodies.\n",
    "\n",
    "We then can run those queries in order to compute the number of results.\n",
    "\n",
    "With the outcome we can undertake the full generation of the records in pass 2."
   ]
  },
  {
   "cell_type": "code",
   "execution_count": 5,
   "metadata": {
    "collapsed": false
   },
   "outputs": [
    {
     "name": "stdout",
     "output_type": "stream",
     "text": [
      "Pass 1: Generate the identifiers ... \n",
      "534 query records and 819 query_exe records\n",
      "Need to run 267 queries for 285 query_exe records\n"
     ]
    }
   ],
   "source": [
    "print(\"Pass 1: Generate the identifiers ... \")\n",
    "ofi = dict((n, i) for (i, n) in enumerate(old_fields))\n",
    "\n",
    "def s_esc(sql, as_str=False):\n",
    "    val = str(sql)\n",
    "    if val == '\\\\N':\n",
    "        return 'null'\n",
    "    val = val.replace(\"'\", \"''\").replace('\\\\','\\\\\\\\').replace('\\n','\\\\n').replace('\\t', '\\\\t')\n",
    "    if as_str:\n",
    "        return \"'{}'\".format(val)\n",
    "    return val\n",
    "\n",
    "\n",
    "nq = 0\n",
    "qe = 0\n",
    "qr = 0\n",
    "qmapping = {}\n",
    "needtorun = collections.defaultdict(lambda: [0, set()])\n",
    "\n",
    "for r in old_records:\n",
    "    nq += 1\n",
    "    qid = r[ofi['id']]\n",
    "    qe += 1\n",
    "    qmapping[qid] = str(qe)\n",
    "    if r[ofi['is_published']] == 'T' and r[ofi['executed_on']] and r[ofi['executed_on']] >= r[ofi['modified_on']]:\n",
    "        qr += 1\n",
    "        mql = r[ofi['mql']]\n",
    "        name = r[ofi['name']]\n",
    "        needtorun[mql][0] = '{}..........{}'.format(qid, name)\n",
    "        needtorun[mql][1].add(qe)\n",
    "        qe += 1\n",
    "\n",
    "mqf = open('{}/mql.txt'.format(datadir), 'w')\n",
    "for mql in needtorun:\n",
    "    qinfo = needtorun[mql]\n",
    "    mqf.write('{}\\n----------\\n{}\\n----------\\n{}\\n==========\\n'.format(mql, qinfo[0], ','.join(str(x) for x in qinfo[1])))\n",
    "mqf.close()\n",
    "print('{} query records and {} query_exe records\\nNeed to run {} queries for {} query_exe records'.format(\n",
    "        nq, qe, len(needtorun), qr,\n",
    "))"
   ]
  },
  {
   "cell_type": "markdown",
   "metadata": {},
   "source": [
    "# Running old queries\n",
    "\n",
    "We need to run old published queries with up-to-date results in order to collect the number of results and resultmonads.\n",
    "\n",
    "The Python bindings for Emdros are available for Python2 only."
   ]
  },
  {
   "cell_type": "code",
   "execution_count": 6,
   "metadata": {
    "collapsed": false,
    "scrolled": false
   },
   "outputs": [
    {
     "name": "stdout",
     "output_type": "stream",
     "text": [
      "Reading data from /Users/dirk/SURFdrive/laf-fabric-output/etcbc4/shebanq/mql.txt\n",
      "  0.00s   1 qid=531 Double imperatives             ...  1.82s OK - 56 - 107\n",
      "  1.82s   2 qid=596 Grammatical Terms: object cla  ...  0.42s OK - 5 - 49\n",
      "  2.23s   3 qid= 26 Ayin\"Waw/Jod verb              ...  0.80s OK - 19 - 19\n",
      "  3.04s   4 qid=525 HNH+J with perfect in Isa 28:  ...  3.24s OK - 4 - 8\n",
      "  6.28s   5 qid=578 Wayyiqtol in Genesis 27        ...  0.01s OK - 73 - 73\n",
      "  6.29s   6 qid=597 Grammatical Terms: construct   ...  1.11s OK - 84 - 192\n",
      "  7.40s   7 qid=593 Grammatical Terms: nominal cl  ...  0.31s OK - 31 - 138\n",
      "  7.71s   8 qid= 98 QR> Psalms                     ...  0.23s OK - 19 - 17\n",
      "  7.94s   9 qid=162 Seungho Park                   ...  0.55s OK - 819 - 819\n",
      "  8.49s  10 qid=569 Motion verbs with toponym as   ...  2.25s OK - 162 - 316\n",
      "    11s  11 qid=506 OTST619 <Su> of to bless (pie  ...  3.13s OK - 72 - 166\n",
      "    14s  12 qid=492 tutorial: clause connections   ...  7.40s OK - 5 - 21\n",
      "    21s  13 qid=397 NWK (hif, nif) + Subj + Cmpl   ...  2.51s OK - 19 - 78\n",
      "    24s  14 qid=174 Juan                           ...  0.25s OK - 3 - 9\n",
      "    24s  15 qid=499 tutorial: cohortative forms    ...  0.36s OK - 624 - 624\n",
      "    24s  16 qid=324 imperative with We conjunctio  ...  1.26s OK - 442 - 442\n",
      "    26s  17 qid= 92 To swear - test in Psalms      ...  0.06s OK - 12 - 12\n",
      "    26s  18 qid= 74 To fight + against in Isaiah   ...  0.28s OK - 6 - 12\n",
      "    26s  19 qid=219 test                           ...  1.22s OK - 4 - 8\n",
      "    27s  20 qid=468 Jer 52 higher seat             ...  1.58s OK - 24 - 43\n",
      "    29s  21 qid=316 Ha Interrogative               ...  0.36s OK - 743 - 743\n",
      "    29s  22 qid=439 NWK + HIF NOTEXITS SUBJ        ...  3.79s OK - 133 - 58\n",
      "    33s  23 qid=336 Jer 7:3 HamMaqom Haze          ...  2.03s OK - 65 - 369\n",
      "    35s  24 qid=335 Jer 7:3 CKN                    ...  1.94s OK - 78 - 254\n",
      "    37s  25 qid=544 Lev 26 function of numbers #0  ...  4.71s OK - 116 - 236\n",
      "    42s  26 qid= 68 MSyn yiqtol                    ...  0.76s OK - 49 - 49\n",
      "    42s  27 qid=112 The words of                   ...  1.74s OK - 106 - 368\n",
      "    44s  28 qid=318 jeremiah                       ...  2.32s OK - 1 - 2\n",
      "    46s  29 qid=188 My Test 2                      ...  0.07s OK - 0 - 0\n",
      "    47s  30 qid=591 Koning David                   ...  1.56s OK - 81 - 159\n",
      "    48s  31 qid=453 what gets shut up              ...  1.05s OK - 6 - 36\n",
      "    49s  32 qid=438 NWX + hif + subj               ...  0.76s OK - 104 - 104\n",
      "    50s  33 qid=467 NWX                            ...  0.77s OK - 109 - 109\n",
      "    51s  34 qid=425 DHQ article: Abimelech=subjec  ...  0.27s OK - 17 - 46\n",
      "    51s  35 qid= 64 Verb-only yiqtol clauses       ...  0.43s OK - 115 - 115\n",
      "    51s  36 qid=592 Grammatical Terms: verbal cla  ...  0.52s OK - 59 - 358\n",
      "    52s  37 qid= 22 Primae Gutturalis verbs        ...  0.81s OK - 6 - 6\n",
      "    53s  38 qid=186 Juan Martinez                  ...  0.39s OK - 0 - 0\n",
      "    53s  39 qid=101 (To my) soul - Psalms          ...  0.21s OK - 68 - 62\n",
      "    53s  40 qid=125 ptc  in quote                  ...  1.08s OK - 6381 - 31982\n",
      "    54s  41 qid=386 Spirit of the Lord             ...  0.08s OK - 9 - 9\n",
      "    54s  42 qid=229 My test                        ...  0.82s OK - 12 - 12\n",
      "    55s  43 qid=488 God speaks to whom?            ...  4.72s OK - 260 - 619\n",
      " 1m 00s  44 qid=369 Jer 7:13 Waking up early       ...  2.49s OK - 6 - 12\n",
      " 1m 02s  45 qid=472 CBT + NWX                      ...  1.49s OK - 15651 - 252\n",
      " 1m 04s  46 qid=558 נָתַן and locatives       ...  7.69s OK - 937 - 3081\n",
      " 1m 12s  47 qid=297 moon                           ...  1.70s OK - 12 - 16\n",
      " 1m 13s  48 qid= 90 Swear + direct speech          ...  2.08s OK - 3 - 3\n",
      " 1m 15s  49 qid=396 Esther verbal forms            ...  0.78s OK - 649 - 649\n",
      " 1m 16s  50 qid=202 Etser Edouard                  ...  0.26s OK - 3 - 9\n",
      " 1m 16s  51 qid= 50 Test Word 2                    ...  0.40s OK - 0 - 0\n",
      " 1m 17s  52 qid=301 Fear Query                     ...  0.40s OK - 332 - 332\n",
      " 1m 17s  53 qid=559 עִמָּד : locative?       ...  5.26s OK - 79 - 79\n",
      " 1m 23s  54 qid=516 Wido Test                      ...  3.11s OK - 501 - 974\n",
      " 1m 26s  55 qid=269 test4 wonki                    ...  1.83s OK - 253 - 253\n",
      " 1m 27s  56 qid=222 my test2                       ...  1.72s OK - 11 - 22\n",
      " 1m 29s  57 qid=444 Final paper Alex H Ruiz - Jer  ...  1.51s OK - 24 - 97\n",
      " 1m 31s  58 qid= 69 Vocative yiqtol                ...  1.07s OK - 22 - 22\n",
      " 1m 32s  59 qid=427 nicolai test                   ... 1m 49s OK - 376 - 376\n",
      " 3m 20s  60 qid=267 Test 3 Leonardo                ...  4.58s OK - 22 - 44\n",
      " 3m 25s  61 qid=608 test for Bernard               ...  1.30s OK - 1836 - 1836\n",
      " 3m 26s  62 qid=122 second participle              ...  1.70s OK - 685 - 3120\n",
      " 3m 28s  63 qid=126 What the Lord gives to the fa  ...  1.54s OK - 24 - 204\n",
      " 3m 29s  64 qid=109 To/in heart                    ...  0.36s OK - 12 - 19\n",
      " 3m 30s  65 qid=443 Final Paper                    ...  1.59s OK - 65 - 292\n",
      " 3m 31s  66 qid=595 Grammatical Terms: relative c  ...  0.29s OK - 12 - 129\n",
      " 3m 32s  67 qid=133 Jer  1:1 Anathot               ...  0.42s OK - 13 - 13\n",
      " 3m 32s  68 qid=605 Grammatical Terms: resumptive  ...  0.63s OK - 123 - 142\n",
      " 3m 33s  69 qid=494 DHQ article: taking a woman    ...  2.00s OK - 25 - 47\n",
      " 3m 35s  70 qid=493 DHQ article: taking a woman a  ...  4.57s OK - 14 - 39\n",
      " 3m 39s  71 qid=379 Ruth 1:1 famine (as subjects   ...  2.07s OK - 10 - 46\n",
      " 3m 41s  72 qid=123 ki + ptc                       ...  1.23s OK - 5592 - 27930\n",
      " 3m 43s  73 qid= 95 To swear#2                     ...  1.51s OK - 30 - 23\n",
      " 3m 44s  74 qid=161 Seungho Park                   ...  0.41s OK - 0 - 0\n",
      " 3m 45s  75 qid=489 AUS Symposium                  ...  2.17s OK - 526 - 485\n",
      " 3m 47s  76 qid=353 Seungho Park(Jr 4:2)           ...  1.07s OK - 8 - 22\n",
      " 3m 48s  77 qid= 65 2nd-person verb-initial yiqto  ...  0.65s OK - 160 - 160\n",
      " 3m 48s  78 qid=470 Jer 52 king's food             ...  1.93s OK - 82 - 162\n",
      " 3m 50s  79 qid=446 Final Paper Alex H Ruiz        ...  1.70s OK - 360 - 1204\n",
      " 3m 52s  80 qid=570 vision                         ...  1.33s OK - 45 - 45\n",
      " 3m 53s  81 qid=371 jr4-1                          ...  1.90s OK - 8 - 22\n",
      " 3m 55s  82 qid=454 violence and destruction       ...  1.25s OK - 2 - 4\n",
      " 3m 57s  83 qid=299 Jeremiah Test                  ...  4.25s OK - 57056 - 10\n",
      " 4m 01s  84 qid= 20 Shibboleth only                ...  0.40s OK - 16 - 16\n",
      " 4m 01s  85 qid= 61 JHWH is speaking               ...  2.55s OK - 731 - 1462\n",
      " 4m 04s  86 qid=452 shut up bones                  ...  1.22s OK - 1 - 2\n",
      " 4m 05s  87 qid=127 ptc in D                       ...  0.65s OK - 457 - 2125\n",
      " 4m 06s  88 qid=434 Deut NDX[                      ...  0.79s OK - 24 - 24\n",
      " 4m 06s  89 qid=187 My Test                        ...  0.09s OK - 0 - 0\n",
      " 4m 06s  90 qid=536 Gen 4:4 GM-prps follwing Pred  ...  1.54s OK - 70 - 209\n",
      " 4m 08s  91 qid=289 Delvin Ferris                  ...  0.08s OK - 2 - 2\n",
      " 4m 08s  92 qid=507 OTST619 <Ob> of to bless (pie  ...  6.12s OK - 7 - 25\n",
      " 4m 14s  93 qid=100 LB - heart - Psalms            ...  0.20s OK - 54 - 49\n",
      " 4m 14s  94 qid=216 Pedro Panelli                  ...  0.90s OK - 0 - 0\n",
      " 4m 15s  95 qid=600 Grammatical Terms: apposition  ...  1.15s OK - 12 - 22\n",
      " 4m 16s  96 qid=490 DHQ article: Abraham as subje  ...  0.20s OK - 69 - 110\n",
      " 4m 17s  97 qid=305 JR> + Object Query             ...  1.47s OK - 62 - 206\n",
      " 4m 18s  98 qid=469 Jer 52 new garment             ...  1.80s OK - 2 - 4\n",
      " 4m 20s  99 qid=556 Yesh                           ...  3.88s OK - 926 - 926\n",
      " 4m 24s 100 qid=321 Jer 4:2 subject of being bles  ...  2.82s OK - 6 - 21\n",
      " 4m 27s 101 qid=451 for paper                      ...  0.01s OK - 18 - 18\n",
      " 4m 27s 102 qid=603 Grammatical Terms: emphatic w  ...  2.47s OK - 3 - 6\n",
      " 4m 29s 103 qid=221 Seokhoon Kim                   ...  1.76s OK - 11 - 22\n",
      " 4m 31s 104 qid=303 Final Jeremiah 1 Query         ...  1.68s OK - 5106 - 2\n",
      " 4m 33s 105 qid=141 tutorial: finding identical c  ...  0.02s OK - 37 - 9\n",
      " 4m 33s 106 qid= 29 L\"Hey verbs                    ... 1m 41s OK - 2401 - 2401\n",
      " 6m 14s 107 qid=377 Psa 11:5 Investigating the Ri  ...  3.82s OK - 8 - 18\n",
      " 6m 17s 108 qid=350 BRK + Nif + Hit + SUBJ         ...  3.16s OK - 6 - 27\n",
      " 6m 21s 109 qid= 67 W-<TH yiqtol                   ...  1.45s OK - 25 - 25\n",
      " 6m 22s 110 qid=280 tset4 wonki                    ...  0.99s OK - 414 - 414\n",
      " 6m 23s 111 qid=398 New NWK + hif + Subj + Cmpl    ...  3.40s OK - 20 - 81\n",
      " 6m 26s 112 qid=437 NWX + Hophal + Subj            ...  1.25s OK - 2 - 2\n",
      " 6m 28s 113 qid= 51 Test word 3                    ...  1.99s OK - 68 - 340\n",
      " 6m 30s 114 qid=311 Tests                          ...  1.02s OK - 3 - 3\n",
      " 6m 31s 115 qid=341 Query# 5                       ...  1.54s OK - 8 - 22\n",
      " 6m 32s 116 qid=116 ...                            ...  2.13s OK - 658 - 475\n",
      " 6m 34s 117 qid=102 To hear - Psalms               ...  0.20s OK - 63 - 44\n",
      " 6m 34s 118 qid=349 Seungho Park(Jr 4)             ...  0.94s OK - 74 - 236\n",
      " 6m 35s 119 qid=498 Raah le: See to/with           ...  1.50s OK - 7 - 21\n",
      " 6m 37s 120 qid=560 NTN with object and complemen  ...  4.52s OK - 939 - 5594\n",
      " 6m 41s 121 qid=148 pfp                            ...  0.65s OK - 6828 - 6828\n",
      " 6m 42s 122 qid=375 Psa 27:4 BQR with Object       ...  7.57s OK - 2 - 4\n",
      " 6m 50s 123 qid= 18 shibboleth                     ...  1.50s OK - 1 - 2\n",
      " 6m 51s 124 qid=378 Ruth 1:1 famine                ...  1.30s OK - 101 - 101\n",
      " 6m 52s 125 qid=423 Jer 4:2 subject of to bless    ...  7.13s OK - 73 - 168\n",
      " 7m 00s 126 qid=414 CBT + Hif + Cmpl               ...  1.24s OK - 71 - 71\n",
      " 7m 01s 127 qid=208 jyr                            ...  1.26s OK - 12 - 12\n",
      " 7m 02s 128 qid= 10 lexeme search                  ...ERROR\n",
      " 7m 02s 129 qid=288 Jer 7 Make good object         ...  3.04s OK - 21 - 46\n",
      " 7m 05s 130 qid=355 reidj                          ...  1.40s OK - 3 - 9\n",
      " 7m 07s 131 qid=497 tutorial: querying textgramma  ...  9.18s OK - 310 - 311\n",
      " 7m 16s 132 qid=455 terror on every side           ...  1.21s OK - 6 - 12\n",
      " 7m 17s 133 qid=310 regular verbs in selected boo  ... 2m 04s OK - 107 - 107\n",
      " 9m 21s 134 qid=535 Dan 8:13: InfCs followed by W  ...  5.62s OK - 9 - 36\n",
      " 9m 26s 135 qid=191 test wonki                     ...  1.20s OK - 301 - 301\n",
      " 9m 28s 136 qid=228 Jimmy                          ...  0.73s OK - 12 - 12\n",
      " 9m 28s 137 qid=273 Jer 2:2                        ...  2.37s OK - 40 - 80\n",
      " 9m 31s 138 qid=567 test Wido                      ...  1.88s OK - 5 - 10\n",
      " 9m 33s 139 qid=401 verbs                          ...  1.46s OK - 73659 - 73659\n",
      " 9m 34s 140 qid=111 Vision of ProperNoun           ...  1.97s OK - 0 - 0\n",
      " 9m 36s 141 qid=366 Query # 6                      ...  1.15s OK - 6 - 27\n",
      " 9m 37s 142 qid=370 jr4-2                          ...  2.73s OK - 6 - 27\n",
      " 9m 40s 143 qid=145 class example                  ...  1.42s OK - 12 - 16\n",
      " 9m 41s 144 qid= 14 Elohim Jahweh                  ...  1.08s OK - 7 - 14\n",
      " 9m 42s 145 qid=283 Jeremiah 33:26                 ...  2.72s OK - 13 - 29\n",
      " 9m 45s 146 qid=480 Reinier de Blois               ...  0.72s OK - 97 - 97\n",
      " 9m 46s 147 qid=235 test2 wonki                    ...  1.55s OK - 0 - 0\n",
      " 9m 47s 148 qid= 34 regular verbs                  ... 1m 45s OK - 0 - 0\n",
      "11m 33s 149 qid=142 test lex_utf8                  ...  0.39s OK - 1441 - 1441\n",
      "11m 33s 150 qid=458 lexeme for justice             ...  0.52s OK - 422 - 422\n",
      "11m 34s 151 qid=124 ki-other word(s)-ptc           ...  1.55s OK - 117 - 117\n",
      "11m 35s 152 qid=500 tutorial: adhortative forms (  ...  0.38s OK - 306 - 306\n",
      "11m 36s 153 qid=541 Gen 4:7 \"sin or sin-offer\"     ...  3.55s OK - 11 - 22\n",
      "11m 39s 154 qid=495 tutorial: formal vs paradigma  ...  0.38s OK - 3 - 3\n",
      "11m 40s 155 qid=601 Grammatical Terms: predicate   ...  0.30s OK - 50 - 76\n",
      "11m 40s 156 qid=403 color test                     ...  2.80s OK - 6 - 6\n",
      "11m 43s 157 qid=150 pfp                            ...  0.48s OK - 6828 - 6828\n",
      "11m 43s 158 qid=254 KJ tests                       ...  2.81s OK - 15 - 51\n",
      "11m 46s 159 qid=380 Ruth 1:4 to lift woman         ...  2.96s OK - 5 - 25\n",
      "11m 49s 160 qid= 15 Jahweh Elohim                  ...  1.58s OK - 891 - 1782\n",
      "11m 50s 161 qid=462 Jer 52 lift + head             ...  1.79s OK - 23 - 44\n",
      "11m 52s 162 qid=561 Two consecutive infinitive co  ...  0.27s OK - 805 - 3512\n",
      "11m 53s 163 qid=368 #6 - Wonki. lee                ...  1.76s OK - 6 - 27\n",
      "11m 54s 164 qid=563 Lev 26 function of numbers #0  ...  5.10s OK - 23 - 54\n",
      "11m 59s 165 qid=179 Juan Martinez                  ...  0.44s OK - 0 - 0\n",
      "12m 00s 166 qid=393 Length & breadth               ...  1.08s OK - 64 - 123\n",
      "12m 01s 167 qid=364 Donovan                        ...  2.03s OK - 6 - 27\n",
      "12m 03s 168 qid=607 pisseth against the wall upda  ...  3.12s OK - 6 - 12\n",
      "12m 06s 169 qid=594 Grammatical Terms: sentence    ...  0.34s OK - 60 - 403\n",
      "12m 06s 170 qid= 89 How many verses in the OT?     ...  6.69s OK - 426555 - 426555\n",
      "12m 13s 171 qid=322 participle forms of regular v  ... 1m 39s OK - 3 - 3\n",
      "13m 52s 172 qid=435 nwx test                       ...  1.35s OK - 2 - 2\n",
      "13m 53s 173 qid=304 Jeremiah Query                 ...  2.28s OK - 5106 - 2\n",
      "13m 55s 174 qid= 83 Kindness and Truth             ...  1.92s OK - 15 - 30\n",
      "13m 57s 175 qid=114 <NH - To answer - Psalms       ...  1.20s OK - 3 - 3\n",
      "13m 59s 176 qid=533 Tripartite Nominal Clauses     ...  1.23s OK - 173 - 1095\n",
      "14m 00s 177 qid= 96 QR>                            ...  1.03s OK - 79 - 63\n",
      "14m 01s 178 qid=351 freaking out                   ...  0.94s OK - 8 - 22\n",
      "14m 02s 179 qid=173 Jonathan Arroyo                ...  0.07s OK - 18 - 18\n",
      "14m 02s 180 qid= 70 Casus pendens yiqtol           ...  0.24s OK - 41 - 123\n",
      "14m 02s 181 qid=210 video tutorial sample          ...  2.75s OK - 13 - 29\n",
      "14m 05s 182 qid=300 Another Jeremiah Test          ...  3.69s OK - 57051 - 5\n",
      "14m 09s 183 qid=394 NWK + Cmpl                     ...  1.38s OK - 87 - 310\n",
      "14m 10s 184 qid= 93 To speak                       ...  1.24s OK - 4629 - 4609\n",
      "14m 11s 185 qid=189 this is my test                ...  0.08s OK - 120 - 120\n",
      "14m 11s 186 qid=540 Gen 4:7 \"a lifting\"            ...  2.07s OK - 2 - 10\n",
      "14m 13s 187 qid=463 Jer 52 in the sight of the Lo  ...  1.65s OK - 72 - 144\n",
      "14m 15s 188 qid=338 class example #2               ...  1.05s OK - 2 - 4\n",
      "14m 16s 189 qid=387 Pl-Sg Incoherence              ...  3.87s OK - 691 - 1250\n",
      "14m 20s 190 qid=550 Lev 26 function of numbers #0  ...  6.79s OK - 15 - 54\n",
      "14m 27s 191 qid=538 Gen 4:5-6 \"When faces fall\"    ...  2.12s OK - 2 - 4\n",
      "14m 29s 192 qid=457 Lexeme truth or faithfulness   ...  0.45s OK - 49 - 49\n",
      "14m 29s 193 qid=598 Grammatical Terms: prepositio  ...  0.80s OK - 278 - 650\n",
      "14m 30s 194 qid=306 test for friends               ...  0.36s OK - 86 - 86\n",
      "14m 30s 195 qid=505 KPR                            ...  3.31s OK - 14 - 50\n",
      "14m 34s 196 qid=502 tutorial: setuma + petucha     ...  1.18s OK - 3155 - 3155\n",
      "14m 35s 197 qid=602 Grammatical Terms: cognate     ...  1.50s OK - 2 - 4\n",
      "14m 36s 198 qid= 84 tutorial: pronominal suffixes  ...  0.07s OK - 69 - 69\n",
      "14m 36s 199 qid=519 Incongruency in Isa 1:10       ...  3.22s OK - 4 - 9\n",
      "14m 40s 200 qid=279 Leonardo querie#4              ...  2.15s OK - 253 - 253\n",
      "14m 42s 201 qid=574 Direct Speech                  ...  1.23s OK - 6599 - 27654\n",
      "14m 43s 202 qid=367 #5 - Wonki. Lee                ...  1.53s OK - 8 - 22\n",
      "14m 45s 203 qid=181 Juan Martinez                  ...  1.95s OK - 84 - 252\n",
      "14m 47s 204 qid= 40 GZZ with Objc or Cmpl          ...  2.65s OK - 7 - 19\n",
      "14m 49s 205 qid=588 חזון for Iceland           ...  1.12s OK - 14 - 46\n",
      "14m 50s 206 qid= 25 Ayin\"Aiyn verbs                ...  0.61s OK - 6 - 6\n",
      "14m 51s 207 qid=319 lex BXR[ MWT/                  ...  1.53s OK - 1 - 2\n",
      "14m 52s 208 qid=117 God in Genesis                 ...  0.73s OK - 3038 - 4702\n",
      "14m 53s 209 qid=238 I know                         ...  2.42s OK - 19 - 36\n",
      "14m 56s 210 qid=402 proper names                   ...  0.83s OK - 33083 - 33083\n",
      "14m 56s 211 qid=599 test oliver new                ...  0.26s OK - 12 - 129\n",
      "14m 57s 212 qid=154 wonki. lee                     ...  0.45s OK - 6828 - 6828\n",
      "14m 57s 213 qid=171 pfp                            ...  0.24s OK - 3 - 9\n",
      "14m 57s 214 qid=312 How many occurrences of H-loc  ...  0.42s OK - 1113 - 1113\n",
      "14m 58s 215 qid=508 OTST619 <Su> (logical object)  ...  2.65s OK - 6 - 27\n",
      "15m 00s 216 qid= 99 LCWn - Tongue - Psalms         ...  0.18s OK - 0 - 0\n",
      "15m 01s 217 qid= 66 HNH yiqtol                     ...  1.08s OK - 15 - 15\n",
      "15m 02s 218 qid=106 \"horen\" voorafgaande aan Quot  ...  0.19s OK - 2 - 2\n",
      "15m 02s 219 qid=302 Jeremiah 1 Query               ...  3.77s OK - 57056 - 10\n",
      "15m 06s 220 qid= 30 P\"Aleph verbs                  ...  0.30s OK - 15 - 15\n",
      "15m 06s 221 qid=426 OTST552 preparation            ...  1.21s OK - 132 - 264\n",
      "15m 07s 222 qid=132 'ir 'emet                      ...  0.80s OK - 2 - 4\n",
      "15m 08s 223 qid=424 Jer 4:2 object of to bless (G  ...  5.37s OK - 40 - 71\n",
      "15m 13s 224 qid=274 Seek potential participant re  ...  0.70s OK - 1 - 1\n",
      "15m 14s 225 qid=243 Jer 1:7-8 Do not Say - Do not  ...  3.90s OK - 27 - 70\n",
      "15m 18s 226 qid=436 NWX + Qal                      ...  0.75s OK - 32 - 32\n",
      "15m 19s 227 qid=356 Seungho Park( 2nd Jr 4:2)      ...  2.60s OK - 6 - 27\n",
      "15m 21s 228 qid=307 Negation >L + JR>              ...  0.26s OK - 8 - 16\n",
      "15m 22s 229 qid=530 Repetition of imperative in I  ...  0.93s OK - 8 - 16\n",
      "15m 22s 230 qid=562 Single word clauses in domain  ...  0.51s OK - 139 - 139\n",
      "15m 23s 231 qid=459 lexeme for falsity             ...  0.45s OK - 113 - 113\n",
      "15m 23s 232 qid=244 testing go                     ...  8.04s OK - 3171 - 3427\n",
      "15m 31s 233 qid=233 My Test #2                     ...  1.57s OK - 12 - 24\n",
      "15m 33s 234 qid=266 Test                           ...  0.87s OK - 0 - 0\n",
      "15m 34s 235 qid=376 Psa 11:5 Investigating the Ri  ...  3.36s OK - 22 - 42\n",
      "15m 37s 236 qid=121 pual impf                      ...  0.44s OK - 81 - 81\n",
      "15m 38s 237 qid=604 Grammatical Terms: gentilic    ...  0.45s OK - 3 - 3\n",
      "15m 38s 238 qid=464 Jer 52 evil in the sight of t  ...  2.05s OK - 57 - 171\n",
      "15m 40s 239 qid=475 N>M JHWH                       ...  0.03s OK - 34 - 68\n",
      "15m 40s 240 qid=365 Donovan                        ...  1.50s OK - 8 - 22\n",
      "15m 42s 241 qid=407 NWK + hif + Cmpll - Subj       ...  1.42s OK - 69 - 236\n",
      "15m 43s 242 qid=176 wonki. lee                     ...  0.11s OK - 0 - 0\n",
      "15m 43s 243 qid=477 MINE                           ...  0.02s OK - 72 - 72\n",
      "15m 43s 244 qid=400 otio test                      ...  0.01s OK - 4 - 4\n",
      "15m 43s 245 qid=139 Jer 1:5 What is formed (JYR[)  ...  4.75s OK - 13 - 24\n",
      "15m 48s 246 qid=226 Test 3                         ...  0.51s OK - 2 - 2\n",
      "15m 49s 247 qid=385 Spirit of the Lord came upon   ...  1.83s OK - 14 - 28\n",
      "15m 50s 248 qid=432 Operator: GAP (Gen 31:53)      ...  0.66s OK - 15 - 42\n",
      "15m 51s 249 qid=225 Test                           ...  0.74s OK - 12 - 12\n",
      "15m 52s 250 qid= 47 Test 6 Judges 5:1              ...  0.01s OK - 4 - 0\n",
      "15m 52s 251 qid=224 Test                           ...  0.88s OK - 12 - 12\n",
      "15m 53s 252 qid=504 C<N <L JD                      ...  3.38s OK - 3 - 9\n",
      "15m 56s 253 qid=501 tutorial: jussiv forms         ... 2m 01s OK - 951 - 904\n",
      "17m 57s 254 qid=340 BRK + Nif + Hit + Complement   ...  1.41s OK - 8 - 22\n",
      "17m 59s 255 qid=465 Jer 52 good word               ...  1.61s OK - 6 - 12\n",
      "18m 01s 256 qid=395 NWK + Subject                  ...  1.42s OK - 37 - 118\n",
      "18m 02s 257 qid=564 Lev 26 function of numbers #0  ...  0.73s OK - 3 - 12\n",
      "18m 03s 258 qid=496 tutorial: finding nun energic  ...  0.36s OK - 546 - 546\n",
      "18m 03s 259 qid=572 the objects of CMR no01        ...  1.31s OK - 151 - 658\n",
      "18m 04s 260 qid=309 Domain test search             ...  0.10s OK - 1831 - 9553\n",
      "18m 04s 261 qid=518 Direct speech                  ...  1.13s OK - 6599 - 19082\n",
      "18m 06s 262 qid=509 OTST619 <Co> (logical subject  ...  3.17s OK - 16 - 22\n",
      "18m 09s 263 qid=515 Aramaic                        ...  0.40s OK - 6106 - 6106\n",
      "18m 09s 264 qid= 31 P\"Jod verbs                    ... 1m 19s OK - 260 - 260\n",
      "19m 28s 265 qid=460 lexemes justice, truth, falsi  ...  2.39s OK - 584 - 584\n",
      "19m 31s 266 qid=360 BRK nif and hit                ...  1.59s OK - 8 - 22\n",
      "19m 32s 267 qid=308 Inf. C. - ZQt0/ZQtX            ...  0.69s OK - 8 - 40\n",
      "19m 33s Done\n",
      "Written data to /Users/dirk/SURFdrive/laf-fabric-output/etcbc4/shebanq/results.txt\n"
     ]
    }
   ],
   "source": [
    "!python2 {shebanqdir}/convert.py {datadir}"
   ]
  },
  {
   "cell_type": "markdown",
   "metadata": {},
   "source": [
    "# Gather the execution results"
   ]
  },
  {
   "cell_type": "code",
   "execution_count": 7,
   "metadata": {
    "collapsed": true
   },
   "outputs": [],
   "source": [
    "mqf = open('{}/results.txt'.format(datadir))\n",
    "qrindex = {}\n",
    "for line in mqf:\n",
    "    (ix, r, rm) = line.rstrip('\\n').split('\\t')\n",
    "    qrindex[int(ix)] = (r, rm)\n",
    "mqf.close()"
   ]
  },
  {
   "cell_type": "code",
   "execution_count": 8,
   "metadata": {
    "collapsed": false
   },
   "outputs": [
    {
     "name": "stdout",
     "output_type": "stream",
     "text": [
      "Pass 2: Fill the tables ... \n",
      "534 query records and 819 query_exe records\n"
     ]
    }
   ],
   "source": [
    "print(\"Pass 2: Fill the tables ... \")\n",
    "\n",
    "tables = dict(query=[], query_exe=[], monads=[])\n",
    "tb_q = tables['query']\n",
    "tb_qx = tables['query_exe']\n",
    "\n",
    "qe = 0\n",
    "\n",
    "for r in old_records:\n",
    "    qid = r[ofi['id']]\n",
    "    new_query = (\n",
    "        s_esc(qid),\n",
    "        s_esc(r[ofi['name']], True),\n",
    "        s_esc(r[ofi['description']], True),\n",
    "        s_esc(r[ofi['created_on']], True),\n",
    "        s_esc(r[ofi['created_by']]),\n",
    "        s_esc(r[ofi['modified_on']], True),\n",
    "        s_esc(r[ofi['modified_on']], True),\n",
    "        s_esc(r[ofi['is_published']], True),\n",
    "        s_esc(r[ofi['project']]),\n",
    "        s_esc(r[ofi['organization']]),\n",
    "    )\n",
    "    tb_q.append('({})'.format(','.join(new_query)))\n",
    "    qe += 1\n",
    "    qmapping[qid] = str(qe)\n",
    "    if qe in qrindex:\n",
    "        (rx, rm) = qrindex[qe]\n",
    "    else:\n",
    "        (rx, rm) = ('\\\\N', '\\\\N')\n",
    "    new_query_exe = (\n",
    "        s_esc(qe),\n",
    "        s_esc(r[ofi['mql']], True),\n",
    "        s_esc('4', True),\n",
    "        s_esc(rm),\n",
    "        s_esc(rx),\n",
    "        s_esc(r[ofi['executed_on']], True),\n",
    "        s_esc(r[ofi['modified_on']], True),\n",
    "        s_esc('\\\\N'),\n",
    "        s_esc('\\\\N'),\n",
    "        s_esc(r[ofi['id']]),\n",
    "    )\n",
    "    tb_qx.append('({})'.format(','.join(new_query_exe)))\n",
    "    if r[ofi['is_published']] == 'T' and r[ofi['executed_on']] and r[ofi['executed_on']] >= r[ofi['modified_on']]:\n",
    "        qe += 1\n",
    "        new_query_exe = (\n",
    "            s_esc(qe),\n",
    "            s_esc(r[ofi['mql']], True),\n",
    "            s_esc('4b', True),\n",
    "            s_esc('\\\\N'),\n",
    "            s_esc('\\\\N'),\n",
    "            s_esc('\\\\N'),\n",
    "            s_esc(r[ofi['modified_on']], True),\n",
    "            s_esc('\\\\N'),\n",
    "            s_esc('\\\\N'),\n",
    "            s_esc(r[ofi['id']]),\n",
    "        )\n",
    "        tb_qx.append('({})'.format(','.join(new_query_exe)))\n",
    "print('{} query records and {} query_exe records'.format(len(tb_q), len(tb_qx)))"
   ]
  },
  {
   "cell_type": "markdown",
   "metadata": {},
   "source": [
    "# Transforming the monadsets\n",
    "\n",
    "Here we read the old ``monadsets`` table, and replace the contents of the ``query_id`` field, which is the id of an associated query, by the id of the new ``query_exe`` record that belongs to that query.\n",
    "We find the new id by means of the ``qmapping`` dictionary that we have just constructed."
   ]
  },
  {
   "cell_type": "code",
   "execution_count": 9,
   "metadata": {
    "collapsed": false
   },
   "outputs": [
    {
     "name": "stdout",
     "output_type": "stream",
     "text": [
      "351657 monads records\n"
     ]
    }
   ],
   "source": [
    "oldf = open('{}/monadsets.txt'.format(datadir), newline='\\n')\n",
    "tb_m = tables['monads']\n",
    "for line in oldf:\n",
    "    (mid, qid, fm, lm) = line.rstrip('\\n').split('\\t')\n",
    "    tb_m.append('({})'.format(','.join((qmapping[qid], str(fm), str(lm)))))\n",
    "print('{} monads records'.format(len(tb_m)))"
   ]
  },
  {
   "cell_type": "markdown",
   "metadata": {},
   "source": [
    "# SQL generation"
   ]
  },
  {
   "cell_type": "code",
   "execution_count": 10,
   "metadata": {
    "collapsed": false
   },
   "outputs": [
    {
     "name": "stdout",
     "output_type": "stream",
     "text": [
      "Table query: written 534 rows\n",
      "Table query_exe: written 819 rows\n",
      "Table monads: written 351657 rows\n",
      "Done\n"
     ]
    }
   ],
   "source": [
    "limits_row = dict(\n",
    "    query=100,\n",
    "    query_exe=100,\n",
    "    monads=10000,\n",
    ")\n",
    "table_order = ('query', 'query_exe', 'monads')\n",
    "sqf = open('{}/queryx.sql'.format(datadir), 'w')\n",
    "sqf.write('''\n",
    "use {}\n",
    "'''.format(db)\n",
    ")\n",
    "for table in reversed(table_order):\n",
    "    sqf.write('''\n",
    "drop table if exists `{}`;\n",
    "'''.format(table))\n",
    "\n",
    "for table in table_order:\n",
    "    sqf.write(create_text[table])\n",
    "\n",
    "for table in table_order:\n",
    "    limit_row = limits_row[table]\n",
    "    w = 0\n",
    "    start = '''insert into {} ({}) values\n",
    "'''.format(table, ','.join(new_fields[table]))\n",
    "    rows = tables[table]\n",
    "    r = 0\n",
    "    while r < len(rows):\n",
    "        sqf.write(start)\n",
    "        s = min(r + limit_row, len(rows))\n",
    "        sqf.write(' {}'.format(rows[r]))\n",
    "        w += 1\n",
    "        if r + 1 < len(rows):\n",
    "            for t in rows[r + 1:s]: \n",
    "                sqf.write('\\n,{}'.format(t))\n",
    "                w += 1\n",
    "        sqf.write(';\\n')\n",
    "        r = s\n",
    "    print('Table {}: written {} rows'.format(table, w))\n",
    "sqf.close()\n",
    "print(\"Done\")"
   ]
  },
  {
   "cell_type": "markdown",
   "metadata": {},
   "source": [
    "# Table importing"
   ]
  },
  {
   "cell_type": "code",
   "execution_count": 12,
   "metadata": {
    "collapsed": false
   },
   "outputs": [
    {
     "name": "stdout",
     "output_type": "stream",
     "text": [
      "/Users/dirk/SURFdrive/laf-fabric-output/etcbc4/shebanq\n"
     ]
    }
   ],
   "source": [
    "%cd {datadir}\n",
    "!mysql -u root <queryx.sql"
   ]
  },
  {
   "cell_type": "markdown",
   "metadata": {
    "collapsed": true
   },
   "source": [
    "Check the new monads table by running this query, which should have no results:\n",
    "\n",
    "    select\n",
    "        monads.first_m - monadsets.first_m,\n",
    "        monads.last_m - monadsets.last_m\n",
    "    from monads inner join monadsets on \n",
    "        monads.id = monadsets.id\n",
    "    where \n",
    "        monads.first_m - monadsets.first_m != 0 or \n",
    "        monads.last_m - monadsets.last_m != 0\n",
    "    ;"
   ]
  },
  {
   "cell_type": "markdown",
   "metadata": {
    "collapsed": true
   },
   "source": [
    "# Final actions\n",
    "\n",
    "If all went well, drop the old tables: ``queries`` and ``monadsets``.\n",
    "But make a backup of the original database, because otherwise you cannot redo this conversion."
   ]
  },
  {
   "cell_type": "raw",
   "metadata": {},
   "source": [
    "use shebanq_web;\n",
    "drop table monadsets;\n",
    "drop table queries;"
   ]
  },
  {
   "cell_type": "markdown",
   "metadata": {},
   "source": [
    "# 2015-05-23\n",
    "We add the version of the query engine (emdros) to the metadata of the query.\n",
    "First we alter the table query_exe, to contain a column eversion varchar(32).\n",
    "Then we add the initial value \"3.4.0\" to all records that have the field executed_on filled in."
   ]
  },
  {
   "cell_type": "raw",
   "metadata": {
    "collapsed": true
   },
   "source": [
    "use shebanq_web;\n",
    "alter table query_exe add eversion varchar(32) after version;\n",
    "update query_exe set eversion = 'emdros 3.4.0' where executed_on is not null;"
   ]
  }
 ],
 "metadata": {
  "kernelspec": {
   "display_name": "Python 3",
   "language": "python",
   "name": "python3"
  },
  "language_info": {
   "codemirror_mode": {
    "name": "ipython",
    "version": 3
   },
   "file_extension": ".py",
   "mimetype": "text/x-python",
   "name": "python",
   "nbconvert_exporter": "python",
   "pygments_lexer": "ipython3",
   "version": "3.4.2"
  }
 },
 "nbformat": 4,
 "nbformat_minor": 0
}
