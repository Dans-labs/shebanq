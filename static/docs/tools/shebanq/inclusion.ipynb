{
 "cells": [
  {
   "cell_type": "markdown",
   "metadata": {},
   "source": [
    "<a href=\"http://laf-fabric.readthedocs.org/en/latest/\" target=\"_blank\"><img align=\"left\" src=\"images/laf-fabric-xsmall.png\"/></a>\n",
    "<a href=\"http://emdros.org\" target=\"_blank\"><img align=\"left\" src=\"files/images/Emdros-xsmall.png\"/></a>\n",
    "<a href=\"http://www.persistent-identifier.nl/?identifier=urn%3Anbn%3Anl%3Aui%3A13-048i-71\" target=\"_blank\"><img align=\"left\"src=\"images/etcbc4easy-small.png\"/></a>\n",
    "<a href=\"http://www.godgeleerdheid.vu.nl/etcbc\" target=\"_blank\"><img align=\"right\" src=\"images/VU-ETCBC-xsmall.png\"/></a>"
   ]
  },
  {
   "cell_type": "markdown",
   "metadata": {},
   "source": [
    "# Inclusion"
   ]
  },
  {
   "cell_type": "code",
   "execution_count": 1,
   "metadata": {
    "collapsed": false
   },
   "outputs": [
    {
     "name": "stderr",
     "output_type": "stream",
     "text": [
      "  0.00s This is LAF-Fabric 4.4.7\n",
      "API reference: http://laf-fabric.readthedocs.org/en/latest/texts/API-reference.html\n",
      "Feature doc: http://shebanq-doc.readthedocs.org/en/latest/texts/welcome.html\n",
      "\n"
     ]
    }
   ],
   "source": [
    "import sys\n",
    "import collections\n",
    "import subprocess\n",
    "\n",
    "from lxml import etree\n",
    "\n",
    "import laf\n",
    "from laf.fabric import LafFabric\n",
    "from etcbc.preprocess import prepare\n",
    "fabric = LafFabric()"
   ]
  },
  {
   "cell_type": "code",
   "execution_count": 17,
   "metadata": {
    "collapsed": false,
    "scrolled": false
   },
   "outputs": [
    {
     "name": "stderr",
     "output_type": "stream",
     "text": [
      "  0.00s LOADING API: please wait ... \n",
      "  0.00s DETAIL: COMPILING m: UP TO DATE\n",
      "  0.00s INFO: USING DATA COMPILED AT: 2015-05-04T13-46-20\n",
      "  0.00s DETAIL: COMPILING a: UP TO DATE\n",
      "  0.01s DETAIL: keep main: G.node_anchor_min\n",
      "  0.01s DETAIL: keep main: G.node_anchor_max\n",
      "  0.01s DETAIL: keep main: G.node_sort\n",
      "  0.01s DETAIL: keep main: G.node_sort_inv\n",
      "  0.01s DETAIL: keep main: G.edges_from\n",
      "  0.01s DETAIL: keep main: G.edges_to\n",
      "  0.02s DETAIL: keep main: F.etcbc4_db_maxmonad [node] \n",
      "  0.02s DETAIL: keep main: F.etcbc4_db_minmonad [node] \n",
      "  0.02s DETAIL: keep main: F.etcbc4_db_monads [node] \n",
      "  0.02s DETAIL: keep main: F.etcbc4_db_otype [node] \n",
      "  0.02s DETAIL: load main: F.etcbc4_ft_number [node] \n",
      "  0.94s DETAIL: load main: F.etcbc4_sft_book [node] \n",
      "  0.96s DETAIL: load main: F.etcbc4_sft_chapter [node] \n",
      "  0.98s DETAIL: load main: F.etcbc4_sft_verse [node] \n",
      "  0.99s DETAIL: prep prep: G.node_sort\n",
      "  1.07s DETAIL: prep prep: G.node_sort_inv\n",
      "  2.51s DETAIL: prep prep: L.node_up\n",
      "    11s DETAIL: prep prep: L.node_down\n",
      "    30s INFO: DATA LOADED FROM SOURCE etcbc4b AND ANNOX -- FOR TASK ntn AT 2015-05-07T16-26-54\n"
     ]
    }
   ],
   "source": [
    "API = fabric.load('etcbc4b', '--', 'ntn', {\n",
    "    \"xmlids\": {\"node\": False, \"edge\": False},\n",
    "    \"features\": ('''\n",
    "        otype monads minmonad maxmonad\n",
    "        book chapter verse number\n",
    "    ''',''),\n",
    "    \"prepare\": prepare,\n",
    "    \"primary\": False,\n",
    "}, verbose='DETAIL')\n",
    "exec(fabric.localnames.format(var='fabric'))"
   ]
  },
  {
   "cell_type": "code",
   "execution_count": 3,
   "metadata": {
    "collapsed": false
   },
   "outputs": [
    {
     "name": "stdout",
     "output_type": "stream",
     "text": [
      "\"25859-25866\"\n"
     ]
    }
   ],
   "source": [
    "print('\"{}\"'.format(F.monads.v(431935)))"
   ]
  },
  {
   "cell_type": "code",
   "execution_count": 4,
   "metadata": {
    "collapsed": false
   },
   "outputs": [],
   "source": [
    "otypes = (\n",
    "    'book',\n",
    "    'chapter',\n",
    "    'verse',\n",
    "    'half_verse',\n",
    "    'sentence',\n",
    "    'sentence_atom',\n",
    "    'clause',\n",
    "    'clause_atom',\n",
    "    'phrase',\n",
    "    'phrase_atom',\n",
    "    'subphrase',\n",
    "    'word',\n",
    ")"
   ]
  },
  {
   "cell_type": "code",
   "execution_count": 5,
   "metadata": {
    "collapsed": true
   },
   "outputs": [],
   "source": [
    "Lu = {}\n",
    "Ld = {}\n",
    "\n",
    "def getmonads(attr):\n",
    "    ranges = attr.split(',')\n",
    "    covered = set()\n",
    "    for r in ranges:\n",
    "        if '-' in r:\n",
    "            (start, end) = r.split('-', 1)\n",
    "            for i in range(int(start), int(end)+1): covered.add(i)\n",
    "        else:\n",
    "            covered.add(int(r))\n",
    "    return covered\n",
    "\n",
    "def fill(er, ed):\n",
    "    cur_min = None\n",
    "    cur_max = None\n",
    "    cur_ers = collections.deque()\n",
    "    skip_ed = None\n",
    "    for n in NN():\n",
    "        otype = F.otype.v(n)\n",
    "        if otype == er:\n",
    "            this_er = n\n",
    "            this_min = int(F.minmonad.v(n))\n",
    "            this_max = int(F.maxmonad.v(n))\n",
    "            this_monads = getmonads(F.monads.v(n))\n",
    "            while len(cur_ers):\n",
    "                if cur_ers[0][2] < this_min:\n",
    "                    cur_ers.popleft()\n",
    "                else:\n",
    "                    break\n",
    "            cur_ers.append((this_er, this_min, this_max, this_monads))\n",
    "            cur_max = max(x[2] for x in cur_ers)\n",
    "            cur_min = min(x[1] for x in cur_ers)\n",
    "            skip_ed = False\n",
    "        elif otype in ed:\n",
    "            if len(cur_ers) > 0:\n",
    "                if not skip_ed:\n",
    "                    this_min = int(F.minmonad.v(n))\n",
    "                    this_max = int(F.maxmonad.v(n))\n",
    "                if this_min > cur_max:\n",
    "                    skip_ed = True\n",
    "                if this_max <= cur_max:\n",
    "                    this_monads = getmonads(F.monads.v(n))\n",
    "                    for (that_er, that_min, that_max, that_monads) in cur_ers:\n",
    "                        if  this_monads <= that_monads:\n",
    "                            Lu.setdefault(er, {})[n] = that_er\n",
    "                            Ld.setdefault(otype, {}).setdefault(that_er, []).append(n)"
   ]
  },
  {
   "cell_type": "code",
   "execution_count": 6,
   "metadata": {
    "collapsed": false
   },
   "outputs": [
    {
     "name": "stdout",
     "output_type": "stream",
     "text": [
      "objects embedded in book\n",
      "objects embedded in chapter\n",
      "objects embedded in verse\n",
      "objects embedded in half_verse\n",
      "objects embedded in sentence\n",
      "objects embedded in sentence_atom\n",
      "objects embedded in clause\n",
      "objects embedded in clause_atom\n",
      "objects embedded in phrase\n",
      "objects embedded in phrase_atom\n",
      "objects embedded in subphrase\n",
      "objects embedded in word\n"
     ]
    }
   ],
   "source": [
    "lower_types = set(otypes)\n",
    "for t in otypes:\n",
    "    print(\"objects embedded in {}\".format(t))\n",
    "    lower_types.remove(t)\n",
    "    fill(t, lower_types)"
   ]
  },
  {
   "cell_type": "code",
   "execution_count": 7,
   "metadata": {
    "collapsed": false
   },
   "outputs": [
    {
     "data": {
      "text/plain": [
       "[620998, 620999, 621000]"
      ]
     },
     "execution_count": 7,
     "metadata": {},
     "output_type": "execute_result"
    }
   ],
   "source": [
    "Ld['phrase'][431935]"
   ]
  },
  {
   "cell_type": "code",
   "execution_count": 8,
   "metadata": {
    "collapsed": false
   },
   "outputs": [
    {
     "data": {
      "text/plain": [
       "[25858, 25859, 25861, 25862, 25863]"
      ]
     },
     "execution_count": 8,
     "metadata": {},
     "output_type": "execute_result"
    }
   ],
   "source": [
    "Ld['word'][620998]"
   ]
  },
  {
   "cell_type": "code",
   "execution_count": 9,
   "metadata": {
    "collapsed": false
   },
   "outputs": [
    {
     "data": {
      "text/plain": [
       "[25860]"
      ]
     },
     "execution_count": 9,
     "metadata": {},
     "output_type": "execute_result"
    }
   ],
   "source": [
    "Ld['word'][620999]"
   ]
  },
  {
   "cell_type": "code",
   "execution_count": 10,
   "metadata": {
    "collapsed": false
   },
   "outputs": [
    {
     "data": {
      "text/plain": [
       "[25864, 25865]"
      ]
     },
     "execution_count": 10,
     "metadata": {},
     "output_type": "execute_result"
    }
   ],
   "source": [
    "Ld['word'][621000]"
   ]
  },
  {
   "cell_type": "code",
   "execution_count": 18,
   "metadata": {
    "collapsed": false
   },
   "outputs": [
    {
     "name": "stdout",
     "output_type": "stream",
     "text": [
      "Genesis 25:6#9 phr 3\n"
     ]
    }
   ],
   "source": [
    "p = 612164\n",
    "s = Lu['sentence'][p]\n",
    "print('{} {}:{}#{} phr {}'.format(\n",
    "    F.book.v(Lu['book'][s]), \n",
    "    F.chapter.v(Lu['chapter'][s]), \n",
    "    F.verse.v(Lu['verse'][s]), \n",
    "    F.number.v(s),\n",
    "    F.number.v(p),\n",
    "))"
   ]
  },
  {
   "cell_type": "code",
   "execution_count": 19,
   "metadata": {
    "collapsed": false
   },
   "outputs": [
    {
     "data": {
      "text/plain": [
       "[612160, 612161, 612164, 612165, 612166]"
      ]
     },
     "execution_count": 19,
     "metadata": {},
     "output_type": "execute_result"
    }
   ],
   "source": [
    "Ld['phrase'][428987]"
   ]
  },
  {
   "cell_type": "code",
   "execution_count": null,
   "metadata": {
    "collapsed": true
   },
   "outputs": [],
   "source": []
  }
 ],
 "metadata": {
  "kernelspec": {
   "display_name": "Python 3",
   "language": "python",
   "name": "python3"
  },
  "language_info": {
   "codemirror_mode": {
    "name": "ipython",
    "version": 3
   },
   "file_extension": ".py",
   "mimetype": "text/x-python",
   "name": "python",
   "nbconvert_exporter": "python",
   "pygments_lexer": "ipython3",
   "version": "3.4.2"
  }
 },
 "nbformat": 4,
 "nbformat_minor": 0
}
