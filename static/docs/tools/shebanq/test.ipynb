{
 "cells": [
  {
   "cell_type": "code",
   "execution_count": 1,
   "metadata": {
    "collapsed": false
   },
   "outputs": [
    {
     "name": "stderr",
     "output_type": "stream",
     "text": [
      "  0.00s This is LAF-Fabric 4.5.3\n",
      "API reference: http://laf-fabric.readthedocs.org/en/latest/texts/API-reference.html\n",
      "Feature doc: http://shebanq-doc.readthedocs.org/en/latest/texts/welcome.html\n",
      "\n"
     ]
    }
   ],
   "source": [
    "import sys\n",
    "import collections\n",
    "\n",
    "from laf.fabric import LafFabric\n",
    "from etcbc.lib import Transcription\n",
    "from etcbc.preprocess import prepare\n",
    "\n",
    "fabric = LafFabric()"
   ]
  },
  {
   "cell_type": "code",
   "execution_count": 2,
   "metadata": {
    "collapsed": false
   },
   "outputs": [
    {
     "name": "stderr",
     "output_type": "stream",
     "text": [
      "  0.00s LOADING API: please wait ... \n",
      "  0.00s DETAIL: COMPILING m: UP TO DATE\n",
      "  0.00s INFO: USING DATA COMPILED AT: 2015-06-29T05-30-49\n",
      "  0.00s DETAIL: COMPILING a: UP TO DATE\n",
      "  0.01s INFO: USING DATA COMPILED AT: 2015-05-04T14-07-34\n",
      "  0.01s DETAIL: load main: G.node_anchor_min\n",
      "  0.10s DETAIL: load main: G.node_anchor_max\n",
      "  0.16s DETAIL: load main: G.node_sort\n",
      "  0.22s DETAIL: load main: G.node_sort_inv\n",
      "  0.67s DETAIL: load main: G.edges_from\n",
      "  0.75s DETAIL: load main: G.edges_to\n",
      "  0.84s DETAIL: load main: F.etcbc4_db_otype [node] \n",
      "  1.78s DETAIL: load main: F.etcbc4_sft_book [node] \n",
      "  1.80s DETAIL: load annox: F.etcbc4_db_otype [node] \n",
      "  1.81s DETAIL: load annox: F.etcbc4_sft_book [node] \n",
      "  1.81s LOGFILE=/Users/dirk/SURFdrive/laf-fabric-output/etcbc4b/shebanq/__log__shebanq.txt\n",
      "  1.81s DETAIL: prep prep: G.node_sort\n",
      "  1.87s DETAIL: prep prep: G.node_sort_inv\n",
      "  2.36s DETAIL: prep prep: L.node_up\n",
      "  5.88s DETAIL: prep prep: L.node_down\n",
      "    12s ETCBC reference: http://laf-fabric.readthedocs.org/en/latest/texts/ETCBC-reference.html\n",
      "  0.00s LOADING API with EXTRAs: please wait ... \n",
      "  0.00s DETAIL: COMPILING m: UP TO DATE\n",
      "  0.00s INFO: USING DATA COMPILED AT: 2015-06-29T05-30-49\n",
      "  0.00s DETAIL: COMPILING a: UP TO DATE\n",
      "  0.00s INFO: USING DATA COMPILED AT: 2015-05-04T14-07-34\n",
      "  0.01s DETAIL: keep main: G.node_anchor_min\n",
      "  0.01s DETAIL: keep main: G.node_anchor_max\n",
      "  0.01s DETAIL: keep main: G.node_sort\n",
      "  0.01s DETAIL: keep main: G.node_sort_inv\n",
      "  0.01s DETAIL: keep main: G.edges_from\n",
      "  0.02s DETAIL: keep main: G.edges_to\n",
      "  0.02s DETAIL: keep main: F.etcbc4_db_otype [node] \n",
      "  0.02s DETAIL: keep main: F.etcbc4_sft_book [node] \n",
      "  0.02s DETAIL: keep annox: F.etcbc4_db_otype [node] \n",
      "  0.02s DETAIL: keep annox: F.etcbc4_sft_book [node] \n",
      "  0.02s DETAIL: load main: F.etcbc4_ft_number [node] \n",
      "  0.74s DETAIL: load main: F.etcbc4_sft_chapter [node] \n",
      "  0.76s DETAIL: load main: F.etcbc4_sft_verse [node] \n",
      "  0.78s DETAIL: load annox: F.etcbc4_ft_number [node] \n",
      "  0.78s DETAIL: load annox: F.etcbc4_sft_chapter [node] \n",
      "  0.78s DETAIL: load annox: F.etcbc4_sft_verse [node] \n",
      "  0.78s INFO: DATA LOADED FROM SOURCE etcbc4b AND ANNOX lexicon FOR TASK shebanq AT 2015-06-29T07-06-18\n",
      "  0.00s INFO: DATA LOADED FROM SOURCE etcbc4b AND ANNOX lexicon FOR TASK shebanq AT 2015-06-29T07-06-18\n"
     ]
    }
   ],
   "source": [
    "source = 'etcbc'\n",
    "version = '4b'\n",
    "API = fabric.load(source+version, 'lexicon', 'shebanq', {\n",
    "    \"xmlids\": {\"node\": False, \"edge\": False},\n",
    "    \"features\": ('''\n",
    "        otype book\n",
    "    ''',''),\n",
    "    'primary': False,\n",
    "    'prepare': prepare,\n",
    "}, verbose='DETAIL')\n",
    "exec(fabric.localnames.format(var='fabric'))"
   ]
  },
  {
   "cell_type": "code",
   "execution_count": 3,
   "metadata": {
    "collapsed": false
   },
   "outputs": [
    {
     "name": "stdout",
     "output_type": "stream",
     "text": [
      "Genesis\n",
      "Exodus\n",
      "Leviticus\n",
      "Numeri\n",
      "Deuteronomium\n",
      "Josua\n",
      "Judices\n",
      "Samuel_I\n",
      "Samuel_II\n",
      "Reges_I\n",
      "Reges_II\n",
      "Jesaia\n",
      "Jeremia\n",
      "Ezechiel\n",
      "Hosea\n",
      "Joel\n",
      "Amos\n",
      "Obadia\n",
      "Jona\n",
      "Micha\n",
      "Nahum\n",
      "Habakuk\n",
      "Zephania\n",
      "Haggai\n",
      "Sacharia\n",
      "Maleachi\n",
      "Psalmi\n",
      "Iob\n",
      "Proverbia\n",
      "Ruth\n",
      "Canticum\n",
      "Ecclesiastes\n",
      "Threni\n",
      "Esther\n",
      "Daniel\n",
      "Esra\n",
      "Nehemia\n",
      "Chronica_I\n",
      "Chronica_II\n"
     ]
    }
   ],
   "source": [
    "for b in F.otype.s('book'):\n",
    "    print(F.book.v(b))"
   ]
  },
  {
   "cell_type": "code",
   "execution_count": null,
   "metadata": {
    "collapsed": true
   },
   "outputs": [],
   "source": []
  }
 ],
 "metadata": {
  "kernelspec": {
   "display_name": "Python 3",
   "language": "python",
   "name": "python3"
  },
  "language_info": {
   "codemirror_mode": {
    "name": "ipython",
    "version": 3
   },
   "file_extension": ".py",
   "mimetype": "text/x-python",
   "name": "python",
   "nbconvert_exporter": "python",
   "pygments_lexer": "ipython3",
   "version": "3.4.2"
  }
 },
 "nbformat": 4,
 "nbformat_minor": 0
}
