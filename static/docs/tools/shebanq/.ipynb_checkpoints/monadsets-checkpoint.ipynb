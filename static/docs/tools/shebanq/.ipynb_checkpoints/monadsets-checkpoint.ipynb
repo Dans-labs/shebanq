{
 "cells": [
  {
   "cell_type": "markdown",
   "metadata": {},
   "source": [
    "<a href=\"http://laf-fabric.readthedocs.org/en/latest/\" target=\"_blank\"><img align=\"left\" src=\"images/laf-fabric-xsmall.png\"/></a>\n",
    "<a href=\"http://www.godgeleerdheid.vu.nl/etcbc\" target=\"_blank\"><img align=\"left\" src=\"images/VU-ETCBC-xsmall.png\"/></a>\n",
    "<a href=\"http://www.persistent-identifier.nl/?identifier=urn%3Anbn%3Anl%3Aui%3A13-048i-71\" target=\"_blank\"><img align=\"left\"src=\"images/etcbc4easy-small.png\"/></a>\n",
    "<a href=\"http://tla.mpi.nl\" target=\"_blank\"><img align=\"right\" src=\"images/TLA-xsmall.png\"/></a>\n",
    "<a href=\"http://www.dans.knaw.nl\" target=\"_blank\"><img align=\"right\"src=\"images/DANS-xsmall.png\"/></a>"
   ]
  },
  {
   "cell_type": "markdown",
   "metadata": {},
   "source": [
    "# A monad set that corresponds to 8 different objects"
   ]
  },
  {
   "cell_type": "markdown",
   "metadata": {},
   "source": [
    "The [file with values for the feature monads](http://shebanq-doc.readthedocs.org/en/latest/features/index/monads.html) reveals that there are monad sets that correspond to 8 different objects.\n",
    "\n",
    "In this notebook we just explore one such a monad set and the objects associated with it.\n",
    "\n",
    "Consider this as an exercise in deep drilling into the data."
   ]
  },
  {
   "cell_type": "markdown",
   "metadata": {},
   "source": [
    "# Firing up the engines"
   ]
  },
  {
   "cell_type": "code",
   "execution_count": 1,
   "metadata": {
    "collapsed": false
   },
   "outputs": [
    {
     "name": "stderr",
     "output_type": "stream",
     "text": [
      "  0.00s This is LAF-Fabric 4.5.21\n",
      "API reference: http://laf-fabric.readthedocs.org/en/latest/texts/API-reference.html\n",
      "Feature doc: https://shebanq.ancient-data.org/static/docs/featuredoc/texts/welcome.html\n",
      "\n"
     ]
    }
   ],
   "source": [
    "import sys\n",
    "import collections\n",
    "\n",
    "import laf\n",
    "from laf.fabric import LafFabric\n",
    "from etcbc.preprocess import prepare\n",
    "\n",
    "fabric = LafFabric()"
   ]
  },
  {
   "cell_type": "code",
   "execution_count": 2,
   "metadata": {
    "collapsed": false
   },
   "outputs": [
    {
     "name": "stderr",
     "output_type": "stream",
     "text": [
      "  0.00s LOADING API: please wait ... \n",
      "  0.00s USING main  DATA COMPILED AT: 2014-07-23T09-31-37\n",
      "  4.20s LOGFILE=/Users/dirk/laf-fabric-output/etcbc4/clausecomplements/__log__clausecomplements.txt\n",
      "  4.20s INFO: LOADING PREPARED data: please wait ... \n",
      "  4.20s prep prep: G.node_sort\n",
      "  4.20s PREPARING prep: G.node_sort\n",
      "  4.20s LOADING API with EXTRAs: please wait ... \n",
      "  4.20s USING main  DATA COMPILED AT: 2014-07-23T09-31-37\n",
      "  5.89s NORMAL: DATA LOADED FROM SOURCE etcbc4 AND ANNOX -- FOR TASK clausecomplements AT 2016-03-05T08-51-56\n",
      "  5.89s SORTING nodes ...\n",
      "    51s WRITING prep: G.node_sort\n",
      "    51s prep prep: G.node_sort_inv\n",
      "    51s PREPARING prep: G.node_sort_inv\n",
      "    51s SORTING nodes (inv) ...\n",
      "    52s WRITING prep: G.node_sort_inv\n",
      "    53s prep prep: L.node_up\n",
      "    53s PREPARING prep: L.node_up\n",
      "    53s LOADING API with EXTRAs: please wait ... \n",
      "    53s USING main  DATA COMPILED AT: 2014-07-23T09-31-37\n",
      "    53s NORMAL: DATA LOADED FROM SOURCE etcbc4 AND ANNOX -- FOR TASK clausecomplements AT 2016-03-05T08-52-43\n",
      "    53s Objects contained in books\n",
      " 1m 02s Objects contained in chapters\n",
      " 1m 10s Objects contained in verses\n",
      " 1m 20s Objects contained in half_verses\n",
      " 1m 29s Objects contained in sentences\n",
      " 1m 37s Objects contained in sentence_atoms\n",
      " 1m 48s Objects contained in clauses\n",
      " 1m 56s Objects contained in clause_atoms\n",
      " 2m 03s Objects contained in phrases\n",
      " 2m 11s Objects contained in phrase_atoms\n",
      " 2m 18s Objects contained in subphrases\n",
      " 2m 20s Objects contained in words\n",
      " 2m 23s WRITING prep: L.node_up\n",
      " 2m 29s prep prep: L.node_down\n",
      " 2m 29s PREPARING prep: L.node_down\n",
      " 2m 29s WRITING prep: L.node_down\n",
      " 2m 37s prep prep: V.verses\n",
      " 2m 37s PREPARING prep: V.verses\n",
      " 2m 37s LOADING API with EXTRAs: please wait ... \n",
      " 2m 37s USING main  DATA COMPILED AT: 2014-07-23T09-31-37\n",
      " 2m 37s NORMAL: DATA LOADED FROM SOURCE etcbc4 AND ANNOX -- FOR TASK clausecomplements AT 2016-03-05T08-54-27\n",
      " 2m 37s Making verse index\n",
      " 2m 38s Done. 23213 verses\n",
      " 2m 38s WRITING prep: V.verses\n",
      " 2m 38s prep prep: V.books_la\n",
      " 2m 38s PREPARING prep: V.books_la\n",
      " 2m 38s Listing books\n",
      " 2m 40s Done. 39 books\n",
      " 2m 40s WRITING prep: V.books_la\n",
      " 2m 40s ETCBC reference: http://laf-fabric.readthedocs.org/en/latest/texts/ETCBC-reference.html\n",
      " 2m 42s INFO: LOADED PREPARED data\n",
      " 2m 42s INFO: DATA LOADED FROM SOURCE etcbc4 AND ANNOX lexicon FOR TASK clausecomplements AT 2016-03-05T08-54-32\n"
     ]
    }
   ],
   "source": [
    "API = fabric.load('etcbc4', '--', 'clausecomplements', {\n",
    "    \"xmlids\": {\"node\": False, \"edge\": False},\n",
    "    \"features\": ('''\n",
    "        oid otype monads\n",
    "        book chapter verse\n",
    "        g_word_utf8 trailer_utf8\n",
    "    ''','''\n",
    "    '''),\n",
    "    \"prepare\": prepare,\n",
    "}, verbose='NORMAL')\n",
    "exec(fabric.localnames.format(var='fabric'))"
   ]
  },
  {
   "cell_type": "markdown",
   "metadata": {},
   "source": [
    "# Passage index"
   ]
  },
  {
   "cell_type": "markdown",
   "metadata": {},
   "source": [
    "When we have found our objects, we want to indicate where they occur in the bible. In order to specify the passage of a node, we have to now in what verse a node occurs. In the next code cell we create a mapping from nodes of type sentence, clause, etc to nodes of type verse. From a verse node we can read off the passage information."
   ]
  },
  {
   "cell_type": "code",
   "execution_count": 3,
   "metadata": {
    "collapsed": false
   },
   "outputs": [
    {
     "name": "stderr",
     "output_type": "stream",
     "text": [
      "  5.42s Making passage index ...\n",
      "  6.89s Passage index created for 1416963 nodes\n"
     ]
    }
   ],
   "source": [
    "msg(\"Making passage index ...\")\n",
    "target_types = {\n",
    "    'sentence', 'sentence_atom', \n",
    "    'clause', 'clause_atom', \n",
    "    'phrase', 'phrase_atom', \n",
    "    'subphrase', 'word', 'half_verse',\n",
    "}\n",
    "cur_verse = None\n",
    "node_verse = {}\n",
    "for n in NN():\n",
    "    otype = F.otype.v(n)\n",
    "    if otype == 'verse': cur_verse = n\n",
    "    elif otype in target_types: node_verse[n] = cur_verse\n",
    "msg(\"Passage index created for {} nodes\".format(len(node_verse)))"
   ]
  },
  {
   "cell_type": "markdown",
   "metadata": {},
   "source": [
    "# Look up the objects"
   ]
  },
  {
   "cell_type": "markdown",
   "metadata": {},
   "source": [
    "We want to find the objects corresponding to a given monad set, and we also want to find all words in that monad set."
   ]
  },
  {
   "cell_type": "code",
   "execution_count": 4,
   "metadata": {
    "collapsed": false
   },
   "outputs": [],
   "source": [
    "lookup = '121842-121846'\n",
    "monads = tuple(int(x) for x in lookup.split('-'))\n",
    "monad_list = [str(x) for x in range(monads[0], monads[1] + 1)]\n",
    "monad_set = set(monad_list)\n",
    "lookedup = []\n",
    "words = {}\n",
    "for n in NN():\n",
    "    mon = F.monads.v(n)\n",
    "    if mon == lookup:\n",
    "        lookedup.append(n)\n",
    "    if mon in monad_set:\n",
    "        words[mon] = n\n"
   ]
  },
  {
   "cell_type": "markdown",
   "metadata": {},
   "source": [
    "# Print the results"
   ]
  },
  {
   "cell_type": "code",
   "execution_count": 5,
   "metadata": {
    "collapsed": false
   },
   "outputs": [
    {
     "name": "stdout",
     "output_type": "stream",
     "text": [
      "זִ֥יף וָטֶ֖לֶם וּבְעָלֹֽות׃\n",
      "\n",
      "verse           is Josua 15:24      (node 1424158)\n",
      "half_verse      in Josua 15:24      (node 1385296)\n",
      "sentence        in Josua 15:24      (node 1143442)\n",
      "sentence_atom   in Josua 15:24      (node 1209643)\n",
      "clause          in Josua 15:24      (node 449142)\n",
      "clause_atom     in Josua 15:24      (node 537878)\n",
      "phrase          in Josua 15:24      (node 673702)\n",
      "phrase_atom     in Josua 15:24      (node 932213)\n"
     ]
    }
   ],
   "source": [
    "text = ''.join('{}{}'.format(F.g_word_utf8.v(n), F.trailer_utf8.v(n)) for n in (words[mon] for mon in monad_list))\n",
    "print(text)\n",
    "for n in lookedup:\n",
    "    otype = F.otype.v(n)\n",
    "    rela = 'is' if otype == 'verse' else 'in' if otype in target_types else ''\n",
    "    ref_verse = n if otype == 'verse' else node_verse[n] if otype in target_types else None\n",
    "    if ref_verse != None:\n",
    "        passage = '{} {}:{}'.format(F.book.v(ref_verse), F.chapter.v(ref_verse), F.verse.v(ref_verse))\n",
    "    elif otype == 'book':\n",
    "        passage = '{}'.format(F.book.v(n))\n",
    "    elif otype == 'chapter':\n",
    "        passage = '{}'.format(F.chapter.v(n))    \n",
    "    print(\"{:<15} {:<2} {:<16} (node {})\".format(otype, rela, passage, n))"
   ]
  },
  {
   "cell_type": "code",
   "execution_count": null,
   "metadata": {
    "collapsed": false
   },
   "outputs": [],
   "source": []
  },
  {
   "cell_type": "code",
   "execution_count": null,
   "metadata": {
    "collapsed": true
   },
   "outputs": [],
   "source": []
  }
 ],
 "metadata": {
  "kernelspec": {
   "display_name": "Python 3",
   "language": "python",
   "name": "python3"
  },
  "language_info": {
   "codemirror_mode": {
    "name": "ipython",
    "version": 3
   },
   "file_extension": ".py",
   "mimetype": "text/x-python",
   "name": "python",
   "nbconvert_exporter": "python",
   "pygments_lexer": "ipython3",
   "version": "3.5.1"
  }
 },
 "nbformat": 4,
 "nbformat_minor": 0
}
