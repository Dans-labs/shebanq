{
 "cells": [
  {
   "cell_type": "markdown",
   "metadata": {},
   "source": [
    "<a href=\"http://www.persistent-identifier.nl/?identifier=urn%3Anbn%3Anl%3Aui%3A13-048i-71\" target=\"_blank\"><img align=\"left\"src=\"images/etcbc4easy-small.png\"/></a>\n",
    "<a href=\"http://laf-fabric.readthedocs.org/en/latest/\" target=\"_blank\"><img align=\"left\" src=\"images/laf-fabric-xsmall.png\"/></a>\n",
    "<a href=\"http://www.godgeleerdheid.vu.nl/etcbc\" target=\"_blank\"><img align=\"right\" src=\"images/VU-ETCBC-xsmall.png\"/></a>"
   ]
  },
  {
   "cell_type": "markdown",
   "metadata": {},
   "source": [
    "# Verbless mothers\n",
    "\n",
    "Joint work of Martijn Naaijer and Dirk Roorda.\n",
    "\n",
    "During preparation of his contribution to SBL 2015 Martijn Naaijer discovered coding errors in the ETCBC4b database.\n",
    "Here we collect those instances.\n",
    "\n",
    "# Specification\n",
    "\n",
    "There are pairs of mother-daugther clauses, where the daughter is an object clause and the mother has no verbs.\n",
    "That is strange, because the object clause should function as a direct object in the main clause.\n",
    "In this notebook we look up all those cases in two ways: \n",
    "\n",
    "1. by means of walking programmatically through the data and collecting all instances,\n",
    "   [see note set in SHEBANQ](https://shebanq.ancient-data.org/hebrew/text?id=Mnx2ZXJibGVzc19tb3RoZXI_&page=1&version=4b&mr=r&qw=n&tp=txt_tb1&tr=hb),\n",
    "1. by means of an MQL query,\n",
    "   [see query in SHEBANQ](https://shebanq.ancient-data.org/hebrew/query?version=4b&id=981).\n",
    "\n",
    "# Results\n",
    "\n",
    "There are 52 results, and they all seem to involve some sort of coding error.\n",
    "\n",
    "# Discussion\n",
    "\n",
    "Both methods for collecting the cases do not give the same result set.\n",
    "The walk yields 52 results, and the query yields 47 of them and misses 5.\n",
    "All those cases involve gaps in one of the clauses.\n",
    "\n",
    "This may serve as a warning how tricky it is to write MQL queries of which you can be confident that they cover all cases.\n",
    "The walk is much more robust, in that you can carefully collect the parts of the solution in isolation."
   ]
  },
  {
   "cell_type": "code",
   "execution_count": 17,
   "metadata": {
    "collapsed": false
   },
   "outputs": [
    {
     "data": {
      "text/html": [
       "\n",
       "<p class=\"l\"><span class=\"m\">verbless mother clause</span> <span class=\"d\">daughter object clause</span></p>\n",
       "<h1>In MQL query but not in Walk</h1>\n",
       "<table class=\"t\">\n",
       "\n",
       "</table>\n",
       "<h1>In Walk but not in MQL query</h1>\n",
       "<table class=\"t\">\n",
       "<tr class=\"t\"><td class=\"v\">1</td><td class=\"v\">Judices 7:12</td><td class=\"t\"><span title=\"1\" class=\"m\">כַּ</span><span title=\"1\" class=\"m\"></span><span title=\"1\" class=\"m\">חֹ֛ול</span> <span title=\"2\" class=\"d\">שֶׁ</span><span title=\"2\" class=\"d\">עַל</span>־<span title=\"2\" class=\"d\">שְׂפַ֥ת</span> <span title=\"2\" class=\"d\">הַ</span><span title=\"2\" class=\"d\">יָּ֖ם</span> <span title=\"1\" class=\"m\">לָ</span><span title=\"1\" class=\"m\">רֹֽב</span>׃\n",
       "</td></tr>\n",
       "<tr class=\"t\"><td class=\"v\">2</td><td class=\"v\">Jeremia 43:11</td><td class=\"t\">וְהִכָּ֖ה אֶת־אֶ֣רֶץ מִצְרָ֑יִם אֲשֶׁ֧ר לַמָּ֣וֶת לַמָּ֗וֶת <span title=\"4\" class=\"m\">וַ</span><span title=\"5\" class=\"d\">אֲשֶׁ֤ר</span> <span title=\"5\" class=\"d\">לַ</span><span title=\"5\" class=\"d\"></span><span title=\"5\" class=\"d\">שְּׁבִי֙</span> <span title=\"4\" class=\"m\">לַ</span><span title=\"4\" class=\"m\"></span><span title=\"4\" class=\"m\">שֶּׁ֔בִי</span> וַאֲשֶׁ֥ר לַחֶ֖רֶב לֶחָֽרֶב׃\n",
       "</td></tr>\n",
       "<tr class=\"t\"><td class=\"v\">3</td><td class=\"v\">Jeremia 43:11</td><td class=\"t\">וְהִכָּ֖ה אֶת־אֶ֣רֶץ מִצְרָ֑יִם אֲשֶׁ֧ר לַמָּ֣וֶת לַמָּ֗וֶת וַאֲשֶׁ֤ר לַשְּׁבִי֙ לַשֶּׁ֔בִי <span title=\"6\" class=\"m\">וַ</span><span title=\"7\" class=\"d\">אֲשֶׁ֥ר</span> <span title=\"7\" class=\"d\">לַ</span><span title=\"7\" class=\"d\"></span><span title=\"7\" class=\"d\">חֶ֖רֶב</span> <span title=\"6\" class=\"m\">לֶ</span><span title=\"6\" class=\"m\"></span><span title=\"6\" class=\"m\">חָֽרֶב</span>׃\n",
       "</td></tr>\n",
       "<tr class=\"t\"><td class=\"v\">4</td><td class=\"v\">Obadia 1:19 - Obadia 1:20</td><td class=\"t\">וְיָרְשׁוּ֙ אֶת־שְׂדֵ֣ה אֶפְרַ֔יִם וְאֵ֖ת שְׂדֵ֣ה שֹׁמְרֹ֑ון וּבִנְיָמִ֖ן אֶת־הַגִּלְעָֽד׃\n",
       "<span title=\"3\" class=\"m\">וְ</span><span title=\"3\" class=\"m\">גָלֻ֣ת</span> <span title=\"3\" class=\"m\">הַֽ</span><span title=\"3\" class=\"m\">חֵל</span>־<span title=\"3\" class=\"m\">הַ֠</span><span title=\"3\" class=\"m\">זֶּה</span> <span title=\"3\" class=\"m\">לִ</span><span title=\"3\" class=\"m\">בְנֵ֨י</span> <span title=\"3\" class=\"m\">יִשְׂרָאֵ֤ל</span> <span title=\"4\" class=\"d\">אֲשֶֽׁר</span>־<span title=\"4\" class=\"d\">כְּנַעֲנִים֙</span> <span title=\"3\" class=\"m\">עַד</span>־<span title=\"3\" class=\"m\">צָ֣רְפַ֔ת</span> </td></tr>\n",
       "<tr class=\"t\"><td class=\"v\">5</td><td class=\"v\">Chronica_I 6:52 - Chronica_I 6:62</td><td class=\"t\">וַיִּתְּנ֨וּ לָהֶ֜ם אֶת־עָרֵ֧י הַמִּקְלָ֛ט אֶת־שְׁכֶ֥ם וְאֶת־מִגְרָשֶׁ֖יהָ בְּהַ֣ר אֶפְרָ֑יִם וְאֶת־גֶּ֖זֶר וְאֶת־מִגְרָשֶֽׁיהָ׃\n",
       "וְאֶֽת־יָקְמְעָם֙ וְאֶת־מִגְרָשֶׁ֔יהָ וְאֶת־בֵּ֥ית חֹורֹ֖ון וְאֶת־מִגְרָשֶֽׁיהָ׃\n",
       "וְאֶת־אַיָּלֹון֙ וְאֶת־מִגְרָשֶׁ֔יהָ וְאֶת־גַּת־רִמֹּ֖ון וְאֶת־מִגְרָשֶֽׁיהָ׃ פ \n",
       "וּמִֽמַּחֲצִית֙ מַטֵּ֣ה מְנַשֶּׁ֔ה אֶת־עָנֵר֙ וְאֶת־מִגְרָשֶׁ֔יהָ וְאֶת־בִּלְעָ֖ם וְאֶת־מִגְרָשֶׁ֑יהָ לְמִשְׁפַּ֥חַת לִבְנֵי־קְהָ֖ת הַנֹּותָרִֽים׃ פ \n",
       "לִבְנֵי֮ גֵּרְשֹׁום֒ מִמִּשְׁפַּ֗חַת חֲצִי֙ מַטֵּ֣ה מְנַשֶּׁ֔ה אֶת־גֹּולָ֥ן בַּבָּשָׁ֖ן וְאֶת־מִגְרָשֶׁ֑יהָ וְאֶת־עַשְׁתָּרֹ֖ות וְאֶת־מִגְרָשֶֽׁיהָ׃ ס \n",
       "וּמִמַּטֵּ֣ה יִשָׂשכָ֔ר אֶת־קֶ֖דֶשׁ וְאֶת־מִגְרָשֶׁ֑יהָ אֶת־דָּבְרַ֖ת וְאֶת־מִגְרָשֶֽׁיהָ׃\n",
       "וְאֶת־רָאמֹות֙ וְאֶת־מִגְרָשֶׁ֔יהָ וְאֶת־עָנֵ֖ם וְאֶת־מִגְרָשֶֽׁיהָ׃ ס \n",
       "וּמִמַּטֵּ֣ה אָשֵׁ֔ר אֶת־מָשָׁ֖ל וְאֶת־מִגְרָשֶׁ֑יהָ וְאֶת־עַבְדֹּ֖ון וְאֶת־מִגְרָשֶֽׁיהָ׃\n",
       "וְאֶת־חוּקֹק֙ וְאֶת־מִגְרָשֶׁ֔יהָ וְאֶת־רְחֹ֖ב וְאֶת־מִגְרָשֶֽׁיהָ׃\n",
       "וּמִמַּטֵּ֣ה נַפְתָּלִ֗י אֶת־קֶ֤דֶשׁ בַּגָּלִיל֙ וְאֶת־מִגְרָשֶׁ֔יהָ וְאֶת־חַמֹּ֖ון וְאֶת־מִגְרָשֶׁ֑יהָ וְאֶת־קִרְיָתַ֖יִם וְאֶת־מִגְרָשֶֽׁיהָ׃ ס \n",
       "<span title=\"12\" class=\"m\">לִ</span><span title=\"12\" class=\"m\">בְנֵ֣י</span> <span title=\"12\" class=\"m\">מְרָרִי֮</span> <span title=\"13\" class=\"d\">הַ</span><span title=\"13\" class=\"d\">נֹּותָרִים֒</span> <span title=\"13\" class=\"d\">מִ</span><span title=\"13\" class=\"d\">מַּטֵּ֣ה</span> <span title=\"13\" class=\"d\">זְבוּלֻ֔ן</span> <span title=\"12\" class=\"m\">אֶת</span>־<span title=\"12\" class=\"m\">רִמֹּונֹ֖ו</span> <span title=\"12\" class=\"m\">וְ</span><span title=\"12\" class=\"m\">אֶת</span>־<span title=\"12\" class=\"m\">מִגְרָשֶׁ֑יהָ</span> <span title=\"12\" class=\"m\">אֶת</span>־<span title=\"12\" class=\"m\">תָּבֹ֖ור</span> <span title=\"12\" class=\"m\">וְ</span><span title=\"12\" class=\"m\">אֶת</span>־<span title=\"12\" class=\"m\">מִגְרָשֶֽׁיהָ</span>׃\n",
       "וּמֵעֵ֜בֶר לְיַרְדֵּ֣ן יְרֵחֹו֮ לְמִזְרַ֣ח הַיַּרְדֵּן֒ מִמַּטֵּ֣ה רְאוּבֵ֔ן אֶת־בֶּ֥צֶר בַּמִּדְבָּ֖ר וְאֶת־מִגְרָשֶׁ֑יהָ וְאֶת־יַ֖הְצָה וְאֶת־מִגְרָשֶֽׁיהָ׃\n",
       "וְאֶת־קְדֵמֹות֙ וְאֶת־מִגְרָשֶׁ֔יהָ וְאֶת־מֵיפַ֖עַת וְאֶת־מִגְרָשֶֽׁיהָ׃\n",
       "וּמִ֨מַּטֵּה־גָ֔ד אֶת־רָאמֹ֥ות בַּגִּלְעָ֖ד וְאֶת־מִגְרָשֶׁ֑יהָ וְאֶֽת־מַחֲנַ֖יִם וְאֶת־מִגְרָשֶֽׁיהָ׃\n",
       "וְאֶת־חֶשְׁבֹּון֙ וְאֶת־מִגְרָשֶׁ֔יהָ וְאֶת־יַעְזֵ֖יר וְאֶת־מִגְרָשֶֽׁיהָ׃ ס \n",
       "</td></tr>\n",
       "\n",
       "</table>\n"
      ],
      "text/plain": [
       "<IPython.core.display.HTML object>"
      ]
     },
     "execution_count": 17,
     "metadata": {},
     "output_type": "execute_result"
    }
   ],
   "source": [
    "# discrepancies between the two methods\n",
    "HTML(''.join(results_diff_html))"
   ]
  },
  {
   "cell_type": "code",
   "execution_count": 18,
   "metadata": {
    "collapsed": false,
    "scrolled": false
   },
   "outputs": [
    {
     "data": {
      "text/html": [
       "\n",
       "<p class=\"l\"><span class=\"m\">verbless mother clause</span> <span class=\"d\">daughter object clause</span></p>\n",
       "\n",
       "<table class=\"t\">\n",
       "<tr class=\"t\"><td class=\"v\">1</td><td class=\"v\">Genesis 14:23 - Genesis 14:24</td><td class=\"t\">אִם־מִחוּט֙ וְעַ֣ד שְׂרֹֽוךְ־נַ֔עַל וְאִם־אֶקַּ֖ח מִכָּל־אֲשֶׁר־לָ֑ךְ <span title=\"4\" class=\"m\">רַ֚ק</span> <span title=\"5\" class=\"d\">אֲשֶׁ֣ר</span> <span title=\"5\" class=\"d\">אָֽכְל֣וּ</span> <span title=\"5\" class=\"d\">הַ</span><span title=\"5\" class=\"d\">נְּעָרִ֔ים</span> וְחֵ֨לֶק֙ הָֽאֲנָשִׁ֔ים אֲשֶׁ֥ר הָלְכ֖וּ אִתִּ֑י עָנֵר֙ אֶשְׁכֹּ֣ל וּמַמְרֵ֔א </td></tr>\n",
       "<tr class=\"t\"><td class=\"v\">2</td><td class=\"v\">Genesis 43:27</td><td class=\"t\"><span title=\"1\" class=\"m\">הֲ</span><span title=\"1\" class=\"m\">שָׁלֹ֛ום</span> <span title=\"1\" class=\"m\">אֲבִיכֶ֥ם</span> <span title=\"1\" class=\"m\">הַ</span><span title=\"1\" class=\"m\">זָּקֵ֖ן</span> <span title=\"2\" class=\"d\">אֲשֶׁ֣ר</span> <span title=\"2\" class=\"d\">אֲמַרְתֶּ֑ם</span> </td></tr>\n",
       "<tr class=\"t\"><td class=\"v\">3</td><td class=\"v\">Genesis 43:29</td><td class=\"t\"><span title=\"1\" class=\"m\">הֲ</span><span title=\"1\" class=\"m\">זֶה֙</span> <span title=\"1\" class=\"m\">אֲחִיכֶ֣ם</span> <span title=\"1\" class=\"m\">הַ</span><span title=\"1\" class=\"m\">קָּטֹ֔ן</span> <span title=\"2\" class=\"d\">אֲשֶׁ֥ר</span> <span title=\"2\" class=\"d\">אֲמַרְתֶּ֖ם</span> <span title=\"2\" class=\"d\">אֵלָ֑י</span> </td></tr>\n",
       "<tr class=\"t\"><td class=\"v\">4</td><td class=\"v\">Genesis 49:15</td><td class=\"t\">וַיַּ֤רְא מְנֻחָה֙ כִּ֣י טֹ֔וב <span title=\"3\" class=\"m\">וְ</span><span title=\"3\" class=\"m\">אֶת</span>־<span title=\"3\" class=\"m\">הָ</span><span title=\"3\" class=\"m\">אָ֖רֶץ</span> <span title=\"4\" class=\"d\">כִּ֣י</span> <span title=\"4\" class=\"d\">נָעֵ֑מָה</span> </td></tr>\n",
       "<tr class=\"t\"><td class=\"v\">5</td><td class=\"v\">Exodus 5:2</td><td class=\"t\"><span title=\"1\" class=\"m\">מִ֤י</span> <span title=\"1\" class=\"m\">יְהוָה֙</span> <span title=\"2\" class=\"d\">אֲשֶׁ֣ר</span> <span title=\"2\" class=\"d\">אֶשְׁמַ֣ע</span> <span title=\"2\" class=\"d\">בְּ</span><span title=\"2\" class=\"d\">קֹלֹ֔ו</span> לְשַׁלַּ֖ח אֶת־יִשְׂרָאֵ֑ל </td></tr>\n",
       "<tr class=\"t\"><td class=\"v\">6</td><td class=\"v\">Exodus 6:26</td><td class=\"t\"><span title=\"1\" class=\"m\">ה֥וּא</span> <span title=\"1\" class=\"m\">אַהֲרֹ֖ן</span> <span title=\"1\" class=\"m\">וּ</span><span title=\"1\" class=\"m\">מֹשֶׁ֑ה</span> <span title=\"2\" class=\"d\">אֲשֶׁ֨ר</span> <span title=\"2\" class=\"d\">אָמַ֤ר</span> <span title=\"2\" class=\"d\">יְהוָה֙</span> <span title=\"2\" class=\"d\">לָהֶ֔ם</span> </td></tr>\n",
       "<tr class=\"t\"><td class=\"v\">7</td><td class=\"v\">Exodus 8:17</td><td class=\"t\"><span title=\"1\" class=\"m\">וְ</span><span title=\"1\" class=\"m\">גַ֥ם</span> <span title=\"1\" class=\"m\">הָ</span><span title=\"1\" class=\"m\">אֲדָמָ֖ה</span> <span title=\"2\" class=\"d\">אֲשֶׁר</span>־<span title=\"2\" class=\"d\">הֵ֥ם</span> <span title=\"2\" class=\"d\">עָלֶֽיהָ</span>׃\n",
       "</td></tr>\n",
       "<tr class=\"t\"><td class=\"v\">8</td><td class=\"v\">Exodus 9:26</td><td class=\"t\"><span title=\"1\" class=\"m\">רַ֚ק</span> <span title=\"1\" class=\"m\">בְּ</span><span title=\"1\" class=\"m\">אֶ֣רֶץ</span> <span title=\"1\" class=\"m\">גֹּ֔שֶׁן</span> <span title=\"2\" class=\"d\">אֲשֶׁר</span>־<span title=\"2\" class=\"d\">שָׁ֖ם</span> <span title=\"2\" class=\"d\">בְּנֵ֣י</span> <span title=\"2\" class=\"d\">יִשְׂרָאֵ֑ל</span> </td></tr>\n",
       "<tr class=\"t\"><td class=\"v\">9</td><td class=\"v\">Exodus 16:15</td><td class=\"t\"><span title=\"1\" class=\"m\">ה֣וּא</span> <span title=\"1\" class=\"m\">הַ</span><span title=\"1\" class=\"m\">לֶּ֔חֶם</span> <span title=\"2\" class=\"d\">אֲשֶׁ֨ר</span> <span title=\"2\" class=\"d\">נָתַ֧ן</span> <span title=\"2\" class=\"d\">יְהוָ֛ה</span> <span title=\"2\" class=\"d\">לָכֶ֖ם</span> <span title=\"2\" class=\"d\">לְ</span><span title=\"2\" class=\"d\">אָכְלָֽה</span>׃\n",
       "</td></tr>\n",
       "<tr class=\"t\"><td class=\"v\">10</td><td class=\"v\">Exodus 16:16</td><td class=\"t\"><span title=\"1\" class=\"m\">זֶ֤ה</span> <span title=\"1\" class=\"m\">הַ</span><span title=\"1\" class=\"m\">דָּבָר֙</span> <span title=\"2\" class=\"d\">אֲשֶׁ֣ר</span> <span title=\"2\" class=\"d\">צִוָּ֣ה</span> <span title=\"2\" class=\"d\">יְהוָ֔ה</span> </td></tr>\n",
       "<tr class=\"t\"><td class=\"v\">11</td><td class=\"v\">Exodus 16:32</td><td class=\"t\"><span title=\"1\" class=\"m\">זֶ֤ה</span> <span title=\"1\" class=\"m\">הַ</span><span title=\"1\" class=\"m\">דָּבָר֙</span> <span title=\"2\" class=\"d\">אֲשֶׁ֣ר</span> <span title=\"2\" class=\"d\">צִוָּ֣ה</span> <span title=\"2\" class=\"d\">יְהוָ֔ה</span> </td></tr>\n",
       "<tr class=\"t\"><td class=\"v\">12</td><td class=\"v\">Exodus 18:14</td><td class=\"t\"><span title=\"1\" class=\"m\">מָֽה</span>־<span title=\"1\" class=\"m\">הַ</span><span title=\"1\" class=\"m\">דָּבָ֤ר</span> <span title=\"1\" class=\"m\">הַ</span><span title=\"1\" class=\"m\">זֶּה֙</span> <span title=\"2\" class=\"d\">אֲשֶׁ֨ר</span> <span title=\"2\" class=\"d\">אַתָּ֤ה</span> <span title=\"2\" class=\"d\">עֹשֶׂה֙</span> <span title=\"2\" class=\"d\">לָ</span><span title=\"2\" class=\"d\"></span><span title=\"2\" class=\"d\">עָ֔ם</span> </td></tr>\n",
       "<tr class=\"t\"><td class=\"v\">13</td><td class=\"v\">Exodus 25:3</td><td class=\"t\"><span title=\"1\" class=\"m\">וְ</span><span title=\"1\" class=\"m\">זֹאת֙</span> <span title=\"1\" class=\"m\">הַ</span><span title=\"1\" class=\"m\">תְּרוּמָ֔ה</span> <span title=\"2\" class=\"d\">אֲשֶׁ֥ר</span> <span title=\"2\" class=\"d\">תִּקְח֖וּ</span> <span title=\"2\" class=\"d\">מֵ</span><span title=\"2\" class=\"d\">אִתָּ֑ם</span> זָהָ֥ב וָכֶ֖סֶף וּנְחֹֽשֶׁת׃\n",
       "וּתְכֵ֧לֶת וְאַרְגָּמָ֛ן וְתֹולַ֥עַת שָׁנִ֖י וְשֵׁ֥שׁ וְעִזִּֽים׃\n",
       "וְעֹרֹ֨ת אֵילִ֧ם מְאָדָּמִ֛ים וְעֹרֹ֥ת תְּחָשִׁ֖ים וַעֲצֵ֥י שִׁטִּֽים׃\n",
       "שֶׁ֖מֶן לַמָּאֹ֑ר בְּשָׂמִים֙ לְשֶׁ֣מֶן הַמִּשְׁחָ֔ה וְלִקְטֹ֖רֶת הַסַּמִּֽים׃\n",
       "אַבְנֵי־שֹׁ֕הַם וְאַבְנֵ֖י מִלֻּאִ֑ים לָאֵפֹ֖ד וְלַחֹֽשֶׁן׃\n",
       "</td></tr>\n",
       "<tr class=\"t\"><td class=\"v\">14</td><td class=\"v\">Exodus 25:9</td><td class=\"t\"><span title=\"1\" class=\"m\">כְּ</span><span title=\"1\" class=\"m\">כֹ֗ל</span> <span title=\"2\" class=\"d\">אֲשֶׁ֤ר</span> <span title=\"2\" class=\"d\">אֲנִי֙</span> <span title=\"2\" class=\"d\">מַרְאֶ֣ה</span> <span title=\"2\" class=\"d\">אֹותְךָ֔</span> <span title=\"2\" class=\"d\">אֵ֚ת</span> <span title=\"2\" class=\"d\">תַּבְנִ֣ית</span> <span title=\"2\" class=\"d\">הַ</span><span title=\"2\" class=\"d\">מִּשְׁכָּ֔ן</span> <span title=\"2\" class=\"d\">וְ</span><span title=\"2\" class=\"d\">אֵ֖ת</span> <span title=\"2\" class=\"d\">תַּבְנִ֣ית</span> <span title=\"2\" class=\"d\">כָּל</span>־<span title=\"2\" class=\"d\">כֵּלָ֑יו</span> וְכֵ֖ן תַּעֲשֽׂוּ׃ ס \n",
       "</td></tr>\n",
       "<tr class=\"t\"><td class=\"v\">15</td><td class=\"v\">Exodus 25:35</td><td class=\"t\"><span title=\"1\" class=\"m\">לְ</span><span title=\"1\" class=\"m\">שֵׁ֨שֶׁת֙</span> <span title=\"1\" class=\"m\">הַ</span><span title=\"1\" class=\"m\">קָּנִ֔ים</span> <span title=\"2\" class=\"d\">הַ</span><span title=\"2\" class=\"d\">יֹּצְאִ֖ים</span> <span title=\"2\" class=\"d\">מִן</span>־<span title=\"2\" class=\"d\">הַ</span><span title=\"2\" class=\"d\">מְּנֹרָֽה</span>׃\n",
       "</td></tr>\n",
       "<tr class=\"t\"><td class=\"v\">16</td><td class=\"v\">Exodus 35:4</td><td class=\"t\"><span title=\"1\" class=\"m\">זֶ֣ה</span> <span title=\"1\" class=\"m\">הַ</span><span title=\"1\" class=\"m\">דָּבָ֔ר</span> <span title=\"2\" class=\"d\">אֲשֶׁר</span>־<span title=\"2\" class=\"d\">צִוָּ֥ה</span> <span title=\"2\" class=\"d\">יְהוָ֖ה</span> לֵאמֹֽר׃\n",
       "</td></tr>\n",
       "<tr class=\"t\"><td class=\"v\">17</td><td class=\"v\">Deuteronomium 9:29</td><td class=\"t\"><span title=\"1\" class=\"m\">וְ</span><span title=\"1\" class=\"m\">הֵ֥ם</span> <span title=\"1\" class=\"m\">עַמְּךָ֖</span> <span title=\"1\" class=\"m\">וְ</span><span title=\"1\" class=\"m\">נַחֲלָתֶ֑ךָ</span> <span title=\"2\" class=\"d\">אֲשֶׁ֤ר</span> <span title=\"2\" class=\"d\">הֹוצֵ֨אתָ֙</span> <span title=\"2\" class=\"d\">בְּ</span><span title=\"2\" class=\"d\">כֹחֲךָ֣</span> <span title=\"2\" class=\"d\">הַ</span><span title=\"2\" class=\"d\">גָּדֹ֔ל</span> <span title=\"2\" class=\"d\">וּ</span><span title=\"2\" class=\"d\">בִֽ</span><span title=\"2\" class=\"d\">זְרֹעֲךָ֖</span> <span title=\"2\" class=\"d\">הַ</span><span title=\"2\" class=\"d\">נְּטוּיָֽה</span>׃ פ \n",
       "</td></tr>\n",
       "<tr class=\"t\"><td class=\"v\">18</td><td class=\"v\">Deuteronomium 18:20</td><td class=\"t\"><span title=\"1\" class=\"m\">אַ֣ךְ</span> <span title=\"1\" class=\"m\">הַ</span><span title=\"1\" class=\"m\">נָּבִ֡יא</span> <span title=\"2\" class=\"d\">אֲשֶׁ֣ר</span> <span title=\"2\" class=\"d\">יָזִיד֩</span> לְדַבֵּ֨ר דָּבָ֜ר בִּשְׁמִ֗י אֵ֣ת אֲשֶׁ֤ר לֹֽא־צִוִּיתִיו֙ לְדַבֵּ֔ר וַאֲשֶׁ֣ר יְדַבֵּ֔ר בְּשֵׁ֖ם אֱלֹהִ֣ים אֲחֵרִ֑ים וּמֵ֖ת הַנָּבִ֥יא הַהֽוּא׃\n",
       "</td></tr>\n",
       "<tr class=\"t\"><td class=\"v\">19</td><td class=\"v\">Deuteronomium 28:69</td><td class=\"t\">אֵלֶּה֩ דִבְרֵ֨י הַבְּרִ֜ית אֲֽשֶׁר־צִוָּ֧ה יְהוָ֣ה אֶת־מֹשֶׁ֗ה לִכְרֹ֛ת אֶת־בְּנֵ֥י יִשְׂרָאֵ֖ל בְּאֶ֣רֶץ מֹואָ֑ב <span title=\"4\" class=\"m\">מִ</span><span title=\"4\" class=\"m\">לְּ</span><span title=\"4\" class=\"m\">בַ֣ד</span> <span title=\"4\" class=\"m\">הַ</span><span title=\"4\" class=\"m\">בְּרִ֔ית</span> <span title=\"5\" class=\"d\">אֲשֶׁר</span>־<span title=\"5\" class=\"d\">כָּרַ֥ת</span> <span title=\"5\" class=\"d\">אִתָּ֖ם</span> <span title=\"5\" class=\"d\">בְּ</span><span title=\"5\" class=\"d\">חֹרֵֽב</span>׃ פ \n",
       "</td></tr>\n",
       "<tr class=\"t\"><td class=\"v\">20</td><td class=\"v\">Josua 1:9</td><td class=\"t\"><span title=\"1\" class=\"m\">כִּ֤י</span> <span title=\"1\" class=\"m\">עִמְּךָ֙</span> <span title=\"1\" class=\"m\">יְהוָ֣ה</span> <span title=\"1\" class=\"m\">אֱלֹהֶ֔יךָ</span> <span title=\"1\" class=\"m\">בְּ</span><span title=\"1\" class=\"m\">כֹ֖ל</span> <span title=\"2\" class=\"d\">אֲשֶׁ֥ר</span> <span title=\"2\" class=\"d\">תֵּלֵֽךְ</span>׃ פ \n",
       "</td></tr>\n",
       "<tr class=\"t\"><td class=\"v\">21</td><td class=\"v\">Josua 1:17</td><td class=\"t\"><span title=\"1\" class=\"m\">כְּ</span><span title=\"1\" class=\"m\">כֹ֤ל</span> <span title=\"2\" class=\"d\">אֲשֶׁר</span>־<span title=\"2\" class=\"d\">שָׁמַ֨עְנוּ֙</span> <span title=\"2\" class=\"d\">אֶל</span>־<span title=\"2\" class=\"d\">מֹשֶׁ֔ה</span> כֵּ֖ן נִשְׁמַ֣ע אֵלֶ֑יךָ רַ֠ק יִֽהְיֶ֞ה יְהוָ֤ה אֱלֹהֶ֨יךָ֙ עִמָּ֔ךְ כַּאֲשֶׁ֥ר הָיָ֖ה עִם־מֹשֶֽׁה׃\n",
       "</td></tr>\n",
       "<tr class=\"t\"><td class=\"v\">22</td><td class=\"v\">Josua 2:19</td><td class=\"t\"><span title=\"1\" class=\"m\">כֹּ֣ל</span> <span title=\"2\" class=\"d\">אֲשֶׁר</span>־<span title=\"2\" class=\"d\">יֵצֵא֩</span> <span title=\"2\" class=\"d\">מִ</span><span title=\"2\" class=\"d\">דַּלְתֵ֨י</span> <span title=\"2\" class=\"d\">בֵיתֵ֧ךְ</span> ׀ <span title=\"2\" class=\"d\">הַ</span><span title=\"2\" class=\"d\">ח֛וּצָה</span> דָּמֹ֥ו בְרֹאשֹׁ֖ו וַאֲנַ֣חְנוּ נְקִיִּ֑ם </td></tr>\n",
       "<tr class=\"t\"><td class=\"v\">23</td><td class=\"v\">Josua 2:19</td><td class=\"t\"><span title=\"1\" class=\"m\">וְ֠</span><span title=\"1\" class=\"m\">כֹל</span> <span title=\"2\" class=\"d\">אֲשֶׁ֨ר</span> <span title=\"2\" class=\"d\">יִֽהְיֶ֤ה</span> <span title=\"2\" class=\"d\">אִתָּךְ֙</span> <span title=\"2\" class=\"d\">בַּ</span><span title=\"2\" class=\"d\"></span><span title=\"2\" class=\"d\">בַּ֔יִת</span> דָּמֹ֣ו בְרֹאשֵׁ֔נוּ אִם־יָ֖ד תִּֽהְיֶה־בֹּֽו׃\n",
       "</td></tr>\n",
       "<tr class=\"t\"><td class=\"v\">24</td><td class=\"v\">Judices 7:12</td><td class=\"t\"><span title=\"1\" class=\"m\">כַּ</span><span title=\"1\" class=\"m\"></span><span title=\"1\" class=\"m\">חֹ֛ול</span> <span title=\"2\" class=\"d\">שֶׁ</span><span title=\"2\" class=\"d\">עַל</span>־<span title=\"2\" class=\"d\">שְׂפַ֥ת</span> <span title=\"2\" class=\"d\">הַ</span><span title=\"2\" class=\"d\">יָּ֖ם</span> <span title=\"1\" class=\"m\">לָ</span><span title=\"1\" class=\"m\">רֹֽב</span>׃\n",
       "</td></tr>\n",
       "<tr class=\"t\"><td class=\"v\">25</td><td class=\"v\">Samuel_I 16:7</td><td class=\"t\">וַיֹּ֨אמֶר יְהוָ֜ה אֶל־שְׁמוּאֵ֗ל <span title=\"2\" class=\"m\">כִּ֣י</span> ׀ <span title=\"2\" class=\"m\">לֹ֗א</span> <span title=\"3\" class=\"d\">אֲשֶׁ֤ר</span> <span title=\"3\" class=\"d\">יִרְאֶה֙</span> <span title=\"3\" class=\"d\">הָ</span><span title=\"3\" class=\"d\">אָדָ֔ם</span> </td></tr>\n",
       "<tr class=\"t\"><td class=\"v\">26</td><td class=\"v\">Reges_I 9:13</td><td class=\"t\"><span title=\"1\" class=\"m\">מָ֚ה</span> <span title=\"1\" class=\"m\">הֶ</span><span title=\"1\" class=\"m\">עָרִ֣ים</span> <span title=\"1\" class=\"m\">הָ</span><span title=\"1\" class=\"m\">אֵ֔לֶּה</span> <span title=\"2\" class=\"d\">אֲשֶׁר</span>־<span title=\"2\" class=\"d\">נָתַ֥תָּה</span> <span title=\"2\" class=\"d\">לִּ֖י</span> אָחִ֑י </td></tr>\n",
       "<tr class=\"t\"><td class=\"v\">27</td><td class=\"v\">Reges_I 9:15</td><td class=\"t\"><span title=\"1\" class=\"m\">וְ</span><span title=\"1\" class=\"m\">זֶ֨ה</span> <span title=\"1\" class=\"m\">דְבַר</span>־<span title=\"1\" class=\"m\">הַ</span><span title=\"1\" class=\"m\">מַּ֜ס</span> <span title=\"2\" class=\"d\">אֲשֶֽׁר</span>־<span title=\"2\" class=\"d\">הֶעֱלָ֣ה</span> ׀ <span title=\"2\" class=\"d\">הַ</span><span title=\"2\" class=\"d\">מֶּ֣לֶךְ</span> <span title=\"2\" class=\"d\">שְׁלֹמֹ֗ה</span> לִבְנֹות֩ אֶת־בֵּ֨ית יְהוָ֤ה וְאֶת־בֵּיתֹו֙ וְאֶת־הַמִּלֹּ֔וא וְאֵ֖ת חֹומַ֣ת יְרוּשָׁלִָ֑ם וְאֶת־חָצֹ֥ר וְאֶת־מְגִדֹּ֖ו וְאֶת־גָּֽזֶר׃\n",
       "</td></tr>\n",
       "<tr class=\"t\"><td class=\"v\">28</td><td class=\"v\">Reges_II 1:4</td><td class=\"t\"><span title=\"1\" class=\"m\">הַ</span><span title=\"1\" class=\"m\">מִּטָּ֞ה</span> <span title=\"2\" class=\"d\">אֲשֶׁר</span>־<span title=\"2\" class=\"d\">עָלִ֥יתָ</span> <span title=\"2\" class=\"d\">שָּׁ֛ם</span> לֹֽא־תֵרֵ֥ד מִמֶּ֖נָּה </td></tr>\n",
       "<tr class=\"t\"><td class=\"v\">29</td><td class=\"v\">Reges_II 1:6</td><td class=\"t\"><span title=\"1\" class=\"m\">הַ</span><span title=\"1\" class=\"m\">מִּטָּ֞ה</span> <span title=\"2\" class=\"d\">אֲשֶׁר</span>־<span title=\"2\" class=\"d\">עָלִ֥יתָ</span> <span title=\"2\" class=\"d\">שָּׁ֛ם</span> לֹֽא־תֵרֵ֥ד מִמֶּ֖נָּה </td></tr>\n",
       "<tr class=\"t\"><td class=\"v\">30</td><td class=\"v\">Reges_II 1:7</td><td class=\"t\"><span title=\"1\" class=\"m\">מֶ֚ה</span> <span title=\"1\" class=\"m\">מִשְׁפַּ֣ט</span> <span title=\"1\" class=\"m\">הָ</span><span title=\"1\" class=\"m\">אִ֔ישׁ</span> <span title=\"2\" class=\"d\">אֲשֶׁ֥ר</span> <span title=\"2\" class=\"d\">עָלָ֖ה</span> לִקְרַאתְכֶ֑ם וַיְדַבֵּ֣ר אֲלֵיכֶ֔ם אֶת־הַדְּבָרִ֖ים הָאֵֽלֶּה׃\n",
       "</td></tr>\n",
       "<tr class=\"t\"><td class=\"v\">31</td><td class=\"v\">Reges_II 1:16</td><td class=\"t\"><span title=\"1\" class=\"m\">הַ</span><span title=\"1\" class=\"m\">מִּטָּ֞ה</span> <span title=\"2\" class=\"d\">אֲשֶׁר</span>־<span title=\"2\" class=\"d\">עָלִ֥יתָ</span> <span title=\"2\" class=\"d\">שָּׁ֛ם</span> לֹֽא־תֵרֵ֥ד מִמֶּ֖נָּה </td></tr>\n",
       "<tr class=\"t\"><td class=\"v\">32</td><td class=\"v\">Reges_II 9:27</td><td class=\"t\">וַיִּרְדֹּ֨ף אַחֲרָ֜יו יֵה֗וּא <span title=\"2\" class=\"m\">אֶל</span>־<span title=\"2\" class=\"m\">הַ</span><span title=\"2\" class=\"m\">מֶּרְכָּבָ֗ה</span> <span title=\"2\" class=\"m\">בְּ</span><span title=\"2\" class=\"m\">מַֽעֲלֵה־גוּר֙</span> <span title=\"3\" class=\"d\">אֲשֶׁ֣ר</span> <span title=\"3\" class=\"d\">אֶֽת</span>־<span title=\"3\" class=\"d\">יִבְלְעָ֔ם</span> </td></tr>\n",
       "<tr class=\"t\"><td class=\"v\">33</td><td class=\"v\">Reges_II 18:19</td><td class=\"t\"><span title=\"1\" class=\"m\">מָ֧ה</span> <span title=\"1\" class=\"m\">הַ</span><span title=\"1\" class=\"m\">בִּטָּחֹ֛ון</span> <span title=\"1\" class=\"m\">הַ</span><span title=\"1\" class=\"m\">זֶּ֖ה</span> <span title=\"2\" class=\"d\">אֲשֶׁ֥ר</span> <span title=\"2\" class=\"d\">בָּטָֽחְתָּ</span>׃\n",
       "</td></tr>\n",
       "<tr class=\"t\"><td class=\"v\">34</td><td class=\"v\">Reges_II 18:21</td><td class=\"t\"><span title=\"1\" class=\"m\">כֵּ֚ן</span> <span title=\"1\" class=\"m\">פַּרְעֹ֣ה</span> <span title=\"1\" class=\"m\">מֶֽלֶךְ</span>־<span title=\"1\" class=\"m\">מִצְרַ֔יִם</span> <span title=\"1\" class=\"m\">לְ</span><span title=\"1\" class=\"m\">כָֽל</span>־<span title=\"2\" class=\"d\">הַ</span><span title=\"2\" class=\"d\">בֹּטְחִ֖ים</span> <span title=\"2\" class=\"d\">עָלָֽיו</span>׃\n",
       "</td></tr>\n",
       "<tr class=\"t\"><td class=\"v\">35</td><td class=\"v\">Reges_II 18:35</td><td class=\"t\"><span title=\"1\" class=\"m\">מִ֚י</span> <span title=\"1\" class=\"m\">בְּ</span><span title=\"1\" class=\"m\">כָל</span>־<span title=\"1\" class=\"m\">אֱלֹהֵ֣י</span> <span title=\"1\" class=\"m\">הָֽ</span><span title=\"1\" class=\"m\">אֲרָצֹ֔ות</span> <span title=\"2\" class=\"d\">אֲשֶׁר</span>־<span title=\"2\" class=\"d\">הִצִּ֥ילוּ</span> <span title=\"2\" class=\"d\">אֶת</span>־<span title=\"2\" class=\"d\">אַרְצָ֖ם</span> <span title=\"2\" class=\"d\">מִ</span><span title=\"2\" class=\"d\">יָּדִ֑י</span> </td></tr>\n",
       "<tr class=\"t\"><td class=\"v\">36</td><td class=\"v\">Reges_II 19:27</td><td class=\"t\">וְשִׁבְתְּךָ֛ וְצֵאתְךָ֥ וּבֹאֲךָ֖ יָדָ֑עְתִּי <span title=\"5\" class=\"m\">וְ</span><span title=\"6\" class=\"d\">אֵ֖ת</span> <span title=\"6\" class=\"d\">הִֽתְרַגֶּזְךָ֥</span> <span title=\"6\" class=\"d\">אֵלָֽי</span>׃\n",
       "</td></tr>\n",
       "<tr class=\"t\"><td class=\"v\">37</td><td class=\"v\">Jesaia 37:28</td><td class=\"t\">וְשִׁבְתְּךָ֛ וְצֵאתְךָ֥ וּבֹואֲךָ֖ יָדָ֑עְתִּי <span title=\"5\" class=\"m\">וְ</span><span title=\"6\" class=\"d\">אֵ֖ת</span> <span title=\"6\" class=\"d\">הִֽתְרַגֶּזְךָ֥</span> <span title=\"6\" class=\"d\">אֵלָֽי</span>׃\n",
       "</td></tr>\n",
       "<tr class=\"t\"><td class=\"v\">38</td><td class=\"v\">Jesaia 46:9 - Jesaia 46:10</td><td class=\"t\">כִּ֣י אָנֹכִ֥י אֵל֙ מַגִּ֤יד מֵֽרֵאשִׁית֙ אַחֲרִ֔ית <span title=\"3\" class=\"m\">וּ</span><span title=\"3\" class=\"m\">מִ</span><span title=\"3\" class=\"m\">קֶּ֖דֶם</span> <span title=\"4\" class=\"d\">אֲשֶׁ֣ר</span> <span title=\"4\" class=\"d\">לֹא</span>־<span title=\"4\" class=\"d\">נַעֲשׂ֑וּ</span> אֹמֵר֙ קֹרֵ֤א מִמִּזְרָח֙ עַ֔יִט מֵאֶ֥רֶץ מֶרְחָ֖ק אִ֣ישׁ ֯עצתו </td></tr>\n",
       "<tr class=\"t\"><td class=\"v\">39</td><td class=\"v\">Jesaia 52:6</td><td class=\"t\">לָכֵ֛ן יֵדַ֥ע עַמִּ֖י שְׁמִ֑י <span title=\"2\" class=\"m\">לָכֵן֙</span> <span title=\"2\" class=\"m\">בַּ</span><span title=\"2\" class=\"m\"></span><span title=\"2\" class=\"m\">יֹּ֣ום</span> <span title=\"2\" class=\"m\">הַ</span><span title=\"2\" class=\"m\">ה֔וּא</span> <span title=\"3\" class=\"d\">כִּֽי</span>־<span title=\"3\" class=\"d\">אֲנִי</span>־<span title=\"3\" class=\"d\">ה֥וּא</span> הַֽמְדַבֵּ֖ר </td></tr>\n",
       "<tr class=\"t\"><td class=\"v\">40</td><td class=\"v\">Jeremia 43:11</td><td class=\"t\">וְהִכָּ֖ה אֶת־אֶ֣רֶץ מִצְרָ֑יִם <span title=\"2\" class=\"d\">אֲשֶׁ֧ר</span> <span title=\"2\" class=\"d\">לַ</span><span title=\"2\" class=\"d\"></span><span title=\"2\" class=\"d\">מָּ֣וֶת</span> <span title=\"3\" class=\"m\">לַ</span><span title=\"3\" class=\"m\"></span><span title=\"3\" class=\"m\">מָּ֗וֶת</span> וַאֲשֶׁ֤ר לַשְּׁבִי֙ לַשֶּׁ֔בִי וַאֲשֶׁ֥ר לַחֶ֖רֶב לֶחָֽרֶב׃\n",
       "</td></tr>\n",
       "<tr class=\"t\"><td class=\"v\">41</td><td class=\"v\">Jeremia 43:11</td><td class=\"t\">וְהִכָּ֖ה אֶת־אֶ֣רֶץ מִצְרָ֑יִם אֲשֶׁ֧ר לַמָּ֣וֶת לַמָּ֗וֶת <span title=\"4\" class=\"m\">וַ</span><span title=\"5\" class=\"d\">אֲשֶׁ֤ר</span> <span title=\"5\" class=\"d\">לַ</span><span title=\"5\" class=\"d\"></span><span title=\"5\" class=\"d\">שְּׁבִי֙</span> <span title=\"4\" class=\"m\">לַ</span><span title=\"4\" class=\"m\"></span><span title=\"4\" class=\"m\">שֶּׁ֔בִי</span> וַאֲשֶׁ֥ר לַחֶ֖רֶב לֶחָֽרֶב׃\n",
       "</td></tr>\n",
       "<tr class=\"t\"><td class=\"v\">42</td><td class=\"v\">Jeremia 43:11</td><td class=\"t\">וְהִכָּ֖ה אֶת־אֶ֣רֶץ מִצְרָ֑יִם אֲשֶׁ֧ר לַמָּ֣וֶת לַמָּ֗וֶת וַאֲשֶׁ֤ר לַשְּׁבִי֙ לַשֶּׁ֔בִי <span title=\"6\" class=\"m\">וַ</span><span title=\"7\" class=\"d\">אֲשֶׁ֥ר</span> <span title=\"7\" class=\"d\">לַ</span><span title=\"7\" class=\"d\"></span><span title=\"7\" class=\"d\">חֶ֖רֶב</span> <span title=\"6\" class=\"m\">לֶ</span><span title=\"6\" class=\"m\"></span><span title=\"6\" class=\"m\">חָֽרֶב</span>׃\n",
       "</td></tr>\n",
       "<tr class=\"t\"><td class=\"v\">43</td><td class=\"v\">Hosea 4:14</td><td class=\"t\">לֹֽא־אֶפְקֹ֨וד עַל־בְּנֹותֵיכֶ֜ם כִּ֣י תִזְנֶ֗ינָה <span title=\"3\" class=\"m\">וְ</span><span title=\"3\" class=\"m\">עַל</span>־<span title=\"3\" class=\"m\">כַּלֹּֽותֵיכֶם֙</span> <span title=\"4\" class=\"d\">כִּ֣י</span> <span title=\"4\" class=\"d\">תְנָאַ֔פְנָה</span> </td></tr>\n",
       "<tr class=\"t\"><td class=\"v\">44</td><td class=\"v\">Hosea 9:14</td><td class=\"t\"><span title=\"1\" class=\"m\">יְהוָ֖ה</span> <span title=\"2\" class=\"d\">מַה</span>־<span title=\"2\" class=\"d\">תִּתֵּ֑ן</span> </td></tr>\n",
       "<tr class=\"t\"><td class=\"v\">45</td><td class=\"v\">Obadia 1:19 - Obadia 1:20</td><td class=\"t\">וְיָרְשׁוּ֙ אֶת־שְׂדֵ֣ה אֶפְרַ֔יִם וְאֵ֖ת שְׂדֵ֣ה שֹׁמְרֹ֑ון וּבִנְיָמִ֖ן אֶת־הַגִּלְעָֽד׃\n",
       "<span title=\"3\" class=\"m\">וְ</span><span title=\"3\" class=\"m\">גָלֻ֣ת</span> <span title=\"3\" class=\"m\">הַֽ</span><span title=\"3\" class=\"m\">חֵל</span>־<span title=\"3\" class=\"m\">הַ֠</span><span title=\"3\" class=\"m\">זֶּה</span> <span title=\"3\" class=\"m\">לִ</span><span title=\"3\" class=\"m\">בְנֵ֨י</span> <span title=\"3\" class=\"m\">יִשְׂרָאֵ֤ל</span> <span title=\"4\" class=\"d\">אֲשֶֽׁר</span>־<span title=\"4\" class=\"d\">כְּנַעֲנִים֙</span> <span title=\"3\" class=\"m\">עַד</span>־<span title=\"3\" class=\"m\">צָ֣רְפַ֔ת</span> </td></tr>\n",
       "<tr class=\"t\"><td class=\"v\">46</td><td class=\"v\">Micha 4:6</td><td class=\"t\">בַּיֹּ֨ום הַה֜וּא אֹֽסְפָה֙ הַצֹּ֣לֵעָ֔ה וְהַנִּדָּחָ֖ה אֲקַבֵּ֑צָה <span title=\"3\" class=\"m\">וַ</span><span title=\"4\" class=\"d\">אֲשֶׁ֖ר</span> <span title=\"4\" class=\"d\">הֲרֵעֹֽתִי</span>׃\n",
       "</td></tr>\n",
       "<tr class=\"t\"><td class=\"v\">47</td><td class=\"v\">Psalmi 103:14</td><td class=\"t\">כִּי־ה֖וּא יָדַ֣ע יִצְרֵ֑נוּ <span title=\"2\" class=\"m\">זָ֝כ֗וּר</span> <span title=\"3\" class=\"d\">כִּי</span>־<span title=\"3\" class=\"d\">עָפָ֥ר</span> <span title=\"3\" class=\"d\">אֲנָֽחְנוּ</span>׃\n",
       "</td></tr>\n",
       "<tr class=\"t\"><td class=\"v\">48</td><td class=\"v\">Iob 24:19</td><td class=\"t\">צִיָּ֤ה גַם־חֹ֗ם יִגְזְל֥וּ מֵֽימֵי־שֶׁ֗לֶג <span title=\"2\" class=\"m\">שְׁאֹ֣ול</span> <span title=\"3\" class=\"d\">חָטָֽאוּ</span>׃\n",
       "</td></tr>\n",
       "<tr class=\"t\"><td class=\"v\">49</td><td class=\"v\">Ecclesiastes 4:3</td><td class=\"t\"><span title=\"1\" class=\"m\">וְ</span><span title=\"1\" class=\"m\">טֹוב֙</span> <span title=\"1\" class=\"m\">מִ</span><span title=\"1\" class=\"m\">שְּׁנֵיהֶ֔ם</span> <span title=\"2\" class=\"d\">אֵ֥ת</span> <span title=\"2\" class=\"d\">אֲשֶׁר</span>־<span title=\"2\" class=\"d\">עֲדֶ֖ן</span> <span title=\"2\" class=\"d\">לֹ֣א</span> <span title=\"2\" class=\"d\">הָיָ֑ה</span> אֲשֶׁ֤ר לֹֽא־רָאָה֙ אֶת־הַמַּעֲשֶׂ֣ה הָרָ֔ע אֲשֶׁ֥ר נַעֲשָׂ֖ה תַּ֥חַת הַשָּֽׁמֶשׁ׃\n",
       "</td></tr>\n",
       "<tr class=\"t\"><td class=\"v\">50</td><td class=\"v\">Esther 2:15</td><td class=\"t\">וּבְהַגִּ֣יעַ תֹּר־אֶסְתֵּ֣ר בַּת־אֲבִיחַ֣יִל דֹּ֣ד מָרְדֳּכַ֡י אֲשֶׁר֩ לָקַֽח־לֹ֨ו לְבַ֜ת לָבֹ֣וא אֶל־הַמֶּ֗לֶךְ לֹ֤א בִקְשָׁה֙ דָּבָ֔ר <span title=\"5\" class=\"m\">כִּ֠י</span> <span title=\"5\" class=\"m\">אִ֣ם</span> <span title=\"6\" class=\"d\">אֶת</span>־<span title=\"6\" class=\"d\">אֲשֶׁ֥ר</span> <span title=\"6\" class=\"d\">יֹאמַ֛ר</span> <span title=\"6\" class=\"d\">הֵגַ֥י</span> <span title=\"6\" class=\"d\">סְרִיס</span>־<span title=\"6\" class=\"d\">הַ</span><span title=\"6\" class=\"d\">מֶּ֖לֶךְ</span> <span title=\"6\" class=\"d\">שֹׁמֵ֣ר</span> <span title=\"6\" class=\"d\">הַ</span><span title=\"6\" class=\"d\">נָּשִׁ֑ים</span> </td></tr>\n",
       "<tr class=\"t\"><td class=\"v\">51</td><td class=\"v\">Chronica_I 6:52 - Chronica_I 6:62</td><td class=\"t\">וַיִּתְּנ֨וּ לָהֶ֜ם אֶת־עָרֵ֧י הַמִּקְלָ֛ט אֶת־שְׁכֶ֥ם וְאֶת־מִגְרָשֶׁ֖יהָ בְּהַ֣ר אֶפְרָ֑יִם וְאֶת־גֶּ֖זֶר וְאֶת־מִגְרָשֶֽׁיהָ׃\n",
       "וְאֶֽת־יָקְמְעָם֙ וְאֶת־מִגְרָשֶׁ֔יהָ וְאֶת־בֵּ֥ית חֹורֹ֖ון וְאֶת־מִגְרָשֶֽׁיהָ׃\n",
       "וְאֶת־אַיָּלֹון֙ וְאֶת־מִגְרָשֶׁ֔יהָ וְאֶת־גַּת־רִמֹּ֖ון וְאֶת־מִגְרָשֶֽׁיהָ׃ פ \n",
       "וּמִֽמַּחֲצִית֙ מַטֵּ֣ה מְנַשֶּׁ֔ה אֶת־עָנֵר֙ וְאֶת־מִגְרָשֶׁ֔יהָ וְאֶת־בִּלְעָ֖ם וְאֶת־מִגְרָשֶׁ֑יהָ לְמִשְׁפַּ֥חַת לִבְנֵי־קְהָ֖ת הַנֹּותָרִֽים׃ פ \n",
       "לִבְנֵי֮ גֵּרְשֹׁום֒ מִמִּשְׁפַּ֗חַת חֲצִי֙ מַטֵּ֣ה מְנַשֶּׁ֔ה אֶת־גֹּולָ֥ן בַּבָּשָׁ֖ן וְאֶת־מִגְרָשֶׁ֑יהָ וְאֶת־עַשְׁתָּרֹ֖ות וְאֶת־מִגְרָשֶֽׁיהָ׃ ס \n",
       "וּמִמַּטֵּ֣ה יִשָׂשכָ֔ר אֶת־קֶ֖דֶשׁ וְאֶת־מִגְרָשֶׁ֑יהָ אֶת־דָּבְרַ֖ת וְאֶת־מִגְרָשֶֽׁיהָ׃\n",
       "וְאֶת־רָאמֹות֙ וְאֶת־מִגְרָשֶׁ֔יהָ וְאֶת־עָנֵ֖ם וְאֶת־מִגְרָשֶֽׁיהָ׃ ס \n",
       "וּמִמַּטֵּ֣ה אָשֵׁ֔ר אֶת־מָשָׁ֖ל וְאֶת־מִגְרָשֶׁ֑יהָ וְאֶת־עַבְדֹּ֖ון וְאֶת־מִגְרָשֶֽׁיהָ׃\n",
       "וְאֶת־חוּקֹק֙ וְאֶת־מִגְרָשֶׁ֔יהָ וְאֶת־רְחֹ֖ב וְאֶת־מִגְרָשֶֽׁיהָ׃\n",
       "וּמִמַּטֵּ֣ה נַפְתָּלִ֗י אֶת־קֶ֤דֶשׁ בַּגָּלִיל֙ וְאֶת־מִגְרָשֶׁ֔יהָ וְאֶת־חַמֹּ֖ון וְאֶת־מִגְרָשֶׁ֑יהָ וְאֶת־קִרְיָתַ֖יִם וְאֶת־מִגְרָשֶֽׁיהָ׃ ס \n",
       "<span title=\"12\" class=\"m\">לִ</span><span title=\"12\" class=\"m\">בְנֵ֣י</span> <span title=\"12\" class=\"m\">מְרָרִי֮</span> <span title=\"13\" class=\"d\">הַ</span><span title=\"13\" class=\"d\">נֹּותָרִים֒</span> <span title=\"13\" class=\"d\">מִ</span><span title=\"13\" class=\"d\">מַּטֵּ֣ה</span> <span title=\"13\" class=\"d\">זְבוּלֻ֔ן</span> <span title=\"12\" class=\"m\">אֶת</span>־<span title=\"12\" class=\"m\">רִמֹּונֹ֖ו</span> <span title=\"12\" class=\"m\">וְ</span><span title=\"12\" class=\"m\">אֶת</span>־<span title=\"12\" class=\"m\">מִגְרָשֶׁ֑יהָ</span> <span title=\"12\" class=\"m\">אֶת</span>־<span title=\"12\" class=\"m\">תָּבֹ֖ור</span> <span title=\"12\" class=\"m\">וְ</span><span title=\"12\" class=\"m\">אֶת</span>־<span title=\"12\" class=\"m\">מִגְרָשֶֽׁיהָ</span>׃\n",
       "וּמֵעֵ֜בֶר לְיַרְדֵּ֣ן יְרֵחֹו֮ לְמִזְרַ֣ח הַיַּרְדֵּן֒ מִמַּטֵּ֣ה רְאוּבֵ֔ן אֶת־בֶּ֥צֶר בַּמִּדְבָּ֖ר וְאֶת־מִגְרָשֶׁ֑יהָ וְאֶת־יַ֖הְצָה וְאֶת־מִגְרָשֶֽׁיהָ׃\n",
       "וְאֶת־קְדֵמֹות֙ וְאֶת־מִגְרָשֶׁ֔יהָ וְאֶת־מֵיפַ֖עַת וְאֶת־מִגְרָשֶֽׁיהָ׃\n",
       "וּמִ֨מַּטֵּה־גָ֔ד אֶת־רָאמֹ֥ות בַּגִּלְעָ֖ד וְאֶת־מִגְרָשֶׁ֑יהָ וְאֶֽת־מַחֲנַ֖יִם וְאֶת־מִגְרָשֶֽׁיהָ׃\n",
       "וְאֶת־חֶשְׁבֹּון֙ וְאֶת־מִגְרָשֶׁ֔יהָ וְאֶת־יַעְזֵ֖יר וְאֶת־מִגְרָשֶֽׁיהָ׃ ס \n",
       "</td></tr>\n",
       "<tr class=\"t\"><td class=\"v\">52</td><td class=\"v\">Chronica_II 18:13</td><td class=\"t\"><span title=\"1\" class=\"m\">כִּ֛י</span> <span title=\"2\" class=\"d\">אֶת</span>־<span title=\"2\" class=\"d\">אֲשֶׁר</span>־<span title=\"2\" class=\"d\">יֹאמַ֥ר</span> <span title=\"2\" class=\"d\">אֱלֹהַ֖י</span> אֹתֹ֥ו אֲדַבֵּֽר׃\n",
       "</td></tr>\n",
       "\n",
       "</table>\n"
      ],
      "text/plain": [
       "<IPython.core.display.HTML object>"
      ]
     },
     "execution_count": 18,
     "metadata": {},
     "output_type": "execute_result"
    }
   ],
   "source": [
    "# all results\n",
    "HTML(''.join(results_html))"
   ]
  },
  {
   "cell_type": "markdown",
   "metadata": {},
   "source": [
    "# Firing up the engines"
   ]
  },
  {
   "cell_type": "code",
   "execution_count": 1,
   "metadata": {
    "collapsed": false
   },
   "outputs": [
    {
     "name": "stderr",
     "output_type": "stream",
     "text": [
      "  0.00s This is LAF-Fabric 4.5.4\n",
      "API reference: http://laf-fabric.readthedocs.org/en/latest/texts/API-reference.html\n",
      "Feature doc: https://shebanq.ancient-data.org/static/docs/featuredoc/texts/welcome.html\n",
      "\n"
     ]
    }
   ],
   "source": [
    "import sys,os\n",
    "import collections\n",
    "\n",
    "import laf\n",
    "from laf.fabric import LafFabric\n",
    "from etcbc.preprocess import prepare\n",
    "from etcbc.mql import MQL\n",
    "fabric = LafFabric()"
   ]
  },
  {
   "cell_type": "markdown",
   "metadata": {},
   "source": [
    "# Loading the data"
   ]
  },
  {
   "cell_type": "code",
   "execution_count": 2,
   "metadata": {
    "collapsed": true
   },
   "outputs": [],
   "source": [
    "source = 'etcbc'\n",
    "version = '4b'"
   ]
  },
  {
   "cell_type": "code",
   "execution_count": 3,
   "metadata": {
    "collapsed": false
   },
   "outputs": [
    {
     "name": "stderr",
     "output_type": "stream",
     "text": [
      "  0.00s LOADING API: please wait ... \n",
      "  0.00s INFO: USING DATA COMPILED AT: 2015-11-02T15-08-56\n",
      "  4.48s LOGFILE=/Users/dirk/SURFdrive/laf-fabric-output/etcbc4b/verblessmothers/__log__verblessmothers.txt\n",
      "    14s ETCBC reference: http://laf-fabric.readthedocs.org/en/latest/texts/ETCBC-reference.html\n",
      "  0.00s LOADING API with EXTRAs: please wait ... \n",
      "  0.00s INFO: USING DATA COMPILED AT: 2015-11-02T15-08-56\n",
      "  0.01s INFO: DATA LOADED FROM SOURCE etcbc4b AND ANNOX -- FOR TASK verblessmothers AT 2015-11-11T17-05-28\n",
      "  0.00s INFO: DATA LOADED FROM SOURCE etcbc4b AND ANNOX -- FOR TASK verblessmothers AT 2015-11-11T17-05-28\n"
     ]
    }
   ],
   "source": [
    "API = fabric.load(source+version, '--', 'verblessmothers', {\n",
    "    \"xmlids\": {\"node\": False, \"edge\": False},\n",
    "    \"features\": ('''\n",
    "        otype oid \n",
    "        sp typ rela\n",
    "        g_word_utf8 trailer_utf8\n",
    "        book chapter verse number\n",
    "    ''','''\n",
    "        mother\n",
    "    '''),\n",
    "    \"prepare\": prepare,\n",
    "    \"primary\": False,\n",
    "}, verbose='NORMAL')\n",
    "exec(fabric.localnames.format(var='fabric'))"
   ]
  },
  {
   "cell_type": "markdown",
   "metadata": {},
   "source": [
    "# Making a mother-daughter clause index"
   ]
  },
  {
   "cell_type": "code",
   "execution_count": 4,
   "metadata": {
    "collapsed": false
   },
   "outputs": [
    {
     "name": "stderr",
     "output_type": "stream",
     "text": [
      "  2.66s Looking for mothers ...\n",
      "  3.85s Done\n"
     ]
    }
   ],
   "source": [
    "mothers_objc = collections.defaultdict(lambda: set())\n",
    "msg('Looking for mothers ...')\n",
    "for cd in F.otype.s('clause'):\n",
    "    if F.rela.v(cd) != 'Objc': continue\n",
    "    for cm in C.mother.v(cd): mothers_objc[cd].add(cm)\n",
    "msg('Done')"
   ]
  },
  {
   "cell_type": "markdown",
   "metadata": {},
   "source": [
    "# Gathering verbless mothers of object clauses"
   ]
  },
  {
   "cell_type": "code",
   "execution_count": 5,
   "metadata": {
    "collapsed": false
   },
   "outputs": [
    {
     "name": "stderr",
     "output_type": "stream",
     "text": [
      "  6.44s Looking for verbless mothers ...\n",
      "  7.55s 0 objc-clauses without mother; 52 objc-clauses with verbless mother of which 0 in a different sentence\n"
     ]
    }
   ],
   "source": [
    "no_mothers = set()\n",
    "verbless_mothers = set()\n",
    "multiple_sentence = set()\n",
    "\n",
    "def is_verbless(c): return 'verb' not in {F.sp.v(w) for w in L.d('word', c)}\n",
    "\n",
    "msg('Looking for verbless mothers ...')\n",
    "for cd in F.otype.s('clause'):\n",
    "    if F.rela.v(cd) != 'Objc': continue\n",
    "    if cd not in mothers_objc:\n",
    "        no_mothers.add(cd)\n",
    "        continue\n",
    "    for cm in mothers_objc[cd]:\n",
    "        if is_verbless(cm): verbless_mothers.add((cd, cm))\n",
    "for (cd, cm) in verbless_mothers:\n",
    "    if L.u('sentence', cd) != L.u('sentence', cm):\n",
    "        multiple_sentence.add((cd, cm))\n",
    "msg('{} {}; {} {} of which {} {}'.format(\n",
    "    len(no_mothers), 'objc-clauses without mother',\n",
    "    len(verbless_mothers), 'objc-clauses with verbless mother',\n",
    "    len(multiple_sentence), 'in a different sentence',\n",
    "))"
   ]
  },
  {
   "cell_type": "markdown",
   "metadata": {},
   "source": [
    "# Pretty printing mother-daughter clauses"
   ]
  },
  {
   "cell_type": "code",
   "execution_count": 6,
   "metadata": {
    "collapsed": true
   },
   "outputs": [],
   "source": [
    "from IPython.display import HTML, display"
   ]
  },
  {
   "cell_type": "code",
   "execution_count": 7,
   "metadata": {
    "collapsed": true
   },
   "outputs": [],
   "source": [
    "css = '''\n",
    "<style type=\"text/css\">\n",
    ".m {\n",
    "  background-color: #ffaaaa;\n",
    "}\n",
    ".d {\n",
    "  background-color: #ccccff;\n",
    "}\n",
    ".v {\n",
    "    font-family: Verdana, Arial, sans-serif;\n",
    "    font-size: small;\n",
    "    text-align: right;\n",
    "    color: #aaaaaa;\n",
    "    width: 10%;\n",
    "    direction: ltr;\n",
    "    border-left: 2px solid #aaaaaa;\n",
    "    border-right: 2px solid #aaaaaa;\n",
    "}\n",
    ".l {\n",
    "    font-family: Verdana, Arial, sans-serif;\n",
    "    font-size: normal;\n",
    "    text-align: center;\n",
    "}\n",
    ".t {\n",
    "    font-family: Ezra SIL, SBL Hebrew, Verdana, sans-serif;\n",
    "    font-size: x-large;\n",
    "    line-height: 1.7;\n",
    "    text-align: right;\n",
    "    direction: rtl;\n",
    "    border-left: 2px solid #aaaaaa;\n",
    "    border-right: 2px solid #aaaaaa;\n",
    "}\n",
    "table.t {\n",
    "    width: 100%;\n",
    "    direction: rtl;\n",
    "    border-collapse: collapse;\n",
    "}\n",
    "td.t {\n",
    "    text-align: right;\n",
    "}\n",
    "tr.t {\n",
    "    border-top: 2px solid #aaaaaa;\n",
    "    border-bottom: 2px solid #aaaaaa;\n",
    "    border-left: 2px solid #aaaaaa;\n",
    "    border-right: 2px solid #aaaaaa;\n",
    "}\n",
    "</style>\n",
    "'''\n",
    "head = '''\n",
    "<html>\n",
    "<head>\n",
    "    <meta http-equiv=\"Content-Type\"\n",
    "          content=\"text/html; charset=UTF-8\" />\n",
    "    <title></title>\n",
    "    {}\n",
    "</head>\n",
    "<body>\n",
    "'''.format(css)\n",
    "table_head = '''\n",
    "<table class=\"t\">\n",
    "'''\n",
    "\n",
    "table_tail = '''\n",
    "</table>\n",
    "'''\n",
    "\n",
    "tail = '''\n",
    "</body>\n",
    "</html>\n",
    "'''\n",
    "\n",
    "legend = '''\n",
    "<p class=\"l\"><span class=\"m\">verbless mother clause</span> <span class=\"d\">daughter object clause</span></p>\n",
    "'''\n",
    "\n",
    "def getverse(ca):\n",
    "    fw = L.d('word', ca)[0]\n",
    "    return (F.book.v(L.u('book', fw)),\n",
    "            F.chapter.v(L.u('chapter', fw)),\n",
    "            F.verse.v(L.u('verse', fw)),\n",
    "    )\n",
    "\n",
    "def print_cm(i, cd, cm):\n",
    "    s = L.u('sentence', cd)\n",
    "    passages = {getverse(x) for x in (s, cd, cm)}\n",
    "    dwords = set(L.d('word', cd))\n",
    "    mwords = set(L.d('word', cm))\n",
    "    dmwords = dwords | mwords\n",
    "    htext = []\n",
    "    hcd = F.number.v(cd)\n",
    "    hcm = F.number.v(cm)\n",
    "    for w in L.d('word', s):\n",
    "        hw = F.g_word_utf8.v(w)\n",
    "        ht = F.trailer_utf8.v(w)\n",
    "        if w in dmwords:\n",
    "            htext.append('<span title=\"{}\" class=\"{}\">{}</span>{}'.format(\n",
    "                hcd if w in dwords else hcm, 'd' if w in dwords else 'm', hw, ht,\n",
    "            ))\n",
    "        else:\n",
    "            htext.append('{}{}'.format(hw, ht))\n",
    "    return '<tr class=\"t\"><td class=\"v\">{}</td><td class=\"v\">{}</td><td class=\"t\">{}</td></tr>\\n'.format(\n",
    "        i, \n",
    "        ' - '.join('{} {}:{}'.format(*x) for x in sorted(passages, key=lambda x: (x[0], int(x[1]), int(x[2])))),\n",
    "        ''.join(htext),\n",
    "    )"
   ]
  },
  {
   "cell_type": "code",
   "execution_count": 8,
   "metadata": {
    "collapsed": false
   },
   "outputs": [],
   "source": [
    "h = []\n",
    "#h.append(head)\n",
    "h.append(legend)\n",
    "h.append(table_head)\n",
    "for (i, (cd, cm)) in enumerate(sorted(verbless_mothers)):\n",
    "    h.append(print_cm(i+1, cd, cm))\n",
    "h.append(table_tail)\n",
    "#h.append(tail)\n",
    "\n",
    "results_html = h"
   ]
  },
  {
   "cell_type": "markdown",
   "metadata": {},
   "source": [
    "# Using an MQL query"
   ]
  },
  {
   "cell_type": "code",
   "execution_count": 9,
   "metadata": {
    "collapsed": false
   },
   "outputs": [],
   "source": [
    "Q = MQL(API)"
   ]
  },
  {
   "cell_type": "code",
   "execution_count": 10,
   "metadata": {
    "collapsed": true
   },
   "outputs": [],
   "source": [
    "mother_obj_query1 = '''\n",
    "select all objects where\n",
    "[sentence \n",
    " [clause as clause_mother focus\n",
    "    notexists [word sp = verb]\n",
    " ]\n",
    " ..\n",
    " [clause focus mother = clause_mother.self and rela = Objc\n",
    " ]\n",
    "]\n",
    "'''\n",
    "mother_obj_query2 = '''\n",
    "select all objects where\n",
    "[sentence \n",
    " [clause as clause_daughter focus rela = Objc\n",
    " ]\n",
    " ..\n",
    " [clause focus\n",
    "    self = clause_daughter.mother\n",
    "    notexists [word sp = verb]\n",
    " ]\n",
    "]\n",
    "'''"
   ]
  },
  {
   "cell_type": "markdown",
   "metadata": {},
   "source": [
    "## Executing the query"
   ]
  },
  {
   "cell_type": "code",
   "execution_count": 11,
   "metadata": {
    "collapsed": false
   },
   "outputs": [],
   "source": [
    "sheaf1 = Q.mql(mother_obj_query1)\n",
    "sheaf2 = Q.mql(mother_obj_query2)"
   ]
  },
  {
   "cell_type": "markdown",
   "metadata": {},
   "source": [
    "## Collecting the results"
   ]
  },
  {
   "cell_type": "code",
   "execution_count": 12,
   "metadata": {
    "collapsed": false
   },
   "outputs": [
    {
     "name": "stderr",
     "output_type": "stream",
     "text": [
      "    31s 47 results\n"
     ]
    }
   ],
   "source": [
    "verbless_mothers_q = set()\n",
    "for ((s, ((cm,), (cd,))),) in sheaf1.results(): verbless_mothers_q.add((cd, cm))\n",
    "for ((s, ((cd,), (cm,))),) in sheaf2.results(): verbless_mothers_q.add((cd, cm))\n",
    "msg('{} results'.format(len(verbless_mothers_q)))"
   ]
  },
  {
   "cell_type": "markdown",
   "metadata": {},
   "source": [
    "# Examining the differences"
   ]
  },
  {
   "cell_type": "code",
   "execution_count": 13,
   "metadata": {
    "collapsed": false
   },
   "outputs": [
    {
     "name": "stdout",
     "output_type": "stream",
     "text": [
      "\n",
      "Results by the MQL query that are not delivered by the walk: 0\n",
      "Results by the walk that are not delivered by the MQL query: 5\n",
      "\n"
     ]
    }
   ],
   "source": [
    "print('''\n",
    "Results by the MQL query that are not delivered by the walk: {}\n",
    "Results by the walk that are not delivered by the MQL query: {}\n",
    "'''.format(\n",
    "    len(verbless_mothers_q - verbless_mothers),\n",
    "    len(verbless_mothers - verbless_mothers_q),\n",
    "))"
   ]
  },
  {
   "cell_type": "markdown",
   "metadata": {
    "collapsed": true
   },
   "source": [
    "## Pretty printing the differences"
   ]
  },
  {
   "cell_type": "code",
   "execution_count": 14,
   "metadata": {
    "collapsed": false
   },
   "outputs": [
    {
     "data": {
      "text/html": [
       "\n",
       "<style type=\"text/css\">\n",
       ".m {\n",
       "  background-color: #ffaaaa;\n",
       "}\n",
       ".d {\n",
       "  background-color: #ccccff;\n",
       "}\n",
       ".v {\n",
       "    font-family: Verdana, Arial, sans-serif;\n",
       "    font-size: small;\n",
       "    text-align: right;\n",
       "    color: #aaaaaa;\n",
       "    width: 10%;\n",
       "    direction: ltr;\n",
       "    border-left: 2px solid #aaaaaa;\n",
       "    border-right: 2px solid #aaaaaa;\n",
       "}\n",
       ".l {\n",
       "    font-family: Verdana, Arial, sans-serif;\n",
       "    font-size: normal;\n",
       "    text-align: center;\n",
       "}\n",
       ".t {\n",
       "    font-family: Ezra SIL, SBL Hebrew, Verdana, sans-serif;\n",
       "    font-size: x-large;\n",
       "    line-height: 1.7;\n",
       "    text-align: right;\n",
       "    direction: rtl;\n",
       "    border-left: 2px solid #aaaaaa;\n",
       "    border-right: 2px solid #aaaaaa;\n",
       "}\n",
       "table.t {\n",
       "    width: 100%;\n",
       "    direction: rtl;\n",
       "    border-collapse: collapse;\n",
       "}\n",
       "td.t {\n",
       "    text-align: right;\n",
       "}\n",
       "tr.t {\n",
       "    border-top: 2px solid #aaaaaa;\n",
       "    border-bottom: 2px solid #aaaaaa;\n",
       "    border-left: 2px solid #aaaaaa;\n",
       "    border-right: 2px solid #aaaaaa;\n",
       "}\n",
       "</style>\n"
      ],
      "text/plain": [
       "<IPython.core.display.HTML object>"
      ]
     },
     "execution_count": 14,
     "metadata": {},
     "output_type": "execute_result"
    }
   ],
   "source": [
    "HTML(css)"
   ]
  },
  {
   "cell_type": "code",
   "execution_count": 15,
   "metadata": {
    "collapsed": false
   },
   "outputs": [],
   "source": [
    "h = []\n",
    "#h.append(head)\n",
    "h.append(legend)\n",
    "h.append('''<h1>In MQL query but not in Walk</h1>''')\n",
    "h.append(table_head)\n",
    "for (i, (cd, cm)) in enumerate(sorted(verbless_mothers_q - verbless_mothers)):\n",
    "    h.append(print_cm(i+1, cd, cm))\n",
    "h.append(table_tail)\n",
    "h.append('''<h1>In Walk but not in MQL query</h1>''')\n",
    "h.append(table_head)\n",
    "for (i, (cd, cm)) in enumerate(sorted(verbless_mothers - verbless_mothers_q)):\n",
    "    h.append(print_cm(i+1, cd, cm))\n",
    "h.append(table_tail)\n",
    "#h.append(tail)\n",
    "\n",
    "results_diff_html = h"
   ]
  },
  {
   "cell_type": "markdown",
   "metadata": {},
   "source": [
    "# Generating notes"
   ]
  },
  {
   "cell_type": "code",
   "execution_count": 16,
   "metadata": {
    "collapsed": false
   },
   "outputs": [],
   "source": [
    "sfields = '''\n",
    "    version\n",
    "    book\n",
    "    chapter\n",
    "    verse\n",
    "    clause_atom\n",
    "    is_shared\n",
    "    is_published\n",
    "    status\n",
    "    keywords\n",
    "    ntext\n",
    "'''.strip().split()\n",
    "\n",
    "sfields_fmt = ('{}\\t' * (len(sfields) - 1)) + '{}\\n'\n",
    "\n",
    "def generate_notes():\n",
    "    nf = outfile('verbless_mothers.csv')\n",
    "    nf.write('{}\\n'.format('\\t'.join(sfields)))\n",
    "    for (cd, cm) in sorted(verbless_mothers):\n",
    "        casd = L.d('clause_atom', cd)\n",
    "        casm = L.d('clause_atom', cm)\n",
    "        cald = len(casd)\n",
    "        calm = len(casm)\n",
    "        cad = casd[0]\n",
    "        cam = casm[0]\n",
    "\n",
    "        cnd = F.number.v(cad)\n",
    "        cnm = F.number.v(cam)\n",
    "        for (ca, cn, stat, txt) in (\n",
    "            (cad, cnd, '-',\n",
    "             '''{} an object clause to a verbless mother clause. Possibly a coding error. [query](shebanq:?id=981&page=1&version=4b&mr=r&qw=q&tp=txt_p&tr=hb)'''.format(\n",
    "                'This is' if cald == 1 else 'This and {} more line{} form'.format(cald-1, '' if cald == 2 else ''),\n",
    "            )),\n",
    "            (cam, cnm, '?',\n",
    "             '''{} the verbless mother of an object clause. [query](shebanq:?id=981&page=1&version=4b&mr=r&qw=q&tp=txt_p&tr=hb)'''.format(\n",
    "                'This is' if calm == 1 else 'This and {} more line{} form'.format(calm-1, '' if calm == 2 else ''),\n",
    "            )),\n",
    "        ):\n",
    "            (bk, ch, vs) = getverse(ca)\n",
    "            nf.write(sfields_fmt.format(\n",
    "                version,\n",
    "                bk,\n",
    "                ch,\n",
    "                vs,\n",
    "                cn,\n",
    "                'T',\n",
    "                '',\n",
    "                stat,\n",
    "                'verbless_mother',\n",
    "                txt,\n",
    "            ))\n",
    "    nf.close()\n",
    "\n",
    "generate_notes()"
   ]
  },
  {
   "cell_type": "code",
   "execution_count": null,
   "metadata": {
    "collapsed": true
   },
   "outputs": [],
   "source": []
  }
 ],
 "metadata": {
  "kernelspec": {
   "display_name": "Python 3",
   "language": "python",
   "name": "python3"
  },
  "language_info": {
   "codemirror_mode": {
    "name": "ipython",
    "version": 3
   },
   "file_extension": ".py",
   "mimetype": "text/x-python",
   "name": "python",
   "nbconvert_exporter": "python",
   "pygments_lexer": "ipython3",
   "version": "3.4.3"
  }
 },
 "nbformat": 4,
 "nbformat_minor": 0
}
