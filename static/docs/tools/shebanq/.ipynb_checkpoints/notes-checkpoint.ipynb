{
 "cells": [
  {
   "cell_type": "markdown",
   "metadata": {},
   "source": [
    "<a href=\"http://laf-fabric.readthedocs.org/en/latest/\" target=\"_blank\"><img align=\"left\" src=\"images/laf-fabric-xsmall.png\"/></a>\n",
    "<a href=\"http://emdros.org\" target=\"_blank\"><img align=\"left\" src=\"files/images/Emdros-xsmall.png\"/></a>\n",
    "<a href=\"http://www.persistent-identifier.nl/?identifier=urn%3Anbn%3Anl%3Aui%3A13-048i-71\" target=\"_blank\"><img align=\"left\"src=\"images/etcbc4easy-small.png\"/></a>\n",
    "<a href=\"http://www.godgeleerdheid.vu.nl/etcbc\" target=\"_blank\"><img align=\"right\" src=\"images/VU-ETCBC-xsmall.png\"/></a>\n",
    "<a href=\"http://tla.mpi.nl\" target=\"_blank\"><img align=\"right\" src=\"images/TLA-xsmall.png\"/></a>\n",
    "<a href=\"http://www.dans.knaw.nl\" target=\"_blank\"><img align=\"right\"src=\"images/DANS-xsmall.png\"/></a>"
   ]
  },
  {
   "cell_type": "markdown",
   "metadata": {},
   "source": [
    "# Notes"
   ]
  },
  {
   "cell_type": "code",
   "execution_count": 1,
   "metadata": {
    "collapsed": false
   },
   "outputs": [],
   "source": [
    "import sys\n",
    "import collections\n",
    "db = 'shebanq_notes'\n",
    "sversion = 'etcbc4'\n",
    "datadir = '/Users/dirk/SURFdrive/laf-fabric-output/{}/shebanq'.format(sversion)"
   ]
  },
  {
   "cell_type": "markdown",
   "metadata": {},
   "source": [
    "This notebook defines a datamodel for notes in SHEBANQ\n",
    "\n",
    "\n",
    "# The model\n",
    "\n",
    "Every note by a user ends up in a record that carries the book, chapter verse, the userid, whether it is shared or published, dates of creation, modification, sharing and publishing.\n",
    "\n",
    "This is all metadata. The data itself consists of a \n",
    "\n",
    "* status, such as *info*, *error*, *note*, *special*, *warning*\n",
    "* keywords\n",
    "* plain text\n",
    "\n",
    "The keywords will be split around spaces and punctuation.\n",
    "We will have a table for indexing the notes by keyword.\n"
   ]
  },
  {
   "cell_type": "code",
   "execution_count": 5,
   "metadata": {
    "collapsed": true
   },
   "outputs": [],
   "source": [
    "create_text = '''\n",
    "drop database if exists shebanq_note;\n",
    "\n",
    "create database shebanq_note character set utf8;\n",
    "\n",
    "use shebanq_note;\n",
    "\n",
    "create table note(\n",
    "    id int(4) primary key auto_increment,\n",
    "    version varchar(32),\n",
    "    book varchar(32),\n",
    "    chapter int(4),\n",
    "    verse int(4),\n",
    "    clause_atom int(4),\n",
    "    created_by int(4),\n",
    "    created_on datetime,\n",
    "    modified_on datetime,\n",
    "    is_shared char(1),\n",
    "    shared_on datetime,\n",
    "    is_published char(1),\n",
    "    published_on datetime,\n",
    "    status char(1),\n",
    "    keywords varchar(128),\n",
    "    ntext longtext,\n",
    "    foreign key (created_by) references shebanq_web.auth_user(id),\n",
    "    index(version),\n",
    "    index(book, chapter, verse, clause_atom),\n",
    "    index(keywords),\n",
    "    index(created_by),\n",
    "    index(is_shared),\n",
    "    index(is_published)\n",
    ") character set utf8;\n",
    "'''\n",
    "\n",
    "not_yet_done = '''\n",
    "create table key_desc(\n",
    "    id int(4) primary key auto_increment,\n",
    "    uid int(4),\n",
    "    keyword varchar(32),\n",
    "    description longtext,\n",
    "    foreign key (uid) references shebanq_web.auth_user(id)\n",
    ") character set utf8;\n",
    "'''\n",
    "\n",
    "no_longer_needed='''\n",
    "create table key_note(\n",
    "    keyword varchar(32),\n",
    "    note_id int(4),\n",
    "    primary key (keyword, note_id),\n",
    "    foreign key (note_id) references note(id)\n",
    ") character set utf8;\n",
    "'''"
   ]
  },
  {
   "cell_type": "code",
   "execution_count": 6,
   "metadata": {
    "collapsed": false
   },
   "outputs": [
    {
     "name": "stdout",
     "output_type": "stream",
     "text": [
      "\n",
      "drop database if exists shebanq_note;\n",
      "\n",
      "create database shebanq_note character set utf8;\n",
      "\n",
      "use shebanq_note;\n",
      "\n",
      "create table note(\n",
      "    id int(4) primary key auto_increment,\n",
      "    version varchar(32),\n",
      "    book varchar(32),\n",
      "    chapter int(4),\n",
      "    verse int(4),\n",
      "    clause_atom int(4),\n",
      "    created_by int(4),\n",
      "    created_on datetime,\n",
      "    modified_on datetime,\n",
      "    is_shared char(1),\n",
      "    shared_on datetime,\n",
      "    is_published char(1),\n",
      "    published_on datetime,\n",
      "    status char(1),\n",
      "    keywords varchar(128),\n",
      "    ntext longtext,\n",
      "    foreign key (created_by) references shebanq_web.auth_user(id),\n",
      "    index(version),\n",
      "    index(book, chapter, verse, clause_atom),\n",
      "    index(keywords),\n",
      "    index(created_by),\n",
      "    index(is_shared),\n",
      "    index(is_published)\n",
      ") character set utf8;\n",
      "\n"
     ]
    }
   ],
   "source": [
    "outfile = '{}/{}'.format(datadir, 'shebanq_note.sql')\n",
    "with open(outfile, 'w') as o:\n",
    "    print(create_text)\n",
    "    o.write(create_text)"
   ]
  },
  {
   "cell_type": "markdown",
   "metadata": {
    "collapsed": true
   },
   "source": [
    "# Add a new node set\n",
    "\n",
    "We transform a csv file into an sql file that inserts the data as node sets."
   ]
  },
  {
   "cell_type": "markdown",
   "metadata": {},
   "source": [
    "# 2015-05-28\n",
    "\n",
    "Several actions on the notes database."
   ]
  },
  {
   "cell_type": "raw",
   "metadata": {},
   "source": [
    "use shebanq_note;\n",
    "update note set keywords = concat(' ',keywords,' ');\n",
    "alter table note add index(keywords);\n",
    "drop table key_note;\n",
    "\n",
    "use shebanq_web;\n",
    "create table uploaders(\n",
    "    uid int(4),\n",
    "    foreign key (uid) references auth_user(id)\n",
    ");\n",
    "\n",
    "insert into uploaders (uid) values (2);\n"
   ]
  }
 ],
 "metadata": {
  "kernelspec": {
   "display_name": "Python 3",
   "language": "python",
   "name": "python3"
  },
  "language_info": {
   "codemirror_mode": {
    "name": "ipython",
    "version": 3
   },
   "file_extension": ".py",
   "mimetype": "text/x-python",
   "name": "python",
   "nbconvert_exporter": "python",
   "pygments_lexer": "ipython3",
   "version": "3.5.1"
  }
 },
 "nbformat": 4,
 "nbformat_minor": 0
}
