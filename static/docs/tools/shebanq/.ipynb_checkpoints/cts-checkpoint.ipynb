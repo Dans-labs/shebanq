{
 "cells": [
  {
   "cell_type": "markdown",
   "metadata": {},
   "source": [
    "<a href=\"http://laf-fabric.readthedocs.org/en/latest/\" target=\"_blank\"><img align=\"left\" src=\"images/laf-fabric-xsmall.png\"/></a>\n",
    "<a href=\"http://www.godgeleerdheid.vu.nl/etcbc\" target=\"_blank\"><img align=\"left\" src=\"images/VU-ETCBC-xsmall.png\"/></a>\n",
    "<a href=\"http://www.persistent-identifier.nl/?identifier=urn%3Anbn%3Anl%3Aui%3A13-048i-71\" target=\"_blank\"><img align=\"left\"src=\"images/etcbc4easy-small.png\"/></a>\n",
    "<a href=\"http://tla.mpi.nl\" target=\"_blank\"><img align=\"right\" src=\"images/TLA-xsmall.png\"/></a>\n",
    "<a href=\"http://www.dans.knaw.nl\" target=\"_blank\"><img align=\"right\"src=\"images/DANS-xsmall.png\"/></a>"
   ]
  },
  {
   "cell_type": "markdown",
   "metadata": {},
   "source": [
    "# Canonical Text Services\n",
    "\n",
    "We prepare for an export of SHEBANQ to the canonical text service system.\n",
    "\n",
    "# Format\n",
    "\n",
    "We make an output of the fully pointed Masoretic Text, sectioned by book, chapter and verse.\n",
    "We mark up sentences and clauses.\n",
    "\n",
    "## Problems\n",
    "There are a few complications that arise when we put the material in a single hierarchy.\n",
    "\n",
    "* the sectioning division sometimes crosses sentences\n",
    "* sentences and clauses are not always contiguous, they may contain gaps.\n",
    "\n",
    "## Solutions\n",
    "\n",
    "### Verses and sentences\n",
    "Some sentences span multiple verses. Either verses or sentences should be marked up by means of single elements that mark the position where a new thing starts. The other element will be a content containing element.\n",
    "We choose to map verses on empty elements.\n",
    "\n",
    "### Gaps in sentences and clauses\n",
    "We map the contiguous parts of sentences and clauses (atoms) to content containing elements. We do not mark up sentences and clauses as a whole. But we will add an attribute to the atom elements that holds an identifier of the sentence and clause they are part of.\n",
    "\n",
    "# Linguistic information\n",
    "Just for experimentation, we add a bit of linguistic information.\n",
    "\n",
    "Every clause has a *text type*, indicating whether the clause is **N**arrative, **D**iscursive, or **Q**uotation (direct speech). The value is a sequence of N, D, Q indicators, because a clause can be narrative within a quotation and so on. If the text type is not clear, the value **?** is used.\n",
    "\n",
    "We also add the *relation*, indicating the syntactic function of the clause.\n",
    "\n",
    "At the word level, we add a lexeme identifier and a phonemic representation as attributes.\n",
    "So every word gets wrapped in an element."
   ]
  },
  {
   "cell_type": "code",
   "execution_count": 1,
   "metadata": {
    "collapsed": false
   },
   "outputs": [
    {
     "name": "stderr",
     "output_type": "stream",
     "text": [
      "  0.00s This is LAF-Fabric 4.5.10\n",
      "API reference: http://laf-fabric.readthedocs.org/en/latest/texts/API-reference.html\n",
      "Feature doc: https://shebanq.ancient-data.org/static/docs/featuredoc/texts/welcome.html\n",
      "\n"
     ]
    }
   ],
   "source": [
    "import sys\n",
    "import collections\n",
    "from IPython.display import HTML, display_pretty, display_html\n",
    "\n",
    "from laf.fabric import LafFabric\n",
    "from etcbc.preprocess import prepare\n",
    "\n",
    "fabric = LafFabric()\n",
    "\n",
    "source = 'etcbc'\n",
    "version = '4b'"
   ]
  },
  {
   "cell_type": "code",
   "execution_count": 2,
   "metadata": {
    "collapsed": false
   },
   "outputs": [
    {
     "name": "stderr",
     "output_type": "stream",
     "text": [
      "  0.00s LOADING API: please wait ... \n",
      "  0.00s USING main  DATA COMPILED AT: 2015-11-02T15-08-56\n",
      "  0.00s USING annox DATA COMPILED AT: 2016-01-27T19-01-17\n",
      "  4.75s LOGFILE=/Users/dirk/SURFdrive/laf-fabric-output/etcbc4b/plain/__log__plain.txt\n",
      "  4.75s INFO: LOADING PREPARED data: please wait ... \n",
      "  4.75s prep prep: G.node_sort\n",
      "  4.89s prep prep: G.node_sort_inv\n",
      "  5.50s prep prep: L.node_up\n",
      "  9.46s prep prep: L.node_down\n",
      "    15s prep prep: V.verses\n",
      "    15s ETCBC reference: http://laf-fabric.readthedocs.org/en/latest/texts/ETCBC-reference.html\n",
      "    17s INFO: LOADED PREPARED data\n",
      "    17s INFO: DATA LOADED FROM SOURCE etcbc4b AND ANNOX lexicon FOR TASK plain AT 2016-02-18T14-03-02\n"
     ]
    }
   ],
   "source": [
    "fabric.load(source+version, 'lexicon', 'plain', {\n",
    "    \"xmlids\": {\"node\": False, \"edge\": False},\n",
    "    \"features\": ('''\n",
    "        otype\n",
    "        number rela\n",
    "        lex\n",
    "        book chapter verse\n",
    "    ''',''),\n",
    "    \"prepare\": prepare,\n",
    "    \"primary\": False,\n",
    "})\n",
    "exec(fabric.localnames.format(var='fabric'))"
   ]
  },
  {
   "cell_type": "markdown",
   "metadata": {},
   "source": [
    "## Run the examples"
   ]
  },
  {
   "cell_type": "code",
   "execution_count": 3,
   "metadata": {
    "collapsed": false
   },
   "outputs": [
    {
     "name": "stderr",
     "output_type": "stream",
     "text": [
      "  1.95s etcbc_color = aa0066\n",
      "  1.95s etcbc_line_height = 1.5\n",
      "  1.95s etcbc_size = small\n",
      "  1.95s fmt_color = ccbb00\n",
      "  1.95s fmt_size = small\n",
      "  1.95s fmt_width = 5em\n",
      "  1.95s hebrew_color = 660000\n",
      "  1.95s hebrew_line_height = 2.0\n",
      "  1.95s hebrew_size = xx-large\n",
      "  1.95s phono_color = 00b040\n",
      "  1.95s phono_line_height = 1.5\n",
      "  1.95s phono_size = medium\n",
      "  1.95s verse_color = 0000ff\n",
      "  1.95s verse_size = small\n",
      "  1.95s verse_width = 5em\n"
     ]
    },
    {
     "data": {
      "text/html": [
       "\n",
       "<style type=\"text/css\">\n",
       "table.t {\n",
       "    width: 100%;\n",
       "}\n",
       "td.h {\n",
       "    font-family: Ezra SIL, SBL Hebrew, Verdana, sans-serif;\n",
       "    font-size: xx-large;\n",
       "    line-height: 2.0;\n",
       "    color: #660000;\n",
       "    text-align: right;\n",
       "    direction: rtl;\n",
       "}\n",
       "td.e {\n",
       "    font-family: Menlo, Courier New, Courier, monospace;\n",
       "    font-size: small;\n",
       "    line-height: 1.5;\n",
       "    color: #aa0066;\n",
       "    text-align: left;\n",
       "    direction: ltr;\n",
       "}\n",
       "td.p {\n",
       "    font-family: Verdana, Arial, sans-serif;\n",
       "    font-size: medium;\n",
       "    line-height: 1.5;\n",
       "    color: #00b040;\n",
       "    text-align: left;\n",
       "    direction: ltr;\n",
       "}\n",
       "\n",
       "td.vl {\n",
       "    font-family: Verdana, Arial, sans-serif;\n",
       "    font-size: small;\n",
       "    text-align: right;\n",
       "    vertical-align: top;\n",
       "    color: #0000ff;\n",
       "    width: 5em;\n",
       "    direction: ltr;\n",
       "}\n",
       "td.fl {\n",
       "    font-family: Verdana, Arial, sans-serif;\n",
       "    font-size: small;\n",
       "    text-align: left;\n",
       "    vertical-align: top;\n",
       "    color: #ccbb00;\n",
       "    width: 5em;\n",
       "    direction: ltr;\n",
       "}\n",
       "</style>\n"
      ],
      "text/plain": [
       "<IPython.core.display.HTML object>"
      ]
     },
     "execution_count": 3,
     "metadata": {},
     "output_type": "execute_result"
    }
   ],
   "source": [
    "HTML(T.style(params=dict(\n",
    "    hebrew_color='660000',\n",
    "    hebrew_size='xx-large',\n",
    "    hebrew_line_height='2.0'\n",
    "), show_params=True))"
   ]
  },
  {
   "cell_type": "code",
   "execution_count": 4,
   "metadata": {
    "collapsed": false
   },
   "outputs": [
    {
     "data": {
      "text/html": [
       "<table class=\"t\"><tr><td class=\"vl\">Esther 3:4</td><td class=\"h\">וַיְהִ֗י ֯ב֯אמרם אֵלָיו֙ יֹ֣ום וָיֹ֔ום וְלֹ֥א שָׁמַ֖ע אֲלֵיהֶ֑ם וַיַּגִּ֣ידוּ לְהָמָ֗ן לִרְאֹות֙ הֲיַֽעַמְדוּ֙ דִּבְרֵ֣י מָרְדֳּכַ֔י כִּֽי־הִגִּ֥יד לָהֶ֖ם אֲשֶׁר־ה֥וּא יְהוּדִֽי׃\n",
       "</td><td class=\"fl\">hebrew primary</td></tr></table>\n",
       "<table class=\"t\"><tr><td class=\"vl\">Esther 3:4</td><td class=\"h\">וַיְהִ֗י כְּאָמְרָ֤ם אֵלָיו֙ יֹ֣ום וָיֹ֔ום וְלֹ֥א שָׁמַ֖ע אֲלֵיהֶ֑ם וַיַּגִּ֣ידוּ לְהָמָ֗ן לִרְאֹות֙ הֲיַֽעַמְדוּ֙ דִּבְרֵ֣י מָרְדֳּכַ֔י כִּֽי־הִגִּ֥יד לָהֶ֖ם אֲשֶׁר־ה֥וּא יְהוּדִֽי׃\n",
       "</td><td class=\"fl\">hebrew accent</td></tr></table>\n",
       "<table class=\"t\"><tr><td class=\"vl\">Esther 3:4</td><td class=\"h\">וַיְהִי כְּאָמְרָם אֵלָיו יֹום וָיֹום וְלֹא שָׁמַע אֲלֵיהֶם וַיַּגִּידוּ לְהָמָן לִרְאֹות הֲיַעַמְדוּ דִּבְרֵי מָרְדֳּכַי כִּי־הִגִּיד לָהֶם אֲשֶׁר־הוּא יְהוּדִי׃\n",
       "</td><td class=\"fl\">hebrew vowel</td></tr></table>\n",
       "<table class=\"t\"><tr><td class=\"vl\">Esther 3:4</td><td class=\"h\">ויהי כאמרם אליו יום ויום ולא שמע אליהם ויגידו להמן לראות היעמדו דברי מרדכי כי־הגיד להם אשר־הוא יהודי׃\n",
       "</td><td class=\"fl\">hebrew cons</td></tr></table>\n",
       "<table class=\"t\"><tr><td class=\"vl\">Esther 3:4</td><td class=\"e\">WAJ:HI81J K.:>@M:R@70m >;L@JW03 JO74Wm W@JO80Wm W:LO71> C@MA73&lt; >:AL;JHE92m WAJ.AG.I74JDW. L:H@M@81n LIR:>OWT03 H:AJA35&lt;AM:DW.03 D.IB:R;74J M@R:D.:@KA80J K.I35J&amp;HIG.I71JD L@HE73m >:ACER&amp;H71W.> J:HW.DI35J00\n",
       "</td><td class=\"fl\">trans accent</td></tr></table>\n",
       "<table class=\"t\"><tr><td class=\"vl\">Esther 3:4</td><td class=\"e\">WAJ:HIJ K.:>@M:R@m >;L@JW JOWm W@JOWm W:LO> C@MA&lt; >:AL;JHEm WAJ.AG.IJDW. L:H@M@n LIR:>OWT H:AJA&lt;AM:DW. D.IB:R;J M@R:D.:@KAJ K.IJ&amp;HIG.IJD L@HEm >:ACER&amp;HW.> J:HW.DIJ00\n",
       "</td><td class=\"fl\">trans vowel</td></tr></table>\n",
       "<table class=\"t\"><tr><td class=\"vl\">Esther 3:4</td><td class=\"e\">WJHJ K>MRm >LJW JWm WJWm WL> #M&lt; >LJHm WJGJDW LHMn LR>WT HJ&lt;MDW DBRJ MRDKJ KJ&amp;HGJD LHm >#R&amp;HW> JHWDJ00\n",
       "</td><td class=\"fl\">trans cons</td></tr></table>\n",
       "<table class=\"t\"><tr><td class=\"vl\">Esther 3:4</td><td class=\"p\">wayᵊhˈî kᵊʔomrˈām ʔēlāʸw yˈôm wāyˈôm wᵊlˌō šāmˌaʕ ʔᵃlêhˈem wayyaggˈîḏû lᵊhāmˈān lirᵊʔôṯ hᵃyˈaʕamᵊḏû divrˈê mordᵒḵˈay kˈî-higgˌîḏ lāhˌem ʔᵃšer-hˌû yᵊhûḏˈî .\n",
       "</td><td class=\"fl\">phono full</td></tr></table>\n",
       "<table class=\"t\"><tr><td class=\"vl\">Esther 3:4</td><td class=\"p\">wayhî kʔåmråm ʔēlåʸw yôm wåyôm wlō šåmaʕ ʔlêhem wayyaggîḏû lhåmån lirʔôṯ hyaʕamḏû divrê mårdḵay kî-higgîḏ låhem ʔšer-hû yhûḏî .\n",
       "</td><td class=\"fl\">phono simple</td></tr></table>"
      ],
      "text/plain": [
       "<IPython.core.display.HTML object>"
      ]
     },
     "execution_count": 4,
     "metadata": {},
     "output_type": "execute_result"
    }
   ],
   "source": [
    "html = []\n",
    "for fmt in T.formats(): html.append(\n",
    "    T.verse(\n",
    "        'Esther', 3, 4,\n",
    "        fmt=fmt,\n",
    "        verse_label=True, format_label=True,\n",
    "        html=True,\n",
    "    ))\n",
    "examples = '\\n'.join(html)\n",
    "HTML(examples)"
   ]
  },
  {
   "cell_type": "markdown",
   "metadata": {},
   "source": [
    "# Whole Bible\n",
    "\n",
    "Generate the complete text in all representations."
   ]
  },
  {
   "cell_type": "code",
   "execution_count": 5,
   "metadata": {
    "collapsed": false
   },
   "outputs": [
    {
     "name": "stderr",
     "output_type": "stream",
     "text": [
      "  8.11s Writing the complete text in several representations\n",
      "  8.11s etcbc4b_hp_v.txt\n",
      "  8.11s Producing whole text of etcbc4b in format hp with verse labels\n",
      "    10s etcbc4b_hp.txt\n",
      "    10s Producing whole text of etcbc4b in format hp\n",
      "    12s etcbc4b_ha_v.txt\n",
      "    12s Producing whole text of etcbc4b in format ha with verse labels\n",
      "    21s etcbc4b_ha.txt\n",
      "    21s Producing whole text of etcbc4b in format ha\n",
      "    29s etcbc4b_hv_v.txt\n",
      "    29s Producing whole text of etcbc4b in format hv with verse labels\n",
      "    37s etcbc4b_hv.txt\n",
      "    37s Producing whole text of etcbc4b in format hv\n",
      "    44s etcbc4b_hc_v.txt\n",
      "    44s Producing whole text of etcbc4b in format hc with verse labels\n",
      "    52s etcbc4b_hc.txt\n",
      "    52s Producing whole text of etcbc4b in format hc\n",
      " 1m 00s etcbc4b_ea_v.txt\n",
      " 1m 00s Producing whole text of etcbc4b in format ea with verse labels\n",
      " 1m 04s etcbc4b_ea.txt\n",
      " 1m 04s Producing whole text of etcbc4b in format ea\n",
      " 1m 08s etcbc4b_ev_v.txt\n",
      " 1m 08s Producing whole text of etcbc4b in format ev with verse labels\n",
      " 1m 15s etcbc4b_ev.txt\n",
      " 1m 15s Producing whole text of etcbc4b in format ev\n",
      " 1m 21s etcbc4b_ec_v.txt\n",
      " 1m 21s Producing whole text of etcbc4b in format ec with verse labels\n",
      " 1m 28s etcbc4b_ec.txt\n",
      " 1m 28s Producing whole text of etcbc4b in format ec\n",
      " 1m 34s etcbc4b_pf_v.txt\n",
      " 1m 34s Producing whole text of etcbc4b in format pf with verse labels\n",
      " 1m 36s etcbc4b_pf.txt\n",
      " 1m 36s Producing whole text of etcbc4b in format pf\n",
      " 1m 38s etcbc4b_ps_v.txt\n",
      " 1m 38s Producing whole text of etcbc4b in format ps with verse labels\n",
      " 1m 42s etcbc4b_ps.txt\n",
      " 1m 42s Producing whole text of etcbc4b in format ps\n",
      " 1m 45s Done\n"
     ]
    }
   ],
   "source": [
    "msg('Writing the complete text in several representations')\n",
    "for fmt in T.formats():\n",
    "    for vl in (True, False):\n",
    "        file_name = '{}{}_{}{}.txt'.format(\n",
    "            source, version,\n",
    "            fmt, '_v' if vl else ''\n",
    "        )\n",
    "        fl = outfile(file_name)\n",
    "        fl.write(T.whole(fmt=fmt, verse_labels=vl))\n",
    "        fl.close()\n",
    "msg('Done')"
   ]
  },
  {
   "cell_type": "code",
   "execution_count": 7,
   "metadata": {
    "collapsed": false
   },
   "outputs": [
    {
     "name": "stdout",
     "output_type": "stream",
     "text": [
      "\n",
      "etcbc4b_hp_v.txt\n",
      "Genesis 1:1  בְּרֵאשִׁ֖ית בָּרָ֣א אֱלֹהִ֑ים אֵ֥ת הַשָּׁמַ֖יִם וְאֵ֥ת הָאָֽרֶץ׃\n",
      "Genesis 1:2  וְהָאָ֗רֶץ הָיְתָ֥ה תֹ֨הוּ֙ וָבֹ֔הוּ וְחֹ֖שֶׁךְ עַל־פְּנֵ֣י תְהֹ֑ום וְר֣וּחַ אֱלֹהִ֔ים מְרַחֶ֖פֶת עַל־פְּנֵ֥י הַמָּֽיִם׃\n",
      "\n",
      "etcbc4b_ha_v.txt\n",
      "Genesis 1:1  בְּרֵאשִׁ֖ית בָּרָ֣א אֱלֹהִ֑ים אֵ֥ת הַשָּׁמַ֖יִם וְאֵ֥ת הָאָֽרֶץ׃\n",
      "Genesis 1:2  וְהָאָ֗רֶץ הָיְתָ֥ה תֹ֨הוּ֙ וָבֹ֔הוּ וְחֹ֖שֶׁךְ עַל־פְּנֵ֣י תְהֹ֑ום וְר֣וּחַ אֱלֹהִ֔ים מְרַחֶ֖פֶת עַל־פְּנֵ֥י הַמָּֽיִם׃\n",
      "\n",
      "etcbc4b_hv_v.txt\n",
      "Genesis 1:1  בְּרֵאשִׁית בָּרָא אֱלֹהִים אֵת הַשָּׁמַיִם וְאֵת הָאָרֶץ׃\n",
      "Genesis 1:2  וְהָאָרֶץ הָיְתָה תֹהוּ וָבֹהוּ וְחֹשֶׁךְ עַל־פְּנֵי תְהֹום וְרוּחַ אֱלֹהִים מְרַחֶפֶת עַל־פְּנֵי הַמָּיִם׃\n",
      "\n",
      "etcbc4b_hc_v.txt\n",
      "Genesis 1:1  בראשית ברא אלהים את השמים ואת הארץ׃\n",
      "Genesis 1:2  והארץ היתה תהו ובהו וחשך על־פני תהום ורוח אלהים מרחפת על־פני המים׃\n",
      "\n",
      "etcbc4b_ea_v.txt\n",
      "Genesis 1:1  B.:R;>CI73JT B.@R@74> >:ELOHI92Jm >;71T HAC.@MA73JIm W:>;71T H@>@35REy00\n",
      "Genesis 1:2  W:H@>@81REy H@J:T@71H TO33HW.03 W@BO80HW. W:XO73CEk: <AL&P.:N;74J T:HO92Wm W:R74W.XA >:ELOHI80Jm M:RAXE73PET <AL&P.:N;71J HAM.@35JIm00\n",
      "\n",
      "etcbc4b_ev_v.txt\n",
      "Genesis 1:1  B.:R;>CIJT B.@R@> >:ELOHIJm >;T HAC.@MAJIm W:>;T H@>@REy00\n",
      "Genesis 1:2  W:H@>@REy H@J:T@H TOHW. W@BOHW. W:XOCEk: <AL&P.:N;J T:HOWm W:RW.XA >:ELOHIJm M:RAXEPET <AL&P.:N;J HAM.@JIm00\n",
      "\n",
      "etcbc4b_ec_v.txt\n",
      "Genesis 1:1  BR>#JT BR> >LHJm >T H#MJm W>T H>Ry00\n",
      "Genesis 1:2  WH>Ry HJTH THW WBHW WX#k <L&PNJ THWm WRWX >LHJm MRXPT <L&PNJ HMJm00\n",
      "\n",
      "etcbc4b_pf_v.txt\n",
      "Genesis 1:1  bᵊrēšˌîṯ bārˈā ʔᵉlōhˈîm ʔˌēṯ haššāmˌayim wᵊʔˌēṯ hāʔˈāreṣ .\n",
      "Genesis 1:2  wᵊhāʔˈāreṣ hāyᵊṯˌā ṯˈōhû wāvˈōhû wᵊḥˌōšeḵ ʕal-pᵊnˈê ṯᵊhˈôm wᵊrˈûₐḥ ʔᵉlōhˈîm mᵊraḥˌefeṯ ʕal-pᵊnˌê hammˈāyim .\n",
      "\n",
      "etcbc4b_ps_v.txt\n",
      "Genesis 1:1  brēšîṯ bårå ʔlōhîm ʔēṯ haššåmayim wʔēṯ håʔåreṣ .\n",
      "Genesis 1:2  whåʔåreṣ håyṯå ṯōhû wåvōhû wḥōšeḵ ʕal-pnê ṯhôm wrûₐḥ ʔlōhîm mraḥefeṯ ʕal-pnê hammåyim .\n"
     ]
    }
   ],
   "source": [
    "show_limit = 2\n",
    "for fmt in T.formats():\n",
    "    file_name = '{}{}_{}_v.txt'.format(source, version, fmt)\n",
    "    i = 0\n",
    "    fl = infile(file_name)\n",
    "    print('\\n{}'.format(file_name))\n",
    "    for line in fl:\n",
    "        if i == show_limit: break\n",
    "        i += 1\n",
    "        sys.stdout.write(line)\n",
    "    fl.close()"
   ]
  },
  {
   "cell_type": "markdown",
   "metadata": {},
   "source": [
    "## Trailer\n",
    "\n",
    "Here is a list of all the different trailing material and their number of occurrences."
   ]
  },
  {
   "cell_type": "code",
   "execution_count": 19,
   "metadata": {
    "collapsed": false
   },
   "outputs": [
    {
     "name": "stderr",
     "output_type": "stream",
     "text": [
      "44m 49s Exploring trailers\n",
      "44m 51s Done. Found 12 trailers in Hebrew text and 3 trailers in phonemic text\n"
     ]
    },
    {
     "name": "stdout",
     "output_type": "stream",
     "text": [
      "Trailers in Hebrew text:\n",
      " 237039 x [_]\n",
      " 121796 x [ø]\n",
      "  42275 x [־]\n",
      "  20037 x [׃\\n]\n",
      "   2266 x [_׀_]\n",
      "   1892 x [׃_ס_\\n]\n",
      "   1165 x [׃_פ_\\n]\n",
      "     76 x [_ס_]\n",
      "     13 x [_פ_]\n",
      "      7 x [׃_׆̇_\\n]\n",
      "      1 x [׃_׆̇_ס__\\n]\n",
      "      1 x [׃_׆̇_פ__\\n]\n",
      "Trailers in phonemic text:\n",
      " 239251 x [_]\n",
      " 164105 x [ø]\n",
      "  23212 x [_.]\n",
      "Mapping between trailers in Hebrew and phonemic text:\n",
      "      ø => ø, _\n",
      "      _ => ø, _, _.\n",
      "    _׀_ => _\n",
      "    _ס_ => _\n",
      "    _פ_ => _\n",
      "      ־ => ø\n",
      "    ׃\\n => _.\n",
      "׃_׆̇_\\n => _.\n",
      "׃_׆̇_ס__\\n => _.\n",
      "׃_׆̇_פ__\\n => _.\n",
      " ׃_ס_\\n => _.\n",
      " ׃_פ_\\n => _.\n"
     ]
    }
   ],
   "source": [
    "msg('Exploring trailers')\n",
    "trailer = collections.Counter()\n",
    "trailer_ph = collections.Counter()\n",
    "trailer_map = collections.defaultdict(set)\n",
    "\n",
    "for node in NN(test=F.otype.v, value='word'):\n",
    "    trl = F.trailer_utf8.v(node)\n",
    "    trl_ph = F.phono_sep.v(node)\n",
    "    trailer[trl] += 1\n",
    "    trailer_ph[trl_ph] += 1\n",
    "    trailer_map[trl].add(trl_ph)\n",
    "\n",
    "msg('Done. Found {} trailers in Hebrew text and {} trailers in phonemic text'.format(\n",
    "    len(trailer), len(trailer_ph),\n",
    "))\n",
    "print('Trailers in Hebrew text:')\n",
    "for (trl, n) in sorted(trailer.items(), key=lambda x: (-x[1], x[0])):\n",
    "    trl = 'ø' if trl == '' else trl.replace('\\n', '\\\\n').replace(' ','_')\n",
    "    print('{:>7} x [{}]'.format(n, trl))\n",
    "          \n",
    "print('Trailers in phonemic text:')\n",
    "for (trl_ph, n) in sorted(trailer_ph.items(), key=lambda x: (-x[1], x[0])):\n",
    "    trl_ph = 'ø' if trl_ph == '' else trl_ph.replace('\\n', '\\\\n').replace(' ','_')\n",
    "    print('{:>7} x [{}]'.format(n, trl_ph))\n",
    "\n",
    "print('Mapping between trailers in Hebrew and phonemic text:')\n",
    "for trl in sorted(trailer_map):\n",
    "    print('{:>7} => {}'.format(\n",
    "        'ø' if trl == '' else trl.replace('\\n', '\\\\n').replace(' ','_'), \n",
    "        ', '.join(\n",
    "                'ø' if trl_ph == '' else trl_ph.replace('\\n', '\\\\n').replace(' ','_') for trl_ph in sorted(\n",
    "                    trailer_map[trl]\n",
    "                ))\n",
    "    ))"
   ]
  },
  {
   "cell_type": "markdown",
   "metadata": {},
   "source": [
    "## Empty words"
   ]
  },
  {
   "cell_type": "markdown",
   "metadata": {},
   "source": [
    "There are words that have an empty representation.\n",
    "\n",
    "Let us have a closer look.\n",
    "How frequent are they and to what lexemes do they correspond, and what is their part of speech?"
   ]
  },
  {
   "cell_type": "code",
   "execution_count": 21,
   "metadata": {
    "collapsed": false
   },
   "outputs": [
    {
     "name": "stderr",
     "output_type": "stream",
     "text": [
      "45m 30s Looking for empty words\n",
      "45m 32s Done\n"
     ]
    },
    {
     "name": "stdout",
     "output_type": "stream",
     "text": [
      "  6423 x art             =          ה in  GEN 01,05;  GEN 01,05;  GEN 01,07;  GEN 01,07;  GEN 01,08 ...\n"
     ]
    }
   ],
   "source": [
    "msg('Looking for empty words')\n",
    "ewords = collections.defaultdict(lambda: [])\n",
    "verse = None\n",
    "\n",
    "for i in NN(test=F.otype.v, values=['verse', 'word']):\n",
    "    if F.otype.v(i) == 'verse':\n",
    "        verse = i\n",
    "        continue\n",
    "    text = F.g_word_utf8.v(i)\n",
    "    if text == '':\n",
    "        lex = F.lex_utf8.v(i)\n",
    "        pos = F.sp.v(i)\n",
    "        ewords[(lex, pos)].append(verse)\n",
    "\n",
    "msg('Done')\n",
    "for (item, occs) in sorted(ewords.items(), key=lambda x: (-len(x[1]), x[0][1], x[0][0])):\n",
    "    print(\"{:>6} x {:<15} = {:>10} in {}{}\".format(\n",
    "        len(occs), \n",
    "        item[1], \n",
    "        item[0], \n",
    "        \"; \".join([F.label.v(j) for j in occs][0:5]),\n",
    "        ' ...' if len(occs) > 20 else '',\n",
    "    ))\n"
   ]
  },
  {
   "cell_type": "code",
   "execution_count": 22,
   "metadata": {
    "collapsed": false
   },
   "outputs": [
    {
     "name": "stderr",
     "output_type": "stream",
     "text": [
      "45m 37s Results directory:\n",
      "/Users/dirk/SURFdrive/laf-fabric-output/etcbc4b/plain\n",
      "\n",
      ".DS_Store                              6148 Wed Feb 17 18:23:33 2016\n",
      "__log__plain.txt                       1847 Wed Feb 17 20:35:11 2016\n",
      "etcbc4b_ea.txt                      3119751 Wed Feb 17 20:26:00 2016\n",
      "etcbc4b_ea_v.txt                    3459469 Wed Feb 17 20:25:56 2016\n",
      "etcbc4b_ec.txt                      1560727 Wed Feb 17 20:26:23 2016\n",
      "etcbc4b_ec_v.txt                    1900445 Wed Feb 17 20:26:17 2016\n",
      "etcbc4b_ev.txt                      2534187 Wed Feb 17 20:26:10 2016\n",
      "etcbc4b_ev_v.txt                    2873905 Wed Feb 17 20:26:05 2016\n",
      "etcbc4b_ha.txt                      5332789 Wed Feb 17 20:25:20 2016\n",
      "etcbc4b_ha_v.txt                    5672507 Wed Feb 17 20:25:10 2016\n",
      "etcbc4b_hc.txt                      2803552 Wed Feb 17 20:25:51 2016\n",
      "etcbc4b_hc_v.txt                    3143270 Wed Feb 17 20:25:43 2016\n",
      "etcbc4b_hp.txt                      5323553 Wed Feb 17 20:25:00 2016\n",
      "etcbc4b_hp_v.txt                    5663271 Wed Feb 17 20:24:59 2016\n",
      "etcbc4b_hv.txt                      4747213 Wed Feb 17 20:25:35 2016\n",
      "etcbc4b_hv_v.txt                    5086931 Wed Feb 17 20:25:28 2016\n",
      "etcbc4b_pf.txt                      3893905 Wed Feb 17 20:26:27 2016\n",
      "etcbc4b_pf_v.txt                    4233623 Wed Feb 17 20:26:25 2016\n",
      "etcbc4b_ps.txt                      2956172 Wed Feb 17 20:26:33 2016\n",
      "etcbc4b_ps_v.txt                    3295890 Wed Feb 17 20:26:31 2016\n"
     ]
    }
   ],
   "source": [
    "close()"
   ]
  },
  {
   "cell_type": "code",
   "execution_count": null,
   "metadata": {
    "collapsed": true
   },
   "outputs": [],
   "source": []
  }
 ],
 "metadata": {
  "kernelspec": {
   "display_name": "Python 3",
   "language": "python",
   "name": "python3"
  },
  "language_info": {
   "codemirror_mode": {
    "name": "ipython",
    "version": 3
   },
   "file_extension": ".py",
   "mimetype": "text/x-python",
   "name": "python",
   "nbconvert_exporter": "python",
   "pygments_lexer": "ipython3",
   "version": "3.5.1"
  }
 },
 "nbformat": 4,
 "nbformat_minor": 0
}
