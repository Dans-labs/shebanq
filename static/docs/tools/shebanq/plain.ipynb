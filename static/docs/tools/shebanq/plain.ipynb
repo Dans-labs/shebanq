{
 "cells": [
  {
   "cell_type": "markdown",
   "metadata": {},
   "source": [
    "<a href=\"http://laf-fabric.readthedocs.org/en/latest/\" target=\"_blank\"><img align=\"left\" src=\"images/laf-fabric-xsmall.png\"/></a>\n",
    "<a href=\"http://www.godgeleerdheid.vu.nl/etcbc\" target=\"_blank\"><img align=\"left\" src=\"images/VU-ETCBC-xsmall.png\"/></a>\n",
    "<a href=\"http://www.persistent-identifier.nl/?identifier=urn%3Anbn%3Anl%3Aui%3A13-048i-71\" target=\"_blank\"><img align=\"left\"src=\"images/etcbc4easy-small.png\"/></a>\n",
    "<a href=\"http://tla.mpi.nl\" target=\"_blank\"><img align=\"right\" src=\"images/TLA-xsmall.png\"/></a>\n",
    "<a href=\"http://www.dans.knaw.nl\" target=\"_blank\"><img align=\"right\"src=\"images/DANS-xsmall.png\"/></a>"
   ]
  },
  {
   "cell_type": "markdown",
   "metadata": {},
   "source": [
    "# Plain Text"
   ]
  },
  {
   "cell_type": "markdown",
   "metadata": {},
   "source": [
    "# Text from features"
   ]
  },
  {
   "cell_type": "markdown",
   "metadata": {},
   "source": [
    "We present the API functions ``T`` for generating the plain text of the Hebrew Bible.\n",
    "\n",
    "You can already retrieve a text that is identical to the primary data of the LAF resource using the\n",
    "features ``g_word_utf8`` and ``trailer_utf8``.\n",
    "\n",
    "But the ``T`` functions make it easier.\n",
    "\n",
    "* You can generate texts for words and verses, individually and collectively\n",
    "* You can specify different formats: \n",
    "  * hebrew unicode or etcbc transliteration or phonemic;\n",
    "    * and, for *hebrew* and *etcbc*: \n",
    "      * consonantal\n",
    "      * with vowels\n",
    "      * with vowels and accents\n",
    "      * lexeme (consonantal)\n",
    "      * lexeme (vocalized)\n",
    "    * and, for *phonemic*:\n",
    "      * with schwas, qamets gadol/qatan distinction and accents\n",
    "      * simplified\n",
    "* You can switch to vocalized qeres instead of ketivs (except for the lexeme based formats);\n",
    "* You can render the text in HTML and control the formatting, or get the plain text;\n",
    "* You can lookup the passage label of any given node and represent it in a given language.\n",
    "\n",
    "These functions make it easy to produces texts that can be pasted into word processors.\n",
    "\n",
    "By the way, if you generate *verse labels*, you can choose the language of the book names.\n",
    "Currently we have Latin (the ETCBC choice), English (the default), and quite a few others.\n",
    "\n",
    "See the [ETCBC API documentation](http://laf-fabric.readthedocs.org/en/latest/texts/ETCBC-reference.html#texts)."
   ]
  },
  {
   "cell_type": "code",
   "execution_count": 13,
   "metadata": {
    "collapsed": false
   },
   "outputs": [
    {
     "name": "stdout",
     "output_type": "stream",
     "text": [
      "am  = amharic              = ኣማርኛ\n",
      "ar  = arabic               = العَرَبِية\n",
      "bn  = bengali              = বাংলা\n",
      "da  = danish               = Dansk\n",
      "de  = german               = Deutsch\n",
      "el  = greek                = Ελληνικά\n",
      "en  = english              = English\n",
      "es  = spanish              = Español\n",
      "fa  = farsi                = فارسی\n",
      "fr  = french               = Français\n",
      "he  = hebrew               = עברית\n",
      "hi  = hindi                = हिन्दी\n",
      "id  = indonesian           = Bahasa Indonesia\n",
      "ja  = japanese             = 日本語\n",
      "ko  = korean               = 한국어\n",
      "la  = latin                = Latina\n",
      "nl  = dutch                = Nederlands\n",
      "pa  = punjabi              = ਪੰਜਾਬੀ\n",
      "pt  = portuguese           = Português\n",
      "ru  = russian              = Русский\n",
      "sw  = swahili              = Kiswahili\n",
      "syc = syriac               = ܠܫܢܐ ܣܘܪܝܝܐ\n",
      "tr  = turkish              = Türkçe\n",
      "ur  = urdu                 = اُردُو\n",
      "yo  = yoruba               = èdè Yorùbá\n",
      "zh  = chinese              = 中文\n"
     ]
    }
   ],
   "source": [
    "# run later\n",
    "for (code, (lange, lango)) in sorted(T.langs.items()):\n",
    "    print('{:<3} = {:<20} = {}'.format(code, lange, lango))"
   ]
  },
  {
   "cell_type": "markdown",
   "metadata": {},
   "source": [
    "# Examples\n",
    "    \n",
    "This is the code to produce the Hebrew accents representation (`ha`) of a single verse:\n",
    "\n",
    "    T.text('Esther', 3, 4, fmt='ha', verse_label=True, html=True)\n",
    "    \n",
    "This is the code to produce the plain text of the whole Bible in Hebrew unicode with accents and\n",
    "with verse labels:\n",
    "\n",
    "    T.text(fmt='ha', verse_labels=True)\n",
    "\n",
    "See the [ETCBC API documentation](http://laf-fabric.readthedocs.org/en/latest/texts/ETCBC-reference.html#texts) for\n",
    "many more examples.\n",
    "\n",
    "**Run the next cell later.**"
   ]
  },
  {
   "cell_type": "code",
   "execution_count": 4,
   "metadata": {
    "collapsed": false
   },
   "outputs": [
    {
     "data": {
      "text/html": [
       "<p>hp = hebrew primary</p>\n",
       "<table class=\"t\">\n",
       "<tr><td class=\"vl\">Esther 3:4</td><td class=\"h\">וַיְהִ֗י ֯ב֯אמרם אֵלָיו֙ יֹ֣ום וָיֹ֔ום וְלֹ֥א שָׁמַ֖ע אֲלֵיהֶ֑ם וַיַּגִּ֣ידוּ לְהָמָ֗ן לִרְאֹות֙ הֲיַֽעַמְדוּ֙ דִּבְרֵ֣י מָרְדֳּכַ֔י כִּֽי־הִגִּ֥יד לָהֶ֖ם אֲשֶׁר־ה֥וּא יְהוּדִֽי׃\n",
       "</td></tr>\n",
       "</table>\n",
       "\n",
       "\n",
       "<p>hpl = hebrew primary (lexeme)</p>\n",
       "<table class=\"t\">\n",
       "<tr><td class=\"vl\">Esther 3:4</td><td class=\"h\">וַ הִי ב אמר אֵלָי יֹום וָ יֹום וְ לֹא שָׁמַע אֲלֵי וַ גִּיד לְ הָמָן לִ רְא הֲ עַמְד דִּבְר מָרְדֳּכַי כִּי גִּיד ל אֲשֶׁר הוּא יְהוּדִי </td></tr>\n",
       "</table>\n",
       "\n",
       "\n",
       "<p>hcl = hebrew cons (lexeme)</p>\n",
       "<table class=\"t\">\n",
       "<tr><td class=\"vl\">Esther 3:4</td><td class=\"h\">ו היה כ אמר אל יום ו יום ו לא שׁמע אל ו נגד ל המן ל ראה ה עמד דבר מרדכי כי נגד ל אשׁר הוא יהודי </td></tr>\n",
       "</table>\n",
       "\n",
       "\n",
       "<p>ha = hebrew accent</p>\n",
       "<table class=\"t\">\n",
       "<tr><td class=\"vl\">Esther 3:4</td><td class=\"h\">וַיְהִ֗י כְּאָמְרָ֤ם אֵלָיו֙ יֹ֣ום וָיֹ֔ום וְלֹ֥א שָׁמַ֖ע אֲלֵיהֶ֑ם וַיַּגִּ֣ידוּ לְהָמָ֗ן לִרְאֹות֙ הֲיַֽעַמְדוּ֙ דִּבְרֵ֣י מָרְדֳּכַ֔י כִּֽי־הִגִּ֥יד לָהֶ֖ם אֲשֶׁר־ה֥וּא יְהוּדִֽי׃\n",
       "</td></tr>\n",
       "</table>\n",
       "\n",
       "\n",
       "<p>hv = hebrew vowel</p>\n",
       "<table class=\"t\">\n",
       "<tr><td class=\"vl\">Esther 3:4</td><td class=\"h\">וַיְהִי כְּאָמְרָם אֵלָיו יֹום וָיֹום וְלֹא שָׁמַע אֲלֵיהֶם וַיַּגִּידוּ לְהָמָן לִרְאֹות הֲיַעַמְדוּ דִּבְרֵי מָרְדֳּכַי כִּי־הִגִּיד לָהֶם אֲשֶׁר־הוּא יְהוּדִי׃\n",
       "</td></tr>\n",
       "</table>\n",
       "\n",
       "\n",
       "<p>hc = hebrew cons</p>\n",
       "<table class=\"t\">\n",
       "<tr><td class=\"vl\">Esther 3:4</td><td class=\"h\">ויהי כאמרמ אליו יומ ויומ ולא שמע אליהמ ויגידו להמנ לראות היעמדו דברי מרדכי כי־הגיד להמ אשר־הוא יהודי׃\n",
       "</td></tr>\n",
       "</table>\n",
       "\n",
       "\n",
       "<p>ep = trans primary</p>\n",
       "<table class=\"t\">\n",
       "<tr><td class=\"vl\">Esther 3:4</td><td class=\"e\">WA-J:HI81J*B-*>MRM>;L@JW03JO74WMW@-JO80WMW:-LO71>C@MA73&lt;>:AL;JHE92MWA-J.AG.I74JDW.L:-H@M@81NLI-R:>OWT03H:A-JA75&lt;AM:DW.03D.IB:R;74JM@R:D.:@KA80JK.I75J&amp;HIG.I71JDL@HE73M>:ACER&amp;H71W.>J:HW.DI75J00</td></tr>\n",
       "</table>\n",
       "\n",
       "\n",
       "<p>epl = trans primary (lexeme)</p>\n",
       "<table class=\"t\">\n",
       "<tr><td class=\"vl\">Esther 3:4</td><td class=\"e\">WA- HIJ B- >MR >;L@J JOWM W@- JOWM W:- LO> C@MA&lt; >:AL;J WA- G.IJD L:- H@M@N LI- R:> H:A- &lt;AM:D D.IB:R M@R:D.:@KAJ K.IJ G.IJD L >:ACER HW.> J:HW.DIJ </td></tr>\n",
       "</table>\n",
       "\n",
       "\n",
       "<p>ecl = hebrew cons (lexeme)</p>\n",
       "<table class=\"t\">\n",
       "<tr><td class=\"vl\">Esther 3:4</td><td class=\"e\">W HJH[ K >MR[ >L JWM/ W JWM/ W L> CM&lt;[ >L W NGD[ L HMN=/ L R>H[ H= &lt;MD[ DBR/ MRDKJ/ KJ NGD[ L >CR HW> JHWDJ/ </td></tr>\n",
       "</table>\n",
       "\n",
       "\n",
       "<p>ea = trans accent</p>\n",
       "<table class=\"t\">\n",
       "<tr><td class=\"vl\">Esther 3:4</td><td class=\"e\">WAJ:HI81J K.:>@M:R@70m >;L@JW03 JO74Wm W@JO80Wm W:LO71> C@MA73&lt; >:AL;JHE92m WAJ.AG.I74JDW. L:H@M@81n LIR:>OWT03 H:AJA35&lt;AM:DW.03 D.IB:R;74J M@R:D.:@KA80J K.I35J&amp;HIG.I71JD L@HE73m >:ACER&amp;H71W.> J:HW.DI35J00\n",
       "</td></tr>\n",
       "</table>\n",
       "\n",
       "\n",
       "<p>ev = trans vowel</p>\n",
       "<table class=\"t\">\n",
       "<tr><td class=\"vl\">Esther 3:4</td><td class=\"e\">WAJ:HIJ K.:>@M:R@m >;L@JW JOWm W@JOWm W:LO> C@MA&lt; >:AL;JHEm WAJ.AG.IJDW. L:H@M@n LIR:>OWT H:AJA&lt;AM:DW. D.IB:R;J M@R:D.:@KAJ K.IJ&amp;HIG.IJD L@HEm >:ACER&amp;HW.> J:HW.DIJ00\n",
       "</td></tr>\n",
       "</table>\n",
       "\n",
       "\n",
       "<p>ec = trans cons</p>\n",
       "<table class=\"t\">\n",
       "<tr><td class=\"vl\">Esther 3:4</td><td class=\"e\">WJHJ K>MRM >LJW JWM WJWM WL> #M&lt; >LJHM WJGJDW LHMN LR>WT HJ&lt;MDW DBRJ MRDKJ KJ&amp;HGJD LHM >#R&amp;HW> JHWDJ00\n",
       "</td></tr>\n",
       "</table>\n",
       "\n",
       "\n",
       "<p>pf = phono full</p>\n",
       "<table class=\"t\">\n",
       "<tr><td class=\"vl\">Esther 3:4</td><td class=\"p\">wayᵊhˈî kᵊʔomrˈām ʔēlāʸw yˈôm wāyˈôm wᵊlˌō šāmˌaʕ ʔᵃlêhˈem wayyaggˈîḏû lᵊhāmˈān lirᵊʔôṯ hᵃyˈaʕamᵊḏû divrˈê mordᵒḵˈay kˈî-higgˌîḏ lāhˌem ʔᵃšer-hˌû yᵊhûḏˈî .\n",
       "</td></tr>\n",
       "</table>\n",
       "\n",
       "\n",
       "<p>ps = phono simple</p>\n",
       "<table class=\"t\">\n",
       "<tr><td class=\"vl\">Esther 3:4</td><td class=\"p\">wayhî kʔåmråm ʔēlåʸw yôm wåyôm wlō šåmaʕ ʔlêhem wayyaggîḏû lhåmån lirʔôṯ hyaʕamḏû divrê mårdḵay kî-higgîḏ låhem ʔšer-hû yhûḏî .\n",
       "</td></tr>\n",
       "</table>\n",
       "\n"
      ],
      "text/plain": [
       "<IPython.core.display.HTML object>"
      ]
     },
     "execution_count": 4,
     "metadata": {},
     "output_type": "execute_result"
    }
   ],
   "source": [
    "HTML(examples)"
   ]
  },
  {
   "cell_type": "markdown",
   "metadata": {},
   "source": [
    "**Start the program here**"
   ]
  },
  {
   "cell_type": "code",
   "execution_count": 1,
   "metadata": {
    "collapsed": false
   },
   "outputs": [
    {
     "name": "stderr",
     "output_type": "stream",
     "text": [
      "  0.00s This is LAF-Fabric 4.6.1\n",
      "API reference: http://laf-fabric.readthedocs.org/en/latest/texts/API-reference.html\n",
      "Feature doc: https://shebanq.ancient-data.org/static/docs/featuredoc/texts/welcome.html\n",
      "\n"
     ]
    }
   ],
   "source": [
    "import sys\n",
    "import collections\n",
    "from IPython.display import HTML, display_pretty, display_html\n",
    "\n",
    "from laf.fabric import LafFabric\n",
    "from etcbc.preprocess import prepare\n",
    "from etcbc.lib import Transcription\n",
    "\n",
    "fabric = LafFabric()\n",
    "\n",
    "source = 'etcbc'\n",
    "version = '4b'"
   ]
  },
  {
   "cell_type": "code",
   "execution_count": 2,
   "metadata": {
    "collapsed": false
   },
   "outputs": [
    {
     "name": "stderr",
     "output_type": "stream",
     "text": [
      "  0.00s LOADING API: please wait ... \n",
      "  0.00s USING main  DATA COMPILED AT: 2015-11-02T15-08-56\n",
      "  0.00s USING annox DATA COMPILED AT: 2016-01-27T19-01-17\n",
      "  3.75s LOGFILE=/Users/dirk/laf/laf-fabric-output/etcbc4b/plain/__log__plain.txt\n",
      "  3.75s INFO: LOADING PREPARED data: please wait ... \n",
      "  3.75s prep prep: G.node_sort\n",
      "  3.87s prep prep: G.node_sort_inv\n",
      "  4.43s prep prep: L.node_up\n",
      "  7.83s prep prep: L.node_down\n",
      "    14s prep prep: V.verses\n",
      "    14s prep prep: V.books_la\n",
      "    14s ETCBC reference: http://laf-fabric.readthedocs.org/en/latest/texts/ETCBC-reference.html\n",
      "    17s INFO: LOADED PREPARED data\n",
      "    17s INFO: DATA LOADED FROM SOURCE etcbc4b AND ANNOX lexicon FOR TASK plain AT 2016-05-26T11-53-40\n"
     ]
    }
   ],
   "source": [
    "fabric.load(source+version, 'lexicon', 'plain', {\n",
    "    \"xmlids\": {\"node\": False, \"edge\": False},\n",
    "    \"features\": ('''\n",
    "        otype\n",
    "        lex_utf8\n",
    "        sp\n",
    "        label\n",
    "        monads\n",
    "    ''',''),\n",
    "    \"prepare\": prepare,\n",
    "    \"primary\": False,\n",
    "})\n",
    "exec(fabric.localnames.format(var='fabric'))"
   ]
  },
  {
   "cell_type": "markdown",
   "metadata": {},
   "source": [
    "## Run the examples"
   ]
  },
  {
   "cell_type": "code",
   "execution_count": 3,
   "metadata": {
    "collapsed": false
   },
   "outputs": [
    {
     "name": "stderr",
     "output_type": "stream",
     "text": [
      "  3.82s Format hp = hebrew primary\n",
      "  3.83s Format hpl = hebrew primary (lexeme)\n",
      "  3.83s Format hcl = hebrew cons (lexeme)\n",
      "  3.83s Format ha = hebrew accent\n",
      "  3.83s Format hv = hebrew vowel\n",
      "  3.83s Format hc = hebrew cons\n",
      "  3.83s Format ep = trans primary\n",
      "  3.83s Format epl = trans primary (lexeme)\n",
      "  3.83s Format ecl = hebrew cons (lexeme)\n",
      "  3.83s Format ea = trans accent\n",
      "  3.83s Format ev = trans vowel\n",
      "  3.84s Format ec = trans cons\n",
      "  3.84s Format pf = phono full\n",
      "  3.84s Format ps = phono simple\n"
     ]
    }
   ],
   "source": [
    "html = []\n",
    "for fmt in T.formats():\n",
    "    fmtx = T.formats()[fmt][0]\n",
    "    msg('Format {} = {}'.format(fmt, fmtx))\n",
    "    html.append('<p>{} = {}</p>'.format(fmt, fmtx))\n",
    "    html.append(\n",
    "        T.text(\n",
    "            'Esther', 3, 4,\n",
    "            fmt=fmt,\n",
    "            verse_label=True,\n",
    "            html=True,\n",
    "        ))\n",
    "examples = '\\n'.join(html)"
   ]
  },
  {
   "cell_type": "markdown",
   "metadata": {},
   "source": [
    "**Now you can run the examples near the top of this notebook.**\n",
    "After that you can tweak the styles further:"
   ]
  },
  {
   "cell_type": "markdown",
   "metadata": {},
   "source": [
    "## HTML formatting\n",
    "\n",
    "You can tweak the HTML styles easily."
   ]
  },
  {
   "cell_type": "code",
   "execution_count": 16,
   "metadata": {
    "collapsed": false
   },
   "outputs": [
    {
     "data": {
      "text/html": [
       "\n",
       "<style type=\"text/css\">\n",
       "table.t {\n",
       "    width: 100%;\n",
       "}\n",
       "td.h {\n",
       "    font-family: Ezra SIL, SBL Hebrew, Verdana, sans-serif;\n",
       "    font-size: large;\n",
       "    line-height: 1.8;\n",
       "    color: #000000;\n",
       "    text-align: right;\n",
       "    direction: rtl;\n",
       "}\n",
       "td.e {\n",
       "    font-family: Menlo, Courier New, Courier, monospace;\n",
       "    font-size: small;\n",
       "    line-height: 1.5;\n",
       "    color: #aa0066;\n",
       "    text-align: left;\n",
       "    direction: ltr;\n",
       "}\n",
       "td.p {\n",
       "    font-family: Verdana, Arial, sans-serif;\n",
       "    font-size: medium;\n",
       "    line-height: 1.5;\n",
       "    color: #00b040;\n",
       "    text-align: left;\n",
       "    direction: ltr;\n",
       "}\n",
       "\n",
       "td.vl {\n",
       "    font-family: Verdana, Arial, sans-serif;\n",
       "    font-size: small;\n",
       "    text-align: right;\n",
       "    vertical-align: top;\n",
       "    color: #0000ff;\n",
       "    width: 5em;\n",
       "    direction: ltr;\n",
       "}\n",
       "</style>\n"
      ],
      "text/plain": [
       "<IPython.core.display.HTML object>"
      ]
     },
     "execution_count": 16,
     "metadata": {},
     "output_type": "execute_result"
    }
   ],
   "source": [
    "def set_style(kind):\n",
    "    if kind == 'big':\n",
    "        return T.style(params=dict(\n",
    "            hebrew_color='660000',\n",
    "            hebrew_size='xx-large',\n",
    "            hebrew_line_height='2.0',\n",
    "            phono_color='ff0000',\n",
    "        ), show_params=True)\n",
    "    elif kind == 'reduced':\n",
    "        return T.style(params=dict(\n",
    "            hebrew_color='0000aa',\n",
    "            hebrew_size='x-large',\n",
    "            hebrew_line_height='2.0'\n",
    "        ))\n",
    "    elif kind == 'default':\n",
    "        return T.style()\n",
    "    else:\n",
    "        return ''\n",
    "#HTML(set_style('big'))\n",
    "#HTML(set_style('reduced'))\n",
    "HTML(set_style('default'))\n",
    "#HTML(set_style(''))"
   ]
  },
  {
   "cell_type": "markdown",
   "metadata": {},
   "source": [
    "# Passage look up\n",
    "\n",
    "Here we show how to look up the passage of any given node.\n",
    "There is some subtlety involved, because nodes may represent a whole book, chapter or verse, and some sentences span multiple verses. Have a good look at the examples."
   ]
  },
  {
   "cell_type": "code",
   "execution_count": 4,
   "metadata": {
    "collapsed": false
   },
   "outputs": [
    {
     "name": "stdout",
     "output_type": "stream",
     "text": [
      "  9.47s gathering example nodes\n",
      "    18s  100000 word            occurs in Deuteronomy 11:19              and its first word in Deuteronomy 11:19\n",
      "    18s  446568 clause          occurs in Deuteronomy 25:9               and its first word in Deuteronomy 25:9\n",
      "    18s  635133 phrase          occurs in Exodus 36:29                   and its first word in Exodus 36:29\n",
      "    18s 1125838 sentence        occurs in Genesis 1:17-18                and its first word in Genesis 1:17\n",
      "    18s 1125875 sentence        occurs in Genesis 1:29-30                and its first word in Genesis 1:29\n",
      "    18s 1125890 sentence        occurs in Genesis 2:4-7                  and its first word in Genesis 2:4\n",
      "    18s 1126231 sentence        occurs in Genesis 7:2-3                  and its first word in Genesis 7:2\n",
      "    18s 1126238 sentence        occurs in Genesis 7:8-9                  and its first word in Genesis 7:8\n",
      "    18s 1126244 sentence        occurs in Genesis 7:13-14                and its first word in Genesis 7:13\n",
      "    18s 1126337 sentence        occurs in Genesis 9:9-10                 and its first word in Genesis 9:9\n",
      "    18s 1126400 sentence        occurs in Genesis 10:11-12               and its first word in Genesis 10:11\n",
      "    18s 1126402 sentence        occurs in Genesis 10:13-14               and its first word in Genesis 10:13\n",
      "    18s 1126403 sentence        occurs in Genesis 10:15-18               and its first word in Genesis 10:15\n",
      "    18s 1135793 sentence        occurs in Numbers 1:30                   and its first word in Numbers 1:30\n",
      "    18s 1367498 book            occurs in Exodus                         and its first word in Exodus\n",
      "    18s 1367636 chapter         occurs in Leviticus 11                   and its first word in Leviticus 11\n",
      "    18s 1414645 verse           occurs in Genesis 34:20                  and its first word in Genesis 34:20\n"
     ]
    }
   ],
   "source": [
    "inf('gathering example nodes')\n",
    "example_nodes = {\n",
    "    list(F.otype.s('book'))[1],\n",
    "    list(F.otype.s('chapter'))[100],\n",
    "    list(F.otype.s('verse'))[1000],\n",
    "    list(F.otype.s('sentence'))[10000],\n",
    "    list(F.otype.s('clause'))[20000],\n",
    "    list(F.otype.s('phrase'))[30000],\n",
    "    list(F.otype.s('word'))[100000],\n",
    "} | set([s for s in F.otype.s('sentence') if L.u('verse', s) == None][0:10])\n",
    "\n",
    "for n in sorted(example_nodes):\n",
    "    inf('{:>7} {:<15} occurs in {:<30} and its first word in {}'.format(\n",
    "        n, F.otype.v(n), T.passage(n, lang='en'), T.passage(n, lang='en', first_word=True)\n",
    "    ))"
   ]
  },
  {
   "cell_type": "code",
   "execution_count": 17,
   "metadata": {
    "collapsed": false
   },
   "outputs": [
    {
     "name": "stdout",
     "output_type": "stream",
     "text": [
      " 4m 57s 106976-106980\n",
      " 4m 57s 1419202\n",
      " 4m 57s Deuteronomy 25:9-9\n",
      " 4m 57s [106975, 106976, 106977, 106978, 106979]\n",
      " 4m 57s 106975\n",
      " 4m 57s 106979\n"
     ]
    }
   ],
   "source": [
    "n = 446568\n",
    "inf(F.monads.v(n))\n",
    "inf('{}'.format(L.u('verse', n)))\n",
    "inf(T.passage(n))\n",
    "inf('{}'.format(L.d('word', n)))\n",
    "inf('{}'.format(L.d('word', n)[0]))\n",
    "inf('{}'.format(L.d('word', n)[-1]))"
   ]
  },
  {
   "cell_type": "markdown",
   "metadata": {},
   "source": [
    "# Whole Bible\n",
    "\n",
    "Generate the complete text in all representations."
   ]
  },
  {
   "cell_type": "code",
   "execution_count": 17,
   "metadata": {
    "collapsed": false
   },
   "outputs": [
    {
     "name": "stderr",
     "output_type": "stream",
     "text": [
      "12m 23s Writing the complete text in several representations\n"
     ]
    },
    {
     "name": "stdout",
     "output_type": "stream",
     "text": [
      "12m 23s etcbc4b_hp_v.txt\n",
      "12m 23s etcbc4b_hp.txt\n",
      "12m 24s etcbc4b_hpl_v.txt\n",
      "12m 25s etcbc4b_hpl.txt\n",
      "12m 26s etcbc4b_hcl_v.txt\n",
      "12m 26s etcbc4b_hcl.txt\n",
      "12m 27s etcbc4b_ha_v.txt\n",
      "12m 33s etcbc4b_ha.txt\n",
      "12m 40s etcbc4b_hv_v.txt\n",
      "12m 46s etcbc4b_hv.txt\n",
      "12m 53s etcbc4b_hc_v.txt\n",
      "13m 00s etcbc4b_hc.txt\n",
      "13m 08s etcbc4b_ep_v.txt\n",
      "13m 08s etcbc4b_ep.txt\n",
      "13m 08s etcbc4b_epl_v.txt\n",
      "13m 09s etcbc4b_epl.txt\n",
      "13m 09s etcbc4b_ecl_v.txt\n",
      "13m 10s etcbc4b_ecl.txt\n",
      "13m 10s etcbc4b_ea_v.txt\n",
      "13m 14s etcbc4b_ea.txt\n",
      "13m 17s etcbc4b_ev_v.txt\n",
      "13m 21s etcbc4b_ev.txt\n",
      "13m 25s etcbc4b_ec_v.txt\n",
      "13m 31s etcbc4b_ec.txt\n",
      "13m 37s etcbc4b_pf_v.txt\n",
      "13m 38s etcbc4b_pf.txt\n",
      "13m 39s etcbc4b_ps_v.txt\n",
      "13m 40s etcbc4b_ps.txt\n"
     ]
    },
    {
     "name": "stderr",
     "output_type": "stream",
     "text": [
      "13m 42s Done\n"
     ]
    }
   ],
   "source": [
    "msg('Writing the complete text in several representations')\n",
    "for fmt in T.formats():\n",
    "    for vl in (True, False):\n",
    "        file_name = '{}{}_{}{}.txt'.format(\n",
    "            source, version,\n",
    "            fmt, '_v' if vl else ''\n",
    "        )\n",
    "        fl = outfile(file_name)\n",
    "        inf(file_name)\n",
    "        fl.write(T.text(fmt=fmt, verse_label=vl))\n",
    "        fl.close()\n",
    "msg('Done')"
   ]
  },
  {
   "cell_type": "code",
   "execution_count": 18,
   "metadata": {
    "collapsed": false
   },
   "outputs": [
    {
     "name": "stdout",
     "output_type": "stream",
     "text": [
      "\n",
      "etcbc4b_hp_v.txt\n",
      "Genesis 1:1\tבְּרֵאשִׁ֖ית בָּרָ֣א אֱלֹהִ֑ים אֵ֥ת הַשָּׁמַ֖יִם וְאֵ֥ת הָאָֽרֶץ׃\n",
      "Genesis 1:2\tוְהָאָ֗רֶץ הָיְתָ֥ה תֹ֨הוּ֙ וָבֹ֔הוּ וְחֹ֖שֶׁךְ עַל־פְּנֵ֣י תְהֹ֑ום וְר֣וּחַ אֱלֹהִ֔ים מְרַחֶ֖פֶת עַל־פְּנֵ֥י הַמָּֽיִם׃\n",
      "\n",
      "etcbc4b_hpl_v.txt\n",
      "Genesis 1:1\tבְּ רֵאשִׁית בָּרָא אֱלֹה אֵת הַ שָּׁמַי וְ אֵת הָ אָרֶץ \n",
      "Genesis 1:2\tוְ הָ אָרֶץ הָי תֹהוּ וָ בֹהוּ וְ חֹשֶׁךְ עַל פְּן תְהֹום וְ רוּחַ אֱלֹה רַחֶף עַל פְּן הַ מָּי \n",
      "\n",
      "etcbc4b_hcl_v.txt\n",
      "Genesis 1:1\tב ראשׁית ברא אלהים את ה שׁמים ו את ה ארץ \n",
      "Genesis 1:2\tו ה ארץ היה תהו ו בהו ו חשׁך על פנה תהום ו רוח אלהים רחף על פנה ה מים \n",
      "\n",
      "etcbc4b_ha_v.txt\n",
      "Genesis 1:1\tבְּרֵאשִׁ֖ית בָּרָ֣א אֱלֹהִ֑ים אֵ֥ת הַשָּׁמַ֖יִם וְאֵ֥ת הָאָֽרֶץ׃\n",
      "Genesis 1:2\tוְהָאָ֗רֶץ הָיְתָ֥ה תֹ֨הוּ֙ וָבֹ֔הוּ וְחֹ֖שֶׁךְ עַל־פְּנֵ֣י תְהֹ֑ום וְר֣וּחַ אֱלֹהִ֔ים מְרַחֶ֖פֶת עַל־פְּנֵ֥י הַמָּֽיִם׃\n",
      "\n",
      "etcbc4b_hv_v.txt\n",
      "Genesis 1:1\tבְּרֵאשִׁית בָּרָא אֱלֹהִים אֵת הַשָּׁמַיִם וְאֵת הָאָרֶץ׃\n",
      "Genesis 1:2\tוְהָאָרֶץ הָיְתָה תֹהוּ וָבֹהוּ וְחֹשֶׁךְ עַל־פְּנֵי תְהֹום וְרוּחַ אֱלֹהִים מְרַחֶפֶת עַל־פְּנֵי הַמָּיִם׃\n",
      "\n",
      "etcbc4b_hc_v.txt\n",
      "Genesis 1:1\tבראשית ברא אלהימ את השמימ ואת הארצ׃\n",
      "Genesis 1:2\tוהארצ היתה תהו ובהו וחשכ על־פני תהומ ורוח אלהימ מרחפת על־פני המימ׃\n",
      "\n",
      "etcbc4b_ep_v.txt\n",
      "Genesis 1:1\tB.:-R;>CI73JTB.@R@74>>:ELOHI92JM>;71THA-C.@MA73JIMW:->;71TH@->@75REY00\n",
      "Genesis 1:2\tW:-H@->@81REYH@J:T@71HTO33HW.03W@-BO80HW.W:-XO73CEK:<AL&P.:N;74JT:HO92WMW:-R74W.XA>:ELOHI80JMM:RAXE73PET<AL&P.:N;71JHA-M.@75JIM00\n",
      "\n",
      "etcbc4b_epl_v.txt\n",
      "Genesis 1:1\tB.:- R;>CIJT B.@R@> >:ELOH >;T HA- C.@MAJ W:- >;T H@- >@REY \n",
      "Genesis 1:2\tW:- H@- >@REY H@J TOHW. W@- BOHW. W:- XOCEK: <AL P.:N T:HOWM W:- RW.XA >:ELOH RAXEP <AL P.:N HA- M.@J \n",
      "\n",
      "etcbc4b_ecl_v.txt\n",
      "Genesis 1:1\tB R>CJT/ BR>[ >LHJM/ >T H CMJM/ W >T H >RY/ \n",
      "Genesis 1:2\tW H >RY/ HJH[ THW/ W BHW/ W XCK/ <L PNH/ THWM/ W RWX/ >LHJM/ RXP[ <L PNH/ H MJM/ \n",
      "\n",
      "etcbc4b_ea_v.txt\n",
      "Genesis 1:1\tB.:R;>CI73JT B.@R@74> >:ELOHI92Jm >;71T HAC.@MA73JIm W:>;71T H@>@45REy00\n",
      "Genesis 1:2\tW:H@>@81REy H@J:T@71H TO33HW.03 W@BO80HW. W:XO73CEk: <AL&P.:N;74J T:HO92Wm W:R74W.XA >:ELOHI80Jm M:RAXE73PET <AL&P.:N;71J HAM.@45JIm00\n",
      "\n",
      "etcbc4b_ev_v.txt\n",
      "Genesis 1:1\tB.:R;>CIJT B.@R@> >:ELOHIJm >;T HAC.@MAJIm W:>;T H@>@REy00\n",
      "Genesis 1:2\tW:H@>@REy H@J:T@H TOHW. W@BOHW. W:XOCEk: <AL&P.:N;J T:HOWm W:RW.XA >:ELOHIJm M:RAXEPET <AL&P.:N;J HAM.@JIm00\n",
      "\n",
      "etcbc4b_ec_v.txt\n",
      "Genesis 1:1\tBR>#JT BR> >LHJM >T H#MJM W>T H>RY00\n",
      "Genesis 1:2\tWH>RY HJTH THW WBHW WX#K <L&PNJ THWM WRWX >LHJM MRXPT <L&PNJ HMJM00\n",
      "\n",
      "etcbc4b_pf_v.txt\n",
      "Genesis 1:1\tbᵊrēšˌîṯ bārˈā ʔᵉlōhˈîm ʔˌēṯ haššāmˌayim wᵊʔˌēṯ hāʔˈāreṣ .\n",
      "Genesis 1:2\twᵊhāʔˈāreṣ hāyᵊṯˌā ṯˈōhû wāvˈōhû wᵊḥˌōšeḵ ʕal-pᵊnˈê ṯᵊhˈôm wᵊrˈûₐḥ ʔᵉlōhˈîm mᵊraḥˌefeṯ ʕal-pᵊnˌê hammˈāyim .\n",
      "\n",
      "etcbc4b_ps_v.txt\n",
      "Genesis 1:1\tbrēšîṯ bårå ʔlōhîm ʔēṯ haššåmayim wʔēṯ håʔåreṣ .\n",
      "Genesis 1:2\twhåʔåreṣ håyṯå ṯōhû wåvōhû wḥōšeḵ ʕal-pnê ṯhôm wrûₐḥ ʔlōhîm mraḥefeṯ ʕal-pnê hammåyim .\n"
     ]
    }
   ],
   "source": [
    "show_limit = 2\n",
    "for fmt in T.formats():\n",
    "    file_name = '{}{}_{}_v.txt'.format(source, version, fmt)\n",
    "    i = 0\n",
    "    fl = infile(file_name)\n",
    "    print('\\n{}'.format(file_name))\n",
    "    for line in fl:\n",
    "        if i == show_limit: break\n",
    "        i += 1\n",
    "        sys.stdout.write(line)\n",
    "    fl.close()"
   ]
  },
  {
   "cell_type": "markdown",
   "metadata": {},
   "source": [
    "# Count the number of characters in the plain text\n",
    "\n",
    "We want to know how many characters the Hebrew Bible has.\n",
    "We will measure it in the number of unicode characters.\n",
    "We want to count every s(h)in as one graphemes, so we have to make sure that we compose those unicode characters.\n",
    "Note that unicode composition does not compose other points and accents with consonants to single letters."
   ]
  },
  {
   "cell_type": "code",
   "execution_count": 19,
   "metadata": {
    "collapsed": true
   },
   "outputs": [],
   "source": [
    "from unicodedata import normalize"
   ]
  },
  {
   "cell_type": "code",
   "execution_count": 20,
   "metadata": {
    "collapsed": true
   },
   "outputs": [],
   "source": [
    "example = T.text('Genesis', 1, 1, fmt='ha', verse_label=False).split(' ')"
   ]
  },
  {
   "cell_type": "code",
   "execution_count": 21,
   "metadata": {
    "collapsed": false
   },
   "outputs": [
    {
     "name": "stdout",
     "output_type": "stream",
     "text": [
      " 11; c= 12; d= 12; בְּרֵאשִׁ֖ית\n",
      "  7; c=  7; d=  7; בָּרָ֣א\n",
      "  9; c=  9; d=  9; אֱלֹהִ֑ים\n",
      "  4; c=  4; d=  4; אֵ֥ת\n",
      " 11; c= 12; d= 12; הַשָּׁמַ֖יִם\n",
      "  6; c=  6; d=  6; וְאֵ֥ת\n",
      " 10; c= 10; d= 10; הָאָֽרֶץ׃\n",
      "\n"
     ]
    }
   ],
   "source": [
    "for ex in example:\n",
    "    ex_c = normalize('NFKC', ex)\n",
    "    ex_d = normalize('NFKD', ex)\n",
    "    print('{:>3}; c={:>3}; d={:>3}; {}'.format(len(ex), len(ex_c), len(ex_d), ex))"
   ]
  },
  {
   "cell_type": "code",
   "execution_count": 22,
   "metadata": {
    "collapsed": false
   },
   "outputs": [
    {
     "name": "stdout",
     "output_type": "stream",
     "text": [
      "2831192\n"
     ]
    }
   ],
   "source": [
    "full_text = T.text(fmt='ha', verse_label=False)\n",
    "print(len(normalize('NFKC', full_text)))"
   ]
  },
  {
   "cell_type": "markdown",
   "metadata": {},
   "source": [
    "## Trailer\n",
    "\n",
    "Here is a list of all the different trailing material and their number of occurrences."
   ]
  },
  {
   "cell_type": "code",
   "execution_count": 23,
   "metadata": {
    "collapsed": false
   },
   "outputs": [
    {
     "name": "stderr",
     "output_type": "stream",
     "text": [
      "20m 36s Exploring trailers\n",
      "20m 39s Done. Found 12 trailers in Hebrew text and 3 trailers in phonemic text\n"
     ]
    },
    {
     "name": "stdout",
     "output_type": "stream",
     "text": [
      "Trailers in Hebrew text:\n",
      " 237039 x [_]\n",
      " 121796 x [ø]\n",
      "  42275 x [־]\n",
      "  20037 x [׃\\n]\n",
      "   2266 x [_׀_]\n",
      "   1892 x [׃_ס_\\n]\n",
      "   1165 x [׃_פ_\\n]\n",
      "     76 x [_ס_]\n",
      "     13 x [_פ_]\n",
      "      7 x [׃_׆̇_\\n]\n",
      "      1 x [׃_׆̇_ס__\\n]\n",
      "      1 x [׃_׆̇_פ__\\n]\n",
      "Trailers in phonemic text:\n",
      " 239251 x [_]\n",
      " 164105 x [ø]\n",
      "  23212 x [_.]\n",
      "Mapping between trailers in Hebrew and phonemic text:\n",
      "      ø => ø, _\n",
      "      _ => ø, _, _.\n",
      "    _׀_ => _\n",
      "    _ס_ => _\n",
      "    _פ_ => _\n",
      "      ־ => ø\n",
      "    ׃\\n => _.\n",
      "׃_׆̇_\\n => _.\n",
      "׃_׆̇_ס__\\n => _.\n",
      "׃_׆̇_פ__\\n => _.\n",
      " ׃_ס_\\n => _.\n",
      " ׃_פ_\\n => _.\n"
     ]
    }
   ],
   "source": [
    "msg('Exploring trailers')\n",
    "trailer = collections.Counter()\n",
    "trailer_ph = collections.Counter()\n",
    "trailer_map = collections.defaultdict(set)\n",
    "\n",
    "for node in NN(test=F.otype.v, value='word'):\n",
    "    trl = F.trailer_utf8.v(node)\n",
    "    trl_ph = F.phono_sep.v(node)\n",
    "    trailer[trl] += 1\n",
    "    trailer_ph[trl_ph] += 1\n",
    "    trailer_map[trl].add(trl_ph)\n",
    "\n",
    "msg('Done. Found {} trailers in Hebrew text and {} trailers in phonemic text'.format(\n",
    "    len(trailer), len(trailer_ph),\n",
    "))\n",
    "print('Trailers in Hebrew text:')\n",
    "for (trl, n) in sorted(trailer.items(), key=lambda x: (-x[1], x[0])):\n",
    "    trl = 'ø' if trl == '' else trl.replace('\\n', '\\\\n').replace(' ','_')\n",
    "    print('{:>7} x [{}]'.format(n, trl))\n",
    "          \n",
    "print('Trailers in phonemic text:')\n",
    "for (trl_ph, n) in sorted(trailer_ph.items(), key=lambda x: (-x[1], x[0])):\n",
    "    trl_ph = 'ø' if trl_ph == '' else trl_ph.replace('\\n', '\\\\n').replace(' ','_')\n",
    "    print('{:>7} x [{}]'.format(n, trl_ph))\n",
    "\n",
    "print('Mapping between trailers in Hebrew and phonemic text:')\n",
    "for trl in sorted(trailer_map):\n",
    "    print('{:>7} => {}'.format(\n",
    "        'ø' if trl == '' else trl.replace('\\n', '\\\\n').replace(' ','_'), \n",
    "        ', '.join(\n",
    "                'ø' if trl_ph == '' else trl_ph.replace('\\n', '\\\\n').replace(' ','_') for trl_ph in sorted(\n",
    "                    trailer_map[trl]\n",
    "                ))\n",
    "    ))"
   ]
  },
  {
   "cell_type": "markdown",
   "metadata": {},
   "source": [
    "## Empty words"
   ]
  },
  {
   "cell_type": "markdown",
   "metadata": {},
   "source": [
    "There are words that have an empty representation.\n",
    "\n",
    "Let us have a closer look.\n",
    "How frequent are they and to what lexemes do they correspond, and what is their part of speech?"
   ]
  },
  {
   "cell_type": "code",
   "execution_count": 24,
   "metadata": {
    "collapsed": false
   },
   "outputs": [
    {
     "name": "stderr",
     "output_type": "stream",
     "text": [
      "20m 43s Looking for empty words\n",
      "20m 44s Done\n"
     ]
    },
    {
     "name": "stdout",
     "output_type": "stream",
     "text": [
      "  6423 x art             =          ה in  GEN 01,05;  GEN 01,05;  GEN 01,07;  GEN 01,07;  GEN 01,08 ...\n"
     ]
    }
   ],
   "source": [
    "msg('Looking for empty words')\n",
    "ewords = collections.defaultdict(lambda: [])\n",
    "verse = None\n",
    "\n",
    "for i in NN(test=F.otype.v, values=['verse', 'word']):\n",
    "    if F.otype.v(i) == 'verse':\n",
    "        verse = i\n",
    "        continue\n",
    "    text = F.g_word_utf8.v(i)\n",
    "    if text == '':\n",
    "        lex = F.lex_utf8.v(i)\n",
    "        pos = F.sp.v(i)\n",
    "        ewords[(lex, pos)].append(verse)\n",
    "\n",
    "msg('Done')\n",
    "for (item, occs) in sorted(ewords.items(), key=lambda x: (-len(x[1]), x[0][1], x[0][0])):\n",
    "    print(\"{:>6} x {:<15} = {:>10} in {}{}\".format(\n",
    "        len(occs), \n",
    "        item[1], \n",
    "        item[0], \n",
    "        \"; \".join([F.label.v(j) for j in occs][0:5]),\n",
    "        ' ...' if len(occs) > 20 else '',\n",
    "    ))\n"
   ]
  },
  {
   "cell_type": "code",
   "execution_count": 25,
   "metadata": {
    "collapsed": false
   },
   "outputs": [
    {
     "name": "stderr",
     "output_type": "stream",
     "text": [
      "20m 48s Results directory:\n",
      "/Users/dirk/laf/laf-fabric-output/etcbc4b/plain\n",
      "\n",
      ".DS_Store                              6148 Wed Mar  2 20:05:55 2016\n",
      "__log__plain.txt                       3400 Thu May 26 09:41:45 2016\n",
      "etcbc4b_ea.txt                      3119734 Thu May 26 09:34:14 2016\n",
      "etcbc4b_ea_v.txt                    3438368 Thu May 26 09:34:10 2016\n",
      "etcbc4b_ec.txt                      1549212 Thu May 26 09:34:33 2016\n",
      "etcbc4b_ec_v.txt                    1867846 Thu May 26 09:34:28 2016\n",
      "etcbc4b_ecl.txt                     1760600 Thu May 26 09:34:07 2016\n",
      "etcbc4b_ecl_v.txt                   2079234 Thu May 26 09:34:06 2016\n",
      "etcbc4b_ep.txt                      2990524 Thu May 26 09:34:05 2016\n",
      "etcbc4b_ep_v.txt                    3309158 Thu May 26 09:34:05 2016\n",
      "etcbc4b_epl.txt                     2327644 Thu May 26 09:34:06 2016\n",
      "etcbc4b_epl_v.txt                   2646278 Thu May 26 09:34:06 2016\n",
      "etcbc4b_ev.txt                      2538742 Thu May 26 09:34:22 2016\n",
      "etcbc4b_ev_v.txt                    2857376 Thu May 26 09:34:18 2016\n",
      "etcbc4b_ha.txt                      5332790 Thu May 26 09:33:36 2016\n",
      "etcbc4b_ha_v.txt                    5651424 Thu May 26 09:33:30 2016\n",
      "etcbc4b_hc.txt                      2788978 Thu May 26 09:34:04 2016\n",
      "etcbc4b_hc_v.txt                    3107612 Thu May 26 09:33:57 2016\n",
      "etcbc4b_hcl.txt                     2609679 Thu May 26 09:33:23 2016\n",
      "etcbc4b_hcl_v.txt                   2928313 Thu May 26 09:33:23 2016\n",
      "etcbc4b_hp.txt                      5323663 Thu May 26 09:33:21 2016\n",
      "etcbc4b_hp_v.txt                    5642297 Thu May 26 09:33:20 2016\n",
      "etcbc4b_hpl.txt                     3960158 Thu May 26 09:33:22 2016\n",
      "etcbc4b_hpl_v.txt                   4278792 Thu May 26 09:33:22 2016\n",
      "etcbc4b_hv.txt                      4751786 Thu May 26 09:33:49 2016\n",
      "etcbc4b_hv_v.txt                    5070420 Thu May 26 09:33:43 2016\n",
      "etcbc4b_pf.txt                      3893906 Thu May 26 09:34:35 2016\n",
      "etcbc4b_pf_v.txt                    4212540 Thu May 26 09:34:34 2016\n",
      "etcbc4b_ps.txt                      2956173 Thu May 26 09:34:39 2016\n",
      "etcbc4b_ps_v.txt                    3274807 Thu May 26 09:34:37 2016\n"
     ]
    }
   ],
   "source": [
    "close()"
   ]
  },
  {
   "cell_type": "code",
   "execution_count": null,
   "metadata": {
    "collapsed": true
   },
   "outputs": [],
   "source": []
  }
 ],
 "metadata": {
  "kernelspec": {
   "display_name": "Python 3",
   "language": "python",
   "name": "python3"
  },
  "language_info": {
   "codemirror_mode": {
    "name": "ipython",
    "version": 3
   },
   "file_extension": ".py",
   "mimetype": "text/x-python",
   "name": "python",
   "nbconvert_exporter": "python",
   "pygments_lexer": "ipython3",
   "version": "3.5.1"
  }
 },
 "nbformat": 4,
 "nbformat_minor": 0
}
