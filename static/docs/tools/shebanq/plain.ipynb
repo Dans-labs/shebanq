{
 "cells": [
  {
   "cell_type": "markdown",
   "metadata": {},
   "source": [
    "<a href=\"http://laf-fabric.readthedocs.org/en/latest/\" target=\"_blank\"><img align=\"left\" src=\"images/laf-fabric-xsmall.png\"/></a>\n",
    "<a href=\"http://www.dans.knaw.nl\" target=\"_blank\"><img align=\"left\"src=\"images/DANS-xsmall.png\"/></a>\n",
    "<a href=\"http://tla.mpi.nl\" target=\"_blank\"><img align=\"right\" src=\"images/TLA-xsmall.png\"/></a>\n",
    "<a href=\"http://www.godgeleerdheid.vu.nl/etcbc\" target=\"_blank\"><img align=\"right\" src=\"images/VU-ETCBC-xsmall.png\"/></a>\n",
    "<a href=\"http://sblgnt.com/\" target=\"_blank\"><img align=\"right\"src=\"images/sblgnt.jpg\" width=\"50\"/></a>"
   ]
  },
  {
   "cell_type": "markdown",
   "metadata": {},
   "source": [
    "# Plain Text"
   ]
  },
  {
   "cell_type": "markdown",
   "metadata": {},
   "source": [
    "# Text from features"
   ]
  },
  {
   "cell_type": "markdown",
   "metadata": {},
   "source": [
    "We present the API functions ``T`` for generating the plain text of the Hebrew Bible.\n",
    "\n",
    "You can already retrieve a text that is identical to the primary data of the LAF resource using the\n",
    "features ``g_word_utf8`` and ``trailer_utf8`` for Hebrew and ``unicode`` and ``unicodetrailer`` for Greek.\n",
    "\n",
    "But the ``T`` functions make it easier.\n",
    "\n",
    "* You can generate texts for words and verses, individually and collectively\n",
    "* You can specify different formats: \n",
    "  * hebrew unicode or etcbc transliteration or phonemic;\n",
    "    * and, for *hebrew* and *etcbc*: \n",
    "      * consonantal\n",
    "      * with vowels\n",
    "      * with vowels and accents\n",
    "      * lexeme (consonantal)\n",
    "      * lexeme (vocalized)\n",
    "    * and, for *phonemic*:\n",
    "      * with schwas, qamets gadol/qatan distinction and accents\n",
    "      * simplified\n",
    "* You can switch to vocalized qeres instead of ketivs (except for the lexeme based formats);\n",
    "* You can render the text in HTML and control the formatting, or get the plain text;\n",
    "* You can lookup the passage label of any given node and represent it in a given language.\n",
    "\n",
    "And there is a format for *Greek*:\n",
    "\n",
    "* greek unicode;\n",
    "\n",
    "These functions make it easy to produces texts that can be pasted into word processors.\n",
    "\n",
    "By the way, if you generate *verse labels*, you can choose the language of the book names.\n",
    "Currently we have Latin (the ETCBC choice), English (the default), and quite a few others.\n",
    "\n",
    "See the [ETCBC API documentation](http://laf-fabric.readthedocs.org/en/latest/texts/ETCBC-reference.html#texts)."
   ]
  },
  {
   "cell_type": "markdown",
   "metadata": {},
   "source": [
    "** Note **\n",
    "\n",
    "This notebook loads two sources: the Hebrew Bible and the Greek New Testament.\n",
    "We need to APIs in the same notebook. This notebook shows you how to do that."
   ]
  },
  {
   "cell_type": "markdown",
   "metadata": {},
   "source": [
    "# Greek New Testament\n",
    "\n",
    "2016-09-09. This is the story of how we got a Greek New Testament data source into Emdros and LAF.\n",
    "\n",
    "1. We use the Greek New Testament as encoded by the Society for Biblical Literature. It can be obtained from the GitHub repo [biblical humanities: Greek New Testament](https://github.com/biblicalhumanities/greek-new-testament) which provided several text representations, of which we have chosen the [sblgnt](https://github.com/biblicalhumanities/greek-new-testament/tree/master/syntax-trees/sblgnt) one.\n",
    "1. Cody Kingham (now master student at the ETCBC) has converted that source into an MQL data file, which can be imported in an Emdros database\n",
    "1. Dirk Roorda has used the ETCBC LAF-Fabric suite to convert from Emdros to LAF and then to compile the LAF for efficient processing\n",
    "\n",
    "\n",
    "\n",
    "## Licence\n",
    "We (and you) are allowed to process this data for non-commercial purposes.\n",
    "\n",
    "The licence for the Hebrew data is CC-BY-NC, stated on the\n",
    "[SHEBANQ site](https://shebanq.ancient-data.org/sources).\n",
    "\n",
    "The licence for the Greek data is CC-SA-NC, plus extra restrictions, stated on the\n",
    "[SBL-GNT site](http://sblgnt.com/license/).\n",
    "\n",
    "We draw your attention explicitly to this condition:\n",
    "\n",
    ">You must always attribute quotations from the SBLGNT. If you quote fewer than 100 verses of the SBLGNT in a single print or electronic work, you can attribute it by simply adding \"SBLGNT\" after the quotation. Use of 100 or more verses in a single work must be accompanied by the following statement:\n",
    "\n",
    ">Scripture quotations marked [SBLGNT](http://sblgnt.com) are from the [SBL Greek New Testament](http://sblgnt.com). Copyright © 2010 [Society of Biblical Literature](http://www.sbl-site.org) and [Logos Bible Software](http://www.logos.com).\n",
    "\n",
    "If you copy this text including the hyperlinks, and paste it somewhere in your application, you are set.\n",
    "\n",
    "We acknowledge, with gratitude, the work that has gone in preparing these sources.\n",
    "A lot of that work stems from voluntary efforts! Thumbs up for Jonathan Robie and \n",
    "the [Biblical Humanities gang](http://biblicalhumanities.org/about/)."
   ]
  },
  {
   "cell_type": "code",
   "execution_count": 13,
   "metadata": {
    "collapsed": false
   },
   "outputs": [
    {
     "name": "stdout",
     "output_type": "stream",
     "text": [
      "am  = amharic              = ኣማርኛ\n",
      "ar  = arabic               = العَرَبِية\n",
      "bn  = bengali              = বাংলা\n",
      "da  = danish               = Dansk\n",
      "de  = german               = Deutsch\n",
      "el  = greek                = Ελληνικά\n",
      "en  = english              = English\n",
      "es  = spanish              = Español\n",
      "fa  = farsi                = فارسی\n",
      "fr  = french               = Français\n",
      "he  = hebrew               = עברית\n",
      "hi  = hindi                = हिन्दी\n",
      "id  = indonesian           = Bahasa Indonesia\n",
      "ja  = japanese             = 日本語\n",
      "ko  = korean               = 한국어\n",
      "la  = latin                = Latina\n",
      "nl  = dutch                = Nederlands\n",
      "pa  = punjabi              = ਪੰਜਾਬੀ\n",
      "pt  = portuguese           = Português\n",
      "ru  = russian              = Русский\n",
      "sw  = swahili              = Kiswahili\n",
      "syc = syriac               = ܠܫܢܐ ܣܘܪܝܝܐ\n",
      "tr  = turkish              = Türkçe\n",
      "ur  = urdu                 = اُردُو\n",
      "yo  = yoruba               = èdè Yorùbá\n",
      "zh  = chinese              = 中文\n"
     ]
    }
   ],
   "source": [
    "# run later\n",
    "for biblang in biblangs:\n",
    "    for (code, (lange, lango)) in sorted(T[biblang].langs.items()):\n",
    "        print('{:<3} = {:<20} = {}'.format(code, lange, lango))"
   ]
  },
  {
   "cell_type": "markdown",
   "metadata": {},
   "source": [
    "# Examples\n",
    "\n",
    "## Hebrew\n",
    "    \n",
    "This is the code to produce the Hebrew accents representation (`ha`) of a single verse:\n",
    "\n",
    "    T.text('Esther', 3, 4, fmt='ha', verse_label=True, html=True)\n",
    "    \n",
    "This is the code to produce the plain text of the whole Bible in Hebrew unicode with accents and\n",
    "with verse labels:\n",
    "\n",
    "    T.text(fmt='ha', verse_labels=True)\n",
    "\n",
    "## Greek\n",
    "\n",
    "This is the code to produce the Greek primary representation (`gp`) of a single verse:\n",
    "\n",
    "    T.text('John', 3, 16, fmt='gp', verse_label=True, html=True)\n",
    "    \n",
    "This is the code to produce the plain text of the whole New Testament in Greek unicode\n",
    "with verse labels:\n",
    "\n",
    "    T.text(fmt='gp', verse_labels=True)\n",
    "    \n",
    "## More info\n",
    "\n",
    "See the [ETCBC API documentation](http://laf-fabric.readthedocs.org/en/latest/texts/ETCBC-reference.html#texts) for\n",
    "many more examples.\n",
    "\n",
    "**Run the next cells later.**"
   ]
  },
  {
   "cell_type": "code",
   "execution_count": 20,
   "metadata": {
    "collapsed": false
   },
   "outputs": [
    {
     "data": {
      "text/html": [
       "<p>hp = hebrew primary</p>\n",
       "<table class=\"t\">\n",
       "<tr><td class=\"vl\">Esther 3:4</td><td class=\"h\">וַיְהִ֗י ֯ב֯אמרם אֵלָיו֙ יֹ֣ום וָיֹ֔ום וְלֹ֥א שָׁמַ֖ע אֲלֵיהֶ֑ם וַיַּגִּ֣ידוּ לְהָמָ֗ן לִרְאֹות֙ הֲיַֽעַמְדוּ֙ דִּבְרֵ֣י מָרְדֳּכַ֔י כִּֽי־הִגִּ֥יד לָהֶ֖ם אֲשֶׁר־ה֥וּא יְהוּדִֽי׃\n",
       "</td></tr>\n",
       "</table>\n",
       "\n",
       "\n",
       "<p>hpl = hebrew primary (lexeme)</p>\n",
       "<table class=\"t\">\n",
       "<tr><td class=\"vl\">Esther 3:4</td><td class=\"h\">וַ הִי ב אמר אֵלָי יֹום וָ יֹום וְ לֹא שָׁמַע אֲלֵי וַ גִּיד לְ הָמָן לִ רְא הֲ עַמְד דִּבְר מָרְדֳּכַי כִּי גִּיד ל אֲשֶׁר הוּא יְהוּדִי </td></tr>\n",
       "</table>\n",
       "\n",
       "\n",
       "<p>hcl = hebrew cons (lexeme)</p>\n",
       "<table class=\"t\">\n",
       "<tr><td class=\"vl\">Esther 3:4</td><td class=\"h\">ו היה כ אמר אל יום ו יום ו לא שׁמע אל ו נגד ל המן ל ראה ה עמד דבר מרדכי כי נגד ל אשׁר הוא יהודי </td></tr>\n",
       "</table>\n",
       "\n",
       "\n",
       "<p>ha = hebrew accent</p>\n",
       "<table class=\"t\">\n",
       "<tr><td class=\"vl\">Esther 3:4</td><td class=\"h\">וַיְהִ֗י כְּאָמְרָ֤ם אֵלָיו֙ יֹ֣ום וָיֹ֔ום וְלֹ֥א שָׁמַ֖ע אֲלֵיהֶ֑ם וַיַּגִּ֣ידוּ לְהָמָ֗ן לִרְאֹות֙ הֲיַֽעַמְדוּ֙ דִּבְרֵ֣י מָרְדֳּכַ֔י כִּֽי־הִגִּ֥יד לָהֶ֖ם אֲשֶׁר־ה֥וּא יְהוּדִֽי׃\n",
       "</td></tr>\n",
       "</table>\n",
       "\n",
       "\n",
       "<p>hv = hebrew vowel</p>\n",
       "<table class=\"t\">\n",
       "<tr><td class=\"vl\">Esther 3:4</td><td class=\"h\">וַיְהִי כְּאָמְרָם אֵלָיו יֹום וָיֹום וְלֹא שָׁמַע אֲלֵיהֶם וַיַּגִּידוּ לְהָמָן לִרְאֹות הֲיַעַמְדוּ דִּבְרֵי מָרְדֳּכַי כִּי־הִגִּיד לָהֶם אֲשֶׁר־הוּא יְהוּדִי׃\n",
       "</td></tr>\n",
       "</table>\n",
       "\n",
       "\n",
       "<p>hc = hebrew cons</p>\n",
       "<table class=\"t\">\n",
       "<tr><td class=\"vl\">Esther 3:4</td><td class=\"h\">ויהי כאמרמ אליו יומ ויומ ולא שמע אליהמ ויגידו להמנ לראות היעמדו דברי מרדכי כי־הגיד להמ אשר־הוא יהודי׃\n",
       "</td></tr>\n",
       "</table>\n",
       "\n",
       "\n",
       "<p>ep = trans primary</p>\n",
       "<table class=\"t\">\n",
       "<tr><td class=\"vl\">Esther 3:4</td><td class=\"e\">WA-J:HI81J*B-*>MRM>;L@JW03JO74WMW@-JO80WMW:-LO71>C@MA73&lt;>:AL;JHE92MWA-J.AG.I74JDW.L:-H@M@81NLI-R:>OWT03H:A-JA75&lt;AM:DW.03D.IB:R;74JM@R:D.:@KA80JK.I75J&amp;HIG.I71JDL@HE73M>:ACER&amp;H71W.>J:HW.DI75J00</td></tr>\n",
       "</table>\n",
       "\n",
       "\n",
       "<p>epl = trans primary (lexeme)</p>\n",
       "<table class=\"t\">\n",
       "<tr><td class=\"vl\">Esther 3:4</td><td class=\"e\">WA- HIJ B- >MR >;L@J JOWM W@- JOWM W:- LO> C@MA&lt; >:AL;J WA- G.IJD L:- H@M@N LI- R:> H:A- &lt;AM:D D.IB:R M@R:D.:@KAJ K.IJ G.IJD L >:ACER HW.> J:HW.DIJ </td></tr>\n",
       "</table>\n",
       "\n",
       "\n",
       "<p>ecl = hebrew cons (lexeme)</p>\n",
       "<table class=\"t\">\n",
       "<tr><td class=\"vl\">Esther 3:4</td><td class=\"e\">W HJH[ K >MR[ >L JWM/ W JWM/ W L> CM&lt;[ >L W NGD[ L HMN=/ L R>H[ H= &lt;MD[ DBR/ MRDKJ/ KJ NGD[ L >CR HW> JHWDJ/ </td></tr>\n",
       "</table>\n",
       "\n",
       "\n",
       "<p>ea = trans accent</p>\n",
       "<table class=\"t\">\n",
       "<tr><td class=\"vl\">Esther 3:4</td><td class=\"e\">WAJ:HI81J K.:>@M:R@70m >;L@JW03 JO74Wm W@JO80Wm W:LO71> C@MA73&lt; >:AL;JHE92m WAJ.AG.I74JDW. L:H@M@81n LIR:>OWT03 H:AJA45&lt;AM:DW.03 D.IB:R;74J M@R:D.:@KA80J K.I45J&amp;HIG.I71JD L@HE73m >:ACER&amp;H71W.> J:HW.DI45J00\n",
       "</td></tr>\n",
       "</table>\n",
       "\n",
       "\n",
       "<p>ev = trans vowel</p>\n",
       "<table class=\"t\">\n",
       "<tr><td class=\"vl\">Esther 3:4</td><td class=\"e\">WAJ:HIJ K.:>@M:R@m >;L@JW JOWm W@JOWm W:LO> C@MA&lt; >:AL;JHEm WAJ.AG.IJDW. L:H@M@n LIR:>OWT H:AJA&lt;AM:DW. D.IB:R;J M@R:D.:@KAJ K.IJ&amp;HIG.IJD L@HEm >:ACER&amp;HW.> J:HW.DIJ00\n",
       "</td></tr>\n",
       "</table>\n",
       "\n",
       "\n",
       "<p>ec = trans cons</p>\n",
       "<table class=\"t\">\n",
       "<tr><td class=\"vl\">Esther 3:4</td><td class=\"e\">WJHJ K>MRM >LJW JWM WJWM WL> #M&lt; >LJHM WJGJDW LHMN LR>WT HJ&lt;MDW DBRJ MRDKJ KJ&amp;HGJD LHM >#R&amp;HW> JHWDJ00\n",
       "</td></tr>\n",
       "</table>\n",
       "\n",
       "\n",
       "<p>pf = phono full</p>\n",
       "<table class=\"t\">\n",
       "<tr><td class=\"vl\">Esther 3:4</td><td class=\"p\">wayᵊhˈî kᵊʔomrˈām ʔēlāʸw yˈôm wāyˈôm wᵊlˌō šāmˌaʕ ʔᵃlêhˈem wayyaggˈîḏû lᵊhāmˈān lirᵊʔôṯ hᵃyˈaʕamᵊḏû divrˈê mordᵒḵˈay kˈî-higgˌîḏ lāhˌem ʔᵃšer-hˌû yᵊhûḏˈî .\n",
       "</td></tr>\n",
       "</table>\n",
       "\n",
       "\n",
       "<p>ps = phono simple</p>\n",
       "<table class=\"t\">\n",
       "<tr><td class=\"vl\">Esther 3:4</td><td class=\"p\">wayhî kʔåmråm ʔēlåʸw yôm wåyôm wlō šåmaʕ ʔlêhem wayyaggîḏû lhåmån lirʔôṯ hyaʕamḏû divrê mårdḵay kî-higgîḏ låhem ʔšer-hû yhûḏî .\n",
       "</td></tr>\n",
       "</table>\n",
       "\n"
      ],
      "text/plain": [
       "<IPython.core.display.HTML object>"
      ]
     },
     "execution_count": 20,
     "metadata": {},
     "output_type": "execute_result"
    }
   ],
   "source": [
    "HTML(examples['Hebrew'])"
   ]
  },
  {
   "cell_type": "code",
   "execution_count": 21,
   "metadata": {
    "collapsed": false
   },
   "outputs": [
    {
     "data": {
      "text/html": [
       "<p>gp = greek primary</p>\n",
       "<table class=\"t\">\n",
       "<tr><td class=\"vl\">John 3:16</td><td class=\"g\">γὰρ Οὕτως ἠγάπησεν ὁ θεὸς τὸν κόσμον ὥστε τὸν υἱὸν τὸν μονογενῆ ἔδωκεν,ἵνα πᾶς ὁ πιστεύων εἰς αὐτὸν μὴ ἀπόληται ἀλλὰ ἔχῃ ζωὴν αἰώνιον.\n",
       "</td></tr>\n",
       "</table>\n",
       "\n"
      ],
      "text/plain": [
       "<IPython.core.display.HTML object>"
      ]
     },
     "execution_count": 21,
     "metadata": {},
     "output_type": "execute_result"
    }
   ],
   "source": [
    "HTML(examples['Greek'])"
   ]
  },
  {
   "cell_type": "markdown",
   "metadata": {},
   "source": [
    "**Start the program here**"
   ]
  },
  {
   "cell_type": "code",
   "execution_count": 1,
   "metadata": {
    "collapsed": false
   },
   "outputs": [
    {
     "name": "stderr",
     "output_type": "stream",
     "text": [
      "  0.00s This is LAF-Fabric 4.7.2\n",
      "API reference: http://laf-fabric.readthedocs.org/en/latest/texts/API-reference.html\n",
      "Feature doc: https://shebanq.ancient-data.org/static/docs/featuredoc/texts/welcome.html\n",
      "\n",
      "  0.00s This is LAF-Fabric 4.7.2\n",
      "API reference: http://laf-fabric.readthedocs.org/en/latest/texts/API-reference.html\n",
      "Feature doc: https://shebanq.ancient-data.org/static/docs/featuredoc/texts/welcome.html\n",
      "\n"
     ]
    }
   ],
   "source": [
    "import sys\n",
    "import collections\n",
    "from IPython.display import HTML, display_pretty, display_html\n",
    "\n",
    "from laf.fabric import LafFabric\n",
    "from etcbc.preprocess import prep\n",
    "from etcbc.lib import Transcription\n",
    "\n",
    "biblangs = ('Hebrew', 'Greek')\n",
    "\n",
    "# We initialize two fabrics and put them in a dict, keyed with biblang\n",
    "\n",
    "fabric = dict((biblang, LafFabric()) for biblang in biblangs)\n",
    "API = {}\n",
    "\n",
    "# We have two source+version combinations, one for each biblang\n",
    "\n",
    "source = dict(((biblangs[0], 'etcbc'), (biblangs[1], 'sblgnt')))\n",
    "version = dict(((biblangs[0], '4b'), (biblangs[1], '')))\n",
    "\n",
    "# this will hold the examples that we produce, keyed by biblang\n",
    "examples = {}"
   ]
  },
  {
   "cell_type": "markdown",
   "metadata": {},
   "source": [
    "We are going to load the APIs for Hebrew and Greek separately, and store them in the dict `API`, keyed by *biblang*."
   ]
  },
  {
   "cell_type": "markdown",
   "metadata": {},
   "source": [
    "# Load the Hebrew API"
   ]
  },
  {
   "cell_type": "code",
   "execution_count": 2,
   "metadata": {
    "collapsed": false
   },
   "outputs": [
    {
     "name": "stderr",
     "output_type": "stream",
     "text": [
      "  0.00s LOADING API: please wait ... \n",
      "  0.00s USING main: etcbc4b DATA COMPILED AT: 2015-11-02T15-08-56\n",
      "  0.00s USING annox: lexicon DATA COMPILED AT: 2016-07-08T14-32-54\n",
      "  3.20s LOGFILE=/Users/dirk/laf/laf-fabric-output/etcbc4b/plain/__log__plain.txt\n",
      "  3.20s INFO: LOADING PREPARED data: please wait ... \n",
      "  3.20s prep prep: G.node_sort\n",
      "  3.30s prep prep: G.node_sort_inv\n",
      "  3.83s prep prep: L.node_up\n",
      "  7.06s prep prep: L.node_down\n",
      "    13s prep prep: V.verses\n",
      "    13s prep prep: V.books_la\n",
      "    13s ETCBC reference: http://laf-fabric.readthedocs.org/en/latest/texts/ETCBC-reference.html\n",
      "    15s INFO: LOADED PREPARED data\n",
      "    15s INFO: DATA LOADED FROM SOURCE etcbc4b AND ANNOX lexicon FOR TASK plain AT 2016-09-09T09-47-07\n"
     ]
    }
   ],
   "source": [
    "biblang = 'Hebrew'\n",
    "fabric[biblang].load(source[biblang]+version[biblang], 'lexicon', 'plain', {\n",
    "    \"xmlids\": {\"node\": False, \"edge\": False},\n",
    "    \"features\": ('''\n",
    "        otype\n",
    "        lex_utf8\n",
    "        sp\n",
    "        label\n",
    "        monads\n",
    "    ''',''),\n",
    "    \"prepare\": prep('Hebrew'),\n",
    "    \"primary\": False,\n",
    "})\n",
    "exec(fabric[biblang].llocalnames.format(var='fabric[biblang]', biblang=biblang))"
   ]
  },
  {
   "cell_type": "markdown",
   "metadata": {},
   "source": [
    "# Load the Greek API"
   ]
  },
  {
   "cell_type": "code",
   "execution_count": 3,
   "metadata": {
    "collapsed": false
   },
   "outputs": [
    {
     "name": "stderr",
     "output_type": "stream",
     "text": [
      "  0.00s LOADING API: please wait ... \n",
      "  0.00s USING main: sblgnt DATA COMPILED AT: 2016-09-09T06-57-44\n",
      "  0.52s LOGFILE=/Users/dirk/laf/laf-fabric-output/sblgnt/plain/__log__plain.txt\n",
      "  0.52s INFO: LOADING PREPARED data: please wait ... \n",
      "  0.52s prep prep: G.node_sort\n",
      "  0.55s prep prep: G.node_sort_inv\n",
      "  0.69s prep prep: L.node_up\n",
      "  1.16s prep prep: L.node_down\n",
      "  2.29s prep prep: V.verses\n",
      "  2.29s prep prep: V.books_la\n",
      "  2.30s ETCBC reference: http://laf-fabric.readthedocs.org/en/latest/texts/ETCBC-reference.html\n",
      "  2.55s INFO: LOADED PREPARED data\n",
      "  2.55s INFO: DATA LOADED FROM SOURCE sblgnt AND ANNOX  FOR TASK plain AT 2016-09-09T09-47-10\n"
     ]
    }
   ],
   "source": [
    "biblang = 'Greek'\n",
    "API[biblang] = fabric[biblang].load(source[biblang]+version[biblang], '', 'plain', {\n",
    "    \"xmlids\": {\"node\": False, \"edge\": False},\n",
    "    \"features\": ('''\n",
    "        otype\n",
    "        unicode\n",
    "        unicodetrailer\n",
    "        book chapter verse\n",
    "    ''',''),\n",
    "    \"prepare\": prep('Greek'),\n",
    "    \"primary\": False,\n",
    "})\n",
    "exec(fabric[biblang].llocalnames.format(var='fabric[biblang]', biblang=biblang))"
   ]
  },
  {
   "cell_type": "markdown",
   "metadata": {},
   "source": [
    "Normally, we used API elements like `F` and `T` just by their short names, because we inject them into the local name space after loading the API by this statement:\n",
    "\n",
    "    exec(fabric.localnames.format(var='fabric'))\n",
    "    \n",
    "But now we have two `T`s and two `F`s, one for each API. Instead we use the following statements:\n",
    "\n",
    "    exec(fabric[biblang].llocalnames.format(var='fabric[biblang]', biblang=biblang))\n",
    "\n",
    "for `biblang` having the values `'Hebrew'` and `'Greek'`.\n",
    "\n",
    "They also inject `T` and `F` into the local name space, but now they are dicts, keyed\n",
    "by whatever you pass to biblang.\n",
    "\n",
    "So instead of using `T`, we find the T API in `T['Hebrew']` and `T['Greek']`.\n",
    "\n",
    "We define dicts named `T` and `F` keyed by *biblang* and containing the API elements `T` and `F` for the respective APIs. Likewise for the other API elements we need."
   ]
  },
  {
   "cell_type": "markdown",
   "metadata": {},
   "source": [
    "## Run the examples"
   ]
  },
  {
   "cell_type": "code",
   "execution_count": 4,
   "metadata": {
    "collapsed": false
   },
   "outputs": [
    {
     "name": "stderr",
     "output_type": "stream",
     "text": [
      "  2.57s Hebrew: Format hp  = hebrew primary\n",
      "  2.57s Hebrew: Format hpl = hebrew primary (lexeme)\n",
      "  2.57s Hebrew: Format hcl = hebrew cons (lexeme)\n",
      "  2.58s Hebrew: Format ha  = hebrew accent\n",
      "  2.58s Hebrew: Format hv  = hebrew vowel\n",
      "  2.58s Hebrew: Format hc  = hebrew cons\n",
      "  2.58s Hebrew: Format ep  = trans primary\n",
      "  2.58s Hebrew: Format epl = trans primary (lexeme)\n",
      "  2.58s Hebrew: Format ecl = hebrew cons (lexeme)\n",
      "  2.58s Hebrew: Format ea  = trans accent\n",
      "  2.59s Hebrew: Format ev  = trans vowel\n",
      "  2.59s Hebrew: Format ec  = trans cons\n",
      "  2.59s Hebrew: Format pf  = phono full\n",
      "  2.59s Hebrew: Format ps  = phono simple\n",
      "  0.03s Greek : Format gp  = greek primary\n"
     ]
    }
   ],
   "source": [
    "demopassage = {\n",
    "    'Hebrew': ('Esther', 3, 4),\n",
    "    'Greek':  ('John', 3, 16),\n",
    "}\n",
    "for biblang in biblangs:\n",
    "    TT = T[biblang]\n",
    "    Msg = msg[biblang]\n",
    "    html = []\n",
    "    for fmt in TT.formats():\n",
    "        fmtx = TT.formats()[fmt][0]\n",
    "        Msg('{:<6}: Format {:<3} = {}'.format(biblang, fmt, fmtx))\n",
    "        html.append('<p>{} = {}</p>'.format(fmt, fmtx))\n",
    "        html.append(\n",
    "            TT.text(\n",
    "                *demopassage[biblang],\n",
    "                fmt=fmt,\n",
    "                verse_label=True,\n",
    "                html=True,\n",
    "            ))\n",
    "    examples[biblang] = '\\n'.join(html)"
   ]
  },
  {
   "cell_type": "markdown",
   "metadata": {},
   "source": [
    "**Now you can run the examples near the top of this notebook.**\n",
    "After that you can tweak the styles further:"
   ]
  },
  {
   "cell_type": "markdown",
   "metadata": {},
   "source": [
    "## HTML formatting\n",
    "\n",
    "You can tweak the HTML styles easily."
   ]
  },
  {
   "cell_type": "code",
   "execution_count": 5,
   "metadata": {
    "collapsed": false
   },
   "outputs": [],
   "source": [
    "def set_style(biblang, kind):\n",
    "    if biblang == 'Hebrew':\n",
    "        if kind == 'big':\n",
    "            return T[biblang].style(params=dict(\n",
    "                hebrew_color='660000',\n",
    "                hebrew_size='xx-large',\n",
    "                hebrew_line_height='2.0',\n",
    "                phono_color='ff0000',\n",
    "            ), show_params=True)\n",
    "        elif kind == 'reduced':\n",
    "            return T[biblang].style(params=dict(\n",
    "                hebrew_color='0000aa',\n",
    "                hebrew_size='x-large',\n",
    "                hebrew_line_height='2.0'\n",
    "            ))\n",
    "        elif kind == 'default':\n",
    "            return T[biblang].style()\n",
    "        else:\n",
    "            return ''\n",
    "    elif biblang == 'Greek':\n",
    "        if kind == 'big':\n",
    "            return T[biblang].style(params=dict(\n",
    "                greek_color='660000',\n",
    "                greek_size='xx-large',\n",
    "                greek_line_height='2.0',\n",
    "            ), show_params=True)\n",
    "        elif kind == 'reduced':\n",
    "            return T[biblang].style(params=dict(\n",
    "                greek_color='0000aa',\n",
    "                greek_size='x-large',\n",
    "                greek_line_height='2.0'\n",
    "            ))\n",
    "        elif kind == 'default':\n",
    "            return T[biblang].style()\n",
    "        else:\n",
    "            return ''"
   ]
  },
  {
   "cell_type": "code",
   "execution_count": 6,
   "metadata": {
    "collapsed": false
   },
   "outputs": [
    {
     "data": {
      "text/html": [
       "\n",
       "<style type=\"text/css\">\n",
       "table.t {\n",
       "    width: 100%;\n",
       "}\n",
       "td.h {\n",
       "    font-family: Ezra SIL, SBL Hebrew, Verdana, sans-serif;\n",
       "    font-size: large;\n",
       "    line-height: 1.8;\n",
       "    color: #000000;\n",
       "    text-align: right;\n",
       "    direction: rtl;\n",
       "}\n",
       "td.e {\n",
       "    font-family: Menlo, Courier New, Courier, monospace;\n",
       "    font-size: small;\n",
       "    line-height: 1.5;\n",
       "    color: #aa0066;\n",
       "    text-align: left;\n",
       "    direction: ltr;\n",
       "}\n",
       "td.p {\n",
       "    font-family: Verdana, Arial, sans-serif;\n",
       "    font-size: medium;\n",
       "    line-height: 1.5;\n",
       "    color: #00b040;\n",
       "    text-align: left;\n",
       "    direction: ltr;\n",
       "}\n",
       "\n",
       "td.vl {\n",
       "    font-family: Verdana, Arial, sans-serif;\n",
       "    font-size: small;\n",
       "    text-align: right;\n",
       "    vertical-align: top;\n",
       "    color: #0000ff;\n",
       "    width: 5em;\n",
       "    direction: ltr;\n",
       "}\n",
       "</style>\n"
      ],
      "text/plain": [
       "<IPython.core.display.HTML object>"
      ]
     },
     "execution_count": 6,
     "metadata": {},
     "output_type": "execute_result"
    }
   ],
   "source": [
    "HTML(set_style('Hebrew', 'default'))"
   ]
  },
  {
   "cell_type": "code",
   "execution_count": 7,
   "metadata": {
    "collapsed": false
   },
   "outputs": [
    {
     "name": "stdout",
     "output_type": "stream",
     "text": [
      "  0.09s greek_color = 660000\n",
      "  0.09s greek_line_height = 2.0\n",
      "  0.09s greek_size = xx-large\n",
      "  0.09s verse_color = 0000ff\n",
      "  0.09s verse_size = small\n",
      "  0.10s verse_width = 5em\n"
     ]
    },
    {
     "data": {
      "text/html": [
       "\n",
       "<style type=\"text/css\">\n",
       "table.t {\n",
       "    width: 100%;\n",
       "}\n",
       "td.g {\n",
       "    font-family: Galatia SIL, SBL Greek, Verdana, sans-serif;\n",
       "    font-size: xx-large;\n",
       "    line-height: 2.0;\n",
       "    color: #660000;\n",
       "    text-align: left;\n",
       "    direction: ltr;\n",
       "}\n",
       "\n",
       "td.vl {\n",
       "    font-family: Verdana, Arial, sans-serif;\n",
       "    font-size: small;\n",
       "    text-align: right;\n",
       "    vertical-align: top;\n",
       "    color: #0000ff;\n",
       "    width: 5em;\n",
       "    direction: ltr;\n",
       "}\n",
       "</style>\n"
      ],
      "text/plain": [
       "<IPython.core.display.HTML object>"
      ]
     },
     "execution_count": 7,
     "metadata": {},
     "output_type": "execute_result"
    }
   ],
   "source": [
    "HTML(set_style('Greek', 'big'))"
   ]
  },
  {
   "cell_type": "markdown",
   "metadata": {},
   "source": [
    "# Passage look up\n",
    "\n",
    "Here we show how to look up the passage of any given node.\n",
    "There is some subtlety involved, because nodes may represent a whole book, chapter or verse, and some sentences span multiple verses. Have a good look at the examples."
   ]
  },
  {
   "cell_type": "code",
   "execution_count": 8,
   "metadata": {
    "collapsed": false
   },
   "outputs": [
    {
     "name": "stdout",
     "output_type": "stream",
     "text": [
      "  2.69s Hebrew: Gathering example nodes\n",
      "    11s Hebrew: Found 17 example nodes\n",
      " 100000 word            occurs in Deuteronomy 11:19         first word Deuteronomy 11:19\n",
      " 446568 clause          occurs in Deuteronomy 25:9          first word Deuteronomy 25:9\n",
      " 635133 phrase          occurs in Exodus 36:29              first word Exodus 36:29\n",
      "1125838 sentence        occurs in Genesis 1:17-18           first word Genesis 1:17\n",
      "1125875 sentence        occurs in Genesis 1:29-30           first word Genesis 1:29\n",
      "1125890 sentence        occurs in Genesis 2:4-7             first word Genesis 2:4\n",
      "1126231 sentence        occurs in Genesis 7:2-3             first word Genesis 7:2\n",
      "1126238 sentence        occurs in Genesis 7:8-9             first word Genesis 7:8\n",
      "1126244 sentence        occurs in Genesis 7:13-14           first word Genesis 7:13\n",
      "1126337 sentence        occurs in Genesis 9:9-10            first word Genesis 9:9\n",
      "1126400 sentence        occurs in Genesis 10:11-12          first word Genesis 10:11\n",
      "1126402 sentence        occurs in Genesis 10:13-14          first word Genesis 10:13\n",
      "1126403 sentence        occurs in Genesis 10:15-18          first word Genesis 10:15\n",
      "1135793 sentence        occurs in Numbers 1:30              first word Numbers 1:30\n",
      "1367498 book            occurs in Exodus                    first word Exodus\n",
      "1367636 chapter         occurs in Leviticus 11              first word Leviticus 11\n",
      "1414645 verse           occurs in Genesis 34:20             first word Genesis 34:20\n",
      "  8.45s Greek: Gathering example nodes\n",
      "    10s Greek: Found 17 example nodes\n",
      " 100000 word            occurs in 2_Corinthians 8:13        first word 2_Corinthians 8:13\n",
      " 158493 clause          occurs in Luke 20:25                first word Luke 20:25\n",
      " 223582 phrase          occurs in Luke 1:20                 first word Luke 1:20\n",
      " 336105 sentence        occurs in Matthew 1:2-6             first word Matthew 1:2\n",
      " 336106 sentence        occurs in Matthew 1:6-11            first word Matthew 1:6\n",
      " 336107 sentence        occurs in Matthew 1:12-16           first word Matthew 1:12\n",
      " 336112 sentence        occurs in Matthew 1:20-21           first word Matthew 1:20\n",
      " 336113 sentence        occurs in Matthew 1:22-23           first word Matthew 1:22\n",
      " 336114 sentence        occurs in Matthew 1:24-25           first word Matthew 1:24\n",
      " 336115 sentence        occurs in Matthew 2:1-2             first word Matthew 2:1\n",
      " 336116 sentence        occurs in Matthew 2:3-4             first word Matthew 2:3\n",
      " 336117 sentence        occurs in Matthew 2:5-6             first word Matthew 2:5\n",
      " 336118 sentence        occurs in Matthew 2:7-8             first word Matthew 2:7\n",
      " 338104 sentence        occurs in Luke 4:23                 first word Luke 4:23\n",
      " 344113 book            occurs in Mark                      first word Mark\n",
      " 344239 chapter         occurs in Acts 12                   first word Acts 12\n",
      " 345399 verse           occurs in Matthew 27:19             first word Matthew 27:19\n"
     ]
    }
   ],
   "source": [
    "for biblang in biblangs:\n",
    "    Inf = inf[biblang]\n",
    "    FF = F[biblang]\n",
    "    TT = T[biblang]\n",
    "    LL = L[biblang]\n",
    "    Inf('{}: Gathering example nodes'.format(biblang))\n",
    "    example_nodes = {\n",
    "            list(FF.otype.s('book'))[1],\n",
    "            list(FF.otype.s('chapter'))[100],\n",
    "            list(FF.otype.s('verse'))[1000],\n",
    "            list(FF.otype.s('sentence'))[10000],\n",
    "            list(FF.otype.s('clause'))[20000],\n",
    "            list(FF.otype.s('phrase'))[30000],\n",
    "            list(FF.otype.s('word'))[100000],\n",
    "        } | set([s for s in FF.otype.s('sentence') if LL.u('verse', s) == None][0:10]) \\\n",
    "        if biblang == 'Hebrew' else {\n",
    "            list(FF.db_otype.s('book'))[1],\n",
    "            list(FF.db_otype.s('chapter'))[100],\n",
    "            list(FF.db_otype.s('verse'))[1000],\n",
    "            list(FF.db_otype.s('sentence'))[2000],\n",
    "            list(FF.db_otype.s('clause'))[20000],\n",
    "            list(FF.db_otype.s('phrase'))[30000],\n",
    "            list(FF.db_otype.s('word'))[100000],\n",
    "        } | set([s for s in FF.db_otype.s('sentence') if LL.u('verse', s) == None][0:10])\n",
    "    Inf('{}: Found {} example nodes'.format(biblang, len(example_nodes)))\n",
    "    for n in sorted(example_nodes):\n",
    "        Inf('{:>7} {:<15} occurs in {:<25} first word {}'.format(\n",
    "            n, FF.otype.v(n),\n",
    "            TT.passage(n, lang='en'), \n",
    "            TT.passage(n, lang='en', first_word=True)\n",
    "        ), withtime=False)"
   ]
  },
  {
   "cell_type": "markdown",
   "metadata": {},
   "source": [
    "# Whole Bible\n",
    "\n",
    "Generate the complete text in all representations."
   ]
  },
  {
   "cell_type": "code",
   "execution_count": 9,
   "metadata": {
    "collapsed": false
   },
   "outputs": [
    {
     "name": "stdout",
     "output_type": "stream",
     "text": [
      "    13s Hebrew: Writing the complete text in several representations\n",
      "    13s etcbc4b_hp_v.txt\n",
      "    14s etcbc4b_hp.txt\n",
      "    15s etcbc4b_hpl_v.txt\n",
      "    15s etcbc4b_hpl.txt\n",
      "    15s etcbc4b_hcl_v.txt\n",
      "    16s etcbc4b_hcl.txt\n",
      "    17s etcbc4b_ha_v.txt\n",
      "    23s etcbc4b_ha.txt\n",
      "    29s etcbc4b_hv_v.txt\n",
      "    36s etcbc4b_hv.txt\n",
      "    42s etcbc4b_hc_v.txt\n",
      "    50s etcbc4b_hc.txt\n",
      "    58s etcbc4b_ep_v.txt\n",
      "    59s etcbc4b_ep.txt\n",
      "    59s etcbc4b_epl_v.txt\n",
      " 1m 00s etcbc4b_epl.txt\n",
      " 1m 00s etcbc4b_ecl_v.txt\n",
      " 1m 01s etcbc4b_ecl.txt\n",
      " 1m 01s etcbc4b_ea_v.txt\n",
      " 1m 04s etcbc4b_ea.txt\n",
      " 1m 07s etcbc4b_ev_v.txt\n",
      " 1m 11s etcbc4b_ev.txt\n",
      " 1m 14s etcbc4b_ec_v.txt\n",
      " 1m 20s etcbc4b_ec.txt\n",
      " 1m 26s etcbc4b_pf_v.txt\n",
      " 1m 27s etcbc4b_pf.txt\n",
      " 1m 28s etcbc4b_ps_v.txt\n",
      " 1m 30s etcbc4b_ps.txt\n",
      " 1m 32s Done\n",
      " 1m 29s Greek: Writing the complete text in several representations\n",
      " 1m 29s sblgnt_gp_v.txt\n",
      " 1m 30s sblgnt_gp.txt\n",
      " 1m 30s Done\n"
     ]
    }
   ],
   "source": [
    "for biblang in biblangs:\n",
    "    Inf = inf[biblang]\n",
    "    TT = T[biblang]\n",
    "    Outfile = outfile[biblang]\n",
    "    \n",
    "    Inf('{}: Writing the complete text in several representations'.format(biblang))\n",
    "    for fmt in TT.formats():\n",
    "        for vl in (True, False):\n",
    "            file_name = '{}{}_{}{}.txt'.format(\n",
    "                source[biblang], version[biblang],\n",
    "                fmt, '_v' if vl else ''\n",
    "            )\n",
    "            fl = Outfile(file_name)\n",
    "            Inf(file_name)\n",
    "            fl.write(TT.text(fmt=fmt, verse_label=vl))\n",
    "            fl.close()\n",
    "    Inf('Done')"
   ]
  },
  {
   "cell_type": "code",
   "execution_count": 10,
   "metadata": {
    "collapsed": false
   },
   "outputs": [
    {
     "name": "stdout",
     "output_type": "stream",
     "text": [
      "\n",
      "etcbc4b_hp_v.txt\n",
      "Genesis 1:1\tבְּרֵאשִׁ֖ית בָּרָ֣א אֱלֹהִ֑ים אֵ֥ת הַשָּׁמַ֖יִם וְאֵ֥ת הָאָֽרֶץ׃\n",
      "Genesis 1:2\tוְהָאָ֗רֶץ הָיְתָ֥ה תֹ֨הוּ֙ וָבֹ֔הוּ וְחֹ֖שֶׁךְ עַל־פְּנֵ֣י תְהֹ֑ום וְר֣וּחַ אֱלֹהִ֔ים מְרַחֶ֖פֶת עַל־פְּנֵ֥י הַמָּֽיִם׃\n",
      "\n",
      "etcbc4b_hpl_v.txt\n",
      "Genesis 1:1\tבְּ רֵאשִׁית בָּרָא אֱלֹה אֵת הַ שָּׁמַי וְ אֵת הָ אָרֶץ \n",
      "Genesis 1:2\tוְ הָ אָרֶץ הָי תֹהוּ וָ בֹהוּ וְ חֹשֶׁךְ עַל פְּן תְהֹום וְ רוּחַ אֱלֹה רַחֶף עַל פְּן הַ מָּי \n",
      "\n",
      "etcbc4b_hcl_v.txt\n",
      "Genesis 1:1\tב ראשׁית ברא אלהים את ה שׁמים ו את ה ארץ \n",
      "Genesis 1:2\tו ה ארץ היה תהו ו בהו ו חשׁך על פנה תהום ו רוח אלהים רחף על פנה ה מים \n",
      "\n",
      "etcbc4b_ha_v.txt\n",
      "Genesis 1:1\tבְּרֵאשִׁ֖ית בָּרָ֣א אֱלֹהִ֑ים אֵ֥ת הַשָּׁמַ֖יִם וְאֵ֥ת הָאָֽרֶץ׃\n",
      "Genesis 1:2\tוְהָאָ֗רֶץ הָיְתָ֥ה תֹ֨הוּ֙ וָבֹ֔הוּ וְחֹ֖שֶׁךְ עַל־פְּנֵ֣י תְהֹ֑ום וְר֣וּחַ אֱלֹהִ֔ים מְרַחֶ֖פֶת עַל־פְּנֵ֥י הַמָּֽיִם׃\n",
      "\n",
      "etcbc4b_hv_v.txt\n",
      "Genesis 1:1\tבְּרֵאשִׁית בָּרָא אֱלֹהִים אֵת הַשָּׁמַיִם וְאֵת הָאָרֶץ׃\n",
      "Genesis 1:2\tוְהָאָרֶץ הָיְתָה תֹהוּ וָבֹהוּ וְחֹשֶׁךְ עַל־פְּנֵי תְהֹום וְרוּחַ אֱלֹהִים מְרַחֶפֶת עַל־פְּנֵי הַמָּיִם׃\n",
      "\n",
      "etcbc4b_hc_v.txt\n",
      "Genesis 1:1\tבראשית ברא אלהימ את השמימ ואת הארצ׃\n",
      "Genesis 1:2\tוהארצ היתה תהו ובהו וחשכ על־פני תהומ ורוח אלהימ מרחפת על־פני המימ׃\n",
      "\n",
      "etcbc4b_ep_v.txt\n",
      "Genesis 1:1\tB.:-R;>CI73JTB.@R@74>>:ELOHI92JM>;71THA-C.@MA73JIMW:->;71TH@->@75REY00\n",
      "Genesis 1:2\tW:-H@->@81REYH@J:T@71HTO33HW.03W@-BO80HW.W:-XO73CEK:<AL&P.:N;74JT:HO92WMW:-R74W.XA>:ELOHI80JMM:RAXE73PET<AL&P.:N;71JHA-M.@75JIM00\n",
      "\n",
      "etcbc4b_epl_v.txt\n",
      "Genesis 1:1\tB.:- R;>CIJT B.@R@> >:ELOH >;T HA- C.@MAJ W:- >;T H@- >@REY \n",
      "Genesis 1:2\tW:- H@- >@REY H@J TOHW. W@- BOHW. W:- XOCEK: <AL P.:N T:HOWM W:- RW.XA >:ELOH RAXEP <AL P.:N HA- M.@J \n",
      "\n",
      "etcbc4b_ecl_v.txt\n",
      "Genesis 1:1\tB R>CJT/ BR>[ >LHJM/ >T H CMJM/ W >T H >RY/ \n",
      "Genesis 1:2\tW H >RY/ HJH[ THW/ W BHW/ W XCK/ <L PNH/ THWM/ W RWX/ >LHJM/ RXP[ <L PNH/ H MJM/ \n",
      "\n",
      "etcbc4b_ea_v.txt\n",
      "Genesis 1:1\tB.:R;>CI73JT B.@R@74> >:ELOHI92Jm >;71T HAC.@MA73JIm W:>;71T H@>@45REy00\n",
      "Genesis 1:2\tW:H@>@81REy H@J:T@71H TO63HW.03 W@BO80HW. W:XO73CEk: <AL&P.:N;74J T:HO92Wm W:R74W.XA >:ELOHI80Jm M:RAXE73PET <AL&P.:N;71J HAM.@45JIm00\n",
      "\n",
      "etcbc4b_ev_v.txt\n",
      "Genesis 1:1\tB.:R;>CIJT B.@R@> >:ELOHIJm >;T HAC.@MAJIm W:>;T H@>@REy00\n",
      "Genesis 1:2\tW:H@>@REy H@J:T@H TOHW. W@BOHW. W:XOCEk: <AL&P.:N;J T:HOWm W:RW.XA >:ELOHIJm M:RAXEPET <AL&P.:N;J HAM.@JIm00\n",
      "\n",
      "etcbc4b_ec_v.txt\n",
      "Genesis 1:1\tBR>#JT BR> >LHJM >T H#MJM W>T H>RY00\n",
      "Genesis 1:2\tWH>RY HJTH THW WBHW WX#K <L&PNJ THWM WRWX >LHJM MRXPT <L&PNJ HMJM00\n",
      "\n",
      "etcbc4b_pf_v.txt\n",
      "Genesis 1:1\tbᵊrēšˌîṯ bārˈā ʔᵉlōhˈîm ʔˌēṯ haššāmˌayim wᵊʔˌēṯ hāʔˈāreṣ .\n",
      "Genesis 1:2\twᵊhāʔˈāreṣ hāyᵊṯˌā ṯˈōhû wāvˈōhû wᵊḥˌōšeḵ ʕal-pᵊnˈê ṯᵊhˈôm wᵊrˈûₐḥ ʔᵉlōhˈîm mᵊraḥˌefeṯ ʕal-pᵊnˌê hammˈāyim .\n",
      "\n",
      "etcbc4b_ps_v.txt\n",
      "Genesis 1:1\tbrēšîṯ bårå ʔlōhîm ʔēṯ haššåmayim wʔēṯ håʔåreṣ .\n",
      "Genesis 1:2\twhåʔåreṣ håyṯå ṯōhû wåvōhû wḥōšeḵ ʕal-pnê ṯhôm wrûₐḥ ʔlōhîm mraḥefeṯ ʕal-pnê hammåyim .\n",
      "\n",
      "sblgnt_gp_v.txt\n",
      "Matthew 1:1\tΒίβλος γενέσεως Ἰησοῦ χριστοῦ υἱοῦ Δαυὶδ υἱοῦ Ἀβραάμ.\n",
      "Matthew 1:2\tἈβραὰμ ἐγέννησεν τὸν Ἰσαάκ,δὲ Ἰσαὰκ ἐγέννησεν τὸν Ἰακώβ,δὲ Ἰακὼβ ἐγέννησεν τὸν Ἰούδαν καὶ τοὺς ἀδελφοὺς αὐτοῦ,\n"
     ]
    }
   ],
   "source": [
    "show_limit = 2\n",
    "for biblang in biblangs:\n",
    "    TT = T[biblang]\n",
    "    Infile = infile[biblang]\n",
    "\n",
    "    for fmt in TT.formats():\n",
    "        file_name = '{}{}_{}_v.txt'.format(source[biblang], version[biblang], fmt)\n",
    "        i = 0\n",
    "        fl = Infile(file_name)\n",
    "        print('\\n{}'.format(file_name))\n",
    "        for line in fl:\n",
    "            if i == show_limit: break\n",
    "            i += 1\n",
    "            sys.stdout.write(line)\n",
    "        fl.close()"
   ]
  },
  {
   "cell_type": "markdown",
   "metadata": {},
   "source": [
    "# Count the number of characters in the plain text\n",
    "\n",
    "We want to know how many characters the Hebrew Bible has.\n",
    "We will measure it in the number of unicode characters.\n",
    "We want to count every s(h)in as one graphemes, so we have to make sure that we compose those unicode characters.\n",
    "Note that unicode composition does not compose other points and accents with consonants to single letters."
   ]
  },
  {
   "cell_type": "code",
   "execution_count": 11,
   "metadata": {
    "collapsed": true
   },
   "outputs": [],
   "source": [
    "from unicodedata import normalize"
   ]
  },
  {
   "cell_type": "code",
   "execution_count": 12,
   "metadata": {
    "collapsed": true
   },
   "outputs": [],
   "source": [
    "biblang = 'Hebrew'\n",
    "TT = T[biblang]\n",
    "NNn = NN[biblang]\n",
    "FF = F[biblang]\n",
    "Inf = inf[biblang]\n"
   ]
  },
  {
   "cell_type": "code",
   "execution_count": 13,
   "metadata": {
    "collapsed": false
   },
   "outputs": [
    {
     "name": "stdout",
     "output_type": "stream",
     "text": [
      " 11; c= 12; d= 12; בְּרֵאשִׁ֖ית\n",
      "  7; c=  7; d=  7; בָּרָ֣א\n",
      "  9; c=  9; d=  9; אֱלֹהִ֑ים\n",
      "  4; c=  4; d=  4; אֵ֥ת\n",
      " 11; c= 12; d= 12; הַשָּׁמַ֖יִם\n",
      "  6; c=  6; d=  6; וְאֵ֥ת\n",
      " 10; c= 10; d= 10; הָאָֽרֶץ׃\n",
      "\n"
     ]
    }
   ],
   "source": [
    "example = TT.text('Genesis', 1, 1, fmt='ha', verse_label=False).split(' ')\n",
    "for ex in example:\n",
    "    ex_c = normalize('NFKC', ex)\n",
    "    ex_d = normalize('NFKD', ex)\n",
    "    print('{:>3}; c={:>3}; d={:>3}; {}'.format(len(ex), len(ex_c), len(ex_d), ex))"
   ]
  },
  {
   "cell_type": "code",
   "execution_count": 14,
   "metadata": {
    "collapsed": false
   },
   "outputs": [
    {
     "name": "stdout",
     "output_type": "stream",
     "text": [
      "2831192\n"
     ]
    }
   ],
   "source": [
    "full_text = TT.text(fmt='ha', verse_label=False)\n",
    "print(len(normalize('NFKC', full_text)))"
   ]
  },
  {
   "cell_type": "markdown",
   "metadata": {},
   "source": [
    "## Trailer\n",
    "\n",
    "Here is a list of all the different trailing material and their number of occurrences."
   ]
  },
  {
   "cell_type": "code",
   "execution_count": 15,
   "metadata": {
    "collapsed": false
   },
   "outputs": [],
   "source": [
    "biblang = 'Hebrew'\n"
   ]
  },
  {
   "cell_type": "code",
   "execution_count": 16,
   "metadata": {
    "collapsed": false
   },
   "outputs": [
    {
     "name": "stdout",
     "output_type": "stream",
     "text": [
      " 1m 40s Exploring trailers\n",
      " 1m 42s Done. Found 12 trailers in Hebrew text and 3 trailers in phonemic text\n",
      " 1m 42s Trailers in Hebrew text:\n",
      " 237039 x [_]\n",
      " 121796 x [ø]\n",
      "  42275 x [־]\n",
      "  20037 x [׃\\n]\n",
      "   2266 x [_׀_]\n",
      "   1892 x [׃_ס_\\n]\n",
      "   1165 x [׃_פ_\\n]\n",
      "     76 x [_ס_]\n",
      "     13 x [_פ_]\n",
      "      7 x [׃_׆̇_\\n]\n",
      "      1 x [׃_׆̇_ס__\\n]\n",
      "      1 x [׃_׆̇_פ__\\n]\n",
      "Trailers in phonemic text:\n",
      " 239251 x [_]\n",
      " 164105 x [ø]\n",
      "  23212 x [_.]\n",
      "Mapping between trailers in Hebrew and phonemic text:\n",
      "      ø => ø, _\n",
      "      _ => ø, _, _.\n",
      "    _׀_ => _\n",
      "    _ס_ => _\n",
      "    _פ_ => _\n",
      "      ־ => ø\n",
      "    ׃\\n => _.\n",
      "׃_׆̇_\\n => _.\n",
      "׃_׆̇_ס__\\n => _.\n",
      "׃_׆̇_פ__\\n => _.\n",
      " ׃_ס_\\n => _.\n",
      " ׃_פ_\\n => _.\n"
     ]
    }
   ],
   "source": [
    "Inf('Exploring trailers')\n",
    "trailer = collections.Counter()\n",
    "trailer_ph = collections.Counter()\n",
    "trailer_map = collections.defaultdict(set)\n",
    "\n",
    "for node in NNn(test=FF.otype.v, value='word'):\n",
    "    trl = FF.trailer_utf8.v(node)\n",
    "    trl_ph = FF.phono_sep.v(node)\n",
    "    trailer[trl] += 1\n",
    "    trailer_ph[trl_ph] += 1\n",
    "    trailer_map[trl].add(trl_ph)\n",
    "\n",
    "Inf('Done. Found {} trailers in Hebrew text and {} trailers in phonemic text'.format(\n",
    "    len(trailer), len(trailer_ph),\n",
    "))\n",
    "Inf('Trailers in Hebrew text:')\n",
    "for (trl, n) in sorted(trailer.items(), key=lambda x: (-x[1], x[0])):\n",
    "    trl = 'ø' if trl == '' else trl.replace('\\n', '\\\\n').replace(' ','_')\n",
    "    print('{:>7} x [{}]'.format(n, trl))\n",
    "          \n",
    "print('Trailers in phonemic text:')\n",
    "for (trl_ph, n) in sorted(trailer_ph.items(), key=lambda x: (-x[1], x[0])):\n",
    "    trl_ph = 'ø' if trl_ph == '' else trl_ph.replace('\\n', '\\\\n').replace(' ','_')\n",
    "    print('{:>7} x [{}]'.format(n, trl_ph))\n",
    "\n",
    "print('Mapping between trailers in Hebrew and phonemic text:')\n",
    "for trl in sorted(trailer_map):\n",
    "    print('{:>7} => {}'.format(\n",
    "        'ø' if trl == '' else trl.replace('\\n', '\\\\n').replace(' ','_'), \n",
    "        ', '.join(\n",
    "                'ø' if trl_ph == '' else trl_ph.replace('\\n', '\\\\n').replace(' ','_') for trl_ph in sorted(\n",
    "                    trailer_map[trl]\n",
    "                ))\n",
    "    ))"
   ]
  },
  {
   "cell_type": "markdown",
   "metadata": {},
   "source": [
    "## Empty words"
   ]
  },
  {
   "cell_type": "markdown",
   "metadata": {},
   "source": [
    "There are words that have an empty representation.\n",
    "\n",
    "Let us have a closer look.\n",
    "How frequent are they and to what lexemes do they correspond, and what is their part of speech?"
   ]
  },
  {
   "cell_type": "code",
   "execution_count": 17,
   "metadata": {
    "collapsed": false
   },
   "outputs": [
    {
     "name": "stdout",
     "output_type": "stream",
     "text": [
      " 1m 42s Looking for empty words\n",
      " 1m 44s Done\n",
      "  6423 x art             =          ה in  GEN 01,05;  GEN 01,05;  GEN 01,07;  GEN 01,07;  GEN 01,08 ...\n"
     ]
    }
   ],
   "source": [
    "Inf('Looking for empty words')\n",
    "ewords = collections.defaultdict(lambda: [])\n",
    "verse = None\n",
    "\n",
    "for i in NNn(test=FF.otype.v, values=['verse', 'word']):\n",
    "    if FF.otype.v(i) == 'verse':\n",
    "        verse = i\n",
    "        continue\n",
    "    text = FF.g_word_utf8.v(i)\n",
    "    if text == '':\n",
    "        lex = FF.lex_utf8.v(i)\n",
    "        pos = FF.sp.v(i)\n",
    "        ewords[(lex, pos)].append(verse)\n",
    "\n",
    "Inf('Done')\n",
    "for (item, occs) in sorted(ewords.items(), key=lambda x: (-len(x[1]), x[0][1], x[0][0])):\n",
    "    print(\"{:>6} x {:<15} = {:>10} in {}{}\".format(\n",
    "        len(occs), \n",
    "        item[1], \n",
    "        item[0], \n",
    "        \"; \".join([FF.label.v(j) for j in occs][0:5]),\n",
    "        ' ...' if len(occs) > 20 else '',\n",
    "    ))\n"
   ]
  },
  {
   "cell_type": "code",
   "execution_count": 18,
   "metadata": {
    "collapsed": false
   },
   "outputs": [
    {
     "name": "stderr",
     "output_type": "stream",
     "text": [
      " 1m 44s Results directory:\n",
      "/Users/dirk/laf/laf-fabric-output/etcbc4b/plain\n",
      "\n",
      ".DS_Store                              6148 Fri Sep  9 10:08:21 2016\n",
      "__log__plain.txt                       3661 Fri Sep  9 11:48:51 2016\n",
      "etcbc4b_ea.txt                      3119734 Fri Sep  9 11:48:14 2016\n",
      "etcbc4b_ea_v.txt                    3438368 Fri Sep  9 11:48:11 2016\n",
      "etcbc4b_ec.txt                      1549212 Fri Sep  9 11:48:33 2016\n",
      "etcbc4b_ec_v.txt                    1867846 Fri Sep  9 11:48:27 2016\n",
      "etcbc4b_ecl.txt                     1760600 Fri Sep  9 11:48:08 2016\n",
      "etcbc4b_ecl_v.txt                   2079234 Fri Sep  9 11:48:08 2016\n",
      "etcbc4b_ep.txt                      2990524 Fri Sep  9 11:48:06 2016\n",
      "etcbc4b_ep_v.txt                    3309158 Fri Sep  9 11:48:06 2016\n",
      "etcbc4b_epl.txt                     2327644 Fri Sep  9 11:48:07 2016\n",
      "etcbc4b_epl_v.txt                   2646278 Fri Sep  9 11:48:07 2016\n",
      "etcbc4b_ev.txt                      2538742 Fri Sep  9 11:48:21 2016\n",
      "etcbc4b_ev_v.txt                    2857376 Fri Sep  9 11:48:18 2016\n",
      "etcbc4b_ha.txt                      5332790 Fri Sep  9 11:47:37 2016\n",
      "etcbc4b_ha_v.txt                    5651424 Fri Sep  9 11:47:30 2016\n",
      "etcbc4b_hc.txt                      2788978 Fri Sep  9 11:48:05 2016\n",
      "etcbc4b_hc_v.txt                    3107612 Fri Sep  9 11:47:57 2016\n",
      "etcbc4b_hcl.txt                     2609679 Fri Sep  9 11:47:24 2016\n",
      "etcbc4b_hcl_v.txt                   2928313 Fri Sep  9 11:47:23 2016\n",
      "etcbc4b_hp.txt                      5323663 Fri Sep  9 11:47:22 2016\n",
      "etcbc4b_hp_v.txt                    5642297 Fri Sep  9 11:47:21 2016\n",
      "etcbc4b_hpl.txt                     3960158 Fri Sep  9 11:47:23 2016\n",
      "etcbc4b_hpl_v.txt                   4278792 Fri Sep  9 11:47:22 2016\n",
      "etcbc4b_hv.txt                      4751786 Fri Sep  9 11:47:50 2016\n",
      "etcbc4b_hv_v.txt                    5070420 Fri Sep  9 11:47:43 2016\n",
      "etcbc4b_pf.txt                      3893906 Fri Sep  9 11:48:35 2016\n",
      "etcbc4b_pf_v.txt                    4212540 Fri Sep  9 11:48:34 2016\n",
      "etcbc4b_ps.txt                      2956173 Fri Sep  9 11:48:39 2016\n",
      "etcbc4b_ps_v.txt                    3274807 Fri Sep  9 11:48:37 2016\n"
     ]
    }
   ],
   "source": [
    "close['Hebrew']()"
   ]
  },
  {
   "cell_type": "code",
   "execution_count": 19,
   "metadata": {
    "collapsed": false
   },
   "outputs": [
    {
     "name": "stderr",
     "output_type": "stream",
     "text": [
      " 1m 41s Results directory:\n",
      "/Users/dirk/laf/laf-fabric-output/sblgnt/plain\n",
      "\n",
      ".DS_Store                              6148 Fri Sep  9 11:42:30 2016\n",
      "__log__plain.txt                       2401 Fri Sep  9 11:48:51 2016\n",
      "sblgnt_gp.txt                       1646554 Fri Sep  9 11:48:40 2016\n",
      "sblgnt_gp_v.txt                     1747309 Fri Sep  9 11:48:39 2016\n"
     ]
    }
   ],
   "source": [
    "close['Greek']()"
   ]
  },
  {
   "cell_type": "code",
   "execution_count": null,
   "metadata": {
    "collapsed": true
   },
   "outputs": [],
   "source": []
  }
 ],
 "metadata": {
  "kernelspec": {
   "display_name": "Python 3",
   "language": "python",
   "name": "python3"
  },
  "language_info": {
   "codemirror_mode": {
    "name": "ipython",
    "version": 3
   },
   "file_extension": ".py",
   "mimetype": "text/x-python",
   "name": "python",
   "nbconvert_exporter": "python",
   "pygments_lexer": "ipython3",
   "version": "3.5.1"
  }
 },
 "nbformat": 4,
 "nbformat_minor": 0
}
