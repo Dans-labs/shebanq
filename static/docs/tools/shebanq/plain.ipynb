{
 "cells": [
  {
   "cell_type": "markdown",
   "metadata": {},
   "source": [
    "<a href=\"http://laf-fabric.readthedocs.org/en/latest/\" target=\"_blank\"><img align=\"left\" src=\"images/laf-fabric-xsmall.png\"/></a>\n",
    "<a href=\"http://www.godgeleerdheid.vu.nl/etcbc\" target=\"_blank\"><img align=\"left\" src=\"images/VU-ETCBC-xsmall.png\"/></a>\n",
    "<a href=\"http://www.persistent-identifier.nl/?identifier=urn%3Anbn%3Anl%3Aui%3A13-048i-71\" target=\"_blank\"><img align=\"left\"src=\"images/etcbc4easy-small.png\"/></a>\n",
    "<a href=\"http://tla.mpi.nl\" target=\"_blank\"><img align=\"right\" src=\"images/TLA-xsmall.png\"/></a>\n",
    "<a href=\"http://www.dans.knaw.nl\" target=\"_blank\"><img align=\"right\"src=\"images/DANS-xsmall.png\"/></a>"
   ]
  },
  {
   "cell_type": "markdown",
   "metadata": {},
   "source": [
    "# Plain Text"
   ]
  },
  {
   "cell_type": "markdown",
   "metadata": {},
   "source": [
    "# Text from features"
   ]
  },
  {
   "cell_type": "markdown",
   "metadata": {},
   "source": [
    "We present the API functions ``T`` for generating the plain text of the Hebrew Bible.\n",
    "\n",
    "You can already retrieve a text that is identical to the primary data of the LAF resource using the\n",
    "features ``g_word_utf8`` and ``trailer_utf8``.\n",
    "\n",
    "But the ``T`` functions make it easier.\n",
    "\n",
    "* You can generate texts for words and verses, individually and collectively\n",
    "* You can specify different formats: \n",
    "  * hebrew unicode or etcbc transliteration or phonemic;\n",
    "    * and, for *hebrew* and *etcbc*: \n",
    "      * consonantal\n",
    "      * with vowels\n",
    "      * with vowels and accents\n",
    "    * and, for *phonemic*:\n",
    "      * with schwas, qamets gadol/qatan distinction and accents\n",
    "      * simplified\n",
    "* You can switch to vocalized qeres instead of ketivs\n",
    "* You can render the text in HTML and control the formatting, or get the plain text.\n",
    "\n",
    "These functions make it easy to produces texts that can be pasted into word processors.\n",
    "\n",
    "By the way, if you generate *verse labels*, you can choose the language of the book names.\n",
    "Currently we have Latin (the ETCBC choice), English (the default), and quite a few others.\n",
    "\n",
    "See the [ETCBC API documentation](http://laf-fabric.readthedocs.org/en/latest/texts/ETCBC-reference.html#texts)."
   ]
  },
  {
   "cell_type": "code",
   "execution_count": 3,
   "metadata": {
    "collapsed": false
   },
   "outputs": [
    {
     "name": "stdout",
     "output_type": "stream",
     "text": [
      "am  = amharic              = ኣማርኛ\n",
      "ar  = arabic               = العَرَبِية\n",
      "bn  = bengali              = বাংলা\n",
      "da  = danish               = Dansk\n",
      "de  = german               = Deutsch\n",
      "el  = greek                = Ελληνικά\n",
      "en  = english              = English\n",
      "es  = spanish              = Español\n",
      "fa  = farsi                = فارسی\n",
      "fr  = french               = Français\n",
      "he  = hebrew               = עברית\n",
      "hi  = hindi                = हिन्दी\n",
      "id  = indonesian           = Bahasa Indonesia\n",
      "ja  = japanese             = 日本語\n",
      "ko  = korean               = 한국어\n",
      "la  = latin                = Latina\n",
      "nl  = dutch                = Nederlands\n",
      "pa  = punjabi              = ਪੰਜਾਬੀ\n",
      "pt  = portuguese           = Português\n",
      "ru  = russian              = Русский\n",
      "sw  = swahili              = Kiswahili\n",
      "syc = syriac               = ܠܫܢܐ ܣܘܪܝܝܐ\n",
      "tr  = turkish              = Türkçe\n",
      "ur  = urdu                 = اُردُو\n",
      "yo  = yoruba               = èdè Yorùbá\n",
      "zh  = chinese              = 中文\n"
     ]
    }
   ],
   "source": [
    "# run later\n",
    "for (code, (lange, lango)) in sorted(T.langs.items()):\n",
    "    print('{:<3} = {:<20} = {}'.format(code, lange, lango))"
   ]
  },
  {
   "cell_type": "markdown",
   "metadata": {},
   "source": [
    "# Examples\n",
    "    \n",
    "This is the code to produce the Hebrew accents representation (`ha`) of a single verse:\n",
    "\n",
    "    T.text('Esther', 3, 4, fmt='ha', verse_label=True, html=True)\n",
    "    \n",
    "This is the code to produce the plain text of the whole Bible in Hebrew unicode with accents and\n",
    "with verse labels:\n",
    "\n",
    "    T.text(fmt='ha', verse_labels=True)\n",
    "\n",
    "See the [ETCBC API documentation](http://laf-fabric.readthedocs.org/en/latest/texts/ETCBC-reference.html#texts) for\n",
    "many more examples.\n",
    "\n",
    "**Run the next cell later.**"
   ]
  },
  {
   "cell_type": "code",
   "execution_count": 5,
   "metadata": {
    "collapsed": false
   },
   "outputs": [
    {
     "data": {
      "text/html": [
       "<table class=\"t\">\n",
       "<tr><td class=\"vl\">Esther 3:4</td><td class=\"h\">וַיְהִ֗י ֯ב֯אמרם אֵלָיו֙ יֹ֣ום וָיֹ֔ום וְלֹ֥א שָׁמַ֖ע אֲלֵיהֶ֑ם וַיַּגִּ֣ידוּ לְהָמָ֗ן לִרְאֹות֙ הֲיַֽעַמְדוּ֙ דִּבְרֵ֣י מָרְדֳּכַ֔י כִּֽי־הִגִּ֥יד לָהֶ֖ם אֲשֶׁר־ה֥וּא יְהוּדִֽי׃\n",
       "</td></tr>\n",
       "</table>\n",
       "\n",
       "\n",
       "<table class=\"t\">\n",
       "<tr><td class=\"vl\">Esther 3:4</td><td class=\"h\">וַיְהִ֗י כְּאָמְרָ֤ם אֵלָיו֙ יֹ֣ום וָיֹ֔ום וְלֹ֥א שָׁמַ֖ע אֲלֵיהֶ֑ם וַיַּגִּ֣ידוּ לְהָמָ֗ן לִרְאֹות֙ הֲיַֽעַמְדוּ֙ דִּבְרֵ֣י מָרְדֳּכַ֔י כִּֽי־הִגִּ֥יד לָהֶ֖ם אֲשֶׁר־ה֥וּא יְהוּדִֽי׃\n",
       "</td></tr>\n",
       "</table>\n",
       "\n",
       "\n",
       "<table class=\"t\">\n",
       "<tr><td class=\"vl\">Esther 3:4</td><td class=\"h\">וַיְהִי כְּאָמְרָם אֵלָיו יֹום וָיֹום וְלֹא שָׁמַע אֲלֵיהֶם וַיַּגִּידוּ לְהָמָן לִרְאֹות הֲיַעַמְדוּ דִּבְרֵי מָרְדֳּכַי כִּי־הִגִּיד לָהֶם אֲשֶׁר־הוּא יְהוּדִי׃\n",
       "</td></tr>\n",
       "</table>\n",
       "\n",
       "\n",
       "<table class=\"t\">\n",
       "<tr><td class=\"vl\">Esther 3:4</td><td class=\"h\">ויהי כאמרמ אליו יומ ויומ ולא שמע אליהמ ויגידו להמנ לראות היעמדו דברי מרדכי כי־הגיד להמ אשר־הוא יהודי׃\n",
       "</td></tr>\n",
       "</table>\n",
       "\n",
       "\n",
       "<table class=\"t\">\n",
       "<tr><td class=\"vl\">Esther 3:4</td><td class=\"e\">WAJ:HI81J K.:>@M:R@70m >;L@JW03 JO74Wm W@JO80Wm W:LO71> C@MA73&lt; >:AL;JHE92m WAJ.AG.I74JDW. L:H@M@81n LIR:>OWT03 H:AJA95&lt;AM:DW.03 D.IB:R;74J M@R:D.:@KA80J K.I95J&amp;HIG.I71JD L@HE73m >:ACER&amp;H71W.> J:HW.DI95J00\n",
       "</td></tr>\n",
       "</table>\n",
       "\n",
       "\n",
       "<table class=\"t\">\n",
       "<tr><td class=\"vl\">Esther 3:4</td><td class=\"e\">WAJ:HIJ K.:>@M:R@m >;L@JW JOWm W@JOWm W:LO> C@MA&lt; >:AL;JHEm WAJ.AG.IJDW. L:H@M@n LIR:>OWT H:AJA&lt;AM:DW. D.IB:R;J M@R:D.:@KAJ K.IJ&amp;HIG.IJD L@HEm >:ACER&amp;HW.> J:HW.DIJ00\n",
       "</td></tr>\n",
       "</table>\n",
       "\n",
       "\n",
       "<table class=\"t\">\n",
       "<tr><td class=\"vl\">Esther 3:4</td><td class=\"e\">WJHJ K>MRM >LJW JWM WJWM WL> #M&lt; >LJHM WJGJDW LHMN LR>WT HJ&lt;MDW DBRJ MRDKJ KJ&amp;HGJD LHM >#R&amp;HW> JHWDJ00\n",
       "</td></tr>\n",
       "</table>\n",
       "\n",
       "\n",
       "<table class=\"t\">\n",
       "<tr><td class=\"vl\">Esther 3:4</td><td class=\"p\">wayᵊhˈî kᵊʔomrˈām ʔēlāʸw yˈôm wāyˈôm wᵊlˌō šāmˌaʕ ʔᵃlêhˈem wayyaggˈîḏû lᵊhāmˈān lirᵊʔôṯ hᵃyˈaʕamᵊḏû divrˈê mordᵒḵˈay kˈî-higgˌîḏ lāhˌem ʔᵃšer-hˌû yᵊhûḏˈî .\n",
       "</td></tr>\n",
       "</table>\n",
       "\n",
       "\n",
       "<table class=\"t\">\n",
       "<tr><td class=\"vl\">Esther 3:4</td><td class=\"p\">wayhî kʔåmråm ʔēlåʸw yôm wåyôm wlō šåmaʕ ʔlêhem wayyaggîḏû lhåmån lirʔôṯ hyaʕamḏû divrê mårdḵay kî-higgîḏ låhem ʔšer-hû yhûḏî .\n",
       "</td></tr>\n",
       "</table>\n",
       "\n"
      ],
      "text/plain": [
       "<IPython.core.display.HTML object>"
      ]
     },
     "execution_count": 5,
     "metadata": {},
     "output_type": "execute_result"
    }
   ],
   "source": [
    "HTML(examples)"
   ]
  },
  {
   "cell_type": "markdown",
   "metadata": {},
   "source": [
    "**Start the program here**"
   ]
  },
  {
   "cell_type": "code",
   "execution_count": 1,
   "metadata": {
    "collapsed": false
   },
   "outputs": [
    {
     "name": "stderr",
     "output_type": "stream",
     "text": [
      "  0.00s This is LAF-Fabric 4.6.0\n",
      "API reference: http://laf-fabric.readthedocs.org/en/latest/texts/API-reference.html\n",
      "Feature doc: https://shebanq.ancient-data.org/static/docs/featuredoc/texts/welcome.html\n",
      "\n"
     ]
    }
   ],
   "source": [
    "import sys\n",
    "import collections\n",
    "from IPython.display import HTML, display_pretty, display_html\n",
    "\n",
    "from laf.fabric import LafFabric\n",
    "from etcbc.preprocess import prepare\n",
    "from etcbc.lib import Transcription\n",
    "\n",
    "fabric = LafFabric()\n",
    "\n",
    "source = 'etcbc'\n",
    "version = '4b'"
   ]
  },
  {
   "cell_type": "code",
   "execution_count": 2,
   "metadata": {
    "collapsed": false
   },
   "outputs": [
    {
     "name": "stderr",
     "output_type": "stream",
     "text": [
      "  0.00s LOADING API: please wait ... \n",
      "  0.00s USING main  DATA COMPILED AT: 2015-11-02T15-08-56\n",
      "  0.00s USING annox DATA COMPILED AT: 2016-01-27T19-01-17\n",
      "  2.39s LOGFILE=/Users/dirk/laf/laf-fabric-output/etcbc4b/plain/__log__plain.txt\n",
      "  2.39s INFO: LOADING PREPARED data: please wait ... \n",
      "  2.39s prep prep: G.node_sort\n",
      "  2.50s prep prep: G.node_sort_inv\n",
      "  3.05s prep prep: L.node_up\n",
      "  6.43s prep prep: L.node_down\n",
      "    13s prep prep: V.verses\n",
      "    13s prep prep: V.books_la\n",
      "    13s ETCBC reference: http://laf-fabric.readthedocs.org/en/latest/texts/ETCBC-reference.html\n",
      "    15s INFO: LOADED PREPARED data\n",
      "    15s INFO: DATA LOADED FROM SOURCE etcbc4b AND ANNOX lexicon FOR TASK plain AT 2016-04-07T16-08-35\n"
     ]
    }
   ],
   "source": [
    "fabric.load(source+version, 'lexicon', 'plain', {\n",
    "    \"xmlids\": {\"node\": False, \"edge\": False},\n",
    "    \"features\": ('''\n",
    "        otype\n",
    "        lex_utf8\n",
    "        sp\n",
    "        label\n",
    "    ''',''),\n",
    "    \"prepare\": prepare,\n",
    "    \"primary\": False,\n",
    "})\n",
    "exec(fabric.localnames.format(var='fabric'))"
   ]
  },
  {
   "cell_type": "markdown",
   "metadata": {},
   "source": [
    "## Run the examples"
   ]
  },
  {
   "cell_type": "code",
   "execution_count": 3,
   "metadata": {
    "collapsed": false
   },
   "outputs": [
    {
     "name": "stderr",
     "output_type": "stream",
     "text": [
      "    56s Format hp = hebrew primary\n",
      "    56s Format ha = hebrew accent\n",
      "    56s Format hv = hebrew vowel\n",
      "    56s Format hc = hebrew cons\n",
      "    56s Format ea = trans accent\n",
      "    56s Format ev = trans vowel\n",
      "    56s Format ec = trans cons\n",
      "    56s Format pf = phono full\n",
      "    56s Format ps = phono simple\n"
     ]
    }
   ],
   "source": [
    "html = []\n",
    "for fmt in T.formats():\n",
    "    msg('Format {} = {}'.format(fmt, T.formats()[fmt][0]))\n",
    "    html.append(\n",
    "        T.text(\n",
    "            'Esther', 3, 4,\n",
    "            fmt=fmt,\n",
    "            verse_label=True,\n",
    "            html=True,\n",
    "        ))\n",
    "examples = '\\n'.join(html)"
   ]
  },
  {
   "cell_type": "markdown",
   "metadata": {},
   "source": [
    "## HTML formatting\n",
    "\n",
    "You can tweak the HTML styles easily."
   ]
  },
  {
   "cell_type": "code",
   "execution_count": 4,
   "metadata": {
    "collapsed": false
   },
   "outputs": [
    {
     "name": "stderr",
     "output_type": "stream",
     "text": [
      " 1m 04s etcbc_color = aa0066\n",
      " 1m 04s etcbc_line_height = 1.5\n",
      " 1m 04s etcbc_size = small\n",
      " 1m 04s hebrew_color = 660000\n",
      " 1m 04s hebrew_line_height = 2.0\n",
      " 1m 04s hebrew_size = xx-large\n",
      " 1m 04s phono_color = 00b040\n",
      " 1m 04s phono_line_height = 1.5\n",
      " 1m 04s phono_size = medium\n",
      " 1m 04s verse_color = 0000ff\n",
      " 1m 04s verse_size = small\n",
      " 1m 04s verse_width = 5em\n"
     ]
    },
    {
     "data": {
      "text/html": [
       "\n",
       "<style type=\"text/css\">\n",
       "table.t {\n",
       "    width: 100%;\n",
       "}\n",
       "td.h {\n",
       "    font-family: Ezra SIL, SBL Hebrew, Verdana, sans-serif;\n",
       "    font-size: xx-large;\n",
       "    line-height: 2.0;\n",
       "    color: #660000;\n",
       "    text-align: right;\n",
       "    direction: rtl;\n",
       "}\n",
       "td.e {\n",
       "    font-family: Menlo, Courier New, Courier, monospace;\n",
       "    font-size: small;\n",
       "    line-height: 1.5;\n",
       "    color: #aa0066;\n",
       "    text-align: left;\n",
       "    direction: ltr;\n",
       "}\n",
       "td.p {\n",
       "    font-family: Verdana, Arial, sans-serif;\n",
       "    font-size: medium;\n",
       "    line-height: 1.5;\n",
       "    color: #00b040;\n",
       "    text-align: left;\n",
       "    direction: ltr;\n",
       "}\n",
       "\n",
       "td.vl {\n",
       "    font-family: Verdana, Arial, sans-serif;\n",
       "    font-size: small;\n",
       "    text-align: right;\n",
       "    vertical-align: top;\n",
       "    color: #0000ff;\n",
       "    width: 5em;\n",
       "    direction: ltr;\n",
       "}\n",
       "</style>\n"
      ],
      "text/plain": [
       "<IPython.core.display.HTML object>"
      ]
     },
     "execution_count": 4,
     "metadata": {},
     "output_type": "execute_result"
    }
   ],
   "source": [
    "HTML(T.style(params=dict(\n",
    "    hebrew_color='660000',\n",
    "    hebrew_size='xx-large',\n",
    "    hebrew_line_height='2.0'\n",
    "), show_params=True))"
   ]
  },
  {
   "cell_type": "markdown",
   "metadata": {},
   "source": [
    "**Now you can run the examples near the top of this notebook.**\n",
    "After that you can tweak the styles further:"
   ]
  },
  {
   "cell_type": "code",
   "execution_count": 5,
   "metadata": {
    "collapsed": false
   },
   "outputs": [
    {
     "data": {
      "text/html": [
       "\n",
       "<style type=\"text/css\">\n",
       "table.t {\n",
       "    width: 100%;\n",
       "}\n",
       "td.h {\n",
       "    font-family: Ezra SIL, SBL Hebrew, Verdana, sans-serif;\n",
       "    font-size: x-large;\n",
       "    line-height: 2.0;\n",
       "    color: #0000aa;\n",
       "    text-align: right;\n",
       "    direction: rtl;\n",
       "}\n",
       "td.e {\n",
       "    font-family: Menlo, Courier New, Courier, monospace;\n",
       "    font-size: small;\n",
       "    line-height: 1.5;\n",
       "    color: #aa0066;\n",
       "    text-align: left;\n",
       "    direction: ltr;\n",
       "}\n",
       "td.p {\n",
       "    font-family: Verdana, Arial, sans-serif;\n",
       "    font-size: medium;\n",
       "    line-height: 1.5;\n",
       "    color: #00b040;\n",
       "    text-align: left;\n",
       "    direction: ltr;\n",
       "}\n",
       "\n",
       "td.vl {\n",
       "    font-family: Verdana, Arial, sans-serif;\n",
       "    font-size: small;\n",
       "    text-align: right;\n",
       "    vertical-align: top;\n",
       "    color: #0000ff;\n",
       "    width: 5em;\n",
       "    direction: ltr;\n",
       "}\n",
       "</style>\n"
      ],
      "text/plain": [
       "<IPython.core.display.HTML object>"
      ]
     },
     "execution_count": 5,
     "metadata": {},
     "output_type": "execute_result"
    }
   ],
   "source": [
    "HTML(T.style(params=dict(\n",
    "    hebrew_color='0000aa',\n",
    "    hebrew_size='x-large',\n",
    "    hebrew_line_height='2.0'\n",
    ")))"
   ]
  },
  {
   "cell_type": "markdown",
   "metadata": {},
   "source": [
    "Or, back to default:"
   ]
  },
  {
   "cell_type": "code",
   "execution_count": 6,
   "metadata": {
    "collapsed": false
   },
   "outputs": [
    {
     "data": {
      "text/html": [
       "\n",
       "<style type=\"text/css\">\n",
       "table.t {\n",
       "    width: 100%;\n",
       "}\n",
       "td.h {\n",
       "    font-family: Ezra SIL, SBL Hebrew, Verdana, sans-serif;\n",
       "    font-size: large;\n",
       "    line-height: 1.8;\n",
       "    color: #000000;\n",
       "    text-align: right;\n",
       "    direction: rtl;\n",
       "}\n",
       "td.e {\n",
       "    font-family: Menlo, Courier New, Courier, monospace;\n",
       "    font-size: small;\n",
       "    line-height: 1.5;\n",
       "    color: #aa0066;\n",
       "    text-align: left;\n",
       "    direction: ltr;\n",
       "}\n",
       "td.p {\n",
       "    font-family: Verdana, Arial, sans-serif;\n",
       "    font-size: medium;\n",
       "    line-height: 1.5;\n",
       "    color: #00b040;\n",
       "    text-align: left;\n",
       "    direction: ltr;\n",
       "}\n",
       "\n",
       "td.vl {\n",
       "    font-family: Verdana, Arial, sans-serif;\n",
       "    font-size: small;\n",
       "    text-align: right;\n",
       "    vertical-align: top;\n",
       "    color: #0000ff;\n",
       "    width: 5em;\n",
       "    direction: ltr;\n",
       "}\n",
       "</style>\n"
      ],
      "text/plain": [
       "<IPython.core.display.HTML object>"
      ]
     },
     "execution_count": 6,
     "metadata": {},
     "output_type": "execute_result"
    }
   ],
   "source": [
    "HTML(T.style())"
   ]
  },
  {
   "cell_type": "markdown",
   "metadata": {},
   "source": [
    "# Whole Bible\n",
    "\n",
    "Generate the complete text in all representations."
   ]
  },
  {
   "cell_type": "code",
   "execution_count": 9,
   "metadata": {
    "collapsed": false
   },
   "outputs": [
    {
     "name": "stderr",
     "output_type": "stream",
     "text": [
      " 4m 27s Writing the complete text in several representations\n"
     ]
    },
    {
     "name": "stdout",
     "output_type": "stream",
     "text": [
      "etcbc4b_hp_v.txt\n",
      "etcbc4b_hp.txt\n",
      "etcbc4b_ha_v.txt\n",
      "etcbc4b_ha.txt\n",
      "etcbc4b_hv_v.txt\n",
      "etcbc4b_hv.txt\n",
      "etcbc4b_hc_v.txt\n",
      "etcbc4b_hc.txt\n",
      "etcbc4b_ea_v.txt\n",
      "etcbc4b_ea.txt\n",
      "etcbc4b_ev_v.txt\n",
      "etcbc4b_ev.txt\n",
      "etcbc4b_ec_v.txt\n",
      "etcbc4b_ec.txt\n",
      "etcbc4b_pf_v.txt\n",
      "etcbc4b_pf.txt\n",
      "etcbc4b_ps_v.txt\n",
      "etcbc4b_ps.txt"
     ]
    },
    {
     "name": "stderr",
     "output_type": "stream",
     "text": [
      " 5m 41s Done\n"
     ]
    },
    {
     "name": "stdout",
     "output_type": "stream",
     "text": [
      "\n"
     ]
    }
   ],
   "source": [
    "msg('Writing the complete text in several representations')\n",
    "for fmt in T.formats():\n",
    "    for vl in (True, False):\n",
    "        file_name = '{}{}_{}{}.txt'.format(\n",
    "            source, version,\n",
    "            fmt, '_v' if vl else ''\n",
    "        )\n",
    "        fl = outfile(file_name)\n",
    "        print(file_name)\n",
    "        fl.write(T.text(fmt=fmt, verse_label=vl))\n",
    "        fl.close()\n",
    "msg('Done')"
   ]
  },
  {
   "cell_type": "code",
   "execution_count": 10,
   "metadata": {
    "collapsed": false
   },
   "outputs": [
    {
     "name": "stdout",
     "output_type": "stream",
     "text": [
      "\n",
      "etcbc4b_hp_v.txt\n",
      "Genesis 1:1\tבְּרֵאשִׁ֖ית בָּרָ֣א אֱלֹהִ֑ים אֵ֥ת הַשָּׁמַ֖יִם וְאֵ֥ת הָאָֽרֶץ׃\n",
      "Genesis 1:2\tוְהָאָ֗רֶץ הָיְתָ֥ה תֹ֨הוּ֙ וָבֹ֔הוּ וְחֹ֖שֶׁךְ עַל־פְּנֵ֣י תְהֹ֑ום וְר֣וּחַ אֱלֹהִ֔ים מְרַחֶ֖פֶת עַל־פְּנֵ֥י הַמָּֽיִם׃\n",
      "\n",
      "etcbc4b_ha_v.txt\n",
      "Genesis 1:1\tבְּרֵאשִׁ֖ית בָּרָ֣א אֱלֹהִ֑ים אֵ֥ת הַשָּׁמַ֖יִם וְאֵ֥ת הָאָֽרֶץ׃\n",
      "Genesis 1:2\tוְהָאָ֗רֶץ הָיְתָ֥ה תֹ֨הוּ֙ וָבֹ֔הוּ וְחֹ֖שֶׁךְ עַל־פְּנֵ֣י תְהֹ֑ום וְר֣וּחַ אֱלֹהִ֔ים מְרַחֶ֖פֶת עַל־פְּנֵ֥י הַמָּֽיִם׃\n",
      "\n",
      "etcbc4b_hv_v.txt\n",
      "Genesis 1:1\tבְּרֵאשִׁית בָּרָא אֱלֹהִים אֵת הַשָּׁמַיִם וְאֵת הָאָרֶץ׃\n",
      "Genesis 1:2\tוְהָאָרֶץ הָיְתָה תֹהוּ וָבֹהוּ וְחֹשֶׁךְ עַל־פְּנֵי תְהֹום וְרוּחַ אֱלֹהִים מְרַחֶפֶת עַל־פְּנֵי הַמָּיִם׃\n",
      "\n",
      "etcbc4b_hc_v.txt\n",
      "Genesis 1:1\tבראשית ברא אלהימ את השמימ ואת הארצ׃\n",
      "Genesis 1:2\tוהארצ היתה תהו ובהו וחשכ על־פני תהומ ורוח אלהימ מרחפת על־פני המימ׃\n",
      "\n",
      "etcbc4b_ea_v.txt\n",
      "Genesis 1:1\tB.:R;>CI73JT B.@R@74> >:ELOHI92Jm >;71T HAC.@MA73JIm W:>;71T H@>@35REy00\n",
      "Genesis 1:2\tW:H@>@81REy H@J:T@71H TO63HW.03 W@BO80HW. W:XO73CEk: <AL&P.:N;74J T:HO92Wm W:R74W.XA >:ELOHI80Jm M:RAXE73PET <AL&P.:N;71J HAM.@35JIm00\n",
      "\n",
      "etcbc4b_ev_v.txt\n",
      "Genesis 1:1\tB.:R;>CIJT B.@R@> >:ELOHIJm >;T HAC.@MAJIm W:>;T H@>@REy00\n",
      "Genesis 1:2\tW:H@>@REy H@J:T@H TOHW. W@BOHW. W:XOCEk: <AL&P.:N;J T:HOWm W:RW.XA >:ELOHIJm M:RAXEPET <AL&P.:N;J HAM.@JIm00\n",
      "\n",
      "etcbc4b_ec_v.txt\n",
      "Genesis 1:1\tBR>#JT BR> >LHJM >T H#MJM W>T H>RY00\n",
      "Genesis 1:2\tWH>RY HJTH THW WBHW WX#K <L&PNJ THWM WRWX >LHJM MRXPT <L&PNJ HMJM00\n",
      "\n",
      "etcbc4b_pf_v.txt\n",
      "Genesis 1:1\tbᵊrēšˌîṯ bārˈā ʔᵉlōhˈîm ʔˌēṯ haššāmˌayim wᵊʔˌēṯ hāʔˈāreṣ .\n",
      "Genesis 1:2\twᵊhāʔˈāreṣ hāyᵊṯˌā ṯˈōhû wāvˈōhû wᵊḥˌōšeḵ ʕal-pᵊnˈê ṯᵊhˈôm wᵊrˈûₐḥ ʔᵉlōhˈîm mᵊraḥˌefeṯ ʕal-pᵊnˌê hammˈāyim .\n",
      "\n",
      "etcbc4b_ps_v.txt\n",
      "Genesis 1:1\tbrēšîṯ bårå ʔlōhîm ʔēṯ haššåmayim wʔēṯ håʔåreṣ .\n",
      "Genesis 1:2\twhåʔåreṣ håyṯå ṯōhû wåvōhû wḥōšeḵ ʕal-pnê ṯhôm wrûₐḥ ʔlōhîm mraḥefeṯ ʕal-pnê hammåyim .\n"
     ]
    }
   ],
   "source": [
    "show_limit = 2\n",
    "for fmt in T.formats():\n",
    "    file_name = '{}{}_{}_v.txt'.format(source, version, fmt)\n",
    "    i = 0\n",
    "    fl = infile(file_name)\n",
    "    print('\\n{}'.format(file_name))\n",
    "    for line in fl:\n",
    "        if i == show_limit: break\n",
    "        i += 1\n",
    "        sys.stdout.write(line)\n",
    "    fl.close()"
   ]
  },
  {
   "cell_type": "markdown",
   "metadata": {},
   "source": [
    "## Trailer\n",
    "\n",
    "Here is a list of all the different trailing material and their number of occurrences."
   ]
  },
  {
   "cell_type": "code",
   "execution_count": 11,
   "metadata": {
    "collapsed": false
   },
   "outputs": [
    {
     "name": "stderr",
     "output_type": "stream",
     "text": [
      " 5m 51s Exploring trailers\n",
      " 5m 53s Done. Found 12 trailers in Hebrew text and 3 trailers in phonemic text\n"
     ]
    },
    {
     "name": "stdout",
     "output_type": "stream",
     "text": [
      "Trailers in Hebrew text:\n",
      " 237039 x [_]\n",
      " 121796 x [ø]\n",
      "  42275 x [־]\n",
      "  20037 x [׃\\n]\n",
      "   2266 x [_׀_]\n",
      "   1892 x [׃_ס_\\n]\n",
      "   1165 x [׃_פ_\\n]\n",
      "     76 x [_ס_]\n",
      "     13 x [_פ_]\n",
      "      7 x [׃_׆̇_\\n]\n",
      "      1 x [׃_׆̇_ס__\\n]\n",
      "      1 x [׃_׆̇_פ__\\n]\n",
      "Trailers in phonemic text:\n",
      " 239251 x [_]\n",
      " 164105 x [ø]\n",
      "  23212 x [_.]\n",
      "Mapping between trailers in Hebrew and phonemic text:\n",
      "      ø => ø, _\n",
      "      _ => ø, _, _.\n",
      "    _׀_ => _\n",
      "    _ס_ => _\n",
      "    _פ_ => _\n",
      "      ־ => ø\n",
      "    ׃\\n => _.\n",
      "׃_׆̇_\\n => _.\n",
      "׃_׆̇_ס__\\n => _.\n",
      "׃_׆̇_פ__\\n => _.\n",
      " ׃_ס_\\n => _.\n",
      " ׃_פ_\\n => _.\n"
     ]
    }
   ],
   "source": [
    "msg('Exploring trailers')\n",
    "trailer = collections.Counter()\n",
    "trailer_ph = collections.Counter()\n",
    "trailer_map = collections.defaultdict(set)\n",
    "\n",
    "for node in NN(test=F.otype.v, value='word'):\n",
    "    trl = F.trailer_utf8.v(node)\n",
    "    trl_ph = F.phono_sep.v(node)\n",
    "    trailer[trl] += 1\n",
    "    trailer_ph[trl_ph] += 1\n",
    "    trailer_map[trl].add(trl_ph)\n",
    "\n",
    "msg('Done. Found {} trailers in Hebrew text and {} trailers in phonemic text'.format(\n",
    "    len(trailer), len(trailer_ph),\n",
    "))\n",
    "print('Trailers in Hebrew text:')\n",
    "for (trl, n) in sorted(trailer.items(), key=lambda x: (-x[1], x[0])):\n",
    "    trl = 'ø' if trl == '' else trl.replace('\\n', '\\\\n').replace(' ','_')\n",
    "    print('{:>7} x [{}]'.format(n, trl))\n",
    "          \n",
    "print('Trailers in phonemic text:')\n",
    "for (trl_ph, n) in sorted(trailer_ph.items(), key=lambda x: (-x[1], x[0])):\n",
    "    trl_ph = 'ø' if trl_ph == '' else trl_ph.replace('\\n', '\\\\n').replace(' ','_')\n",
    "    print('{:>7} x [{}]'.format(n, trl_ph))\n",
    "\n",
    "print('Mapping between trailers in Hebrew and phonemic text:')\n",
    "for trl in sorted(trailer_map):\n",
    "    print('{:>7} => {}'.format(\n",
    "        'ø' if trl == '' else trl.replace('\\n', '\\\\n').replace(' ','_'), \n",
    "        ', '.join(\n",
    "                'ø' if trl_ph == '' else trl_ph.replace('\\n', '\\\\n').replace(' ','_') for trl_ph in sorted(\n",
    "                    trailer_map[trl]\n",
    "                ))\n",
    "    ))"
   ]
  },
  {
   "cell_type": "markdown",
   "metadata": {},
   "source": [
    "## Empty words"
   ]
  },
  {
   "cell_type": "markdown",
   "metadata": {},
   "source": [
    "There are words that have an empty representation.\n",
    "\n",
    "Let us have a closer look.\n",
    "How frequent are they and to what lexemes do they correspond, and what is their part of speech?"
   ]
  },
  {
   "cell_type": "code",
   "execution_count": 12,
   "metadata": {
    "collapsed": false
   },
   "outputs": [
    {
     "name": "stderr",
     "output_type": "stream",
     "text": [
      " 5m 58s Looking for empty words\n",
      " 5m 59s Done\n"
     ]
    },
    {
     "name": "stdout",
     "output_type": "stream",
     "text": [
      "  6423 x art             =          ה in  GEN 01,05;  GEN 01,05;  GEN 01,07;  GEN 01,07;  GEN 01,08 ...\n"
     ]
    }
   ],
   "source": [
    "msg('Looking for empty words')\n",
    "ewords = collections.defaultdict(lambda: [])\n",
    "verse = None\n",
    "\n",
    "for i in NN(test=F.otype.v, values=['verse', 'word']):\n",
    "    if F.otype.v(i) == 'verse':\n",
    "        verse = i\n",
    "        continue\n",
    "    text = F.g_word_utf8.v(i)\n",
    "    if text == '':\n",
    "        lex = F.lex_utf8.v(i)\n",
    "        pos = F.sp.v(i)\n",
    "        ewords[(lex, pos)].append(verse)\n",
    "\n",
    "msg('Done')\n",
    "for (item, occs) in sorted(ewords.items(), key=lambda x: (-len(x[1]), x[0][1], x[0][0])):\n",
    "    print(\"{:>6} x {:<15} = {:>10} in {}{}\".format(\n",
    "        len(occs), \n",
    "        item[1], \n",
    "        item[0], \n",
    "        \"; \".join([F.label.v(j) for j in occs][0:5]),\n",
    "        ' ...' if len(occs) > 20 else '',\n",
    "    ))\n"
   ]
  },
  {
   "cell_type": "code",
   "execution_count": 13,
   "metadata": {
    "collapsed": false
   },
   "outputs": [
    {
     "name": "stderr",
     "output_type": "stream",
     "text": [
      " 6m 05s Results directory:\n",
      "/Users/dirk/laf/laf-fabric-output/etcbc4b/plain\n",
      "\n",
      ".DS_Store                              6148 Wed Mar  2 20:05:55 2016\n",
      "__log__plain.txt                       1589 Thu Apr  7 18:03:43 2016\n",
      "etcbc4b_ea.txt                      3119734 Thu Apr  7 18:02:54 2016\n",
      "etcbc4b_ea_v.txt                    3438368 Thu Apr  7 18:02:51 2016\n",
      "etcbc4b_ec.txt                      1549212 Thu Apr  7 18:03:14 2016\n",
      "etcbc4b_ec_v.txt                    1867846 Thu Apr  7 18:03:08 2016\n",
      "etcbc4b_ev.txt                      2538742 Thu Apr  7 18:03:02 2016\n",
      "etcbc4b_ev_v.txt                    2857376 Thu Apr  7 18:02:58 2016\n",
      "etcbc4b_ha.txt                      5332790 Thu Apr  7 18:02:20 2016\n",
      "etcbc4b_ha_v.txt                    5651424 Thu Apr  7 18:02:14 2016\n",
      "etcbc4b_hc.txt                      2788978 Thu Apr  7 18:02:48 2016\n",
      "etcbc4b_hc_v.txt                    3107612 Thu Apr  7 18:02:41 2016\n",
      "etcbc4b_hp.txt                      5323663 Thu Apr  7 18:02:07 2016\n",
      "etcbc4b_hp_v.txt                    5642297 Thu Apr  7 18:02:07 2016\n",
      "etcbc4b_hv.txt                      4751786 Thu Apr  7 18:02:33 2016\n",
      "etcbc4b_hv_v.txt                    5070420 Thu Apr  7 18:02:27 2016\n",
      "etcbc4b_pf.txt                      3893906 Thu Apr  7 18:03:15 2016\n",
      "etcbc4b_pf_v.txt                    4212540 Thu Apr  7 18:03:15 2016\n",
      "etcbc4b_ps.txt                      2956173 Thu Apr  7 18:03:19 2016\n",
      "etcbc4b_ps_v.txt                    3274807 Thu Apr  7 18:03:17 2016\n"
     ]
    }
   ],
   "source": [
    "close()"
   ]
  },
  {
   "cell_type": "code",
   "execution_count": null,
   "metadata": {
    "collapsed": true
   },
   "outputs": [],
   "source": []
  }
 ],
 "metadata": {
  "kernelspec": {
   "display_name": "Python 3",
   "language": "python",
   "name": "python3"
  },
  "language_info": {
   "codemirror_mode": {
    "name": "ipython",
    "version": 3
   },
   "file_extension": ".py",
   "mimetype": "text/x-python",
   "name": "python",
   "nbconvert_exporter": "python",
   "pygments_lexer": "ipython3",
   "version": "3.5.1"
  }
 },
 "nbformat": 4,
 "nbformat_minor": 0
}
