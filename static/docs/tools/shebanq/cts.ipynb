{
 "cells": [
  {
   "cell_type": "markdown",
   "metadata": {},
   "source": [
    "<a href=\"http://laf-fabric.readthedocs.org/en/latest/\" target=\"_blank\"><img align=\"left\" src=\"images/laf-fabric-xsmall.png\"/></a>\n",
    "<a href=\"http://www.godgeleerdheid.vu.nl/etcbc\" target=\"_blank\"><img align=\"left\" src=\"images/VU-ETCBC-xsmall.png\"/></a>\n",
    "<a href=\"http://www.persistent-identifier.nl/?identifier=urn%3Anbn%3Anl%3Aui%3A13-048i-71\" target=\"_blank\"><img align=\"left\"src=\"images/etcbc4easy-small.png\"/></a>\n",
    "<a href=\"http://tla.mpi.nl\" target=\"_blank\"><img align=\"right\" src=\"images/TLA-xsmall.png\"/></a>\n",
    "<a href=\"http://www.dans.knaw.nl\" target=\"_blank\"><img align=\"right\"src=\"images/DANS-xsmall.png\"/></a>"
   ]
  },
  {
   "cell_type": "markdown",
   "metadata": {},
   "source": [
    "# Plain Text"
   ]
  },
  {
   "cell_type": "markdown",
   "metadata": {},
   "source": [
    "# Text from features"
   ]
  },
  {
   "cell_type": "markdown",
   "metadata": {},
   "source": [
    "Here comes the plain text of the Hebrew Bible.\n",
    "\n",
    "You can retrieve a text that is identical to the primary data of the LAF resource.\n",
    "So what is the use?\n",
    "\n",
    "* You can use it as a check that the LAF-Fabric machinery works correct\n",
    "* You can make text selections that interest you\n",
    "* You can ask for the unvocalized text\n",
    "\n",
    "The text is obtained by walking all word nodes and concatenate their ``g_word_utf8`` or ``g_cons_utf8`` and ``trailer_utf8`` features.\n",
    "\n",
    "The ``g_word_utf8`` feature contains the unicode representation of the vocalized text of the word.\n",
    "\n",
    "The ``g_cons_utf8`` feature contains the unicode representation of the consonantal text of the word.\n",
    "\n",
    "The ``trailer_utf8`` feature contains the unicode representation of material that follows the word,\n",
    "but does not belong to the word and neither to the following word. \n",
    "It may be empty, a space, punctuation, or certain other textual marks."
   ]
  },
  {
   "cell_type": "code",
   "execution_count": 1,
   "metadata": {
    "collapsed": false
   },
   "outputs": [
    {
     "name": "stderr",
     "output_type": "stream",
     "text": [
      "  0.00s This is LAF-Fabric 4.5.4\n",
      "API reference: http://laf-fabric.readthedocs.org/en/latest/texts/API-reference.html\n",
      "Feature doc: https://shebanq.ancient-data.org/static/docs/featuredoc/texts/welcome.html\n",
      "\n",
      "  0.00s INFO: CREATING new OUTPUT_DIR /Users/dirk/laf-fabric-output\n"
     ]
    }
   ],
   "source": [
    "import sys\n",
    "import collections\n",
    "\n",
    "from laf.fabric import LafFabric\n",
    "fabric = LafFabric()"
   ]
  },
  {
   "cell_type": "code",
   "execution_count": 4,
   "metadata": {
    "collapsed": false
   },
   "outputs": [
    {
     "name": "stderr",
     "output_type": "stream",
     "text": [
      "  0.00s LOADING API: please wait ... \n",
      "  0.00s INFO: USING DATA COMPILED AT: 2015-11-02T15-08-56\n",
      "  0.00s INFO: DATA LOADED FROM SOURCE etcbc4b AND ANNOX -- FOR TASK plain AT 2015-11-13T10-24-04\n"
     ]
    }
   ],
   "source": [
    "fabric.load('etcbc4b', '--', 'plain', {\n",
    "    \"xmlids\": {\"node\": False, \"edge\": False},\n",
    "    \"features\": ('''\n",
    "        otype\n",
    "        g_word_utf8 g_cons_utf8 trailer_utf8\n",
    "        g_word g_cons lex_utf8\n",
    "        sp\n",
    "        book chapter verse label\n",
    "    ''',''),\n",
    "    \"primary\": True,\n",
    "})\n",
    "exec(fabric.localnames.format(var='fabric'))"
   ]
  },
  {
   "cell_type": "markdown",
   "metadata": {},
   "source": [
    "## Trailer"
   ]
  },
  {
   "cell_type": "markdown",
   "metadata": {},
   "source": [
    "Before we generate the text, let's list all the different suffixes and their number of occurrences."
   ]
  },
  {
   "cell_type": "code",
   "execution_count": 3,
   "metadata": {
    "collapsed": false
   },
   "outputs": [],
   "source": [
    "trailer = collections.defaultdict(int)\n",
    "\n",
    "for node in NN(test=F.otype.v, value='word'):\n",
    "    trailer[F.trailer_utf8.v(node)] += 1\n",
    "\n",
    "trailer_file = outfile('trailers.txt')\n",
    "for (trl, n) in sorted(trailer.items(), key=lambda x: (-x[1], x[0])):\n",
    "    trailer_file.write(\"{:>7} x [{}]\\n\".format(n, trl))\n",
    "trailer_file.close()"
   ]
  },
  {
   "cell_type": "code",
   "execution_count": 4,
   "metadata": {
    "collapsed": false
   },
   "outputs": [
    {
     "name": "stdout",
     "output_type": "stream",
     "text": [
      " 237039 x [ ]\r\n",
      " 121796 x []\r\n",
      "  42275 x [־]\r\n",
      "  20037 x [׃\r\n",
      "]\r\n",
      "   2266 x [ ׀ ]\r\n",
      "   1892 x [׃ ס \r\n",
      "]\r\n",
      "   1165 x [׃ פ \r\n",
      "]\r\n",
      "     76 x [ ס ]\r\n",
      "     13 x [ פ ]\r\n",
      "      7 x [׃ ׆̇ \r\n",
      "]\r\n",
      "      1 x [׃ ׆̇ ס  \r\n",
      "]\r\n",
      "      1 x [׃ ׆̇ פ  \r\n",
      "]\r\n"
     ]
    }
   ],
   "source": [
    "cat {my_file('trailers.txt')}"
   ]
  },
  {
   "cell_type": "markdown",
   "metadata": {},
   "source": [
    "## Vocalized text versus consonantal text, Hebrew Unicode versus Transliteration"
   ]
  },
  {
   "cell_type": "markdown",
   "metadata": {},
   "source": [
    "Now the complete text, note that we insert some newlines.\n",
    "\n",
    "If you want the consonantal text, replace the feature ``g_word_utf8`` by ``g_cons_utf8``.\n",
    "\n",
    "In many cases the use of Hebrew Unicode characters, however pleasing to the eye, is not preferred.\n",
    "Often the Hebrew occurrs embedded in non-Hebrew text, or under tree structures where the Hebrew right-to-left writing\n",
    "direction does not play nice with the context.\n",
    "Moreover, rendering software such as text editor, command prompts and browsers solve the puzzle of multiple writing directions\n",
    "in unpredictable ways.\n",
    "\n",
    "In those cases you can resort to a *transliteration*, with or without vowels.\n",
    "Use the features ``g_word`` and ``g_cons``."
   ]
  },
  {
   "cell_type": "code",
   "execution_count": 5,
   "metadata": {
    "collapsed": false
   },
   "outputs": [],
   "source": [
    "plain_file = outfile(\"etcbc4_plain.txt\")\n",
    "plainc_file = outfile(\"etcbc4_plainc.txt\")\n",
    "plaint_file = outfile(\"etcbc4_plaint.txt\")\n",
    "plaintc_file = outfile(\"etcbc4_plaintc.txt\")\n",
    "\n",
    "for i in F.otype.s('word'):\n",
    "    the_text = F.g_word_utf8.v(i)\n",
    "    the_textc = F.g_cons_utf8.v(i)\n",
    "    the_textt = F.g_word.v(i)\n",
    "    the_texttc = F.g_cons.v(i)\n",
    "    the_trailer = F.trailer_utf8.v(i)\n",
    "    the_newline = '\\n' if '\\n' in the_trailer else ''\n",
    "    plain_file.write(the_text + the_trailer)\n",
    "    plainc_file.write(the_textc + the_trailer)\n",
    "    plaint_file.write(the_textt + \" \" + the_newline)\n",
    "    plaintc_file.write(the_texttc + \" \" + the_newline)\n",
    "\n",
    "plain_file.close()\n",
    "plainc_file.close()\n",
    "plaint_file.close()\n",
    "plaintc_file.close()"
   ]
  },
  {
   "cell_type": "code",
   "execution_count": 6,
   "metadata": {
    "collapsed": false
   },
   "outputs": [
    {
     "name": "stdout",
     "output_type": "stream",
     "text": [
      "בְּרֵאשִׁ֖ית בָּרָ֣א אֱלֹהִ֑ים אֵ֥ת הַשָּׁמַ֖יִם וְאֵ֥ת הָאָֽרֶץ׃\r\n",
      "וְהָאָ֗רֶץ הָיְתָ֥ה תֹ֨הוּ֙ וָבֹ֔הוּ וְחֹ֖שֶׁךְ עַל־פְּנֵ֣י תְהֹ֑ום וְר֣וּחַ אֱלֹהִ֔ים מְרַחֶ֖פֶת עַל־פְּנֵ֥י הַמָּֽיִם׃\r\n",
      "וַיֹּ֥אמֶר אֱלֹהִ֖ים יְהִ֣י אֹ֑ור וַֽיְהִי־אֹֽור׃\r\n",
      "וַיַּ֧רְא אֱלֹהִ֛ים אֶת־הָאֹ֖ור כִּי־טֹ֑וב וַיַּבְדֵּ֣ל אֱלֹהִ֔ים בֵּ֥ין הָאֹ֖ור וּבֵ֥ין הַחֹֽשֶׁךְ׃\r\n",
      "וַיִּקְרָ֨א אֱלֹהִ֤ים ׀ לָאֹור֙ יֹ֔ום וְלַחֹ֖שֶׁךְ קָ֣רָא לָ֑יְלָה וַֽיְהִי־עֶ֥רֶב וַֽיְהִי־בֹ֖קֶר יֹ֥ום אֶחָֽד׃ פ \r\n",
      "וַיֹּ֣אמֶר אֱלֹהִ֔ים יְהִ֥י רָקִ֖יעַ בְּתֹ֣וךְ הַמָּ֑יִם וִיהִ֣י מַבְדִּ֔יל בֵּ֥ין מַ֖יִם לָמָֽיִם׃\r\n",
      "וַיַּ֣עַשׂ אֱלֹהִים֮ אֶת־הָרָקִיעַ֒ וַיַּבְדֵּ֗ל בֵּ֤ין הַמַּ֨יִם֙ אֲשֶׁר֙ מִתַּ֣חַת לָרָקִ֔יעַ וּבֵ֣ין הַמַּ֔יִם אֲשֶׁ֖ר מֵעַ֣ל לָרָקִ֑יעַ וַֽיְהִי־כֵֽן׃\r\n",
      "וַיִּקְרָ֧א אֱלֹהִ֛ים לָֽרָקִ֖יעַ שָׁמָ֑יִם וַֽיְהִי־עֶ֥רֶב וַֽיְהִי־בֹ֖קֶר יֹ֥ום שֵׁנִֽי׃ פ \r\n",
      "וַיֹּ֣אמֶר אֱלֹהִ֗ים יִקָּו֨וּ הַמַּ֜יִם מִתַּ֤חַת הַשָּׁמַ֨יִם֙ אֶל־מָקֹ֣ום אֶחָ֔ד וְתֵרָאֶ֖ה הַיַּבָּשָׁ֑ה וַֽיְהִי־כֵֽן׃\r\n",
      "וַיִּקְרָ֨א אֱלֹהִ֤ים ׀ לַיַּבָּשָׁה֙ אֶ֔רֶץ וּלְמִקְוֵ֥ה הַמַּ֖יִם קָרָ֣א יַמִּ֑ים וַיַּ֥רְא אֱלֹהִ֖ים כִּי־טֹֽוב׃\r\n"
     ]
    }
   ],
   "source": [
    "!head -n 10 {my_file('etcbc4_plain.txt')}"
   ]
  },
  {
   "cell_type": "code",
   "execution_count": 7,
   "metadata": {
    "collapsed": false
   },
   "outputs": [
    {
     "name": "stdout",
     "output_type": "stream",
     "text": [
      "בראשׁית ברא אלהים את השׁמים ואת הארץ׃\r\n",
      "והארץ היתה תהו ובהו וחשׁך על־פני תהום ורוח אלהים מרחפת על־פני המים׃\r\n",
      "ויאמר אלהים יהי אור ויהי־אור׃\r\n",
      "וירא אלהים את־האור כי־טוב ויבדל אלהים בין האור ובין החשׁך׃\r\n",
      "ויקרא אלהים ׀ לאור יום ולחשׁך קרא לילה ויהי־ערב ויהי־בקר יום אחד׃ פ \r\n",
      "ויאמר אלהים יהי רקיע בתוך המים ויהי מבדיל בין מים למים׃\r\n",
      "ויעשׂ אלהים את־הרקיע ויבדל בין המים אשׁר מתחת לרקיע ובין המים אשׁר מעל לרקיע ויהי־כן׃\r\n",
      "ויקרא אלהים לרקיע שׁמים ויהי־ערב ויהי־בקר יום שׁני׃ פ \r\n",
      "ויאמר אלהים יקוו המים מתחת השׁמים אל־מקום אחד ותראה היבשׁה ויהי־כן׃\r\n",
      "ויקרא אלהים ׀ ליבשׁה ארץ ולמקוה המים קרא ימים וירא אלהים כי־טוב׃\r\n"
     ]
    }
   ],
   "source": [
    "!head -n 10 {my_file('etcbc4_plainc.txt')}"
   ]
  },
  {
   "cell_type": "code",
   "execution_count": 8,
   "metadata": {
    "collapsed": false
   },
   "outputs": [
    {
     "name": "stdout",
     "output_type": "stream",
     "text": [
      "B.:- R;>CI73JT B.@R@74> >:ELOHI92JM >;71T HA- C.@MA73JIM W:- >;71T H@- >@75REY00 \r\n",
      "W:- H@- >@81REY H@J:T@71H TO33HW.03 W@- BO80HW. W:- XO73CEK: <AL& P.:N;74J T:HO92WM W:- R74W.XA >:ELOHI80JM M:RAXE73PET <AL& P.:N;71J HA- M.@75JIM00 \r\n",
      "WA- J.O71>MER >:ELOHI73JM J:HI74J >O92WR WA75- J:HIJ& >O75WR00 \r\n",
      "WA- J.A94R:> >:ELOHI91JM >ET& H@- >O73WR K.IJ& VO92WB WA- J.AB:D.;74L >:ELOHI80JM B.;71JN H@- >O73WR W.- B;71JN HA- XO75CEK:00 \r\n",
      "WA- J.IQ:R@63> >:ELOHI70JM05 L@- >OWR03 - JO80WM W:- LA- XO73CEK: - Q@74R@> L@92J:L@H WA75- J:HIJ& <E71REB WA75- J:HIJ& BO73QER JO71WM >EX@75D00_P \r\n",
      "WA- J.O74>MER >:ELOHI80JM J:HI71J R@QI73J<A B.:- TO74WK: HA- M.@92JIM WI- JHI74J MAB:D.I80JL B.;71JN MA73JIM L@- M@75JIM00 \r\n",
      "WA- J.A74<AF >:ELOHIJM02 >ET& H@- R@QIJ<A01 WA- J.AB:D.;81L B.;70JN HA- M.A33JIM03 >:ACER03 MI- T.A74XAT L@- R@QI80J<A - W.- B;74JN HA- M.A80JIM >:ACE73R M;- <A74L L@- R@QI92J<A - WA75- J:HIJ& K;75N00 \r\n",
      "WA- J.IQ:R@94> >:ELOHI91JM L@75- R@QI73J<A - C@M@92JIM WA75- J:HIJ& <E71REB WA75- J:HIJ& BO73QER JO71WM C;NI75J00_P \r\n",
      "WA- J.O74>MER >:ELOHI81JM JIQ.@W63W. HA- M.A61JIM MI- T.A70XAT HA- C.@MA33JIM03 >EL& M@QO74WM >EX@80D W:- T;R@>E73H HA- J.AB.@C@92H WA75- J:HIJ& K;75N00 \r\n",
      "WA- J.IQ:R@63> >:ELOHI70JM05 LA- J.AB.@C@H03 - >E80REY W.- L:- MIQ:W;71H HA- M.A73JIM Q@R@74> JAM.I92JM WA- J.A71R:> >:ELOHI73JM K.IJ& VO75WB00 \r\n"
     ]
    }
   ],
   "source": [
    "!head -n 10 {my_file('etcbc4_plaint.txt')}"
   ]
  },
  {
   "cell_type": "code",
   "execution_count": 9,
   "metadata": {
    "collapsed": false
   },
   "outputs": [
    {
     "name": "stdout",
     "output_type": "stream",
     "text": [
      "B R>CJT BR> >LHJM >T H CMJM W >T H >RY \r\n",
      "W H >RY HJTH THW W BHW W XCK <L PNJ THWM W RWX >LHJM MRXPT <L PNJ H MJM \r\n",
      "W J>MR >LHJM JHJ >WR W JHJ >WR \r\n",
      "W JR> >LHJM >T H >WR KJ VWB W JBDL >LHJM BJN H >WR W BJN H XCK \r\n",
      "W JQR> >LHJM L >WR  JWM W L XCK  QR> LJLH W JHJ <RB W JHJ BQR JWM >XD \r\n",
      "W J>MR >LHJM JHJ RQJ< B TWK H MJM W JHJ MBDJL BJN MJM L MJM \r\n",
      "W J<F >LHJM >T H RQJ< W JBDL BJN H MJM >CR M TXT L RQJ<  W BJN H MJM >CR M <L L RQJ<  W JHJ KN \r\n",
      "W JQR> >LHJM L RQJ<  CMJM W JHJ <RB W JHJ BQR JWM CNJ \r\n",
      "W J>MR >LHJM JQWW H MJM M TXT H CMJM >L MQWM >XD W TR>H H JBCH W JHJ KN \r\n",
      "W JQR> >LHJM L JBCH  >RY W L MQWH H MJM QR> JMJM W JR> >LHJM KJ VWB \r\n"
     ]
    }
   ],
   "source": [
    "!head -n 10 {my_file('etcbc4_plaintc.txt')}"
   ]
  },
  {
   "cell_type": "markdown",
   "metadata": {},
   "source": [
    "## Passage indicators"
   ]
  },
  {
   "cell_type": "markdown",
   "metadata": {},
   "source": [
    "If you want books, chapters and verses marked, you can achieve it in the following way:"
   ]
  },
  {
   "cell_type": "code",
   "execution_count": 10,
   "metadata": {
    "collapsed": false
   },
   "outputs": [
    {
     "name": "stderr",
     "output_type": "stream",
     "text": [
      "1367535 Chronica_II                   \n"
     ]
    }
   ],
   "source": [
    "plainx_file = outfile(\"etcbc4_plainx.txt\")\n",
    "plaintx_file = outfile(\"etcbc4_plaintx.txt\")\n",
    "\n",
    "the_book = None\n",
    "the_chapter = None\n",
    "the_verse = None\n",
    "\n",
    "for i in NN():\n",
    "    this_type = F.otype.v(i)\n",
    "    if this_type == \"word\":\n",
    "        the_text = F.g_word_utf8.v(i)\n",
    "        the_textt = F.g_word.v(i)\n",
    "        the_trailer = F.trailer_utf8.v(i)\n",
    "        the_newline = '\\n' if '\\n' in the_trailer else ''\n",
    "        plainx_file.write(the_text + the_trailer)\n",
    "        plaintx_file.write(the_textt + ' ' + the_newline)\n",
    "    elif this_type == \"book\":\n",
    "        the_book = F.book.v(i)\n",
    "        sys.stderr.write(\"\\r{:>6} {:<30}\".format(i, the_book)) \n",
    "        plainx_file.write(\"\\n{}\".format(the_book))\n",
    "        plaintx_file.write(\"\\n{}\".format(the_book))\n",
    "    elif this_type == \"chapter\":\n",
    "        the_chapter = F.chapter.v(i)\n",
    "        plainx_file.write(\"\\n{} {}\".format(the_book, the_chapter))\n",
    "        plaintx_file.write(\"\\n{} {}\".format(the_book, the_chapter))\n",
    "    elif this_type == \"verse\":\n",
    "        the_verse = F.verse.v(i)\n",
    "        plainx_file.write(\"\\n{}:{} \".format(the_chapter, the_verse))\n",
    "        plaintx_file.write(\"\\n{}:{} \".format(the_chapter, the_verse))\n",
    "sys.stderr.write(\"\\n\")\n",
    "\n",
    "plainx_file.close()\n",
    "plaintx_file.close()"
   ]
  },
  {
   "cell_type": "code",
   "execution_count": 11,
   "metadata": {
    "collapsed": false
   },
   "outputs": [
    {
     "name": "stdout",
     "output_type": "stream",
     "text": [
      "\r\n",
      "Genesis\r\n",
      "Genesis 1\r\n",
      "1:1 בְּרֵאשִׁ֖ית בָּרָ֣א אֱלֹהִ֑ים אֵ֥ת הַשָּׁמַ֖יִם וְאֵ֥ת הָאָֽרֶץ׃\r\n",
      "\r\n",
      "1:2 וְהָאָ֗רֶץ הָיְתָ֥ה תֹ֨הוּ֙ וָבֹ֔הוּ וְחֹ֖שֶׁךְ עַל־פְּנֵ֣י תְהֹ֑ום וְר֣וּחַ אֱלֹהִ֔ים מְרַחֶ֖פֶת עַל־פְּנֵ֥י הַמָּֽיִם׃\r\n",
      "\r\n",
      "1:3 וַיֹּ֥אמֶר אֱלֹהִ֖ים יְהִ֣י אֹ֑ור וַֽיְהִי־אֹֽור׃\r\n",
      "\r\n",
      "1:4 וַיַּ֧רְא אֱלֹהִ֛ים אֶת־הָאֹ֖ור כִּי־טֹ֑וב וַיַּבְדֵּ֣ל אֱלֹהִ֔ים בֵּ֥ין הָאֹ֖ור וּבֵ֥ין הַחֹֽשֶׁךְ׃\r\n"
     ]
    }
   ],
   "source": [
    "!head -n 10 {my_file('etcbc4_plainx.txt')}"
   ]
  },
  {
   "cell_type": "code",
   "execution_count": 12,
   "metadata": {
    "collapsed": false
   },
   "outputs": [
    {
     "name": "stdout",
     "output_type": "stream",
     "text": [
      "\r\n",
      "Genesis\r\n",
      "Genesis 1\r\n",
      "1:1 B.:- R;>CI73JT B.@R@74> >:ELOHI92JM >;71T HA- C.@MA73JIM W:- >;71T H@- >@75REY00 \r\n",
      "\r\n",
      "1:2 W:- H@- >@81REY H@J:T@71H TO33HW.03 W@- BO80HW. W:- XO73CEK: <AL& P.:N;74J T:HO92WM W:- R74W.XA >:ELOHI80JM M:RAXE73PET <AL& P.:N;71J HA- M.@75JIM00 \r\n",
      "\r\n",
      "1:3 WA- J.O71>MER >:ELOHI73JM J:HI74J >O92WR WA75- J:HIJ& >O75WR00 \r\n",
      "\r\n",
      "1:4 WA- J.A94R:> >:ELOHI91JM >ET& H@- >O73WR K.IJ& VO92WB WA- J.AB:D.;74L >:ELOHI80JM B.;71JN H@- >O73WR W.- B;71JN HA- XO75CEK:00 \r\n"
     ]
    }
   ],
   "source": [
    "!head -n 10 {my_file('etcbc4_plaintx.txt')}"
   ]
  },
  {
   "cell_type": "markdown",
   "metadata": {},
   "source": [
    "## Verse list"
   ]
  },
  {
   "cell_type": "markdown",
   "metadata": {},
   "source": [
    "We can get the text in a quite different way: just read it from the *primary data*.\n",
    "\n",
    "Let us do that per verse."
   ]
  },
  {
   "cell_type": "code",
   "execution_count": 13,
   "metadata": {
    "collapsed": false
   },
   "outputs": [],
   "source": [
    "verse_file = outfile(\"etcbc4_verses.txt\")\n",
    "\n",
    "for i in F.otype.s('verse'):\n",
    "    the_text = ''.join([txt for (j, txt) in P.data(i)])\n",
    "    the_verse = F.label.v(i)\n",
    "    verse_file.write(\"{}\\n{}\\n\".format(the_verse, the_text))\n",
    "\n",
    "verse_file.close()"
   ]
  },
  {
   "cell_type": "code",
   "execution_count": 14,
   "metadata": {
    "collapsed": false
   },
   "outputs": [
    {
     "name": "stdout",
     "output_type": "stream",
     "text": [
      " GEN 01,01\r\n",
      "בְּרֵאשִׁ֖ית בָּרָ֣א אֱלֹהִ֑ים אֵ֥ת הַשָּׁמַ֖יִם וְאֵ֥ת הָאָֽרֶץ׃\r\n",
      "\r\n",
      " GEN 01,02\r\n",
      "וְהָאָ֗רֶץ הָיְתָ֥ה תֹ֨הוּ֙ וָבֹ֔הוּ וְחֹ֖שֶׁךְ עַל־פְּנֵ֣י תְהֹ֑ום וְר֣וּחַ אֱלֹהִ֔ים מְרַחֶ֖פֶת עַל־פְּנֵ֥י הַמָּֽיִם׃\r\n",
      "\r\n",
      " GEN 01,03\r\n",
      "וַיֹּ֥אמֶר אֱלֹהִ֖ים יְהִ֣י אֹ֑ור וַֽיְהִי־אֹֽור׃\r\n",
      "\r\n",
      " GEN 01,04\r\n"
     ]
    }
   ],
   "source": [
    "!head -n 10 {my_file('etcbc4_verses.txt')}"
   ]
  },
  {
   "cell_type": "markdown",
   "metadata": {},
   "source": [
    "## Empty words"
   ]
  },
  {
   "cell_type": "markdown",
   "metadata": {},
   "source": [
    "There are words that have an empty representation.\n",
    "\n",
    "Let us have a closer look.\n",
    "How frequent are they and to what lexemes do they correspond, and what is their part of speech?"
   ]
  },
  {
   "cell_type": "code",
   "execution_count": 15,
   "metadata": {
    "collapsed": false
   },
   "outputs": [
    {
     "name": "stdout",
     "output_type": "stream",
     "text": [
      "  6423 x art             =          ה in  GEN 01,05;  GEN 01,05;  GEN 01,07;  GEN 01,07;  GEN 01,08 ...\n"
     ]
    }
   ],
   "source": [
    "ewords = collections.defaultdict(lambda: [])\n",
    "verse = None\n",
    "\n",
    "for i in NN(test=F.otype.v, values=['verse', 'word']):\n",
    "    if F.otype.v(i) == 'verse':\n",
    "        verse = i\n",
    "        continue\n",
    "    text = F.g_word_utf8.v(i)\n",
    "    if text == '':\n",
    "        lex = F.lex_utf8.v(i)\n",
    "        pos = F.sp.v(i)\n",
    "        ewords[(lex, pos)].append(verse)\n",
    "\n",
    "for (item, occs) in sorted(ewords.items(), key=lambda x: (-len(x[1]), x[0][1], x[0][0])):\n",
    "    print(\"{:>6} x {:<15} = {:>10} in {}{}\".format(\n",
    "        len(occs), \n",
    "        item[1], \n",
    "        item[0], \n",
    "        \"; \".join([F.label.v(j) for j in occs][0:5]),\n",
    "        ' ...' if len(occs) > 20 else '',\n",
    "    ))"
   ]
  },
  {
   "cell_type": "code",
   "execution_count": 16,
   "metadata": {
    "collapsed": false
   },
   "outputs": [
    {
     "name": "stderr",
     "output_type": "stream",
     "text": [
      " 1m 14s Results directory:\n",
      "/Users/dirk/test/laf-fabric-output/etcbc4b/plain\n",
      "\n",
      "__log__plain.txt                        209 Fri Nov 13 08:58:30 2015\n",
      "etcbc4_plain.txt                    5323553 Fri Nov 13 08:57:55 2015\n",
      "etcbc4_plainc.txt                   2865624 Fri Nov 13 08:57:55 2015\n",
      "etcbc4_plaint.txt                   3416982 Fri Nov 13 08:57:55 2015\n",
      "etcbc4_plaintc.txt                  1647447 Fri Nov 13 08:57:55 2015\n",
      "etcbc4_plaintx.txt                  3575484 Fri Nov 13 08:58:09 2015\n",
      "etcbc4_plainx.txt                   5482055 Fri Nov 13 08:58:09 2015\n",
      "etcbc4_verses.txt                   5602109 Fri Nov 13 08:58:19 2015\n",
      "trailers.txt                            223 Fri Nov 13 08:57:43 2015\n"
     ]
    }
   ],
   "source": [
    "close()"
   ]
  },
  {
   "cell_type": "code",
   "execution_count": null,
   "metadata": {
    "collapsed": false
   },
   "outputs": [],
   "source": []
  }
 ],
 "metadata": {
  "kernelspec": {
   "display_name": "Python 3",
   "language": "python",
   "name": "python3"
  },
  "language_info": {
   "codemirror_mode": {
    "name": "ipython",
    "version": 3
   },
   "file_extension": ".py",
   "mimetype": "text/x-python",
   "name": "python",
   "nbconvert_exporter": "python",
   "pygments_lexer": "ipython3",
   "version": "3.5.1"
  }
 },
 "nbformat": 4,
 "nbformat_minor": 0
}
